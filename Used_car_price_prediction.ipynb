{
  "nbformat": 4,
  "nbformat_minor": 0,
  "metadata": {
    "colab": {
      "name": "Used car price prediction.ipynb",
      "provenance": [],
      "mount_file_id": "1JfX4qJ_PmX0-M44xN239zivo9SVTqs8q",
      "authorship_tag": "ABX9TyO7vJU4IKO3KWlK+GyJp3M4",
      "include_colab_link": true
    },
    "kernelspec": {
      "name": "python3",
      "display_name": "Python 3"
    },
    "language_info": {
      "name": "python"
    }
  },
  "cells": [
    {
      "cell_type": "markdown",
      "metadata": {
        "id": "view-in-github",
        "colab_type": "text"
      },
      "source": [
        "<a href=\"https://colab.research.google.com/github/nakshith21/Used-car-price-prediction/blob/main/Used_car_price_prediction.ipynb\" target=\"_parent\"><img src=\"https://colab.research.google.com/assets/colab-badge.svg\" alt=\"Open In Colab\"/></a>"
      ]
    },
    {
      "cell_type": "code",
      "execution_count": 1,
      "metadata": {
        "id": "twaOVSE24jLM"
      },
      "outputs": [],
      "source": [
        "import numpy as np\n",
        "import pandas as pd\n",
        "import plotly.express as px\n",
        "from datetime import date\n",
        "import warnings\n",
        "warnings.filterwarnings('ignore')"
      ]
    },
    {
      "cell_type": "code",
      "source": [
        "model_df = pd.read_csv('/content/drive/MyDrive/kaggle/model_data.csv')\n",
        "car_df = pd.read_csv('/content/drive/MyDrive/kaggle/car_data.csv')"
      ],
      "metadata": {
        "id": "FVBEhE-e5onx"
      },
      "execution_count": 2,
      "outputs": []
    },
    {
      "cell_type": "code",
      "source": [
        "car_df.head()"
      ],
      "metadata": {
        "colab": {
          "base_uri": "https://localhost:8080/",
          "height": 206
        },
        "id": "YZ9bmZ34569y",
        "outputId": "93bec2e0-6acf-4da5-a312-fa99f702f337"
      },
      "execution_count": 3,
      "outputs": [
        {
          "output_type": "execute_result",
          "data": {
            "text/plain": [
              "                Model  Selling Price  Kilometers Driven  Year        Owner  \\\n",
              "0  MarutiWagonR1.0LXI         312165              82238  2014  First Owner   \n",
              "1     ToyotaEtiosLiva         313799              30558  2013  First Owner   \n",
              "2       MarutiAlto800         295999              22164  2018  First Owner   \n",
              "3         MarutiSwift         435199              30535  2013  First Owner   \n",
              "4     MarutiWagonR1.0         289099              15738  2013  First Owner   \n",
              "\n",
              "      Fuel Type Transmission   Insurance  Car Condition  \n",
              "0  Petrol + CNG       MANUAL     Expired            4.2  \n",
              "1        Petrol       MANUAL  12-09-2021            4.4  \n",
              "2        Petrol       MANUAL  01-12-2020            4.8  \n",
              "3        Diesel       MANUAL        Comp            4.3  \n",
              "4        Petrol       MANUAL  11-08-2021            4.3  "
            ],
            "text/html": [
              "\n",
              "  <div id=\"df-daee2d4c-f46b-48a7-aff5-f39b8b41d2ce\">\n",
              "    <div class=\"colab-df-container\">\n",
              "      <div>\n",
              "<style scoped>\n",
              "    .dataframe tbody tr th:only-of-type {\n",
              "        vertical-align: middle;\n",
              "    }\n",
              "\n",
              "    .dataframe tbody tr th {\n",
              "        vertical-align: top;\n",
              "    }\n",
              "\n",
              "    .dataframe thead th {\n",
              "        text-align: right;\n",
              "    }\n",
              "</style>\n",
              "<table border=\"1\" class=\"dataframe\">\n",
              "  <thead>\n",
              "    <tr style=\"text-align: right;\">\n",
              "      <th></th>\n",
              "      <th>Model</th>\n",
              "      <th>Selling Price</th>\n",
              "      <th>Kilometers Driven</th>\n",
              "      <th>Year</th>\n",
              "      <th>Owner</th>\n",
              "      <th>Fuel Type</th>\n",
              "      <th>Transmission</th>\n",
              "      <th>Insurance</th>\n",
              "      <th>Car Condition</th>\n",
              "    </tr>\n",
              "  </thead>\n",
              "  <tbody>\n",
              "    <tr>\n",
              "      <th>0</th>\n",
              "      <td>MarutiWagonR1.0LXI</td>\n",
              "      <td>312165</td>\n",
              "      <td>82238</td>\n",
              "      <td>2014</td>\n",
              "      <td>First Owner</td>\n",
              "      <td>Petrol + CNG</td>\n",
              "      <td>MANUAL</td>\n",
              "      <td>Expired</td>\n",
              "      <td>4.2</td>\n",
              "    </tr>\n",
              "    <tr>\n",
              "      <th>1</th>\n",
              "      <td>ToyotaEtiosLiva</td>\n",
              "      <td>313799</td>\n",
              "      <td>30558</td>\n",
              "      <td>2013</td>\n",
              "      <td>First Owner</td>\n",
              "      <td>Petrol</td>\n",
              "      <td>MANUAL</td>\n",
              "      <td>12-09-2021</td>\n",
              "      <td>4.4</td>\n",
              "    </tr>\n",
              "    <tr>\n",
              "      <th>2</th>\n",
              "      <td>MarutiAlto800</td>\n",
              "      <td>295999</td>\n",
              "      <td>22164</td>\n",
              "      <td>2018</td>\n",
              "      <td>First Owner</td>\n",
              "      <td>Petrol</td>\n",
              "      <td>MANUAL</td>\n",
              "      <td>01-12-2020</td>\n",
              "      <td>4.8</td>\n",
              "    </tr>\n",
              "    <tr>\n",
              "      <th>3</th>\n",
              "      <td>MarutiSwift</td>\n",
              "      <td>435199</td>\n",
              "      <td>30535</td>\n",
              "      <td>2013</td>\n",
              "      <td>First Owner</td>\n",
              "      <td>Diesel</td>\n",
              "      <td>MANUAL</td>\n",
              "      <td>Comp</td>\n",
              "      <td>4.3</td>\n",
              "    </tr>\n",
              "    <tr>\n",
              "      <th>4</th>\n",
              "      <td>MarutiWagonR1.0</td>\n",
              "      <td>289099</td>\n",
              "      <td>15738</td>\n",
              "      <td>2013</td>\n",
              "      <td>First Owner</td>\n",
              "      <td>Petrol</td>\n",
              "      <td>MANUAL</td>\n",
              "      <td>11-08-2021</td>\n",
              "      <td>4.3</td>\n",
              "    </tr>\n",
              "  </tbody>\n",
              "</table>\n",
              "</div>\n",
              "      <button class=\"colab-df-convert\" onclick=\"convertToInteractive('df-daee2d4c-f46b-48a7-aff5-f39b8b41d2ce')\"\n",
              "              title=\"Convert this dataframe to an interactive table.\"\n",
              "              style=\"display:none;\">\n",
              "        \n",
              "  <svg xmlns=\"http://www.w3.org/2000/svg\" height=\"24px\"viewBox=\"0 0 24 24\"\n",
              "       width=\"24px\">\n",
              "    <path d=\"M0 0h24v24H0V0z\" fill=\"none\"/>\n",
              "    <path d=\"M18.56 5.44l.94 2.06.94-2.06 2.06-.94-2.06-.94-.94-2.06-.94 2.06-2.06.94zm-11 1L8.5 8.5l.94-2.06 2.06-.94-2.06-.94L8.5 2.5l-.94 2.06-2.06.94zm10 10l.94 2.06.94-2.06 2.06-.94-2.06-.94-.94-2.06-.94 2.06-2.06.94z\"/><path d=\"M17.41 7.96l-1.37-1.37c-.4-.4-.92-.59-1.43-.59-.52 0-1.04.2-1.43.59L10.3 9.45l-7.72 7.72c-.78.78-.78 2.05 0 2.83L4 21.41c.39.39.9.59 1.41.59.51 0 1.02-.2 1.41-.59l7.78-7.78 2.81-2.81c.8-.78.8-2.07 0-2.86zM5.41 20L4 18.59l7.72-7.72 1.47 1.35L5.41 20z\"/>\n",
              "  </svg>\n",
              "      </button>\n",
              "      \n",
              "  <style>\n",
              "    .colab-df-container {\n",
              "      display:flex;\n",
              "      flex-wrap:wrap;\n",
              "      gap: 12px;\n",
              "    }\n",
              "\n",
              "    .colab-df-convert {\n",
              "      background-color: #E8F0FE;\n",
              "      border: none;\n",
              "      border-radius: 50%;\n",
              "      cursor: pointer;\n",
              "      display: none;\n",
              "      fill: #1967D2;\n",
              "      height: 32px;\n",
              "      padding: 0 0 0 0;\n",
              "      width: 32px;\n",
              "    }\n",
              "\n",
              "    .colab-df-convert:hover {\n",
              "      background-color: #E2EBFA;\n",
              "      box-shadow: 0px 1px 2px rgba(60, 64, 67, 0.3), 0px 1px 3px 1px rgba(60, 64, 67, 0.15);\n",
              "      fill: #174EA6;\n",
              "    }\n",
              "\n",
              "    [theme=dark] .colab-df-convert {\n",
              "      background-color: #3B4455;\n",
              "      fill: #D2E3FC;\n",
              "    }\n",
              "\n",
              "    [theme=dark] .colab-df-convert:hover {\n",
              "      background-color: #434B5C;\n",
              "      box-shadow: 0px 1px 3px 1px rgba(0, 0, 0, 0.15);\n",
              "      filter: drop-shadow(0px 1px 2px rgba(0, 0, 0, 0.3));\n",
              "      fill: #FFFFFF;\n",
              "    }\n",
              "  </style>\n",
              "\n",
              "      <script>\n",
              "        const buttonEl =\n",
              "          document.querySelector('#df-daee2d4c-f46b-48a7-aff5-f39b8b41d2ce button.colab-df-convert');\n",
              "        buttonEl.style.display =\n",
              "          google.colab.kernel.accessAllowed ? 'block' : 'none';\n",
              "\n",
              "        async function convertToInteractive(key) {\n",
              "          const element = document.querySelector('#df-daee2d4c-f46b-48a7-aff5-f39b8b41d2ce');\n",
              "          const dataTable =\n",
              "            await google.colab.kernel.invokeFunction('convertToInteractive',\n",
              "                                                     [key], {});\n",
              "          if (!dataTable) return;\n",
              "\n",
              "          const docLinkHtml = 'Like what you see? Visit the ' +\n",
              "            '<a target=\"_blank\" href=https://colab.research.google.com/notebooks/data_table.ipynb>data table notebook</a>'\n",
              "            + ' to learn more about interactive tables.';\n",
              "          element.innerHTML = '';\n",
              "          dataTable['output_type'] = 'display_data';\n",
              "          await google.colab.output.renderOutput(dataTable, element);\n",
              "          const docLink = document.createElement('div');\n",
              "          docLink.innerHTML = docLinkHtml;\n",
              "          element.appendChild(docLink);\n",
              "        }\n",
              "      </script>\n",
              "    </div>\n",
              "  </div>\n",
              "  "
            ]
          },
          "metadata": {},
          "execution_count": 3
        }
      ]
    },
    {
      "cell_type": "code",
      "source": [
        "model_df.head()\n"
      ],
      "metadata": {
        "colab": {
          "base_uri": "https://localhost:8080/",
          "height": 206
        },
        "id": "ESSk8Vld57X1",
        "outputId": "d4cf9691-b4ae-4707-e7a5-97bc89546bec"
      },
      "execution_count": 4,
      "outputs": [
        {
          "output_type": "execute_result",
          "data": {
            "text/plain": [
              "                             Model Current Price\n",
              "0  HyundaiElitei20Sportz(O)1.4CRDi  Rs.7.69 Lakh\n",
              "1       MarutiErtigaZXISMARTHYBRID  Rs.9.27 Lakh\n",
              "2            MarutiVitaraBrezzaLDI   Rs.7,62,742\n",
              "3     FordEcosport1.5TITANIUMTIVCT  Rs.7.64 Lakh\n",
              "4       HyundaiVernaFLUIDIC1.4CRDI   Rs.9,99,900"
            ],
            "text/html": [
              "\n",
              "  <div id=\"df-370588ec-045f-4176-aabe-caa23163242b\">\n",
              "    <div class=\"colab-df-container\">\n",
              "      <div>\n",
              "<style scoped>\n",
              "    .dataframe tbody tr th:only-of-type {\n",
              "        vertical-align: middle;\n",
              "    }\n",
              "\n",
              "    .dataframe tbody tr th {\n",
              "        vertical-align: top;\n",
              "    }\n",
              "\n",
              "    .dataframe thead th {\n",
              "        text-align: right;\n",
              "    }\n",
              "</style>\n",
              "<table border=\"1\" class=\"dataframe\">\n",
              "  <thead>\n",
              "    <tr style=\"text-align: right;\">\n",
              "      <th></th>\n",
              "      <th>Model</th>\n",
              "      <th>Current Price</th>\n",
              "    </tr>\n",
              "  </thead>\n",
              "  <tbody>\n",
              "    <tr>\n",
              "      <th>0</th>\n",
              "      <td>HyundaiElitei20Sportz(O)1.4CRDi</td>\n",
              "      <td>Rs.7.69 Lakh</td>\n",
              "    </tr>\n",
              "    <tr>\n",
              "      <th>1</th>\n",
              "      <td>MarutiErtigaZXISMARTHYBRID</td>\n",
              "      <td>Rs.9.27 Lakh</td>\n",
              "    </tr>\n",
              "    <tr>\n",
              "      <th>2</th>\n",
              "      <td>MarutiVitaraBrezzaLDI</td>\n",
              "      <td>Rs.7,62,742</td>\n",
              "    </tr>\n",
              "    <tr>\n",
              "      <th>3</th>\n",
              "      <td>FordEcosport1.5TITANIUMTIVCT</td>\n",
              "      <td>Rs.7.64 Lakh</td>\n",
              "    </tr>\n",
              "    <tr>\n",
              "      <th>4</th>\n",
              "      <td>HyundaiVernaFLUIDIC1.4CRDI</td>\n",
              "      <td>Rs.9,99,900</td>\n",
              "    </tr>\n",
              "  </tbody>\n",
              "</table>\n",
              "</div>\n",
              "      <button class=\"colab-df-convert\" onclick=\"convertToInteractive('df-370588ec-045f-4176-aabe-caa23163242b')\"\n",
              "              title=\"Convert this dataframe to an interactive table.\"\n",
              "              style=\"display:none;\">\n",
              "        \n",
              "  <svg xmlns=\"http://www.w3.org/2000/svg\" height=\"24px\"viewBox=\"0 0 24 24\"\n",
              "       width=\"24px\">\n",
              "    <path d=\"M0 0h24v24H0V0z\" fill=\"none\"/>\n",
              "    <path d=\"M18.56 5.44l.94 2.06.94-2.06 2.06-.94-2.06-.94-.94-2.06-.94 2.06-2.06.94zm-11 1L8.5 8.5l.94-2.06 2.06-.94-2.06-.94L8.5 2.5l-.94 2.06-2.06.94zm10 10l.94 2.06.94-2.06 2.06-.94-2.06-.94-.94-2.06-.94 2.06-2.06.94z\"/><path d=\"M17.41 7.96l-1.37-1.37c-.4-.4-.92-.59-1.43-.59-.52 0-1.04.2-1.43.59L10.3 9.45l-7.72 7.72c-.78.78-.78 2.05 0 2.83L4 21.41c.39.39.9.59 1.41.59.51 0 1.02-.2 1.41-.59l7.78-7.78 2.81-2.81c.8-.78.8-2.07 0-2.86zM5.41 20L4 18.59l7.72-7.72 1.47 1.35L5.41 20z\"/>\n",
              "  </svg>\n",
              "      </button>\n",
              "      \n",
              "  <style>\n",
              "    .colab-df-container {\n",
              "      display:flex;\n",
              "      flex-wrap:wrap;\n",
              "      gap: 12px;\n",
              "    }\n",
              "\n",
              "    .colab-df-convert {\n",
              "      background-color: #E8F0FE;\n",
              "      border: none;\n",
              "      border-radius: 50%;\n",
              "      cursor: pointer;\n",
              "      display: none;\n",
              "      fill: #1967D2;\n",
              "      height: 32px;\n",
              "      padding: 0 0 0 0;\n",
              "      width: 32px;\n",
              "    }\n",
              "\n",
              "    .colab-df-convert:hover {\n",
              "      background-color: #E2EBFA;\n",
              "      box-shadow: 0px 1px 2px rgba(60, 64, 67, 0.3), 0px 1px 3px 1px rgba(60, 64, 67, 0.15);\n",
              "      fill: #174EA6;\n",
              "    }\n",
              "\n",
              "    [theme=dark] .colab-df-convert {\n",
              "      background-color: #3B4455;\n",
              "      fill: #D2E3FC;\n",
              "    }\n",
              "\n",
              "    [theme=dark] .colab-df-convert:hover {\n",
              "      background-color: #434B5C;\n",
              "      box-shadow: 0px 1px 3px 1px rgba(0, 0, 0, 0.15);\n",
              "      filter: drop-shadow(0px 1px 2px rgba(0, 0, 0, 0.3));\n",
              "      fill: #FFFFFF;\n",
              "    }\n",
              "  </style>\n",
              "\n",
              "      <script>\n",
              "        const buttonEl =\n",
              "          document.querySelector('#df-370588ec-045f-4176-aabe-caa23163242b button.colab-df-convert');\n",
              "        buttonEl.style.display =\n",
              "          google.colab.kernel.accessAllowed ? 'block' : 'none';\n",
              "\n",
              "        async function convertToInteractive(key) {\n",
              "          const element = document.querySelector('#df-370588ec-045f-4176-aabe-caa23163242b');\n",
              "          const dataTable =\n",
              "            await google.colab.kernel.invokeFunction('convertToInteractive',\n",
              "                                                     [key], {});\n",
              "          if (!dataTable) return;\n",
              "\n",
              "          const docLinkHtml = 'Like what you see? Visit the ' +\n",
              "            '<a target=\"_blank\" href=https://colab.research.google.com/notebooks/data_table.ipynb>data table notebook</a>'\n",
              "            + ' to learn more about interactive tables.';\n",
              "          element.innerHTML = '';\n",
              "          dataTable['output_type'] = 'display_data';\n",
              "          await google.colab.output.renderOutput(dataTable, element);\n",
              "          const docLink = document.createElement('div');\n",
              "          docLink.innerHTML = docLinkHtml;\n",
              "          element.appendChild(docLink);\n",
              "        }\n",
              "      </script>\n",
              "    </div>\n",
              "  </div>\n",
              "  "
            ]
          },
          "metadata": {},
          "execution_count": 4
        }
      ]
    },
    {
      "cell_type": "markdown",
      "source": [
        "Looking at the two datasets, the model column in the two dataframes can be used to merge the two such that you can have a dataframe with information of each car with its current selling price."
      ],
      "metadata": {
        "id": "0Yla3iTH6GuS"
      }
    },
    {
      "cell_type": "code",
      "source": [
        "df = pd.merge(car_df, model_df, left_on='Model', right_on='Model')"
      ],
      "metadata": {
        "id": "6lFEBmvV6HiV"
      },
      "execution_count": 5,
      "outputs": []
    },
    {
      "cell_type": "markdown",
      "source": [
        "You can look at the two datasets together now."
      ],
      "metadata": {
        "id": "VKpH36J26Oi6"
      }
    },
    {
      "cell_type": "code",
      "source": [
        "df.describe(include='all')"
      ],
      "metadata": {
        "colab": {
          "base_uri": "https://localhost:8080/",
          "height": 394
        },
        "id": "KHzSMDnJ6ODN",
        "outputId": "eedf8d47-cc68-433a-89e9-c5f8755604db"
      },
      "execution_count": 6,
      "outputs": [
        {
          "output_type": "execute_result",
          "data": {
            "text/plain": [
              "              Model  Selling Price  Kilometers Driven         Year  \\\n",
              "count          2237   2.237000e+03        2237.000000  2237.000000   \n",
              "unique          434            NaN                NaN          NaN   \n",
              "top     MarutiSwift            NaN                NaN          NaN   \n",
              "freq            118            NaN                NaN          NaN   \n",
              "mean            NaN   4.184431e+05       61928.605275  2013.763523   \n",
              "std             NaN   2.280516e+05       42260.955917     2.874686   \n",
              "min             NaN   7.529900e+04         913.000000  2006.000000   \n",
              "25%             NaN   2.720990e+05       32137.000000  2012.000000   \n",
              "50%             NaN   3.557990e+05       55430.000000  2014.000000   \n",
              "75%             NaN   5.032990e+05       83427.000000  2016.000000   \n",
              "max             NaN   1.952397e+06      855881.000000  2020.000000   \n",
              "\n",
              "              Owner Fuel Type Transmission Insurance  Car Condition  \\\n",
              "count          2237      2237         2237      2223    2237.000000   \n",
              "unique            3         4           58       473            NaN   \n",
              "top     First Owner    Petrol       MANUAL   Expired            NaN   \n",
              "freq           1707      1384         1909       248            NaN   \n",
              "mean            NaN       NaN          NaN       NaN       4.370854   \n",
              "std             NaN       NaN          NaN       NaN       0.288990   \n",
              "min             NaN       NaN          NaN       NaN       3.000000   \n",
              "25%             NaN       NaN          NaN       NaN       4.200000   \n",
              "50%             NaN       NaN          NaN       NaN       4.300000   \n",
              "75%             NaN       NaN          NaN       NaN       4.600000   \n",
              "max             NaN       NaN          NaN       NaN       5.000000   \n",
              "\n",
              "       Current Price  \n",
              "count           2235  \n",
              "unique           325  \n",
              "top     Rs.5.49 Lakh  \n",
              "freq             131  \n",
              "mean             NaN  \n",
              "std              NaN  \n",
              "min              NaN  \n",
              "25%              NaN  \n",
              "50%              NaN  \n",
              "75%              NaN  \n",
              "max              NaN  "
            ],
            "text/html": [
              "\n",
              "  <div id=\"df-39c4daf3-3320-4d5b-85f6-0602fe849d6b\">\n",
              "    <div class=\"colab-df-container\">\n",
              "      <div>\n",
              "<style scoped>\n",
              "    .dataframe tbody tr th:only-of-type {\n",
              "        vertical-align: middle;\n",
              "    }\n",
              "\n",
              "    .dataframe tbody tr th {\n",
              "        vertical-align: top;\n",
              "    }\n",
              "\n",
              "    .dataframe thead th {\n",
              "        text-align: right;\n",
              "    }\n",
              "</style>\n",
              "<table border=\"1\" class=\"dataframe\">\n",
              "  <thead>\n",
              "    <tr style=\"text-align: right;\">\n",
              "      <th></th>\n",
              "      <th>Model</th>\n",
              "      <th>Selling Price</th>\n",
              "      <th>Kilometers Driven</th>\n",
              "      <th>Year</th>\n",
              "      <th>Owner</th>\n",
              "      <th>Fuel Type</th>\n",
              "      <th>Transmission</th>\n",
              "      <th>Insurance</th>\n",
              "      <th>Car Condition</th>\n",
              "      <th>Current Price</th>\n",
              "    </tr>\n",
              "  </thead>\n",
              "  <tbody>\n",
              "    <tr>\n",
              "      <th>count</th>\n",
              "      <td>2237</td>\n",
              "      <td>2.237000e+03</td>\n",
              "      <td>2237.000000</td>\n",
              "      <td>2237.000000</td>\n",
              "      <td>2237</td>\n",
              "      <td>2237</td>\n",
              "      <td>2237</td>\n",
              "      <td>2223</td>\n",
              "      <td>2237.000000</td>\n",
              "      <td>2235</td>\n",
              "    </tr>\n",
              "    <tr>\n",
              "      <th>unique</th>\n",
              "      <td>434</td>\n",
              "      <td>NaN</td>\n",
              "      <td>NaN</td>\n",
              "      <td>NaN</td>\n",
              "      <td>3</td>\n",
              "      <td>4</td>\n",
              "      <td>58</td>\n",
              "      <td>473</td>\n",
              "      <td>NaN</td>\n",
              "      <td>325</td>\n",
              "    </tr>\n",
              "    <tr>\n",
              "      <th>top</th>\n",
              "      <td>MarutiSwift</td>\n",
              "      <td>NaN</td>\n",
              "      <td>NaN</td>\n",
              "      <td>NaN</td>\n",
              "      <td>First Owner</td>\n",
              "      <td>Petrol</td>\n",
              "      <td>MANUAL</td>\n",
              "      <td>Expired</td>\n",
              "      <td>NaN</td>\n",
              "      <td>Rs.5.49 Lakh</td>\n",
              "    </tr>\n",
              "    <tr>\n",
              "      <th>freq</th>\n",
              "      <td>118</td>\n",
              "      <td>NaN</td>\n",
              "      <td>NaN</td>\n",
              "      <td>NaN</td>\n",
              "      <td>1707</td>\n",
              "      <td>1384</td>\n",
              "      <td>1909</td>\n",
              "      <td>248</td>\n",
              "      <td>NaN</td>\n",
              "      <td>131</td>\n",
              "    </tr>\n",
              "    <tr>\n",
              "      <th>mean</th>\n",
              "      <td>NaN</td>\n",
              "      <td>4.184431e+05</td>\n",
              "      <td>61928.605275</td>\n",
              "      <td>2013.763523</td>\n",
              "      <td>NaN</td>\n",
              "      <td>NaN</td>\n",
              "      <td>NaN</td>\n",
              "      <td>NaN</td>\n",
              "      <td>4.370854</td>\n",
              "      <td>NaN</td>\n",
              "    </tr>\n",
              "    <tr>\n",
              "      <th>std</th>\n",
              "      <td>NaN</td>\n",
              "      <td>2.280516e+05</td>\n",
              "      <td>42260.955917</td>\n",
              "      <td>2.874686</td>\n",
              "      <td>NaN</td>\n",
              "      <td>NaN</td>\n",
              "      <td>NaN</td>\n",
              "      <td>NaN</td>\n",
              "      <td>0.288990</td>\n",
              "      <td>NaN</td>\n",
              "    </tr>\n",
              "    <tr>\n",
              "      <th>min</th>\n",
              "      <td>NaN</td>\n",
              "      <td>7.529900e+04</td>\n",
              "      <td>913.000000</td>\n",
              "      <td>2006.000000</td>\n",
              "      <td>NaN</td>\n",
              "      <td>NaN</td>\n",
              "      <td>NaN</td>\n",
              "      <td>NaN</td>\n",
              "      <td>3.000000</td>\n",
              "      <td>NaN</td>\n",
              "    </tr>\n",
              "    <tr>\n",
              "      <th>25%</th>\n",
              "      <td>NaN</td>\n",
              "      <td>2.720990e+05</td>\n",
              "      <td>32137.000000</td>\n",
              "      <td>2012.000000</td>\n",
              "      <td>NaN</td>\n",
              "      <td>NaN</td>\n",
              "      <td>NaN</td>\n",
              "      <td>NaN</td>\n",
              "      <td>4.200000</td>\n",
              "      <td>NaN</td>\n",
              "    </tr>\n",
              "    <tr>\n",
              "      <th>50%</th>\n",
              "      <td>NaN</td>\n",
              "      <td>3.557990e+05</td>\n",
              "      <td>55430.000000</td>\n",
              "      <td>2014.000000</td>\n",
              "      <td>NaN</td>\n",
              "      <td>NaN</td>\n",
              "      <td>NaN</td>\n",
              "      <td>NaN</td>\n",
              "      <td>4.300000</td>\n",
              "      <td>NaN</td>\n",
              "    </tr>\n",
              "    <tr>\n",
              "      <th>75%</th>\n",
              "      <td>NaN</td>\n",
              "      <td>5.032990e+05</td>\n",
              "      <td>83427.000000</td>\n",
              "      <td>2016.000000</td>\n",
              "      <td>NaN</td>\n",
              "      <td>NaN</td>\n",
              "      <td>NaN</td>\n",
              "      <td>NaN</td>\n",
              "      <td>4.600000</td>\n",
              "      <td>NaN</td>\n",
              "    </tr>\n",
              "    <tr>\n",
              "      <th>max</th>\n",
              "      <td>NaN</td>\n",
              "      <td>1.952397e+06</td>\n",
              "      <td>855881.000000</td>\n",
              "      <td>2020.000000</td>\n",
              "      <td>NaN</td>\n",
              "      <td>NaN</td>\n",
              "      <td>NaN</td>\n",
              "      <td>NaN</td>\n",
              "      <td>5.000000</td>\n",
              "      <td>NaN</td>\n",
              "    </tr>\n",
              "  </tbody>\n",
              "</table>\n",
              "</div>\n",
              "      <button class=\"colab-df-convert\" onclick=\"convertToInteractive('df-39c4daf3-3320-4d5b-85f6-0602fe849d6b')\"\n",
              "              title=\"Convert this dataframe to an interactive table.\"\n",
              "              style=\"display:none;\">\n",
              "        \n",
              "  <svg xmlns=\"http://www.w3.org/2000/svg\" height=\"24px\"viewBox=\"0 0 24 24\"\n",
              "       width=\"24px\">\n",
              "    <path d=\"M0 0h24v24H0V0z\" fill=\"none\"/>\n",
              "    <path d=\"M18.56 5.44l.94 2.06.94-2.06 2.06-.94-2.06-.94-.94-2.06-.94 2.06-2.06.94zm-11 1L8.5 8.5l.94-2.06 2.06-.94-2.06-.94L8.5 2.5l-.94 2.06-2.06.94zm10 10l.94 2.06.94-2.06 2.06-.94-2.06-.94-.94-2.06-.94 2.06-2.06.94z\"/><path d=\"M17.41 7.96l-1.37-1.37c-.4-.4-.92-.59-1.43-.59-.52 0-1.04.2-1.43.59L10.3 9.45l-7.72 7.72c-.78.78-.78 2.05 0 2.83L4 21.41c.39.39.9.59 1.41.59.51 0 1.02-.2 1.41-.59l7.78-7.78 2.81-2.81c.8-.78.8-2.07 0-2.86zM5.41 20L4 18.59l7.72-7.72 1.47 1.35L5.41 20z\"/>\n",
              "  </svg>\n",
              "      </button>\n",
              "      \n",
              "  <style>\n",
              "    .colab-df-container {\n",
              "      display:flex;\n",
              "      flex-wrap:wrap;\n",
              "      gap: 12px;\n",
              "    }\n",
              "\n",
              "    .colab-df-convert {\n",
              "      background-color: #E8F0FE;\n",
              "      border: none;\n",
              "      border-radius: 50%;\n",
              "      cursor: pointer;\n",
              "      display: none;\n",
              "      fill: #1967D2;\n",
              "      height: 32px;\n",
              "      padding: 0 0 0 0;\n",
              "      width: 32px;\n",
              "    }\n",
              "\n",
              "    .colab-df-convert:hover {\n",
              "      background-color: #E2EBFA;\n",
              "      box-shadow: 0px 1px 2px rgba(60, 64, 67, 0.3), 0px 1px 3px 1px rgba(60, 64, 67, 0.15);\n",
              "      fill: #174EA6;\n",
              "    }\n",
              "\n",
              "    [theme=dark] .colab-df-convert {\n",
              "      background-color: #3B4455;\n",
              "      fill: #D2E3FC;\n",
              "    }\n",
              "\n",
              "    [theme=dark] .colab-df-convert:hover {\n",
              "      background-color: #434B5C;\n",
              "      box-shadow: 0px 1px 3px 1px rgba(0, 0, 0, 0.15);\n",
              "      filter: drop-shadow(0px 1px 2px rgba(0, 0, 0, 0.3));\n",
              "      fill: #FFFFFF;\n",
              "    }\n",
              "  </style>\n",
              "\n",
              "      <script>\n",
              "        const buttonEl =\n",
              "          document.querySelector('#df-39c4daf3-3320-4d5b-85f6-0602fe849d6b button.colab-df-convert');\n",
              "        buttonEl.style.display =\n",
              "          google.colab.kernel.accessAllowed ? 'block' : 'none';\n",
              "\n",
              "        async function convertToInteractive(key) {\n",
              "          const element = document.querySelector('#df-39c4daf3-3320-4d5b-85f6-0602fe849d6b');\n",
              "          const dataTable =\n",
              "            await google.colab.kernel.invokeFunction('convertToInteractive',\n",
              "                                                     [key], {});\n",
              "          if (!dataTable) return;\n",
              "\n",
              "          const docLinkHtml = 'Like what you see? Visit the ' +\n",
              "            '<a target=\"_blank\" href=https://colab.research.google.com/notebooks/data_table.ipynb>data table notebook</a>'\n",
              "            + ' to learn more about interactive tables.';\n",
              "          element.innerHTML = '';\n",
              "          dataTable['output_type'] = 'display_data';\n",
              "          await google.colab.output.renderOutput(dataTable, element);\n",
              "          const docLink = document.createElement('div');\n",
              "          docLink.innerHTML = docLinkHtml;\n",
              "          element.appendChild(docLink);\n",
              "        }\n",
              "      </script>\n",
              "    </div>\n",
              "  </div>\n",
              "  "
            ]
          },
          "metadata": {},
          "execution_count": 6
        }
      ]
    },
    {
      "cell_type": "markdown",
      "source": [
        "Checking for null values if any."
      ],
      "metadata": {
        "id": "uLZGoxsG6Wg8"
      }
    },
    {
      "cell_type": "code",
      "source": [
        "df.isna().mean()*100"
      ],
      "metadata": {
        "colab": {
          "base_uri": "https://localhost:8080/"
        },
        "id": "F6b_7diy6XZB",
        "outputId": "e378cdc2-1883-4b9d-aae0-86ebded50f2c"
      },
      "execution_count": 7,
      "outputs": [
        {
          "output_type": "execute_result",
          "data": {
            "text/plain": [
              "Model                0.000000\n",
              "Selling Price        0.000000\n",
              "Kilometers Driven    0.000000\n",
              "Year                 0.000000\n",
              "Owner                0.000000\n",
              "Fuel Type            0.000000\n",
              "Transmission         0.000000\n",
              "Insurance            0.625838\n",
              "Car Condition        0.000000\n",
              "Current Price        0.089405\n",
              "dtype: float64"
            ]
          },
          "metadata": {},
          "execution_count": 7
        }
      ]
    },
    {
      "cell_type": "markdown",
      "source": [
        "We have very few null values in Insurance and Car Price columns."
      ],
      "metadata": {
        "id": "kNFbLV9g6czc"
      }
    },
    {
      "cell_type": "code",
      "source": [
        "fig = px.histogram(df, 'Selling Price')\n",
        "fig.show()"
      ],
      "metadata": {
        "colab": {
          "base_uri": "https://localhost:8080/",
          "height": 542
        },
        "id": "Vzxdtxmx6dmb",
        "outputId": "1a194fdf-c83d-43bd-b34b-afc3e9c7815e"
      },
      "execution_count": 8,
      "outputs": [
        {
          "output_type": "display_data",
          "data": {
            "text/html": [
              "<html>\n",
              "<head><meta charset=\"utf-8\" /></head>\n",
              "<body>\n",
              "    <div>            <script src=\"https://cdnjs.cloudflare.com/ajax/libs/mathjax/2.7.5/MathJax.js?config=TeX-AMS-MML_SVG\"></script><script type=\"text/javascript\">if (window.MathJax) {MathJax.Hub.Config({SVG: {font: \"STIX-Web\"}});}</script>                <script type=\"text/javascript\">window.PlotlyConfig = {MathJaxConfig: 'local'};</script>\n",
              "        <script src=\"https://cdn.plot.ly/plotly-2.8.3.min.js\"></script>                <div id=\"db8deb06-c4ed-4146-ba03-0957bb2e8c14\" class=\"plotly-graph-div\" style=\"height:525px; width:100%;\"></div>            <script type=\"text/javascript\">                                    window.PLOTLYENV=window.PLOTLYENV || {};                                    if (document.getElementById(\"db8deb06-c4ed-4146-ba03-0957bb2e8c14\")) {                    Plotly.newPlot(                        \"db8deb06-c4ed-4146-ba03-0957bb2e8c14\",                        [{\"alignmentgroup\":\"True\",\"bingroup\":\"x\",\"hovertemplate\":\"Selling Price=%{x}<br>count=%{y}<extra></extra>\",\"legendgroup\":\"\",\"marker\":{\"color\":\"#636efa\",\"pattern\":{\"shape\":\"\"}},\"name\":\"\",\"offsetgroup\":\"\",\"orientation\":\"v\",\"showlegend\":false,\"x\":[312165,242499,381699,181999,239499,324899,479914,301599,322321,346799,329299,312289,358999,180899,399499,316000,248199,345799,361899,286999,218299,265599,416499,395899,272099,349575,380399,244899,303399,255899,218399,262499,308199,223499,228399,399495,329599,197576,392599,245599,395511,201199,313799,311899,274499,344599,326356,326899,263599,326099,318099,311199,326399,295999,180996,332699,309399,225899,324399,223399,332799,274599,281399,260240,299799,343899,254199,345199,244180,269099,309199,272974,269199,257899,336899,283699,278599,259699,339904,224899,221399,279499,297999,242899,213426,220999,242399,272999,331599,261499,277099,295699,290999,335661,280999,261499,314799,309199,261199,231699,250799,274099,289599,268887,258937,225199,222899,349499,266799,221299,382227,285899,335499,277499,301499,339799,435199,260699,341399,292399,315999,406799,428599,562599,661399,461122,376199,377899,301899,556363,433099,388499,371399,281699,710064,391099,311399,281999,228599,546799,313699,450358,318199,353099,437699,229399,306720,366899,528799,311399,294046,286199,434299,427499,490499,524199,412499,365244,535565,314099,572865,606799,396599,542699,459199,208243,363799,356899,338436,432499,391599,318299,477399,383399,200899,383299,420099,294399,319199,355799,399099,427799,297299,262099,372999,392599,483499,474399,333240,356999,489399,336899,385199,339499,344499,504255,288699,418399,425599,391874,745853,370099,263899,373499,353899,349299,368799,307299,538299,678699,667699,495199,313799,431499,452799,421699,404699,306352,293619,434599,338699,617699,460899,426799,241699,446999,256599,506399,434899,364799,597799,403099,365699,324099,289099,265899,345999,343899,149181,235499,346677,248899,318079,267599,199599,320699,250499,310199,408399,166999,356099,350799,333999,233499,289499,244506,289399,228099,349899,197438,209699,369599,414399,342099,333199,318899,243999,266999,373399,228199,317299,338599,290699,198399,219599,408299,269299,346299,330398,171599,228899,290899,388699,376699,235699,428999,231299,390399,402899,420399,250200,376999,338699,353199,329199,218999,432099,327899,380599,336899,276299,216441,305198,308899,376699,260899,453099,229599,409699,281099,353699,342299,180499,385999,708199,585299,644000,615399,410788,410740,451699,480299,436399,322699,421699,405899,327699,469799,454499,584699,395599,606599,595299,672599,745699,642899,588299,730599,578399,459199,479500,232199,388899,451499,269399,307599,356199,339099,411999,292199,336099,283799,556099,426999,313774,335199,354699,282096,484799,538199,495899,459599,384799,296500,357799,416099,365999,312799,312699,336999,364499,330220,297199,364499,481299,315899,403999,379699,531299,333624,247999,456699,377750,410599,312899,410799,430499,384799,417899,425999,567899,366099,535199,478399,440099,340499,456099,671499,583799,691699,729299,612699,546599,655442,754799,741599,602799,146870,290099,375799,323699,310199,297799,316199,302663,361399,307199,282099,338799,285399,235599,309934,358399,286399,529699,305599,351399,423899,424399,615799,413999,301074,255099,341799,244349,252299,264999,274899,367099,424399,384899,415670,251899,339299,447499,391199,412899,301799,328199,221899,211699,235699,325999,197799,343699,303999,293699,286599,318736,295885,317599,314399,344599,339844,326999,218601,307999,376799,295999,265599,948899,952999,656399,635099,528099,513299,762399,698899,100599,91699,124999,250399,321799,335999,379999,304827,354229,269639,316199,211099,308399,247499,275399,174461,249599,309999,142999,264397,277499,270899,338699,156499,305199,322599,255299,322699,214599,320299,343999,260899,324099,200699,229499,267599,313199,173699,246499,227299,335899,189899,172940,289299,219299,286799,219599,316299,159299,256999,382399,330999,292199,263625,395399,182499,178299,221699,312699,169831,240199,154899,346099,306799,240299,180199,334599,128899,346399,241599,278199,234199,177899,223899,343399,272199,229890,237999,338199,188899,320099,317699,349199,209099,369799,335399,336299,208499,239642,212599,336265,343899,189969,345399,175599,258899,147299,166099,174299,304299,518099,544699,552899,554899,522366,637199,728166,554899,506699,585599,586699,520399,211799,222252,214499,172599,151899,116199,182299,201799,177499,254853,248099,78599,183399,134099,151015,130999,220199,169999,120399,177409,121199,332627,396899,435299,544999,352399,442799,307830,477214,335599,333099,353768,326199,352499,316838,418499,449999,441299,516399,335700,297299,357799,604299,447072,520399,406899,461599,287999,394685,358199,392199,322299,529199,311199,299699,392199,321199,314599,379020,456399,333399,414599,470199,289999,300899,433983,364599,317999,412499,446599,453199,578899,500899,334499,330899,449699,471999,469199,332299,311500,669899,524399,556999,522080,648299,503299,519099,772699,588999,666999,447799,566399,390399,373299,429499,419699,409199,442399,503599,571713,544999,451799,564399,442799,408599,440099,481799,474899,354299,425299,424199,499199,318699,417499,840899,733899,744799,667699,588399,514299,473199,625199,210799,187199,170399,323699,186699,207199,228500,258799,195599,573999,315099,241699,504737,213413,748585,464510,592875,323699,565599,319399,227399,657599,478699,369099,423299,639999,262499,300999,327799,409599,898699,237399,279592,720399,483999,369700,705899,683899,507199,254199,609299,525799,336699,325099,476099,241099,424399,441699,889799,707999,655899,417599,489835,700699,462542,795699,761699,443799,552999,722699,991699,363099,406788,358999,346099,447399,270999,486599,559299,708799,227299,239599,305199,199500,434399,240199,336326,305899,345799,320570,345999,354899,297399,216699,244399,200299,394099,318599,352699,219168,307559,311999,311099,840799,467199,606099,606399,726106,730299,827599,728599,668999,524199,1045899,977099,740399,977199,282699,306999,291099,275499,255099,671199,614299,429999,241899,407999,283399,320699,317799,466699,290799,327099,374599,490199,417099,356499,328013,416299,502599,520999,376214,331599,372699,240099,271499,224999,212299,216799,232999,279799,344399,271299,327999,143099,313599,203068,160399,308399,239099,270299,218099,204999,234399,195899,200299,225120,303399,362699,348699,210699,258799,350999,314799,330399,335999,220099,293999,288799,253299,422699,430799,270500,561399,418699,436499,374435,378999,454799,463299,444099,510799,379099,401499,438999,455699,403594,313900,410399,242299,257599,259899,398999,420300,297099,353999,241199,420399,297867,210834,305199,292999,261699,264340,258699,293776,183799,314999,252099,451699,212899,263899,337199,244699,433699,219699,316955,276399,402199,276399,340699,312399,249299,339899,267099,232799,486416,257879,286499,195800,288099,193780,177499,263299,254899,250699,286899,258199,286533,191299,256199,259199,723699,571899,385699,479999,380599,530899,605499,468380,408199,452699,549199,459199,699599,565999,481499,347799,475299,504699,362199,535599,390499,409099,333347,444144,327344,323699,340706,527799,407092,307699,401599,370199,448299,406099,400199,446399,424099,425699,355899,368481,388899,426899,441599,379299,160099,149199,180599,209499,181299,202499,201699,240099,126017,274199,693799,679015,263199,211499,300799,218399,194999,217999,244899,249899,276399,371470,420999,391499,418599,979661,420399,1004199,465599,345199,367599,236300,78799,156299,174699,173399,111799,171299,133599,206599,188147,160099,372799,111699,156325,124299,150299,189999,228499,204399,131999,186099,251699,91699,175999,170599,229799,170036,118499,167999,229399,222199,252599,134799,153399,95499,247957,231799,160199,165199,268799,157899,83399,155599,159299,681999,551799,453299,539599,630899,503399,604499,548199,524199,499799,603699,549299,565599,550399,557499,586299,548999,619379,624599,621199,509199,497699,527699,521499,415299,420499,392899,421699,501899,430399,453300,181699,275099,168099,218799,171699,287165,332428,179499,245199,212699,456299,327699,295362,236599,224199,235499,262499,308799,305999,265799,254299,331599,258899,343073,325099,290199,204799,332899,294840,264899,324499,269099,303899,348540,492599,463899,541500,547099,607099,574599,424099,779699,756299,935399,598699,584199,789304,743899,876399,670599,592899,761999,887599,883799,723699,677870,695799,758699,668499,828099,706099,976799,809099,820199,345499,397299,552899,631799,445471,291499,589410,464679,354799,322999,415499,498099,522899,539899,392099,403399,397099,476499,537599,531199,428999,399299,439599,381199,398299,359999,381199,353499,349499,582699,428199,443499,451799,787499,751199,845699,534899,116766,145999,210099,298899,209499,115999,234799,182811,181499,201599,194278,182599,241199,130999,158099,300099,174899,178699,184383,245999,306499,338799,277599,301299,306599,286599,272999,264999,235458,304899,253199,285199,320912,289699,299999,279899,411398,401463,320099,373799,300499,223399,257199,232999,331599,279399,323499,296399,238499,279299,347699,275599,311299,910099,503799,325199,258999,951099,932099,757899,924799,909899,822899,790899,839199,738399,921299,336099,441599,421608,393699,439299,576757,534199,531499,534799,696599,451399,393660,478399,456099,196999,294599,420299,252399,456999,182037,339499,261409,333499,375955,264899,292699,397033,305225,208199,237193,345799,303399,372099,390699,445599,450099,447283,389899,343299,278999,413999,458699,356852,410399,378499,364299,438399,388799,305899,215599,224499,133199,199599,491399,470599,281499,193499,384599,408499,330099,524499,531399,492799,342299,168099,368595,222799,486699,419399,329199,422751,331999,552899,212699,563199,199899,178399,199499,213299,1117599,1192799,806599,921499,1563499,894500,937699,867399,653399,330699,283090,322499,731019,861999,518499,690099,489199,389099,1007106,955799,272299,256399,604106,317999,443699,380699,365299,355530,302899,581899,193099,600399,571599,597099,524699,678499,733199,472499,309199,404786,748899,736599,413099,492724,931499,455899,495266,447899,402399,768899,746299,370399,1017499,897799,824499,984999,914699,340899,305199,303599,318999,344698,202699,193582,338999,204799,186399,315999,248499,251899,219399,343740,214599,242899,228099,187499,300699,181299,303399,255899,936799,356499,377799,413326,336299,382199,571991,408899,283599,364499,376499,291899,332699,424499,752999,495299,1380699,681399,316653,399799,293399,335193,322722,407082,317099,361853,378099,349999,322599,295599,312899,396599,462199,210899,343199,296899,248599,330799,226599,346999,242599,228199,193399,281599,279399,254699,387599,211699,253136,248899,285199,251399,264370,180699,204999,185887,314699,238499,339599,213799,231299,202999,283199,294599,142117,122999,215499,266299,231199,194540,200628,177099,126781,261499,148899,224999,284999,473490,950499,822193,541799,874899,706899,283400,500599,335899,219399,343399,456099,301599,247399,233099,211199,502199,532599,1608699,1697199,377499,544299,556199,615399,427399,738399,548899,681799,189299,316399,175030,371299,954099,1082099,306799,279599,330699,221199,264950,274799,248399,285699,223099,269299,276499,931399,894499,1043299,758699,860499,733290,125199,115999,176091,510299,253199,291899,309599,341799,333499,279899,322799,229599,252499,481199,312099,305999,278199,218899,452199,351099,341199,384799,372299,376899,434599,308599,292921,373199,783199,672342,931166,433399,351799,470799,366699,109199,351099,210151,149899,433592,134599,420499,104289,75299,391199,487799,1319868,801499,925999,768899,484699,322068,305864,458899,507799,551899,320799,544699,402399,469199,481199,435499,358999,172399,168699,354599,336399,216038,237899,189799,136799,330799,177499,176499,120299,292699,246999,473899,550799,561299,494699,632999,499499,589399,588099,511699,521699,548999,427500,144097,266099,423299,317199,361699,394899,926599,818599,737299,819210,464899,423399,362899,764599,331799,553264,306099,965599,288299,486299,412999,131199,427799,353299,228099,113799,125470,1045599,1057482,814299,873802,1189399,1012699,1144199,1214099,1091499,256099,206083,189769,228799,327099,413899,383399,335499,480699,429299,344616,398399,410399,409599,377899,309299,383599,390699,461199,375699,551681,440099,369299,422399,227099,271599,294099,299999,270999,603340,630780,687299,694699,589499,648780,141599,266186,273999,665315,578999,551399,523699,256399,436299,374500,296199,276799,437099,321799,330690,343899,401699,227999,301599,347899,250028,378899,425699,264899,296999,378799,339100,321799,343899,365099,406999,402499,308899,420199,330999,383599,389703,1167456,945699,843199,592599,496799,367499,550699,370899,408099,286499,819699,1011799,723499,839899,792499,336599,282599,144099,657699,1188855,1035199,891199,1246699,1145699,291099,98799,409299,380240,254599,246500,315299,225999,289299,274500,387099,360599,404099,564599,451244,315699,414599,445599,474299,427899,392499,526099,378099,402647,512399,505999,516399,472599,354899,301399,282199,243299,834599,684899,396199,342999,204801,186699,248699,169955,198930,113799,505399,384199,443999,327499,458299,354599,898099,560999,701799,549399,494115,469299,632999,700399,154799,668099,694799,595399,511099,127599,534399,891599,1553699,1042699,1505899,383199,512610,370199,409299,399899,206899,158199,185699,315364,425799,294461,306399,1654999,617799,554799,586199,579299,559592,569899,195299,317799,361499,324699,322699,297699,278599,388180,415799,482299,483499,1224699,201208,258699,212199,131299,271999,157199,187899,242899,874599,1070040,819099,897299,657499,655099,634699,561899,443699,590199,351399,393899,333399,318899,299500,565799,579399,435399,572899,626499,515199,673199,544599,619199,275399,206641,291268,301505,244899,405499,540762,560972,540399,300899,233299,195399,526099,544199,484199,533799,649499,708899,253499,517199,539099,409599,378899,583999,801299,282199,323599,191599,312099,316699,432199,423799,616999,577499,613299,867599,639499,1054799,1409199,518471,227899,197299,327499,277399,339199,160099,168299,257499,231699,187407,413600,397299,588899,474899,386799,404299,802599,550399,708599,417299,487199,414399,460199,445899,468299,603799,494999,401599,472499,520199,389299,439399,575799,830014,638199,602799,777899,760699,590999,110599,971199,1155999,1016899,909299,601799,789899,522399,277499,254899,200199,208120,168899,161199,352699,242899,420399,175899,231499,343699,465999,430599,560885,451199,574925,633299,639999,620999,1545999,627399,453999,575599,517199,605899,562700,1152941,412999,278699,228918,253099,269668,376799,633180,147099,306399,294799,271799,414299,266599,579399,723499,420199,603899,643599,526899,653299,557699,459599,598875,292199,261599,301999,1603499,570399,407080,177099,229899,266399,772799,710899,462299,1044499,619899,172999,181500,335299,153999,399899,294699,511399,342599,261299,308799,263799,762799,653099,691899,819497,678908,442899,470799,453932,417420,1032599,674599,594299,844499,723499,534199,595199,493965,486580,328799,710799,577399,447399,315799,264499,652519,1708199,696899,118999,482199,308899,1074299,399499,819999,994599,859499,913599,475199,481899,530299,282899,308899,456099,386799,608699,246599,267199,1399530,1092599,578340,845899,1031199,317299,197099,793199,387899,347599,486579,266299,347699,307499,962499,785099,284499,331500,513299,565099,181899,254799,698399,441399,475399,741499,541599,586799,663799,281702,389999,1952397,284199,333399,1028708,1023399,941199,1429399,1457099,1485599,321814,695799,616899,1817180,496999,837499,689099,183099,223499,722328,944299,685899,719099,646399,348699,323599,1156099,511599,519799,472199,124399,755931,119599,1036742,564399,450699,705999,306190,472099,372101,525699,782799,523499,560399,248199,1081500,685830,552399,350599,194499,150099,103199,1378399,1420537,323399,348599,412599,133599,1215699,444499,683999,674399,238899,239399,390500,469299,503899,257099,519799,369099,446799,538399,1395599,411499,151406,684399,753299,857299,451399,396099,260199,189199,1393799,138199,509899,1001799,643499,212299],\"xaxis\":\"x\",\"yaxis\":\"y\",\"type\":\"histogram\"}],                        {\"template\":{\"data\":{\"bar\":[{\"error_x\":{\"color\":\"#2a3f5f\"},\"error_y\":{\"color\":\"#2a3f5f\"},\"marker\":{\"line\":{\"color\":\"#E5ECF6\",\"width\":0.5},\"pattern\":{\"fillmode\":\"overlay\",\"size\":10,\"solidity\":0.2}},\"type\":\"bar\"}],\"barpolar\":[{\"marker\":{\"line\":{\"color\":\"#E5ECF6\",\"width\":0.5},\"pattern\":{\"fillmode\":\"overlay\",\"size\":10,\"solidity\":0.2}},\"type\":\"barpolar\"}],\"carpet\":[{\"aaxis\":{\"endlinecolor\":\"#2a3f5f\",\"gridcolor\":\"white\",\"linecolor\":\"white\",\"minorgridcolor\":\"white\",\"startlinecolor\":\"#2a3f5f\"},\"baxis\":{\"endlinecolor\":\"#2a3f5f\",\"gridcolor\":\"white\",\"linecolor\":\"white\",\"minorgridcolor\":\"white\",\"startlinecolor\":\"#2a3f5f\"},\"type\":\"carpet\"}],\"choropleth\":[{\"colorbar\":{\"outlinewidth\":0,\"ticks\":\"\"},\"type\":\"choropleth\"}],\"contour\":[{\"colorbar\":{\"outlinewidth\":0,\"ticks\":\"\"},\"colorscale\":[[0.0,\"#0d0887\"],[0.1111111111111111,\"#46039f\"],[0.2222222222222222,\"#7201a8\"],[0.3333333333333333,\"#9c179e\"],[0.4444444444444444,\"#bd3786\"],[0.5555555555555556,\"#d8576b\"],[0.6666666666666666,\"#ed7953\"],[0.7777777777777778,\"#fb9f3a\"],[0.8888888888888888,\"#fdca26\"],[1.0,\"#f0f921\"]],\"type\":\"contour\"}],\"contourcarpet\":[{\"colorbar\":{\"outlinewidth\":0,\"ticks\":\"\"},\"type\":\"contourcarpet\"}],\"heatmap\":[{\"colorbar\":{\"outlinewidth\":0,\"ticks\":\"\"},\"colorscale\":[[0.0,\"#0d0887\"],[0.1111111111111111,\"#46039f\"],[0.2222222222222222,\"#7201a8\"],[0.3333333333333333,\"#9c179e\"],[0.4444444444444444,\"#bd3786\"],[0.5555555555555556,\"#d8576b\"],[0.6666666666666666,\"#ed7953\"],[0.7777777777777778,\"#fb9f3a\"],[0.8888888888888888,\"#fdca26\"],[1.0,\"#f0f921\"]],\"type\":\"heatmap\"}],\"heatmapgl\":[{\"colorbar\":{\"outlinewidth\":0,\"ticks\":\"\"},\"colorscale\":[[0.0,\"#0d0887\"],[0.1111111111111111,\"#46039f\"],[0.2222222222222222,\"#7201a8\"],[0.3333333333333333,\"#9c179e\"],[0.4444444444444444,\"#bd3786\"],[0.5555555555555556,\"#d8576b\"],[0.6666666666666666,\"#ed7953\"],[0.7777777777777778,\"#fb9f3a\"],[0.8888888888888888,\"#fdca26\"],[1.0,\"#f0f921\"]],\"type\":\"heatmapgl\"}],\"histogram\":[{\"marker\":{\"pattern\":{\"fillmode\":\"overlay\",\"size\":10,\"solidity\":0.2}},\"type\":\"histogram\"}],\"histogram2d\":[{\"colorbar\":{\"outlinewidth\":0,\"ticks\":\"\"},\"colorscale\":[[0.0,\"#0d0887\"],[0.1111111111111111,\"#46039f\"],[0.2222222222222222,\"#7201a8\"],[0.3333333333333333,\"#9c179e\"],[0.4444444444444444,\"#bd3786\"],[0.5555555555555556,\"#d8576b\"],[0.6666666666666666,\"#ed7953\"],[0.7777777777777778,\"#fb9f3a\"],[0.8888888888888888,\"#fdca26\"],[1.0,\"#f0f921\"]],\"type\":\"histogram2d\"}],\"histogram2dcontour\":[{\"colorbar\":{\"outlinewidth\":0,\"ticks\":\"\"},\"colorscale\":[[0.0,\"#0d0887\"],[0.1111111111111111,\"#46039f\"],[0.2222222222222222,\"#7201a8\"],[0.3333333333333333,\"#9c179e\"],[0.4444444444444444,\"#bd3786\"],[0.5555555555555556,\"#d8576b\"],[0.6666666666666666,\"#ed7953\"],[0.7777777777777778,\"#fb9f3a\"],[0.8888888888888888,\"#fdca26\"],[1.0,\"#f0f921\"]],\"type\":\"histogram2dcontour\"}],\"mesh3d\":[{\"colorbar\":{\"outlinewidth\":0,\"ticks\":\"\"},\"type\":\"mesh3d\"}],\"parcoords\":[{\"line\":{\"colorbar\":{\"outlinewidth\":0,\"ticks\":\"\"}},\"type\":\"parcoords\"}],\"pie\":[{\"automargin\":true,\"type\":\"pie\"}],\"scatter\":[{\"marker\":{\"colorbar\":{\"outlinewidth\":0,\"ticks\":\"\"}},\"type\":\"scatter\"}],\"scatter3d\":[{\"line\":{\"colorbar\":{\"outlinewidth\":0,\"ticks\":\"\"}},\"marker\":{\"colorbar\":{\"outlinewidth\":0,\"ticks\":\"\"}},\"type\":\"scatter3d\"}],\"scattercarpet\":[{\"marker\":{\"colorbar\":{\"outlinewidth\":0,\"ticks\":\"\"}},\"type\":\"scattercarpet\"}],\"scattergeo\":[{\"marker\":{\"colorbar\":{\"outlinewidth\":0,\"ticks\":\"\"}},\"type\":\"scattergeo\"}],\"scattergl\":[{\"marker\":{\"colorbar\":{\"outlinewidth\":0,\"ticks\":\"\"}},\"type\":\"scattergl\"}],\"scattermapbox\":[{\"marker\":{\"colorbar\":{\"outlinewidth\":0,\"ticks\":\"\"}},\"type\":\"scattermapbox\"}],\"scatterpolar\":[{\"marker\":{\"colorbar\":{\"outlinewidth\":0,\"ticks\":\"\"}},\"type\":\"scatterpolar\"}],\"scatterpolargl\":[{\"marker\":{\"colorbar\":{\"outlinewidth\":0,\"ticks\":\"\"}},\"type\":\"scatterpolargl\"}],\"scatterternary\":[{\"marker\":{\"colorbar\":{\"outlinewidth\":0,\"ticks\":\"\"}},\"type\":\"scatterternary\"}],\"surface\":[{\"colorbar\":{\"outlinewidth\":0,\"ticks\":\"\"},\"colorscale\":[[0.0,\"#0d0887\"],[0.1111111111111111,\"#46039f\"],[0.2222222222222222,\"#7201a8\"],[0.3333333333333333,\"#9c179e\"],[0.4444444444444444,\"#bd3786\"],[0.5555555555555556,\"#d8576b\"],[0.6666666666666666,\"#ed7953\"],[0.7777777777777778,\"#fb9f3a\"],[0.8888888888888888,\"#fdca26\"],[1.0,\"#f0f921\"]],\"type\":\"surface\"}],\"table\":[{\"cells\":{\"fill\":{\"color\":\"#EBF0F8\"},\"line\":{\"color\":\"white\"}},\"header\":{\"fill\":{\"color\":\"#C8D4E3\"},\"line\":{\"color\":\"white\"}},\"type\":\"table\"}]},\"layout\":{\"annotationdefaults\":{\"arrowcolor\":\"#2a3f5f\",\"arrowhead\":0,\"arrowwidth\":1},\"autotypenumbers\":\"strict\",\"coloraxis\":{\"colorbar\":{\"outlinewidth\":0,\"ticks\":\"\"}},\"colorscale\":{\"diverging\":[[0,\"#8e0152\"],[0.1,\"#c51b7d\"],[0.2,\"#de77ae\"],[0.3,\"#f1b6da\"],[0.4,\"#fde0ef\"],[0.5,\"#f7f7f7\"],[0.6,\"#e6f5d0\"],[0.7,\"#b8e186\"],[0.8,\"#7fbc41\"],[0.9,\"#4d9221\"],[1,\"#276419\"]],\"sequential\":[[0.0,\"#0d0887\"],[0.1111111111111111,\"#46039f\"],[0.2222222222222222,\"#7201a8\"],[0.3333333333333333,\"#9c179e\"],[0.4444444444444444,\"#bd3786\"],[0.5555555555555556,\"#d8576b\"],[0.6666666666666666,\"#ed7953\"],[0.7777777777777778,\"#fb9f3a\"],[0.8888888888888888,\"#fdca26\"],[1.0,\"#f0f921\"]],\"sequentialminus\":[[0.0,\"#0d0887\"],[0.1111111111111111,\"#46039f\"],[0.2222222222222222,\"#7201a8\"],[0.3333333333333333,\"#9c179e\"],[0.4444444444444444,\"#bd3786\"],[0.5555555555555556,\"#d8576b\"],[0.6666666666666666,\"#ed7953\"],[0.7777777777777778,\"#fb9f3a\"],[0.8888888888888888,\"#fdca26\"],[1.0,\"#f0f921\"]]},\"colorway\":[\"#636efa\",\"#EF553B\",\"#00cc96\",\"#ab63fa\",\"#FFA15A\",\"#19d3f3\",\"#FF6692\",\"#B6E880\",\"#FF97FF\",\"#FECB52\"],\"font\":{\"color\":\"#2a3f5f\"},\"geo\":{\"bgcolor\":\"white\",\"lakecolor\":\"white\",\"landcolor\":\"#E5ECF6\",\"showlakes\":true,\"showland\":true,\"subunitcolor\":\"white\"},\"hoverlabel\":{\"align\":\"left\"},\"hovermode\":\"closest\",\"mapbox\":{\"style\":\"light\"},\"paper_bgcolor\":\"white\",\"plot_bgcolor\":\"#E5ECF6\",\"polar\":{\"angularaxis\":{\"gridcolor\":\"white\",\"linecolor\":\"white\",\"ticks\":\"\"},\"bgcolor\":\"#E5ECF6\",\"radialaxis\":{\"gridcolor\":\"white\",\"linecolor\":\"white\",\"ticks\":\"\"}},\"scene\":{\"xaxis\":{\"backgroundcolor\":\"#E5ECF6\",\"gridcolor\":\"white\",\"gridwidth\":2,\"linecolor\":\"white\",\"showbackground\":true,\"ticks\":\"\",\"zerolinecolor\":\"white\"},\"yaxis\":{\"backgroundcolor\":\"#E5ECF6\",\"gridcolor\":\"white\",\"gridwidth\":2,\"linecolor\":\"white\",\"showbackground\":true,\"ticks\":\"\",\"zerolinecolor\":\"white\"},\"zaxis\":{\"backgroundcolor\":\"#E5ECF6\",\"gridcolor\":\"white\",\"gridwidth\":2,\"linecolor\":\"white\",\"showbackground\":true,\"ticks\":\"\",\"zerolinecolor\":\"white\"}},\"shapedefaults\":{\"line\":{\"color\":\"#2a3f5f\"}},\"ternary\":{\"aaxis\":{\"gridcolor\":\"white\",\"linecolor\":\"white\",\"ticks\":\"\"},\"baxis\":{\"gridcolor\":\"white\",\"linecolor\":\"white\",\"ticks\":\"\"},\"bgcolor\":\"#E5ECF6\",\"caxis\":{\"gridcolor\":\"white\",\"linecolor\":\"white\",\"ticks\":\"\"}},\"title\":{\"x\":0.05},\"xaxis\":{\"automargin\":true,\"gridcolor\":\"white\",\"linecolor\":\"white\",\"ticks\":\"\",\"title\":{\"standoff\":15},\"zerolinecolor\":\"white\",\"zerolinewidth\":2},\"yaxis\":{\"automargin\":true,\"gridcolor\":\"white\",\"linecolor\":\"white\",\"ticks\":\"\",\"title\":{\"standoff\":15},\"zerolinecolor\":\"white\",\"zerolinewidth\":2}}},\"xaxis\":{\"anchor\":\"y\",\"domain\":[0.0,1.0],\"title\":{\"text\":\"Selling Price\"}},\"yaxis\":{\"anchor\":\"x\",\"domain\":[0.0,1.0],\"title\":{\"text\":\"count\"}},\"legend\":{\"tracegroupgap\":0},\"margin\":{\"t\":60},\"barmode\":\"relative\"},                        {\"responsive\": true}                    ).then(function(){\n",
              "                            \n",
              "var gd = document.getElementById('db8deb06-c4ed-4146-ba03-0957bb2e8c14');\n",
              "var x = new MutationObserver(function (mutations, observer) {{\n",
              "        var display = window.getComputedStyle(gd).display;\n",
              "        if (!display || display === 'none') {{\n",
              "            console.log([gd, 'removed!']);\n",
              "            Plotly.purge(gd);\n",
              "            observer.disconnect();\n",
              "        }}\n",
              "}});\n",
              "\n",
              "// Listen for the removal of the full notebook cells\n",
              "var notebookContainer = gd.closest('#notebook-container');\n",
              "if (notebookContainer) {{\n",
              "    x.observe(notebookContainer, {childList: true});\n",
              "}}\n",
              "\n",
              "// Listen for the clearing of the current output cell\n",
              "var outputEl = gd.closest('.output');\n",
              "if (outputEl) {{\n",
              "    x.observe(outputEl, {childList: true});\n",
              "}}\n",
              "\n",
              "                        })                };                            </script>        </div>\n",
              "</body>\n",
              "</html>"
            ]
          },
          "metadata": {}
        }
      ]
    },
    {
      "cell_type": "markdown",
      "source": [
        "There are a few records with 0 selling price. Maybe, you can get that car for free. We all know that is not possible so we can go ahead and remove these records."
      ],
      "metadata": {
        "id": "uZak6ncS6nSq"
      }
    },
    {
      "cell_type": "code",
      "source": [
        "df = df[df['Selling Price'] != 0]"
      ],
      "metadata": {
        "id": "fN0uqQg-6oOi"
      },
      "execution_count": 9,
      "outputs": []
    },
    {
      "cell_type": "markdown",
      "source": [
        "Current Price column is in very raw format. Some of the records have Rs. prefix and a Lakh at the end while some are in all numbers. You need to convert it to integer format so that you can analyze it better and compare with the selling price column."
      ],
      "metadata": {
        "id": "ajiGxXPf6xlx"
      }
    },
    {
      "cell_type": "code",
      "source": [
        "def format_price(price):\n",
        "    price = str(price)\n",
        "    price = price.replace('Rs.', '')\n",
        "    price = price.replace(',', '')\n",
        "    num_zeros = 5\n",
        "    if '.' not in price and ' Lakh' in price:\n",
        "        price = price.replace(' Lakh', '0'*num_zeros)\n",
        "    elif '.' in price and ' Lakh in price':\n",
        "        n = len(price)\n",
        "        m = price.index('.')\n",
        "        num_zeros = n - m - num_zeros\n",
        "        price = price.replace(' Lakh', '0'*num_zeros)\n",
        "        price = price.replace('.', '')\n",
        "    return price"
      ],
      "metadata": {
        "id": "akBLhUdq6yUy"
      },
      "execution_count": 10,
      "outputs": []
    },
    {
      "cell_type": "code",
      "source": [
        "df['Current Price'] = df['Current Price'].apply(format_price)\n",
        "df[df['Current Price'] == 'nan'] = 0\n",
        "df['Current Price'] = df['Current Price'].astype(int)"
      ],
      "metadata": {
        "id": "Yku-zmCu649X"
      },
      "execution_count": 11,
      "outputs": []
    },
    {
      "cell_type": "code",
      "source": [
        "fig = px.histogram(df, 'Current Price')\n",
        "fig.show()"
      ],
      "metadata": {
        "colab": {
          "base_uri": "https://localhost:8080/",
          "height": 542
        },
        "id": "ZvCfpYOb64gG",
        "outputId": "5cfb5563-71b6-4029-b22f-bd28bba2580d"
      },
      "execution_count": 12,
      "outputs": [
        {
          "output_type": "display_data",
          "data": {
            "text/html": [
              "<html>\n",
              "<head><meta charset=\"utf-8\" /></head>\n",
              "<body>\n",
              "    <div>            <script src=\"https://cdnjs.cloudflare.com/ajax/libs/mathjax/2.7.5/MathJax.js?config=TeX-AMS-MML_SVG\"></script><script type=\"text/javascript\">if (window.MathJax) {MathJax.Hub.Config({SVG: {font: \"STIX-Web\"}});}</script>                <script type=\"text/javascript\">window.PlotlyConfig = {MathJaxConfig: 'local'};</script>\n",
              "        <script src=\"https://cdn.plot.ly/plotly-2.8.3.min.js\"></script>                <div id=\"2e77b938-1382-4f78-b92d-4adb06c67360\" class=\"plotly-graph-div\" style=\"height:525px; width:100%;\"></div>            <script type=\"text/javascript\">                                    window.PLOTLYENV=window.PLOTLYENV || {};                                    if (document.getElementById(\"2e77b938-1382-4f78-b92d-4adb06c67360\")) {                    Plotly.newPlot(                        \"2e77b938-1382-4f78-b92d-4adb06c67360\",                        [{\"alignmentgroup\":\"True\",\"bingroup\":\"x\",\"hovertemplate\":\"Current Price=%{x}<br>count=%{y}<extra></extra>\",\"legendgroup\":\"\",\"marker\":{\"color\":\"#636efa\",\"pattern\":{\"shape\":\"\"}},\"name\":\"\",\"offsetgroup\":\"\",\"orientation\":\"v\",\"showlegend\":false,\"x\":[465000,465000,465000,465000,465000,465000,465000,465000,465000,465000,465000,465000,465000,465000,465000,465000,465000,465000,465000,465000,465000,465000,465000,465000,465000,465000,465000,465000,465000,465000,465000,465000,465000,465000,465000,465000,465000,465000,465000,465000,465000,465000,568000,568000,568000,568000,568000,568000,568000,568000,568000,568000,568000,448000,448000,448000,448000,448000,448000,448000,448000,448000,448000,448000,448000,448000,448000,448000,448000,448000,448000,448000,448000,448000,448000,448000,448000,448000,448000,448000,448000,448000,448000,448000,448000,448000,448000,448000,448000,448000,448000,448000,448000,448000,448000,448000,448000,448000,448000,448000,448000,448000,448000,448000,448000,448000,448000,448000,448000,448000,448000,448000,448000,448000,448000,448000,549000,549000,549000,549000,549000,549000,549000,549000,549000,549000,549000,549000,549000,549000,549000,549000,549000,549000,549000,549000,549000,549000,549000,549000,549000,549000,549000,549000,549000,549000,549000,549000,549000,549000,549000,549000,549000,549000,549000,549000,549000,549000,549000,549000,549000,549000,549000,549000,549000,549000,549000,549000,549000,549000,549000,549000,549000,549000,549000,549000,549000,549000,549000,549000,549000,549000,549000,549000,549000,549000,549000,549000,549000,549000,549000,549000,549000,549000,549000,549000,549000,549000,549000,549000,549000,549000,549000,549000,549000,549000,549000,549000,549000,549000,549000,549000,549000,549000,549000,549000,549000,549000,549000,549000,549000,549000,549000,549000,549000,549000,549000,549000,549000,549000,549000,549000,549000,549000,498000,498000,498000,498000,498000,498000,498000,498000,498000,498000,498000,498000,498000,498000,498000,498000,498000,498000,498000,498000,498000,498000,498000,498000,498000,498000,498000,498000,498000,498000,498000,498000,498000,498000,498000,498000,498000,498000,498000,498000,498000,498000,498000,498000,498000,498000,498000,498000,498000,498000,498000,498000,498000,498000,498000,498000,498000,498000,498000,498000,498000,498000,498000,498000,498000,498000,498000,498000,498000,498000,498000,498000,498000,498000,498000,498000,498000,498000,498000,498000,900000,900000,900000,900000,591699,591699,591699,591699,591699,591699,591699,591699,591699,591699,591699,591699,591699,907235,907235,907235,907235,907235,907235,907235,907235,453000,453000,453000,453000,453000,453000,453000,453000,453000,453000,453000,453000,453000,453000,657000,657000,657000,657000,657000,657000,657000,657000,657000,657000,657000,657000,657000,657000,657000,657000,657000,657000,657000,657000,657000,657000,657000,657000,657000,657000,657000,657000,657000,657000,657000,657000,657000,657000,657000,657000,657000,657000,657000,657000,657000,657000,657000,657000,750000,750000,750000,750000,750000,750000,750000,750000,750000,750000,1550000,394000,394000,394000,394000,394000,394000,394000,394000,394000,394000,394000,363000,363000,363000,363000,363000,999000,999000,999000,999000,756000,1294000,1209000,1209000,1209000,1209000,1209000,1209000,1209000,1209000,1209000,1209000,1209000,1209000,1209000,1209000,1209000,1209000,1209000,1209000,679000,679000,679000,679000,679000,679000,679000,679000,679000,679000,679000,679000,679000,679000,679000,679000,679000,679000,679000,679000,679000,679000,992000,992000,1080000,1080000,1080000,1080000,1080000,1013000,292667,292667,292667,312000,312000,312000,312000,312000,312000,312000,312000,312000,312000,312000,312000,312000,312000,400000,400000,400000,400000,400000,400000,400000,400000,400000,400000,400000,400000,400000,400000,400000,400000,400000,400000,400000,400000,400000,400000,400000,400000,400000,400000,400000,400000,400000,400000,400000,400000,400000,400000,400000,400000,400000,400000,400000,400000,400000,400000,400000,400000,400000,400000,400000,400000,400000,400000,400000,400000,400000,400000,400000,400000,400000,400000,400000,400000,400000,400000,400000,400000,400000,400000,400000,400000,400000,400000,400000,400000,400000,400000,400000,400000,400000,400000,400000,400000,400000,400000,400000,722000,722000,722000,722000,722000,722000,722000,722000,722000,722000,722000,722000,395000,395000,395000,395000,395000,395000,395000,395000,395000,395000,395000,395000,395000,395000,395000,395000,395000,395000,395000,395000,395000,558000,558000,558000,558000,558000,558000,558000,561000,561000,561000,561000,561000,561000,561000,561000,561000,561000,561000,561000,561000,561000,561000,561000,561000,561000,561000,561000,561000,561000,561000,561000,561000,561000,561000,561000,561000,561000,561000,561000,561000,561000,561000,561000,561000,561000,561000,561000,561000,561000,561000,561000,561000,561000,561000,561000,561000,561000,561000,561000,9100,9100,9100,9100,9100,9100,9100,9100,9100,9100,698000,698000,698000,698000,698000,698000,698000,698000,698000,698000,698000,698000,698000,698000,698000,698000,698000,698000,698000,698000,698000,698000,606000,606000,833000,833000,833000,768000,768000,768000,768000,768000,825000,825000,825000,825000,825000,825000,825000,825000,825000,806000,619000,619000,619000,619000,619000,619000,619000,619000,619000,1110000,1110000,1110000,1110000,1110000,1110000,1110000,1110000,1110000,1110000,1110000,1110000,1110000,1110000,1110000,1110000,1110000,1110000,1110000,1110000,1110000,1110000,1110000,1110000,1110000,1110000,1110000,1110000,1550000,1550000,1550000,1550000,1550000,1550000,1550000,1550000,1550000,1550000,1550000,1550000,1550000,978000,666000,666000,666000,666000,666000,666000,1120000,1120000,1120000,599000,599000,599000,599000,599000,599000,599000,599000,599000,599000,599000,599000,599000,599000,599000,599000,599000,599000,575000,575000,575000,575000,575000,927000,1235000,1235000,1235000,1235000,1235000,1235000,1235000,1235000,1235000,1199000,1199000,1199000,1276000,4321000,4321000,4321000,4321000,4321000,1775000,1775000,1775000,1775000,709000,709000,709000,709000,709000,709000,709000,709000,709000,709000,709000,709000,709000,709000,709000,709000,709000,709000,545000,545000,545000,545000,545000,545000,545000,545000,545000,545000,545000,545000,545000,545000,545000,545000,545000,545000,545000,545000,545000,545000,545000,545000,545000,545000,545000,545000,545000,545000,545000,545000,545000,545000,545000,545000,1200000,1200000,1200000,1200000,638000,638000,638000,638000,638000,638000,638000,638000,638000,638000,638000,638000,638000,1099000,1099000,1099000,1099000,1099000,1099000,1099000,1099000,1099000,1099000,1099000,1099000,1099000,1099000,1099000,1099000,1099000,1099000,1099000,1099000,1099000,1099000,1099000,1099000,1099000,1099000,1099000,1099000,1099000,1099000,1099000,1099000,1099000,1099000,1099000,1099000,1099000,1099000,1099000,1099000,1099000,1099000,369000,369000,369000,369000,369000,369000,369000,369000,369000,369000,369000,369000,369000,549000,549000,769000,769000,769000,769000,769000,769000,769000,769000,769000,769000,769000,769000,769000,492000,492000,492000,492000,492000,492000,492000,492000,492000,492000,492000,492000,492000,492000,492000,492000,492000,492000,492000,492000,492000,492000,492000,492000,394036,394036,394036,394036,394036,462100,462100,462100,462100,462100,462100,462100,462100,462100,462100,900000,900000,416000,416000,416000,416000,416000,416000,416000,416000,416000,416000,1099000,1099000,1099000,1099000,1099000,1099000,1099000,1099000,375000,375000,375000,375000,375000,375000,375000,375000,375000,375000,375000,375000,375000,375000,375000,375000,375000,375000,375000,375000,375000,375000,375000,375000,375000,375000,375000,375000,375000,375000,375000,375000,375000,375000,375000,375000,375000,375000,375000,375000,375000,375000,375000,375000,375000,590000,590000,590000,590000,590000,590000,590000,590000,590000,590000,590000,590000,590000,590000,590000,590000,590000,590000,590000,590000,590000,590000,590000,1173000,1173000,1173000,1173000,1173000,1173000,1173000,1173000,900000,900000,900000,900000,900000,900000,900000,900000,900000,900000,569000,569000,569000,569000,569000,785000,785000,785000,785000,785000,785000,785000,785000,785000,785000,785000,785000,785000,785000,785000,785000,785000,785000,766024,591699,591699,591699,591699,591699,591699,546000,940000,940000,940000,940000,940000,940000,940000,940000,940000,940000,940000,940000,940000,940000,940000,940000,940000,940000,940000,940000,940000,940000,940000,793000,793000,793000,793000,793000,793000,793000,793000,1173000,1173000,1173000,1173000,1173000,1173000,1173000,1173000,1173000,1173000,1173000,1173000,1173000,1173000,1173000,1173000,1173000,1173000,1173000,1173000,1173000,1173000,1173000,552005,552005,1407000,1407000,1407000,1407000,400374,400374,400374,400374,400374,400374,400374,400374,400374,400374,400374,400374,400374,400374,400374,400374,400374,400374,286000,286000,523000,523000,523000,523000,523000,523000,523000,523000,523000,523000,523000,523000,523000,523000,523000,523000,523000,523000,523000,523000,523000,523000,523000,523000,523000,523000,523000,523000,523000,523000,523000,523000,523000,907000,1159000,1675000,1675000,892242,892242,892242,892242,892242,892242,892242,892242,892242,892242,581000,581000,581000,581000,999000,999000,999000,999000,999000,999000,999000,650000,466000,466000,513902,513902,513902,513902,513902,513902,513902,513902,513902,513902,513902,513902,513902,513902,489163,489163,595000,606000,606000,606000,606000,606000,606000,438000,438000,438000,438000,438000,438000,438000,438000,438000,438000,438000,438000,400000,400000,400000,400000,892031,892031,561000,561000,561000,561000,561000,561000,561000,561000,561000,561000,561000,561000,561000,561000,561000,561000,561000,561000,561000,561000,423000,423000,423000,423000,1198000,1198000,1198000,1198000,1198000,1198000,1198000,1124000,757622,500000,500000,1641000,929000,929000,929000,929000,929000,929000,929000,1303000,0,0,0,0,0,0,0,0,0,0,0,746000,746000,746000,746000,746000,746000,750000,750000,585000,987000,987000,987000,987000,987000,987000,987000,987000,987000,987000,987000,987000,1350000,1350000,1350000,1350000,1350000,0,0,0,0,0,332000,332000,332000,332000,332000,332000,332000,332000,332000,332000,332000,332000,332000,332000,332000,332000,332000,332000,1127000,900000,900000,900000,900000,1789000,1789000,637000,637000,637000,637000,637000,637000,1028000,779000,956000,1794860,995000,518000,518000,518000,518000,518000,518000,518000,518000,518000,518000,518000,518000,518000,518000,1750000,1750000,461681,461681,461681,461681,461681,461681,461681,461681,461681,461681,461681,461681,461681,461681,461681,461681,461681,461681,461681,461681,461681,461681,461681,461681,461681,461681,461681,545000,545000,545000,545000,545000,545000,545000,685000,685000,685000,685000,685000,685000,685000,685000,685000,533000,1315000,1315000,1315000,1315000,1285000,869000,869000,869000,869000,869000,869000,869000,869000,869000,869000,629000,629000,3992200,3992200,999000,764000,764000,764000,764000,764000,764000,764000,403000,403000,403000,624000,4829000,4829000,462100,462100,462100,462100,462100,462100,462100,462100,462100,462100,462100,1350245,1350245,1350245,1350245,1350245,800000,1475000,1475000,1475000,859000,859000,859000,859000,859000,859000,859000,859000,859000,859000,859000,859000,859000,859000,859000,859000,859000,859000,859000,859000,859000,859000,859000,859000,859000,1198000,1198000,1198000,0,0,549000,549000,549000,549000,549000,549000,549000,549000,549000,450000,450000,500000,500000,5875000,928547,928547,928547,1046000,1046000,1046000,1046000,1046000,1046000,1046000,1046000,1046000,1046000,1046000,1046000,1046000,307000,307000,307000,307000,307000,334900,334900,334900,624000,683000,683000,683000,683000,683000,877000,877000,924000,924000,924000,924000,924000,924000,924000,924000,924000,924000,432498,575000,575000,575000,575000,575000,1608893,1608893,1021000,1021000,3375000,3375000,3375000,3375000,3375000,3375000,3375000,3375000,3375000,625000,625000,835000,1000000,1000000,515000,515000,515000,3139000,3139000,3139000,3139000,3139000,3139000,3139000,3139000,3139000,552000,552000,552000,552000,552000,500000,500000,500000,500000,500000,500000,500000,500000,500000,500000,500000,500000,500000,500000,500000,5599000,999900,999900,999900,1704000,1704000,1704000,1704000,1704000,669000,590000,590000,590000,590000,590000,819000,819000,819000,717000,717000,717000,717000,826000,826000,826000,826000,826000,826000,826000,826000,826000,826000,617000,442000,442000,442000,442000,442000,442000,442000,442000,442000,815000,815000,536000,536000,536000,536000,536000,536000,536000,377588,1383000,1383000,1383000,0,0,0,0,826000,826000,826000,1176000,4150000,4150000,4150000,4150000,594000,513902,1172000,899000,1450000,1450000,1450000,1450000,1450000,650000,650000,758000,758000,758000,549000,549000,549000,426000,426000,426000,426000,709000,709000,581000,531000,531000,531000,531000,531000,531000,653000,653000,653000,653000,653000,653000,653000,759000,759000,759000,759000,896000,896000,1300000,1300000,1300000,1300000,1300000,517000,517000,517000,839000,420000,420000,420000,420000,420000,892242,691000,1017000,770000,3350000,492000,678000,678000,678000,678000,678000,748000,748000,441000,4510000,4510000,4510000,4510000,4510000,594000,594000,594000,594000,594000,285000,285000,285000,637000,637000,637000,637000,3233000,722000,722000,722000,722000,780000,780000,543000,675000,458355,487925,487925,487925,487925,921000,921000,678900,1050000,1174000,1513000,1513000,1513000,1513000,385000,385000,385000,385000,844000,999990,999990,999990,979000,757622,757622,757622,757622,757622,496000,758000,758000,758000,758000,758000,735000,735000,735000,735000,735000,735000,735000,735000,855000,855000,855000,855000,855000,855000,552005,552005,632000,386000,386000,386000,597000,597000,597000,597000,1285000,1285000,575000,588000,588000,975000,975000,762742,762742,650000,650000,650000,650000,650000,499000,963301,1272000,1272000,1272000,1272000,1272000,3370000,3370000,549738,445000,445000,445000,445000,445000,445000,445000,445000,445000,445000,1046000,1046000,1102000,580000,580000,580000,844000,844000,844000,844000,552000,552000,552000,552000,1225000,1225000,575000,575000,575000,601000,601000,601000,814742,814742,814742,814742,814742,814742,814742,391860,1250000,1250000,1250000,1250000,1250000,1250000,466000,487925,487925,487925,487925,487925,487925,487925,487925,679000,679000,679000,679000,679000,647000,647000,647000,647000,601000,601000,601000,0,1363000,1363000,1363000,1363000,1363000,1363000,1363000,1363000,625000,618000,618000,618000,552005,552005,485000,793000,793000,793000,793000,1000000,673000,673000,1164177,900000,900000,900000,900000,779000,999900,637000,472000,472000,472000,1833000,1783000,993997,993997,993997,552000,1000000,1159000,779000,1130000,1421000,598000,598000,598000,598000,699000,995000,619000,702000,963000,963000,963000,859000,850000,850000,850000,850000,595000,595000,993000,993000,1264000,790000,790000,981000,990000,990000,990000,605000,586000,775000,1285900,976000,1062500,442000,442000,1345894,1755800,1013000,1113000,553000,599000,1020000,900000,1017000,1120000,1120000,1120000,610000,595000,595000,400000,1399000,750000,1275000,8639399,438000,438000,1382000,4649000,885000,1456615,1456615,1000000,1475000,900000,999000,525000,950000,925000,599000,0,1130000,1224488,753000,753000,550000,591699,912534,912534,900000,498000,2290000,758000,1239000,999000,755000,911000,729000,1746000,514066,466000,1825000,1825000,1825000,3350000,0,0,442000,976298,976298,1753397,769000,916000,769000,415000,415000,717000,2837359,760000,760000,2899000,540000,534000,1699000,841000,841000,363000,1900,893000,619000,979000,1641000,834000,800000,410000,546000,546000,546000,1164000,560000,834000,438000,864000,1080000,1080000,549000,1475000,1475000,1475000,2256000,4337000,385000,1082000,418000,800500,1382000,624000,717000,717000,770000,770000,770000,0,0,573000,807000,592000,635000,584000,0,0,1017000,1750000,1235441,1235441,564000,750000,650000,480000,2677000,478000,1197000,864000,722198,332000],\"xaxis\":\"x\",\"yaxis\":\"y\",\"type\":\"histogram\"}],                        {\"template\":{\"data\":{\"bar\":[{\"error_x\":{\"color\":\"#2a3f5f\"},\"error_y\":{\"color\":\"#2a3f5f\"},\"marker\":{\"line\":{\"color\":\"#E5ECF6\",\"width\":0.5},\"pattern\":{\"fillmode\":\"overlay\",\"size\":10,\"solidity\":0.2}},\"type\":\"bar\"}],\"barpolar\":[{\"marker\":{\"line\":{\"color\":\"#E5ECF6\",\"width\":0.5},\"pattern\":{\"fillmode\":\"overlay\",\"size\":10,\"solidity\":0.2}},\"type\":\"barpolar\"}],\"carpet\":[{\"aaxis\":{\"endlinecolor\":\"#2a3f5f\",\"gridcolor\":\"white\",\"linecolor\":\"white\",\"minorgridcolor\":\"white\",\"startlinecolor\":\"#2a3f5f\"},\"baxis\":{\"endlinecolor\":\"#2a3f5f\",\"gridcolor\":\"white\",\"linecolor\":\"white\",\"minorgridcolor\":\"white\",\"startlinecolor\":\"#2a3f5f\"},\"type\":\"carpet\"}],\"choropleth\":[{\"colorbar\":{\"outlinewidth\":0,\"ticks\":\"\"},\"type\":\"choropleth\"}],\"contour\":[{\"colorbar\":{\"outlinewidth\":0,\"ticks\":\"\"},\"colorscale\":[[0.0,\"#0d0887\"],[0.1111111111111111,\"#46039f\"],[0.2222222222222222,\"#7201a8\"],[0.3333333333333333,\"#9c179e\"],[0.4444444444444444,\"#bd3786\"],[0.5555555555555556,\"#d8576b\"],[0.6666666666666666,\"#ed7953\"],[0.7777777777777778,\"#fb9f3a\"],[0.8888888888888888,\"#fdca26\"],[1.0,\"#f0f921\"]],\"type\":\"contour\"}],\"contourcarpet\":[{\"colorbar\":{\"outlinewidth\":0,\"ticks\":\"\"},\"type\":\"contourcarpet\"}],\"heatmap\":[{\"colorbar\":{\"outlinewidth\":0,\"ticks\":\"\"},\"colorscale\":[[0.0,\"#0d0887\"],[0.1111111111111111,\"#46039f\"],[0.2222222222222222,\"#7201a8\"],[0.3333333333333333,\"#9c179e\"],[0.4444444444444444,\"#bd3786\"],[0.5555555555555556,\"#d8576b\"],[0.6666666666666666,\"#ed7953\"],[0.7777777777777778,\"#fb9f3a\"],[0.8888888888888888,\"#fdca26\"],[1.0,\"#f0f921\"]],\"type\":\"heatmap\"}],\"heatmapgl\":[{\"colorbar\":{\"outlinewidth\":0,\"ticks\":\"\"},\"colorscale\":[[0.0,\"#0d0887\"],[0.1111111111111111,\"#46039f\"],[0.2222222222222222,\"#7201a8\"],[0.3333333333333333,\"#9c179e\"],[0.4444444444444444,\"#bd3786\"],[0.5555555555555556,\"#d8576b\"],[0.6666666666666666,\"#ed7953\"],[0.7777777777777778,\"#fb9f3a\"],[0.8888888888888888,\"#fdca26\"],[1.0,\"#f0f921\"]],\"type\":\"heatmapgl\"}],\"histogram\":[{\"marker\":{\"pattern\":{\"fillmode\":\"overlay\",\"size\":10,\"solidity\":0.2}},\"type\":\"histogram\"}],\"histogram2d\":[{\"colorbar\":{\"outlinewidth\":0,\"ticks\":\"\"},\"colorscale\":[[0.0,\"#0d0887\"],[0.1111111111111111,\"#46039f\"],[0.2222222222222222,\"#7201a8\"],[0.3333333333333333,\"#9c179e\"],[0.4444444444444444,\"#bd3786\"],[0.5555555555555556,\"#d8576b\"],[0.6666666666666666,\"#ed7953\"],[0.7777777777777778,\"#fb9f3a\"],[0.8888888888888888,\"#fdca26\"],[1.0,\"#f0f921\"]],\"type\":\"histogram2d\"}],\"histogram2dcontour\":[{\"colorbar\":{\"outlinewidth\":0,\"ticks\":\"\"},\"colorscale\":[[0.0,\"#0d0887\"],[0.1111111111111111,\"#46039f\"],[0.2222222222222222,\"#7201a8\"],[0.3333333333333333,\"#9c179e\"],[0.4444444444444444,\"#bd3786\"],[0.5555555555555556,\"#d8576b\"],[0.6666666666666666,\"#ed7953\"],[0.7777777777777778,\"#fb9f3a\"],[0.8888888888888888,\"#fdca26\"],[1.0,\"#f0f921\"]],\"type\":\"histogram2dcontour\"}],\"mesh3d\":[{\"colorbar\":{\"outlinewidth\":0,\"ticks\":\"\"},\"type\":\"mesh3d\"}],\"parcoords\":[{\"line\":{\"colorbar\":{\"outlinewidth\":0,\"ticks\":\"\"}},\"type\":\"parcoords\"}],\"pie\":[{\"automargin\":true,\"type\":\"pie\"}],\"scatter\":[{\"marker\":{\"colorbar\":{\"outlinewidth\":0,\"ticks\":\"\"}},\"type\":\"scatter\"}],\"scatter3d\":[{\"line\":{\"colorbar\":{\"outlinewidth\":0,\"ticks\":\"\"}},\"marker\":{\"colorbar\":{\"outlinewidth\":0,\"ticks\":\"\"}},\"type\":\"scatter3d\"}],\"scattercarpet\":[{\"marker\":{\"colorbar\":{\"outlinewidth\":0,\"ticks\":\"\"}},\"type\":\"scattercarpet\"}],\"scattergeo\":[{\"marker\":{\"colorbar\":{\"outlinewidth\":0,\"ticks\":\"\"}},\"type\":\"scattergeo\"}],\"scattergl\":[{\"marker\":{\"colorbar\":{\"outlinewidth\":0,\"ticks\":\"\"}},\"type\":\"scattergl\"}],\"scattermapbox\":[{\"marker\":{\"colorbar\":{\"outlinewidth\":0,\"ticks\":\"\"}},\"type\":\"scattermapbox\"}],\"scatterpolar\":[{\"marker\":{\"colorbar\":{\"outlinewidth\":0,\"ticks\":\"\"}},\"type\":\"scatterpolar\"}],\"scatterpolargl\":[{\"marker\":{\"colorbar\":{\"outlinewidth\":0,\"ticks\":\"\"}},\"type\":\"scatterpolargl\"}],\"scatterternary\":[{\"marker\":{\"colorbar\":{\"outlinewidth\":0,\"ticks\":\"\"}},\"type\":\"scatterternary\"}],\"surface\":[{\"colorbar\":{\"outlinewidth\":0,\"ticks\":\"\"},\"colorscale\":[[0.0,\"#0d0887\"],[0.1111111111111111,\"#46039f\"],[0.2222222222222222,\"#7201a8\"],[0.3333333333333333,\"#9c179e\"],[0.4444444444444444,\"#bd3786\"],[0.5555555555555556,\"#d8576b\"],[0.6666666666666666,\"#ed7953\"],[0.7777777777777778,\"#fb9f3a\"],[0.8888888888888888,\"#fdca26\"],[1.0,\"#f0f921\"]],\"type\":\"surface\"}],\"table\":[{\"cells\":{\"fill\":{\"color\":\"#EBF0F8\"},\"line\":{\"color\":\"white\"}},\"header\":{\"fill\":{\"color\":\"#C8D4E3\"},\"line\":{\"color\":\"white\"}},\"type\":\"table\"}]},\"layout\":{\"annotationdefaults\":{\"arrowcolor\":\"#2a3f5f\",\"arrowhead\":0,\"arrowwidth\":1},\"autotypenumbers\":\"strict\",\"coloraxis\":{\"colorbar\":{\"outlinewidth\":0,\"ticks\":\"\"}},\"colorscale\":{\"diverging\":[[0,\"#8e0152\"],[0.1,\"#c51b7d\"],[0.2,\"#de77ae\"],[0.3,\"#f1b6da\"],[0.4,\"#fde0ef\"],[0.5,\"#f7f7f7\"],[0.6,\"#e6f5d0\"],[0.7,\"#b8e186\"],[0.8,\"#7fbc41\"],[0.9,\"#4d9221\"],[1,\"#276419\"]],\"sequential\":[[0.0,\"#0d0887\"],[0.1111111111111111,\"#46039f\"],[0.2222222222222222,\"#7201a8\"],[0.3333333333333333,\"#9c179e\"],[0.4444444444444444,\"#bd3786\"],[0.5555555555555556,\"#d8576b\"],[0.6666666666666666,\"#ed7953\"],[0.7777777777777778,\"#fb9f3a\"],[0.8888888888888888,\"#fdca26\"],[1.0,\"#f0f921\"]],\"sequentialminus\":[[0.0,\"#0d0887\"],[0.1111111111111111,\"#46039f\"],[0.2222222222222222,\"#7201a8\"],[0.3333333333333333,\"#9c179e\"],[0.4444444444444444,\"#bd3786\"],[0.5555555555555556,\"#d8576b\"],[0.6666666666666666,\"#ed7953\"],[0.7777777777777778,\"#fb9f3a\"],[0.8888888888888888,\"#fdca26\"],[1.0,\"#f0f921\"]]},\"colorway\":[\"#636efa\",\"#EF553B\",\"#00cc96\",\"#ab63fa\",\"#FFA15A\",\"#19d3f3\",\"#FF6692\",\"#B6E880\",\"#FF97FF\",\"#FECB52\"],\"font\":{\"color\":\"#2a3f5f\"},\"geo\":{\"bgcolor\":\"white\",\"lakecolor\":\"white\",\"landcolor\":\"#E5ECF6\",\"showlakes\":true,\"showland\":true,\"subunitcolor\":\"white\"},\"hoverlabel\":{\"align\":\"left\"},\"hovermode\":\"closest\",\"mapbox\":{\"style\":\"light\"},\"paper_bgcolor\":\"white\",\"plot_bgcolor\":\"#E5ECF6\",\"polar\":{\"angularaxis\":{\"gridcolor\":\"white\",\"linecolor\":\"white\",\"ticks\":\"\"},\"bgcolor\":\"#E5ECF6\",\"radialaxis\":{\"gridcolor\":\"white\",\"linecolor\":\"white\",\"ticks\":\"\"}},\"scene\":{\"xaxis\":{\"backgroundcolor\":\"#E5ECF6\",\"gridcolor\":\"white\",\"gridwidth\":2,\"linecolor\":\"white\",\"showbackground\":true,\"ticks\":\"\",\"zerolinecolor\":\"white\"},\"yaxis\":{\"backgroundcolor\":\"#E5ECF6\",\"gridcolor\":\"white\",\"gridwidth\":2,\"linecolor\":\"white\",\"showbackground\":true,\"ticks\":\"\",\"zerolinecolor\":\"white\"},\"zaxis\":{\"backgroundcolor\":\"#E5ECF6\",\"gridcolor\":\"white\",\"gridwidth\":2,\"linecolor\":\"white\",\"showbackground\":true,\"ticks\":\"\",\"zerolinecolor\":\"white\"}},\"shapedefaults\":{\"line\":{\"color\":\"#2a3f5f\"}},\"ternary\":{\"aaxis\":{\"gridcolor\":\"white\",\"linecolor\":\"white\",\"ticks\":\"\"},\"baxis\":{\"gridcolor\":\"white\",\"linecolor\":\"white\",\"ticks\":\"\"},\"bgcolor\":\"#E5ECF6\",\"caxis\":{\"gridcolor\":\"white\",\"linecolor\":\"white\",\"ticks\":\"\"}},\"title\":{\"x\":0.05},\"xaxis\":{\"automargin\":true,\"gridcolor\":\"white\",\"linecolor\":\"white\",\"ticks\":\"\",\"title\":{\"standoff\":15},\"zerolinecolor\":\"white\",\"zerolinewidth\":2},\"yaxis\":{\"automargin\":true,\"gridcolor\":\"white\",\"linecolor\":\"white\",\"ticks\":\"\",\"title\":{\"standoff\":15},\"zerolinecolor\":\"white\",\"zerolinewidth\":2}}},\"xaxis\":{\"anchor\":\"y\",\"domain\":[0.0,1.0],\"title\":{\"text\":\"Current Price\"}},\"yaxis\":{\"anchor\":\"x\",\"domain\":[0.0,1.0],\"title\":{\"text\":\"count\"}},\"legend\":{\"tracegroupgap\":0},\"margin\":{\"t\":60},\"barmode\":\"relative\"},                        {\"responsive\": true}                    ).then(function(){\n",
              "                            \n",
              "var gd = document.getElementById('2e77b938-1382-4f78-b92d-4adb06c67360');\n",
              "var x = new MutationObserver(function (mutations, observer) {{\n",
              "        var display = window.getComputedStyle(gd).display;\n",
              "        if (!display || display === 'none') {{\n",
              "            console.log([gd, 'removed!']);\n",
              "            Plotly.purge(gd);\n",
              "            observer.disconnect();\n",
              "        }}\n",
              "}});\n",
              "\n",
              "// Listen for the removal of the full notebook cells\n",
              "var notebookContainer = gd.closest('#notebook-container');\n",
              "if (notebookContainer) {{\n",
              "    x.observe(notebookContainer, {childList: true});\n",
              "}}\n",
              "\n",
              "// Listen for the clearing of the current output cell\n",
              "var outputEl = gd.closest('.output');\n",
              "if (outputEl) {{\n",
              "    x.observe(outputEl, {childList: true});\n",
              "}}\n",
              "\n",
              "                        })                };                            </script>        </div>\n",
              "</body>\n",
              "</html>"
            ]
          },
          "metadata": {}
        }
      ]
    },
    {
      "cell_type": "markdown",
      "source": [
        "Woah! you have some cars that have 0 Current Price. Looks like the earlier null count were deceptive as you already know, no one is giving away cars for free. You might have to handle this."
      ],
      "metadata": {
        "id": "m_NfkdJS7ArH"
      }
    },
    {
      "cell_type": "code",
      "source": [
        "year = date.today().year\n",
        "df['Age'] = year - df['Year']"
      ],
      "metadata": {
        "id": "vRcUii2X7AUZ"
      },
      "execution_count": 13,
      "outputs": []
    },
    {
      "cell_type": "code",
      "source": [
        "df = df[df['Selling Price'] != 0]\n",
        "fig = px.scatter(x=df['Age'], y=df['Kilometers Driven'])\n",
        "fig.show()"
      ],
      "metadata": {
        "colab": {
          "base_uri": "https://localhost:8080/",
          "height": 542
        },
        "id": "KCJ5nbv07AOW",
        "outputId": "91eedb3d-432f-4681-8c96-029c2262d97b"
      },
      "execution_count": 14,
      "outputs": [
        {
          "output_type": "display_data",
          "data": {
            "text/html": [
              "<html>\n",
              "<head><meta charset=\"utf-8\" /></head>\n",
              "<body>\n",
              "    <div>            <script src=\"https://cdnjs.cloudflare.com/ajax/libs/mathjax/2.7.5/MathJax.js?config=TeX-AMS-MML_SVG\"></script><script type=\"text/javascript\">if (window.MathJax) {MathJax.Hub.Config({SVG: {font: \"STIX-Web\"}});}</script>                <script type=\"text/javascript\">window.PlotlyConfig = {MathJaxConfig: 'local'};</script>\n",
              "        <script src=\"https://cdn.plot.ly/plotly-2.8.3.min.js\"></script>                <div id=\"f1192e8e-a57c-42c7-81b0-df8b91cf2eaf\" class=\"plotly-graph-div\" style=\"height:525px; width:100%;\"></div>            <script type=\"text/javascript\">                                    window.PLOTLYENV=window.PLOTLYENV || {};                                    if (document.getElementById(\"f1192e8e-a57c-42c7-81b0-df8b91cf2eaf\")) {                    Plotly.newPlot(                        \"f1192e8e-a57c-42c7-81b0-df8b91cf2eaf\",                        [{\"hovertemplate\":\"x=%{x}<br>y=%{y}<extra></extra>\",\"legendgroup\":\"\",\"marker\":{\"color\":\"#636efa\",\"symbol\":\"circle\"},\"mode\":\"markers\",\"name\":\"\",\"showlegend\":false,\"x\":[8,7,5,9,10,7,4,9,7,8,8,8,7,10,5,10,10,6,6,9,10,10,5,4,10,9,5,11,7,10,12,9,8,11,10,4,7,10,6,9,5,11,9,9,11,10,10,8,10,9,10,10,9,4,9,3,4,6,3,7,5,10,5,7,7,6,6,6,9,4,5,7,4,9,5,7,8,9,3,9,10,7,4,9,9,9,9,6,4,5,9,5,4,5,5,9,3,4,8,8,6,6,4,7,9,10,8,4,8,8,3,4,3,6,4,3,9,10,10,10,10,9,9,10,3,10,8,9,10,4,8,8,9,13,3,10,11,11,13,8,10,10,10,9,8,13,10,8,5,10,11,9,7,8,6,7,8,9,7,10,8,3,7,5,8,12,8,9,10,6,7,10,7,8,12,9,9,10,9,9,8,8,10,11,8,10,5,7,9,10,8,11,10,10,12,7,12,7,8,9,3,8,11,8,12,12,10,10,7,6,5,8,9,7,5,10,8,11,9,11,9,4,6,9,11,9,13,8,7,9,4,8,8,10,9,10,10,4,12,12,9,12,9,10,11,7,10,9,7,12,9,7,9,11,9,12,8,12,7,11,12,8,5,10,8,7,11,10,4,9,9,9,8,12,10,8,9,11,8,12,11,12,8,9,9,4,11,8,7,5,9,9,10,8,9,12,4,8,7,5,10,10,12,9,6,10,4,12,6,10,7,11,12,7,4,5,5,4,9,8,6,6,6,8,6,9,9,6,6,3,6,7,5,4,4,5,7,5,6,4,3,7,6,3,8,8,5,7,4,7,8,7,4,9,11,11,9,11,7,7,9,7,9,10,10,8,8,10,9,10,10,10,10,10,7,11,9,10,7,10,11,7,10,8,10,8,10,9,8,8,8,10,8,7,8,10,7,4,5,5,3,5,4,5,4,3,5,15,8,7,6,7,7,6,7,5,7,7,6,6,8,6,5,5,9,11,11,9,7,6,8,10,11,9,12,12,11,12,9,9,9,9,11,9,9,10,9,11,10,11,12,11,10,12,11,10,11,11,9,9,11,10,10,11,9,12,10,9,9,12,4,4,6,7,5,5,5,4,8,8,8,6,4,3,6,6,4,6,6,6,7,6,5,6,7,5,12,7,10,11,4,10,8,5,10,4,7,8,5,6,4,10,9,6,7,11,7,10,8,10,12,7,8,6,10,4,10,10,4,8,6,10,5,11,11,11,5,10,11,12,4,7,8,10,8,12,7,5,11,10,11,9,8,7,11,8,5,10,8,7,5,11,5,5,5,11,10,10,7,5,9,4,12,8,11,9,10,7,7,6,6,6,6,5,5,5,7,5,5,5,12,12,11,12,15,14,12,13,12,12,11,14,14,13,14,13,12,11,13,10,13,7,5,7,3,8,5,8,9,9,10,10,10,10,10,10,9,10,8,8,12,11,7,8,8,8,10,10,10,10,8,10,8,9,12,7,10,10,10,9,11,8,9,10,10,9,10,10,10,9,9,7,9,10,10,10,8,10,10,10,4,7,6,6,5,7,6,3,6,5,6,7,7,7,7,7,7,7,7,7,7,7,5,7,8,7,7,7,8,7,7,5,6,4,4,5,4,5,7,8,8,7,11,14,11,11,11,10,13,10,12,5,12,14,4,13,3,6,5,14,6,11,13,7,9,10,9,8,13,12,11,10,4,13,11,7,10,10,5,8,9,12,8,8,12,11,8,13,10,10,7,8,9,10,10,7,9,7,7,10,7,8,3,10,9,8,9,9,11,8,7,5,10,9,10,12,9,10,11,10,12,10,10,10,11,12,11,10,11,11,9,10,10,9,10,3,8,8,7,7,7,5,6,6,8,6,6,7,3,12,14,13,14,14,8,7,10,13,8,8,12,11,6,9,10,8,7,10,9,9,6,6,7,9,9,9,9,10,10,10,9,10,12,7,9,13,13,11,13,12,13,10,12,11,10,10,11,11,11,9,10,8,11,12,10,13,12,12,12,9,9,8,11,9,11,9,9,6,6,7,6,7,5,4,7,7,6,6,5,11,10,13,13,13,12,11,13,10,13,10,12,14,11,11,13,13,11,11,14,11,14,12,14,12,11,13,8,12,12,11,11,11,13,11,12,11,14,13,10,14,13,9,11,11,10,11,8,10,8,8,8,10,8,11,4,4,10,8,10,7,7,9,10,10,7,9,5,10,9,7,4,3,6,3,6,7,6,4,6,7,7,3,8,8,7,7,6,8,5,6,5,6,8,4,4,4,4,4,14,13,13,13,13,12,12,12,13,13,3,2,9,8,8,9,9,8,6,9,7,5,10,10,10,4,10,3,9,12,2,13,15,11,12,14,14,11,13,14,14,12,3,13,14,12,13,15,11,13,15,13,12,15,11,10,12,14,13,12,10,11,13,12,13,15,11,10,12,12,10,12,14,12,13,4,5,7,5,4,6,3,6,6,6,3,6,5,6,4,4,4,3,5,3,5,5,7,9,11,9,10,10,9,10,9,13,13,13,13,12,13,10,13,12,12,9,11,10,11,11,11,11,10,10,10,11,10,10,11,11,11,10,9,10,11,11,11,10,10,5,5,5,5,5,4,5,3,3,3,6,6,3,4,3,6,6,6,4,3,4,5,6,4,6,4,5,3,5,4,9,8,4,4,6,9,4,6,9,10,9,8,8,9,9,9,9,9,9,8,9,10,10,9,10,11,10,10,9,8,10,6,7,9,8,8,10,14,12,13,9,14,14,12,14,12,13,14,13,13,13,14,12,11,14,6,6,10,7,10,9,9,10,10,10,9,8,8,10,8,8,10,10,7,7,7,9,10,10,10,10,8,8,10,9,9,10,9,9,8,3,7,11,11,4,3,6,4,5,5,4,5,6,4,8,7,7,7,8,7,8,8,8,7,8,9,3,3,12,8,9,9,8,11,11,12,9,8,9,11,8,10,13,12,8,9,7,7,7,5,6,5,7,8,5,3,5,4,5,5,2,4,8,15,15,15,15,8,7,12,14,10,9,9,9,10,10,9,14,9,12,9,8,12,9,10,10,12,9,12,11,13,14,5,5,7,8,2,8,6,5,4,4,4,10,6,3,8,5,7,8,3,5,12,9,5,9,6,6,9,6,10,5,10,4,6,6,6,4,3,7,10,6,4,5,10,9,4,8,9,8,9,5,7,10,6,7,7,6,6,8,9,8,10,9,10,10,4,8,9,4,7,7,8,6,8,10,7,10,5,9,7,7,4,10,9,10,10,10,9,9,10,10,9,11,9,7,5,6,4,5,7,5,5,4,4,4,4,4,4,4,4,4,5,3,11,14,11,11,9,13,11,9,12,11,11,12,10,11,9,11,10,11,9,10,12,12,12,9,9,10,10,10,11,14,12,12,13,13,12,13,12,11,8,12,12,11,12,9,8,3,3,5,8,3,6,10,8,12,12,10,8,11,12,13,13,5,5,7,7,9,8,7,8,8,5,8,6,8,7,8,7,10,10,8,10,7,9,9,7,10,8,14,9,9,5,6,6,6,7,4,15,15,15,8,12,9,11,10,11,10,10,12,11,10,11,10,10,11,8,10,9,9,9,10,10,10,11,9,6,6,4,10,10,6,7,13,7,14,15,5,14,6,15,16,8,6,9,5,3,5,7,9,9,8,7,7,9,6,9,9,9,9,9,8,7,5,5,8,9,8,9,8,9,8,11,10,7,7,7,7,7,7,8,7,7,7,7,7,8,10,9,6,7,8,8,8,8,4,4,11,9,10,7,11,9,11,8,11,5,5,14,10,9,15,14,14,10,10,11,13,9,11,10,10,10,10,10,12,12,11,6,7,8,5,6,8,5,5,5,7,8,5,6,5,8,14,8,9,9,13,13,13,12,12,3,6,5,5,6,6,12,12,12,5,5,6,7,9,9,8,9,9,7,9,9,8,9,12,6,6,7,3,3,7,4,6,4,9,9,6,5,5,6,5,6,5,6,4,7,7,7,7,7,7,8,8,8,4,9,11,11,11,5,8,15,4,6,5,5,5,4,8,12,7,8,9,10,10,12,4,9,4,6,7,5,7,5,4,4,5,4,5,4,6,6,5,5,4,5,10,10,11,10,3,3,10,13,12,13,13,10,10,12,7,5,4,5,3,4,4,5,6,4,10,6,4,4,14,4,4,7,7,15,11,10,7,10,7,5,4,7,6,7,7,7,7,9,7,8,8,6,8,7,7,7,7,6,13,4,8,7,8,8,8,9,9,7,8,4,15,12,13,15,10,11,11,11,3,3,5,6,4,6,5,7,7,7,5,9,9,9,9,4,6,6,6,6,6,5,6,6,11,13,12,10,11,11,6,6,7,5,6,6,5,5,5,5,8,7,10,3,4,8,9,6,4,10,8,11,8,10,4,8,6,7,7,5,7,10,8,7,9,10,10,12,10,12,11,10,9,12,8,9,9,5,7,8,4,7,5,9,7,7,6,7,7,7,5,5,5,5,5,5,6,5,5,6,5,4,6,10,8,8,7,7,10,8,3,13,12,13,14,14,13,13,13,8,14,13,13,8,5,7,5,4,2,2,4,3,8,9,8,8,9,9,5,10,10,9,10,9,7,7,12,9,10,10,9,12,4,4,8,6,5,7,6,7,8,5,5,6,5,4,9,8,10,10,11,5,6,6,4,7,11,10,10,11,10,9,5,8,11,11,12,3,5,5,4,5,4,4,8,10,4,3,4,4,5,6,6,4,4,9,5,6,8,5,5,9,3,5,14,3,9,3,9,3,3,5,5,5,3,3,11,11,8,9,12,6,6,4,10,5,7,7,8,14,4,8,11,7,11,8,11,4,6,8,7,3,4,10,10,3,5,9,3,8,6,4,13,8,4,10,8,6,6,6,6,5,6,5,6,6,4,8,4,7,13,14,3,8,5,3,10,6,8,5,8,8,3,6,2,15,2,10,7,6,11,5,6,5,3,4,4,11,3,5,7,5,14,14,16,6,8,5,9,6,14,4,9,6,5,9,9,6,8,7,6,6,6,5,10,15,8,7,7,5,7,10,11,5,12,11,3,4,11],\"xaxis\":\"x\",\"y\":[82238,88514,29735,153709,88691,26141,28560,121435,43781,56607,32768,78330,51564,56849,73294,66711,164707,56771,65990,227458,90201,52987,52280,62589,99966,75341,56328,114593,100032,68974,141811,134966,61646,112297,61323,22982,157328,128231,73290,101082,28608,100662,30558,105493,21763,89919,133608,116324,160408,67401,61443,68582,110645,22164,49275,8393,8105,39630,3495,33341,3201,24679,11110,67833,38472,23598,12702,8526,66047,58283,19130,30871,23280,47365,18278,18966,31490,70424,17644,25478,30506,48279,60362,36483,65775,72273,44876,28126,2378,8267,47169,21745,10123,16787,21691,57525,10457,34638,21862,57434,55484,34543,24738,52018,29390,68344,68939,42143,42845,84084,34886,27886,4324,12210,19748,20321,30535,141644,61365,96637,164127,34459,53390,31999,27055,60626,68628,111379,112723,11784,79144,72754,60422,163408,12889,164757,34524,133175,190778,24093,102024,29624,80935,78289,46070,123493,66445,103671,29075,142099,81523,137850,14864,106521,74026,35215,42416,74429,49748,129639,60963,5419,86567,73784,143871,55257,85199,39124,141954,56865,65847,136700,22607,83580,121591,49117,64839,113003,90030,45589,92498,6073,108594,96207,82725,22659,21714,75644,33742,86246,28652,64993,146312,27649,73151,38597,95044,66664,74031,77720,14598,124969,56487,79467,111112,62323,40183,89318,43743,3587,26591,50674,142412,8889,35855,62206,41140,50484,72692,103268,81690,2540,21737,99401,81162,96449,194924,32490,71157,79019,50244,54695,104448,100335,15738,65476,60412,17101,62834,93112,30361,70903,18325,32808,65611,70993,98462,48335,31796,48954,18584,53279,39541,117905,68719,60385,68927,93590,30401,64370,35373,30435,28315,60223,91411,57827,38140,22264,15192,70430,115055,59887,43966,80357,65475,43955,94507,6863,27325,115194,34399,855881,46468,17291,96735,53211,48546,57275,12380,20550,34903,23315,29425,23233,11065,52333,19615,50060,48243,65033,24956,99248,60114,23358,48347,41270,3814,29699,45170,51339,27767,33829,51116,45263,32652,18711,23136,16509,32496,65299,13349,25338,247836,66962,77031,42054,53642,76685,30367,6891,53063,27487,35045,11962,2594,19113,37486,45552,22061,41383,10412,148559,42704,4370,25807,61066,18805,31415,33199,68547,23737,73484,13566,27992,15248,70252,135829,90479,39550,78713,56518,70649,95093,40302,53264,83575,117248,40055,148847,50834,34414,82666,52719,45247,77871,137406,63385,46846,39309,69541,73981,93657,86980,59395,101605,63051,115096,80710,46314,75485,3813,53422,37541,66584,58410,59403,43160,14061,12400,11404,21642,4595,25826,9562,52827,19717,12177,52138,46410,11362,19138,26025,29156,31702,35770,15293,21501,49010,60866,47168,66248,34760,81291,39380,72813,88812,34760,25443,79123,72097,151201,71219,84630,87834,87793,62752,48128,82631,27821,116410,34436,113856,80466,81990,71136,52751,95866,43725,73356,55760,84826,71611,48219,85191,59210,50918,84927,66721,33023,64703,39086,47774,24034,51654,48976,53140,54054,29122,31541,125936,14516,13259,34658,36705,50455,90651,32394,53486,35905,50007,30376,39278,5160,14665,38933,9495,9895,36873,13865,22629,21136,52417,8656,90197,50243,36245,59096,30539,64058,70973,27570,45362,50294,19792,38617,8604,58304,65190,11976,24013,17712,33423,25563,18946,24612,32089,95412,61587,51984,38019,103426,10490,52660,17944,70580,28902,39038,59253,30028,22610,18998,67346,28261,28140,128065,70413,15551,49323,62717,94362,54173,70048,35810,21023,20127,83421,7960,45540,20994,68156,42358,116848,50239,10213,29780,45111,21618,73444,39854,15003,5064,85649,19279,41493,37328,53535,81759,63678,15355,36929,98722,9108,41190,40798,63663,80916,102508,33639,61923,35153,58361,109448,13900,46056,32307,68730,91244,26073,6210,52042,39612,43196,31830,47307,45920,64268,32985,54603,42784,46535,32137,97341,71023,35561,68075,38285,40177,75010,21726,43357,63798,58558,25538,34587,14067,37296,33556,33933,72553,80394,95472,98618,57730,46299,75435,107099,42679,70192,32957,89383,160205,121017,59826,88835,75129,72388,38235,74785,46077,87800,98400,63868,87125,82065,84008,126440,81509,77954,48585,75547,105059,95770,61450,128836,121168,62602,94644,68930,118302,85672,13830,97036,74080,105445,127042,58147,67459,73926,86747,48390,13931,76914,16232,85118,19619,48337,61456,23424,16317,26704,48780,70952,92527,154513,66476,46856,62806,91280,49668,37481,63435,119742,45203,52490,89947,25850,98101,66450,83301,54409,27735,33360,86339,25131,25376,56815,23085,15683,110531,169453,61164,52659,117838,9961,139476,96436,155467,121434,48883,166925,75099,28083,45714,103401,94628,79169,10138,27412,35078,49523,36385,50615,148906,65099,40028,74017,136859,48559,80190,127472,144078,53106,7349,52532,63022,38614,45103,138073,58561,32790,34377,132921,48845,94066,135778,147629,104060,53059,48146,59608,84778,84226,57221,157462,95203,119930,100097,42214,119932,91966,120123,60070,2823,83767,78618,56549,75654,51472,114818,87581,44368,10719,76177,107693,114748,56973,20524,64614,33686,59218,37127,43617,15260,40807,44955,51056,71697,95298,20239,68764,33953,62852,58581,57282,31719,17435,89834,83278,90509,28410,64943,17206,26809,48085,95461,47310,43867,27807,8701,188777,59142,163326,54858,65929,52544,103761,96290,83273,33913,114877,125435,50372,45500,120996,77103,56433,33407,45605,31922,30714,46682,53868,75024,38905,53505,63934,44432,16061,80575,72428,97984,68342,104928,64475,54237,54431,86813,105576,48907,116148,77317,59348,63754,99338,104556,100995,168605,56902,91250,36162,95739,146452,24635,82092,112264,93555,41832,67560,53689,76553,125525,69662,82265,51641,71292,15755,39422,6587,56923,47789,46242,9307,54472,21601,54323,28971,15085,6049,50746,83050,73247,76901,85362,99003,75713,65403,114682,83929,86866,46870,39947,194040,98697,143859,84937,118873,107215,89227,176404,70901,30786,44987,72880,111451,127174,73179,69029,49649,48181,100733,99588,95921,142543,102393,103378,73933,32298,134918,49305,71388,71447,111397,55945,136543,60908,49419,20500,39601,96552,33437,77358,70749,91014,69727,35067,84237,54397,62769,81227,98137,24825,135793,83719,125259,30956,88622,23310,93867,167408,95945,20324,24060,123057,9878,60850,55037,51639,109531,54845,35303,22743,3969,17382,136962,14225,23897,19290,53799,35251,16920,31307,23893,11192,2610,39845,6111,7057,4397,68478,72565,89576,98364,58101,36942,39351,44618,105322,40517,15086,11146,41513,28323,26754,56350,110501,42346,28625,25276,68662,25439,42481,113241,50304,119791,51808,9671,104084,92309,3710,102742,57895,41402,34854,29879,98526,13966,72725,45476,44132,44374,13069,91528,58267,39460,57358,55899,6943,57357,23251,85362,71021,81168,34429,32234,28345,84335,127175,48254,35190,41967,26363,42016,59696,65053,38938,58963,37485,111848,10260,70239,123701,81798,63454,15615,40382,90025,27670,10055,42568,9862,26568,20092,45880,12735,16906,15272,33603,22676,33849,28786,21125,18822,5153,63655,108048,14828,41856,129017,74271,45693,84530,57243,107240,71426,68656,82682,119575,86164,222973,84373,64924,78770,34599,66476,173110,59387,41541,80333,72329,114409,170425,43802,197898,80949,92903,121820,160368,87966,29045,54147,72310,13134,156503,156589,76993,110868,130929,72949,85389,27147,20037,6267,17487,18363,20570,37265,39833,4566,60027,59715,32575,21239,18175,37767,61003,24367,12581,24353,48081,43573,67454,23892,83813,26212,51514,4691,27711,33070,58944,38790,14358,10129,81538,72229,28944,19568,119265,84048,49718,120745,57702,75428,106211,68242,61895,115055,54675,48498,51148,96225,48288,68374,68355,84640,82252,64030,69555,53901,69753,90217,30537,147140,80584,99985,78059,63586,98143,82748,33828,43520,73791,24345,40542,67985,102210,94272,50156,31094,49349,58531,17702,58310,84985,31153,21683,43469,29104,23210,43702,64537,18255,87755,108048,70498,58058,70054,71493,84765,32152,52789,55782,46727,14999,52290,23011,33783,103826,118056,39877,29164,76938,83574,16508,133257,65954,30713,64034,45701,12538,34812,98989,141119,28572,20273,37246,11025,28478,35381,22620,39663,100205,37344,75891,40878,29978,151230,152554,100187,80990,97654,111524,39286,90501,97467,13185,9028,114109,45465,34146,75842,52410,67572,50103,55012,45317,86798,61011,100986,54073,44714,56276,95950,23794,106064,49341,53151,27183,12453,41357,32883,29027,50754,21932,27277,28319,28457,24962,23627,17082,111610,23704,82791,69390,49964,104893,103867,78595,97436,89412,72105,75468,90474,53702,52373,66761,56620,63396,106300,55169,69157,81824,151356,36839,97757,44090,158746,30011,68714,74743,61576,40253,72706,23836,50968,24847,6184,48040,142341,32783,13492,34119,19549,109457,52528,28213,93529,22016,42466,107208,10750,50529,45711,63748,27276,69745,60295,101779,56244,66519,40836,15426,61082,24274,63898,32865,43702,27623,7271,56782,52194,38594,69604,25046,91724,51981,6993,85164,39203,104187,87825,59847,79746,171976,67987,42785,83869,76226,144712,123363,122165,154599,67776,67411,50877,57951,3308,83546,129837,30522,50772,40111,15775,40681,43183,5013,20229,58799,12238,43604,20310,28690,11400,68559,69521,28588,86415,105572,72980,22768,47790,69848,59419,54471,67856,133921,40267,85369,27929,42045,45174,72425,44254,52886,49286,49185,23719,22346,21487,44146,26407,39608,100534,21297,86288,150651,11234,63546,210904,26474,48246,44802,56697,93885,181036,28790,63995,33734,63082,89090,53501,32101,57031,88696,31299,70891,44563,83431,22998,45422,49942,130420,58188,54572,76036,60443,23030,54099,110417,43468,102644,124564,35658,77145,52991,42273,44624,92076,56940,44040,7961,30586,41038,10003,93031,46121,56580,96899,151123,24598,23576,40583,83427,59533,82508,17424,39254,87155,30500,119439,71487,46594,39090,114610,33932,76473,10009,27123,42905,75141,45940,104921,83797,31584,87828,26939,33582,57657,44670,83453,28046,116240,72917,18304,41831,56895,56830,111100,58585,20861,188651,153241,145153,21100,74934,63467,78129,38013,44142,107384,56736,39306,131343,61801,80781,62270,46859,109919,81608,58219,47294,61842,25341,31613,83304,71622,41952,49947,35989,152025,19465,84474,76434,61191,73411,98656,36610,52022,48448,25976,105021,46237,124360,133595,64460,33243,176188,26151,9294,61859,67407,103665,93733,94775,171979,59607,132735,64727,73503,118398,51822,94268,163575,40141,147413,4110,17953,89196,27748,40570,41059,71800,109104,108709,161157,66600,100669,107589,82206,79445,137913,37296,43627,116652,143079,87142,93960,75255,97454,98452,65667,56335,27624,70915,1774,143740,67180,23999,38480,137352,87557,105865,85321,168801,79126,115196,17758,97179,41100,38023,150248,63473,55140,79620,67213,72738,96301,138612,83299,126624,46415,93756,66958,166542,128749,42069,73625,91905,104895,92305,34558,35915,42170,10172,45391,16316,48053,16182,28407,91814,51461,23213,41443,10968,27492,94020,151247,132779,136004,91612,63836,73413,52624,155611,14039,69278,61489,78579,88453,107803,49821,81196,62392,20333,27073,26026,19726,125008,70147,89309,87405,74085,50967,80701,99345,55933,85851,64274,40290,33732,22568,19900,7343,23757,32464,8500,34303,45278,68821,12255,24005,2937,39822,11194,8451,32578,23963,49189,72363,121782,59325,66126,86855,68093,113188,54624,75678,17483,63035,50513,35473,166437,125598,45651,98229,21127,108963,58298,70349,22608,78027,46437,109887,123934,55490,98889,123852,39099,104867,27741,28559,44983,54919,92011,13652,78612,34616,8969,32733,8709,33823,6471,25034,69312,24990,26793,21446,14882,37363,98304,87995,93484,118130,1424,8526,74247,97649,93505,73112,60632,136284,88506,82633,85657,22247,17990,50387,5726,38747,16194,42167,130303,11328,119652,23482,37208,11903,72230,23296,39712,58291,80800,65402,63649,67267,59109,57079,51266,38639,14747,35355,6703,22900,14401,33476,27827,128627,70775,97600,126199,79207,62516,58001,39327,33312,53425,23390,150758,46837,9296,30532,44774,36271,72977,62253,66940,22898,65919,1827,61886,90284,76158,80103,65435,68269,86673,77484,8816,48507,55210,45574,47051,34078,34247,59916,43507,59957,29546,99296,197997,63748,136754,47332,10430,84427,42651,18439,13647,19363,56894,34345,83659,86489,117168,100385,62664,50556,11636,58141,35499,4730,30380,37538,19084,31152,34363,22437,50552,36119,32830,6203,2099,104023,87947,57304,16077,87827,176674,141262,166250,197019,31973,35525,88336,78609,65828,34969,38459,172356,99050,18966,21614,61850,23707,65231,22030,144628,36107,54638,56807,90962,63803,119275,141346,21479,93321,42468,34489,148319,108116,81940,12833,60827,50163,10864,80175,40897,31925,49227,9550,54496,71996,23297,62646,44476,64429,58586,32529,114832,68638,36991,101927,227391,111562,75358,134217,122507,7409,102521,29438,155505,59044,32009,124112,35925,97694,56556,79096,27093,49885,32732,40622,28156,59690,20433,7951,2012,1889,38288,181811,99893,141528,57525,98755,90510,45848,124398,75946,55430,57063,67484,32055,23738,102067,47489,55764,117093,81363,75120,48242,24230,81199,81474,54914,64106,83167,60229,68473,15609,20346,54717,18463,16286,81971,49363,131320,63798,177197,52212,31536,117453,22454,83440,48433,71644,59345,44411,47365,206123,27809,64289,85190,34203,42013,8972,37486,16683,18331,22325,24537,31232,104541,50594,23301,13578,43260,7712,58511,77225,59054,12681,27743,82778,21706,62539,88157,32036,34265,69047,10104,83592,131267,4681,75789,17468,81344,67447,7407,16856,13287,36731,9704,43853,54368,133425,58233,95050,32376,79616,81717,44510,91533,30329,100803,50518,67198,139344,27247,82081,43117,19010,94092,39663,187692,12269,59352,140044,89930,7743,20935,196982,116831,51372,21187,72550,15415,84851,83967,19222,53029,70258,56600,37076,78461,64051,44187,105691,37870,183456,119373,14802,76673,90097,65165,44073,26850,129011,197377,127978,8719,115886,30348,7266,80345,42270,60701,73227,125241,69308,20058,9768,1475,74458,913,104331,55186,69898,22465,20010,19577,30000,79993,16277,35737,55911,10468,80820,26053,47422,89708,123714,80231,76578,25971,19140,77490,8265,133226,16189,71879,16491,49342,154964,172802,95991,81019,76945,43945,54008,33185,64712,120240,110801,41529,45457,58647,26490,110780,147730,46292,67379,65120,131152,4400,65667,28016],\"yaxis\":\"y\",\"type\":\"scattergl\"}],                        {\"template\":{\"data\":{\"bar\":[{\"error_x\":{\"color\":\"#2a3f5f\"},\"error_y\":{\"color\":\"#2a3f5f\"},\"marker\":{\"line\":{\"color\":\"#E5ECF6\",\"width\":0.5},\"pattern\":{\"fillmode\":\"overlay\",\"size\":10,\"solidity\":0.2}},\"type\":\"bar\"}],\"barpolar\":[{\"marker\":{\"line\":{\"color\":\"#E5ECF6\",\"width\":0.5},\"pattern\":{\"fillmode\":\"overlay\",\"size\":10,\"solidity\":0.2}},\"type\":\"barpolar\"}],\"carpet\":[{\"aaxis\":{\"endlinecolor\":\"#2a3f5f\",\"gridcolor\":\"white\",\"linecolor\":\"white\",\"minorgridcolor\":\"white\",\"startlinecolor\":\"#2a3f5f\"},\"baxis\":{\"endlinecolor\":\"#2a3f5f\",\"gridcolor\":\"white\",\"linecolor\":\"white\",\"minorgridcolor\":\"white\",\"startlinecolor\":\"#2a3f5f\"},\"type\":\"carpet\"}],\"choropleth\":[{\"colorbar\":{\"outlinewidth\":0,\"ticks\":\"\"},\"type\":\"choropleth\"}],\"contour\":[{\"colorbar\":{\"outlinewidth\":0,\"ticks\":\"\"},\"colorscale\":[[0.0,\"#0d0887\"],[0.1111111111111111,\"#46039f\"],[0.2222222222222222,\"#7201a8\"],[0.3333333333333333,\"#9c179e\"],[0.4444444444444444,\"#bd3786\"],[0.5555555555555556,\"#d8576b\"],[0.6666666666666666,\"#ed7953\"],[0.7777777777777778,\"#fb9f3a\"],[0.8888888888888888,\"#fdca26\"],[1.0,\"#f0f921\"]],\"type\":\"contour\"}],\"contourcarpet\":[{\"colorbar\":{\"outlinewidth\":0,\"ticks\":\"\"},\"type\":\"contourcarpet\"}],\"heatmap\":[{\"colorbar\":{\"outlinewidth\":0,\"ticks\":\"\"},\"colorscale\":[[0.0,\"#0d0887\"],[0.1111111111111111,\"#46039f\"],[0.2222222222222222,\"#7201a8\"],[0.3333333333333333,\"#9c179e\"],[0.4444444444444444,\"#bd3786\"],[0.5555555555555556,\"#d8576b\"],[0.6666666666666666,\"#ed7953\"],[0.7777777777777778,\"#fb9f3a\"],[0.8888888888888888,\"#fdca26\"],[1.0,\"#f0f921\"]],\"type\":\"heatmap\"}],\"heatmapgl\":[{\"colorbar\":{\"outlinewidth\":0,\"ticks\":\"\"},\"colorscale\":[[0.0,\"#0d0887\"],[0.1111111111111111,\"#46039f\"],[0.2222222222222222,\"#7201a8\"],[0.3333333333333333,\"#9c179e\"],[0.4444444444444444,\"#bd3786\"],[0.5555555555555556,\"#d8576b\"],[0.6666666666666666,\"#ed7953\"],[0.7777777777777778,\"#fb9f3a\"],[0.8888888888888888,\"#fdca26\"],[1.0,\"#f0f921\"]],\"type\":\"heatmapgl\"}],\"histogram\":[{\"marker\":{\"pattern\":{\"fillmode\":\"overlay\",\"size\":10,\"solidity\":0.2}},\"type\":\"histogram\"}],\"histogram2d\":[{\"colorbar\":{\"outlinewidth\":0,\"ticks\":\"\"},\"colorscale\":[[0.0,\"#0d0887\"],[0.1111111111111111,\"#46039f\"],[0.2222222222222222,\"#7201a8\"],[0.3333333333333333,\"#9c179e\"],[0.4444444444444444,\"#bd3786\"],[0.5555555555555556,\"#d8576b\"],[0.6666666666666666,\"#ed7953\"],[0.7777777777777778,\"#fb9f3a\"],[0.8888888888888888,\"#fdca26\"],[1.0,\"#f0f921\"]],\"type\":\"histogram2d\"}],\"histogram2dcontour\":[{\"colorbar\":{\"outlinewidth\":0,\"ticks\":\"\"},\"colorscale\":[[0.0,\"#0d0887\"],[0.1111111111111111,\"#46039f\"],[0.2222222222222222,\"#7201a8\"],[0.3333333333333333,\"#9c179e\"],[0.4444444444444444,\"#bd3786\"],[0.5555555555555556,\"#d8576b\"],[0.6666666666666666,\"#ed7953\"],[0.7777777777777778,\"#fb9f3a\"],[0.8888888888888888,\"#fdca26\"],[1.0,\"#f0f921\"]],\"type\":\"histogram2dcontour\"}],\"mesh3d\":[{\"colorbar\":{\"outlinewidth\":0,\"ticks\":\"\"},\"type\":\"mesh3d\"}],\"parcoords\":[{\"line\":{\"colorbar\":{\"outlinewidth\":0,\"ticks\":\"\"}},\"type\":\"parcoords\"}],\"pie\":[{\"automargin\":true,\"type\":\"pie\"}],\"scatter\":[{\"marker\":{\"colorbar\":{\"outlinewidth\":0,\"ticks\":\"\"}},\"type\":\"scatter\"}],\"scatter3d\":[{\"line\":{\"colorbar\":{\"outlinewidth\":0,\"ticks\":\"\"}},\"marker\":{\"colorbar\":{\"outlinewidth\":0,\"ticks\":\"\"}},\"type\":\"scatter3d\"}],\"scattercarpet\":[{\"marker\":{\"colorbar\":{\"outlinewidth\":0,\"ticks\":\"\"}},\"type\":\"scattercarpet\"}],\"scattergeo\":[{\"marker\":{\"colorbar\":{\"outlinewidth\":0,\"ticks\":\"\"}},\"type\":\"scattergeo\"}],\"scattergl\":[{\"marker\":{\"colorbar\":{\"outlinewidth\":0,\"ticks\":\"\"}},\"type\":\"scattergl\"}],\"scattermapbox\":[{\"marker\":{\"colorbar\":{\"outlinewidth\":0,\"ticks\":\"\"}},\"type\":\"scattermapbox\"}],\"scatterpolar\":[{\"marker\":{\"colorbar\":{\"outlinewidth\":0,\"ticks\":\"\"}},\"type\":\"scatterpolar\"}],\"scatterpolargl\":[{\"marker\":{\"colorbar\":{\"outlinewidth\":0,\"ticks\":\"\"}},\"type\":\"scatterpolargl\"}],\"scatterternary\":[{\"marker\":{\"colorbar\":{\"outlinewidth\":0,\"ticks\":\"\"}},\"type\":\"scatterternary\"}],\"surface\":[{\"colorbar\":{\"outlinewidth\":0,\"ticks\":\"\"},\"colorscale\":[[0.0,\"#0d0887\"],[0.1111111111111111,\"#46039f\"],[0.2222222222222222,\"#7201a8\"],[0.3333333333333333,\"#9c179e\"],[0.4444444444444444,\"#bd3786\"],[0.5555555555555556,\"#d8576b\"],[0.6666666666666666,\"#ed7953\"],[0.7777777777777778,\"#fb9f3a\"],[0.8888888888888888,\"#fdca26\"],[1.0,\"#f0f921\"]],\"type\":\"surface\"}],\"table\":[{\"cells\":{\"fill\":{\"color\":\"#EBF0F8\"},\"line\":{\"color\":\"white\"}},\"header\":{\"fill\":{\"color\":\"#C8D4E3\"},\"line\":{\"color\":\"white\"}},\"type\":\"table\"}]},\"layout\":{\"annotationdefaults\":{\"arrowcolor\":\"#2a3f5f\",\"arrowhead\":0,\"arrowwidth\":1},\"autotypenumbers\":\"strict\",\"coloraxis\":{\"colorbar\":{\"outlinewidth\":0,\"ticks\":\"\"}},\"colorscale\":{\"diverging\":[[0,\"#8e0152\"],[0.1,\"#c51b7d\"],[0.2,\"#de77ae\"],[0.3,\"#f1b6da\"],[0.4,\"#fde0ef\"],[0.5,\"#f7f7f7\"],[0.6,\"#e6f5d0\"],[0.7,\"#b8e186\"],[0.8,\"#7fbc41\"],[0.9,\"#4d9221\"],[1,\"#276419\"]],\"sequential\":[[0.0,\"#0d0887\"],[0.1111111111111111,\"#46039f\"],[0.2222222222222222,\"#7201a8\"],[0.3333333333333333,\"#9c179e\"],[0.4444444444444444,\"#bd3786\"],[0.5555555555555556,\"#d8576b\"],[0.6666666666666666,\"#ed7953\"],[0.7777777777777778,\"#fb9f3a\"],[0.8888888888888888,\"#fdca26\"],[1.0,\"#f0f921\"]],\"sequentialminus\":[[0.0,\"#0d0887\"],[0.1111111111111111,\"#46039f\"],[0.2222222222222222,\"#7201a8\"],[0.3333333333333333,\"#9c179e\"],[0.4444444444444444,\"#bd3786\"],[0.5555555555555556,\"#d8576b\"],[0.6666666666666666,\"#ed7953\"],[0.7777777777777778,\"#fb9f3a\"],[0.8888888888888888,\"#fdca26\"],[1.0,\"#f0f921\"]]},\"colorway\":[\"#636efa\",\"#EF553B\",\"#00cc96\",\"#ab63fa\",\"#FFA15A\",\"#19d3f3\",\"#FF6692\",\"#B6E880\",\"#FF97FF\",\"#FECB52\"],\"font\":{\"color\":\"#2a3f5f\"},\"geo\":{\"bgcolor\":\"white\",\"lakecolor\":\"white\",\"landcolor\":\"#E5ECF6\",\"showlakes\":true,\"showland\":true,\"subunitcolor\":\"white\"},\"hoverlabel\":{\"align\":\"left\"},\"hovermode\":\"closest\",\"mapbox\":{\"style\":\"light\"},\"paper_bgcolor\":\"white\",\"plot_bgcolor\":\"#E5ECF6\",\"polar\":{\"angularaxis\":{\"gridcolor\":\"white\",\"linecolor\":\"white\",\"ticks\":\"\"},\"bgcolor\":\"#E5ECF6\",\"radialaxis\":{\"gridcolor\":\"white\",\"linecolor\":\"white\",\"ticks\":\"\"}},\"scene\":{\"xaxis\":{\"backgroundcolor\":\"#E5ECF6\",\"gridcolor\":\"white\",\"gridwidth\":2,\"linecolor\":\"white\",\"showbackground\":true,\"ticks\":\"\",\"zerolinecolor\":\"white\"},\"yaxis\":{\"backgroundcolor\":\"#E5ECF6\",\"gridcolor\":\"white\",\"gridwidth\":2,\"linecolor\":\"white\",\"showbackground\":true,\"ticks\":\"\",\"zerolinecolor\":\"white\"},\"zaxis\":{\"backgroundcolor\":\"#E5ECF6\",\"gridcolor\":\"white\",\"gridwidth\":2,\"linecolor\":\"white\",\"showbackground\":true,\"ticks\":\"\",\"zerolinecolor\":\"white\"}},\"shapedefaults\":{\"line\":{\"color\":\"#2a3f5f\"}},\"ternary\":{\"aaxis\":{\"gridcolor\":\"white\",\"linecolor\":\"white\",\"ticks\":\"\"},\"baxis\":{\"gridcolor\":\"white\",\"linecolor\":\"white\",\"ticks\":\"\"},\"bgcolor\":\"#E5ECF6\",\"caxis\":{\"gridcolor\":\"white\",\"linecolor\":\"white\",\"ticks\":\"\"}},\"title\":{\"x\":0.05},\"xaxis\":{\"automargin\":true,\"gridcolor\":\"white\",\"linecolor\":\"white\",\"ticks\":\"\",\"title\":{\"standoff\":15},\"zerolinecolor\":\"white\",\"zerolinewidth\":2},\"yaxis\":{\"automargin\":true,\"gridcolor\":\"white\",\"linecolor\":\"white\",\"ticks\":\"\",\"title\":{\"standoff\":15},\"zerolinecolor\":\"white\",\"zerolinewidth\":2}}},\"xaxis\":{\"anchor\":\"y\",\"domain\":[0.0,1.0],\"title\":{\"text\":\"x\"}},\"yaxis\":{\"anchor\":\"x\",\"domain\":[0.0,1.0],\"title\":{\"text\":\"y\"}},\"legend\":{\"tracegroupgap\":0},\"margin\":{\"t\":60}},                        {\"responsive\": true}                    ).then(function(){\n",
              "                            \n",
              "var gd = document.getElementById('f1192e8e-a57c-42c7-81b0-df8b91cf2eaf');\n",
              "var x = new MutationObserver(function (mutations, observer) {{\n",
              "        var display = window.getComputedStyle(gd).display;\n",
              "        if (!display || display === 'none') {{\n",
              "            console.log([gd, 'removed!']);\n",
              "            Plotly.purge(gd);\n",
              "            observer.disconnect();\n",
              "        }}\n",
              "}});\n",
              "\n",
              "// Listen for the removal of the full notebook cells\n",
              "var notebookContainer = gd.closest('#notebook-container');\n",
              "if (notebookContainer) {{\n",
              "    x.observe(notebookContainer, {childList: true});\n",
              "}}\n",
              "\n",
              "// Listen for the clearing of the current output cell\n",
              "var outputEl = gd.closest('.output');\n",
              "if (outputEl) {{\n",
              "    x.observe(outputEl, {childList: true});\n",
              "}}\n",
              "\n",
              "                        })                };                            </script>        </div>\n",
              "</body>\n",
              "</html>"
            ]
          },
          "metadata": {}
        }
      ]
    },
    {
      "cell_type": "code",
      "source": [
        "fig = px.scatter(x=df['Kilometers Driven'], y=df['Selling Price'])\n",
        "fig.show()\n"
      ],
      "metadata": {
        "colab": {
          "base_uri": "https://localhost:8080/",
          "height": 542
        },
        "id": "vy4m88vE7K8R",
        "outputId": "cef6b1d8-6790-4817-b261-a5309db28ff2"
      },
      "execution_count": 15,
      "outputs": [
        {
          "output_type": "display_data",
          "data": {
            "text/html": [
              "<html>\n",
              "<head><meta charset=\"utf-8\" /></head>\n",
              "<body>\n",
              "    <div>            <script src=\"https://cdnjs.cloudflare.com/ajax/libs/mathjax/2.7.5/MathJax.js?config=TeX-AMS-MML_SVG\"></script><script type=\"text/javascript\">if (window.MathJax) {MathJax.Hub.Config({SVG: {font: \"STIX-Web\"}});}</script>                <script type=\"text/javascript\">window.PlotlyConfig = {MathJaxConfig: 'local'};</script>\n",
              "        <script src=\"https://cdn.plot.ly/plotly-2.8.3.min.js\"></script>                <div id=\"867bd71f-00bb-48d9-b703-d52d6a425120\" class=\"plotly-graph-div\" style=\"height:525px; width:100%;\"></div>            <script type=\"text/javascript\">                                    window.PLOTLYENV=window.PLOTLYENV || {};                                    if (document.getElementById(\"867bd71f-00bb-48d9-b703-d52d6a425120\")) {                    Plotly.newPlot(                        \"867bd71f-00bb-48d9-b703-d52d6a425120\",                        [{\"hovertemplate\":\"x=%{x}<br>y=%{y}<extra></extra>\",\"legendgroup\":\"\",\"marker\":{\"color\":\"#636efa\",\"symbol\":\"circle\"},\"mode\":\"markers\",\"name\":\"\",\"showlegend\":false,\"x\":[82238,88514,29735,153709,88691,26141,28560,121435,43781,56607,32768,78330,51564,56849,73294,66711,164707,56771,65990,227458,90201,52987,52280,62589,99966,75341,56328,114593,100032,68974,141811,134966,61646,112297,61323,22982,157328,128231,73290,101082,28608,100662,30558,105493,21763,89919,133608,116324,160408,67401,61443,68582,110645,22164,49275,8393,8105,39630,3495,33341,3201,24679,11110,67833,38472,23598,12702,8526,66047,58283,19130,30871,23280,47365,18278,18966,31490,70424,17644,25478,30506,48279,60362,36483,65775,72273,44876,28126,2378,8267,47169,21745,10123,16787,21691,57525,10457,34638,21862,57434,55484,34543,24738,52018,29390,68344,68939,42143,42845,84084,34886,27886,4324,12210,19748,20321,30535,141644,61365,96637,164127,34459,53390,31999,27055,60626,68628,111379,112723,11784,79144,72754,60422,163408,12889,164757,34524,133175,190778,24093,102024,29624,80935,78289,46070,123493,66445,103671,29075,142099,81523,137850,14864,106521,74026,35215,42416,74429,49748,129639,60963,5419,86567,73784,143871,55257,85199,39124,141954,56865,65847,136700,22607,83580,121591,49117,64839,113003,90030,45589,92498,6073,108594,96207,82725,22659,21714,75644,33742,86246,28652,64993,146312,27649,73151,38597,95044,66664,74031,77720,14598,124969,56487,79467,111112,62323,40183,89318,43743,3587,26591,50674,142412,8889,35855,62206,41140,50484,72692,103268,81690,2540,21737,99401,81162,96449,194924,32490,71157,79019,50244,54695,104448,100335,15738,65476,60412,17101,62834,93112,30361,70903,18325,32808,65611,70993,98462,48335,31796,48954,18584,53279,39541,117905,68719,60385,68927,93590,30401,64370,35373,30435,28315,60223,91411,57827,38140,22264,15192,70430,115055,59887,43966,80357,65475,43955,94507,6863,27325,115194,34399,855881,46468,17291,96735,53211,48546,57275,12380,20550,34903,23315,29425,23233,11065,52333,19615,50060,48243,65033,24956,99248,60114,23358,48347,41270,3814,29699,45170,51339,27767,33829,51116,45263,32652,18711,23136,16509,32496,65299,13349,25338,247836,66962,77031,42054,53642,76685,30367,6891,53063,27487,35045,11962,2594,19113,37486,45552,22061,41383,10412,148559,42704,4370,25807,61066,18805,31415,33199,68547,23737,73484,13566,27992,15248,70252,135829,90479,39550,78713,56518,70649,95093,40302,53264,83575,117248,40055,148847,50834,34414,82666,52719,45247,77871,137406,63385,46846,39309,69541,73981,93657,86980,59395,101605,63051,115096,80710,46314,75485,3813,53422,37541,66584,58410,59403,43160,14061,12400,11404,21642,4595,25826,9562,52827,19717,12177,52138,46410,11362,19138,26025,29156,31702,35770,15293,21501,49010,60866,47168,66248,34760,81291,39380,72813,88812,34760,25443,79123,72097,151201,71219,84630,87834,87793,62752,48128,82631,27821,116410,34436,113856,80466,81990,71136,52751,95866,43725,73356,55760,84826,71611,48219,85191,59210,50918,84927,66721,33023,64703,39086,47774,24034,51654,48976,53140,54054,29122,31541,125936,14516,13259,34658,36705,50455,90651,32394,53486,35905,50007,30376,39278,5160,14665,38933,9495,9895,36873,13865,22629,21136,52417,8656,90197,50243,36245,59096,30539,64058,70973,27570,45362,50294,19792,38617,8604,58304,65190,11976,24013,17712,33423,25563,18946,24612,32089,95412,61587,51984,38019,103426,10490,52660,17944,70580,28902,39038,59253,30028,22610,18998,67346,28261,28140,128065,70413,15551,49323,62717,94362,54173,70048,35810,21023,20127,83421,7960,45540,20994,68156,42358,116848,50239,10213,29780,45111,21618,73444,39854,15003,5064,85649,19279,41493,37328,53535,81759,63678,15355,36929,98722,9108,41190,40798,63663,80916,102508,33639,61923,35153,58361,109448,13900,46056,32307,68730,91244,26073,6210,52042,39612,43196,31830,47307,45920,64268,32985,54603,42784,46535,32137,97341,71023,35561,68075,38285,40177,75010,21726,43357,63798,58558,25538,34587,14067,37296,33556,33933,72553,80394,95472,98618,57730,46299,75435,107099,42679,70192,32957,89383,160205,121017,59826,88835,75129,72388,38235,74785,46077,87800,98400,63868,87125,82065,84008,126440,81509,77954,48585,75547,105059,95770,61450,128836,121168,62602,94644,68930,118302,85672,13830,97036,74080,105445,127042,58147,67459,73926,86747,48390,13931,76914,16232,85118,19619,48337,61456,23424,16317,26704,48780,70952,92527,154513,66476,46856,62806,91280,49668,37481,63435,119742,45203,52490,89947,25850,98101,66450,83301,54409,27735,33360,86339,25131,25376,56815,23085,15683,110531,169453,61164,52659,117838,9961,139476,96436,155467,121434,48883,166925,75099,28083,45714,103401,94628,79169,10138,27412,35078,49523,36385,50615,148906,65099,40028,74017,136859,48559,80190,127472,144078,53106,7349,52532,63022,38614,45103,138073,58561,32790,34377,132921,48845,94066,135778,147629,104060,53059,48146,59608,84778,84226,57221,157462,95203,119930,100097,42214,119932,91966,120123,60070,2823,83767,78618,56549,75654,51472,114818,87581,44368,10719,76177,107693,114748,56973,20524,64614,33686,59218,37127,43617,15260,40807,44955,51056,71697,95298,20239,68764,33953,62852,58581,57282,31719,17435,89834,83278,90509,28410,64943,17206,26809,48085,95461,47310,43867,27807,8701,188777,59142,163326,54858,65929,52544,103761,96290,83273,33913,114877,125435,50372,45500,120996,77103,56433,33407,45605,31922,30714,46682,53868,75024,38905,53505,63934,44432,16061,80575,72428,97984,68342,104928,64475,54237,54431,86813,105576,48907,116148,77317,59348,63754,99338,104556,100995,168605,56902,91250,36162,95739,146452,24635,82092,112264,93555,41832,67560,53689,76553,125525,69662,82265,51641,71292,15755,39422,6587,56923,47789,46242,9307,54472,21601,54323,28971,15085,6049,50746,83050,73247,76901,85362,99003,75713,65403,114682,83929,86866,46870,39947,194040,98697,143859,84937,118873,107215,89227,176404,70901,30786,44987,72880,111451,127174,73179,69029,49649,48181,100733,99588,95921,142543,102393,103378,73933,32298,134918,49305,71388,71447,111397,55945,136543,60908,49419,20500,39601,96552,33437,77358,70749,91014,69727,35067,84237,54397,62769,81227,98137,24825,135793,83719,125259,30956,88622,23310,93867,167408,95945,20324,24060,123057,9878,60850,55037,51639,109531,54845,35303,22743,3969,17382,136962,14225,23897,19290,53799,35251,16920,31307,23893,11192,2610,39845,6111,7057,4397,68478,72565,89576,98364,58101,36942,39351,44618,105322,40517,15086,11146,41513,28323,26754,56350,110501,42346,28625,25276,68662,25439,42481,113241,50304,119791,51808,9671,104084,92309,3710,102742,57895,41402,34854,29879,98526,13966,72725,45476,44132,44374,13069,91528,58267,39460,57358,55899,6943,57357,23251,85362,71021,81168,34429,32234,28345,84335,127175,48254,35190,41967,26363,42016,59696,65053,38938,58963,37485,111848,10260,70239,123701,81798,63454,15615,40382,90025,27670,10055,42568,9862,26568,20092,45880,12735,16906,15272,33603,22676,33849,28786,21125,18822,5153,63655,108048,14828,41856,129017,74271,45693,84530,57243,107240,71426,68656,82682,119575,86164,222973,84373,64924,78770,34599,66476,173110,59387,41541,80333,72329,114409,170425,43802,197898,80949,92903,121820,160368,87966,29045,54147,72310,13134,156503,156589,76993,110868,130929,72949,85389,27147,20037,6267,17487,18363,20570,37265,39833,4566,60027,59715,32575,21239,18175,37767,61003,24367,12581,24353,48081,43573,67454,23892,83813,26212,51514,4691,27711,33070,58944,38790,14358,10129,81538,72229,28944,19568,119265,84048,49718,120745,57702,75428,106211,68242,61895,115055,54675,48498,51148,96225,48288,68374,68355,84640,82252,64030,69555,53901,69753,90217,30537,147140,80584,99985,78059,63586,98143,82748,33828,43520,73791,24345,40542,67985,102210,94272,50156,31094,49349,58531,17702,58310,84985,31153,21683,43469,29104,23210,43702,64537,18255,87755,108048,70498,58058,70054,71493,84765,32152,52789,55782,46727,14999,52290,23011,33783,103826,118056,39877,29164,76938,83574,16508,133257,65954,30713,64034,45701,12538,34812,98989,141119,28572,20273,37246,11025,28478,35381,22620,39663,100205,37344,75891,40878,29978,151230,152554,100187,80990,97654,111524,39286,90501,97467,13185,9028,114109,45465,34146,75842,52410,67572,50103,55012,45317,86798,61011,100986,54073,44714,56276,95950,23794,106064,49341,53151,27183,12453,41357,32883,29027,50754,21932,27277,28319,28457,24962,23627,17082,111610,23704,82791,69390,49964,104893,103867,78595,97436,89412,72105,75468,90474,53702,52373,66761,56620,63396,106300,55169,69157,81824,151356,36839,97757,44090,158746,30011,68714,74743,61576,40253,72706,23836,50968,24847,6184,48040,142341,32783,13492,34119,19549,109457,52528,28213,93529,22016,42466,107208,10750,50529,45711,63748,27276,69745,60295,101779,56244,66519,40836,15426,61082,24274,63898,32865,43702,27623,7271,56782,52194,38594,69604,25046,91724,51981,6993,85164,39203,104187,87825,59847,79746,171976,67987,42785,83869,76226,144712,123363,122165,154599,67776,67411,50877,57951,3308,83546,129837,30522,50772,40111,15775,40681,43183,5013,20229,58799,12238,43604,20310,28690,11400,68559,69521,28588,86415,105572,72980,22768,47790,69848,59419,54471,67856,133921,40267,85369,27929,42045,45174,72425,44254,52886,49286,49185,23719,22346,21487,44146,26407,39608,100534,21297,86288,150651,11234,63546,210904,26474,48246,44802,56697,93885,181036,28790,63995,33734,63082,89090,53501,32101,57031,88696,31299,70891,44563,83431,22998,45422,49942,130420,58188,54572,76036,60443,23030,54099,110417,43468,102644,124564,35658,77145,52991,42273,44624,92076,56940,44040,7961,30586,41038,10003,93031,46121,56580,96899,151123,24598,23576,40583,83427,59533,82508,17424,39254,87155,30500,119439,71487,46594,39090,114610,33932,76473,10009,27123,42905,75141,45940,104921,83797,31584,87828,26939,33582,57657,44670,83453,28046,116240,72917,18304,41831,56895,56830,111100,58585,20861,188651,153241,145153,21100,74934,63467,78129,38013,44142,107384,56736,39306,131343,61801,80781,62270,46859,109919,81608,58219,47294,61842,25341,31613,83304,71622,41952,49947,35989,152025,19465,84474,76434,61191,73411,98656,36610,52022,48448,25976,105021,46237,124360,133595,64460,33243,176188,26151,9294,61859,67407,103665,93733,94775,171979,59607,132735,64727,73503,118398,51822,94268,163575,40141,147413,4110,17953,89196,27748,40570,41059,71800,109104,108709,161157,66600,100669,107589,82206,79445,137913,37296,43627,116652,143079,87142,93960,75255,97454,98452,65667,56335,27624,70915,1774,143740,67180,23999,38480,137352,87557,105865,85321,168801,79126,115196,17758,97179,41100,38023,150248,63473,55140,79620,67213,72738,96301,138612,83299,126624,46415,93756,66958,166542,128749,42069,73625,91905,104895,92305,34558,35915,42170,10172,45391,16316,48053,16182,28407,91814,51461,23213,41443,10968,27492,94020,151247,132779,136004,91612,63836,73413,52624,155611,14039,69278,61489,78579,88453,107803,49821,81196,62392,20333,27073,26026,19726,125008,70147,89309,87405,74085,50967,80701,99345,55933,85851,64274,40290,33732,22568,19900,7343,23757,32464,8500,34303,45278,68821,12255,24005,2937,39822,11194,8451,32578,23963,49189,72363,121782,59325,66126,86855,68093,113188,54624,75678,17483,63035,50513,35473,166437,125598,45651,98229,21127,108963,58298,70349,22608,78027,46437,109887,123934,55490,98889,123852,39099,104867,27741,28559,44983,54919,92011,13652,78612,34616,8969,32733,8709,33823,6471,25034,69312,24990,26793,21446,14882,37363,98304,87995,93484,118130,1424,8526,74247,97649,93505,73112,60632,136284,88506,82633,85657,22247,17990,50387,5726,38747,16194,42167,130303,11328,119652,23482,37208,11903,72230,23296,39712,58291,80800,65402,63649,67267,59109,57079,51266,38639,14747,35355,6703,22900,14401,33476,27827,128627,70775,97600,126199,79207,62516,58001,39327,33312,53425,23390,150758,46837,9296,30532,44774,36271,72977,62253,66940,22898,65919,1827,61886,90284,76158,80103,65435,68269,86673,77484,8816,48507,55210,45574,47051,34078,34247,59916,43507,59957,29546,99296,197997,63748,136754,47332,10430,84427,42651,18439,13647,19363,56894,34345,83659,86489,117168,100385,62664,50556,11636,58141,35499,4730,30380,37538,19084,31152,34363,22437,50552,36119,32830,6203,2099,104023,87947,57304,16077,87827,176674,141262,166250,197019,31973,35525,88336,78609,65828,34969,38459,172356,99050,18966,21614,61850,23707,65231,22030,144628,36107,54638,56807,90962,63803,119275,141346,21479,93321,42468,34489,148319,108116,81940,12833,60827,50163,10864,80175,40897,31925,49227,9550,54496,71996,23297,62646,44476,64429,58586,32529,114832,68638,36991,101927,227391,111562,75358,134217,122507,7409,102521,29438,155505,59044,32009,124112,35925,97694,56556,79096,27093,49885,32732,40622,28156,59690,20433,7951,2012,1889,38288,181811,99893,141528,57525,98755,90510,45848,124398,75946,55430,57063,67484,32055,23738,102067,47489,55764,117093,81363,75120,48242,24230,81199,81474,54914,64106,83167,60229,68473,15609,20346,54717,18463,16286,81971,49363,131320,63798,177197,52212,31536,117453,22454,83440,48433,71644,59345,44411,47365,206123,27809,64289,85190,34203,42013,8972,37486,16683,18331,22325,24537,31232,104541,50594,23301,13578,43260,7712,58511,77225,59054,12681,27743,82778,21706,62539,88157,32036,34265,69047,10104,83592,131267,4681,75789,17468,81344,67447,7407,16856,13287,36731,9704,43853,54368,133425,58233,95050,32376,79616,81717,44510,91533,30329,100803,50518,67198,139344,27247,82081,43117,19010,94092,39663,187692,12269,59352,140044,89930,7743,20935,196982,116831,51372,21187,72550,15415,84851,83967,19222,53029,70258,56600,37076,78461,64051,44187,105691,37870,183456,119373,14802,76673,90097,65165,44073,26850,129011,197377,127978,8719,115886,30348,7266,80345,42270,60701,73227,125241,69308,20058,9768,1475,74458,913,104331,55186,69898,22465,20010,19577,30000,79993,16277,35737,55911,10468,80820,26053,47422,89708,123714,80231,76578,25971,19140,77490,8265,133226,16189,71879,16491,49342,154964,172802,95991,81019,76945,43945,54008,33185,64712,120240,110801,41529,45457,58647,26490,110780,147730,46292,67379,65120,131152,4400,65667,28016],\"xaxis\":\"x\",\"y\":[312165,242499,381699,181999,239499,324899,479914,301599,322321,346799,329299,312289,358999,180899,399499,316000,248199,345799,361899,286999,218299,265599,416499,395899,272099,349575,380399,244899,303399,255899,218399,262499,308199,223499,228399,399495,329599,197576,392599,245599,395511,201199,313799,311899,274499,344599,326356,326899,263599,326099,318099,311199,326399,295999,180996,332699,309399,225899,324399,223399,332799,274599,281399,260240,299799,343899,254199,345199,244180,269099,309199,272974,269199,257899,336899,283699,278599,259699,339904,224899,221399,279499,297999,242899,213426,220999,242399,272999,331599,261499,277099,295699,290999,335661,280999,261499,314799,309199,261199,231699,250799,274099,289599,268887,258937,225199,222899,349499,266799,221299,382227,285899,335499,277499,301499,339799,435199,260699,341399,292399,315999,406799,428599,562599,661399,461122,376199,377899,301899,556363,433099,388499,371399,281699,710064,391099,311399,281999,228599,546799,313699,450358,318199,353099,437699,229399,306720,366899,528799,311399,294046,286199,434299,427499,490499,524199,412499,365244,535565,314099,572865,606799,396599,542699,459199,208243,363799,356899,338436,432499,391599,318299,477399,383399,200899,383299,420099,294399,319199,355799,399099,427799,297299,262099,372999,392599,483499,474399,333240,356999,489399,336899,385199,339499,344499,504255,288699,418399,425599,391874,745853,370099,263899,373499,353899,349299,368799,307299,538299,678699,667699,495199,313799,431499,452799,421699,404699,306352,293619,434599,338699,617699,460899,426799,241699,446999,256599,506399,434899,364799,597799,403099,365699,324099,289099,265899,345999,343899,149181,235499,346677,248899,318079,267599,199599,320699,250499,310199,408399,166999,356099,350799,333999,233499,289499,244506,289399,228099,349899,197438,209699,369599,414399,342099,333199,318899,243999,266999,373399,228199,317299,338599,290699,198399,219599,408299,269299,346299,330398,171599,228899,290899,388699,376699,235699,428999,231299,390399,402899,420399,250200,376999,338699,353199,329199,218999,432099,327899,380599,336899,276299,216441,305198,308899,376699,260899,453099,229599,409699,281099,353699,342299,180499,385999,708199,585299,644000,615399,410788,410740,451699,480299,436399,322699,421699,405899,327699,469799,454499,584699,395599,606599,595299,672599,745699,642899,588299,730599,578399,459199,479500,232199,388899,451499,269399,307599,356199,339099,411999,292199,336099,283799,556099,426999,313774,335199,354699,282096,484799,538199,495899,459599,384799,296500,357799,416099,365999,312799,312699,336999,364499,330220,297199,364499,481299,315899,403999,379699,531299,333624,247999,456699,377750,410599,312899,410799,430499,384799,417899,425999,567899,366099,535199,478399,440099,340499,456099,671499,583799,691699,729299,612699,546599,655442,754799,741599,602799,146870,290099,375799,323699,310199,297799,316199,302663,361399,307199,282099,338799,285399,235599,309934,358399,286399,529699,305599,351399,423899,424399,615799,413999,301074,255099,341799,244349,252299,264999,274899,367099,424399,384899,415670,251899,339299,447499,391199,412899,301799,328199,221899,211699,235699,325999,197799,343699,303999,293699,286599,318736,295885,317599,314399,344599,339844,326999,218601,307999,376799,295999,265599,948899,952999,656399,635099,528099,513299,762399,698899,100599,91699,124999,250399,321799,335999,379999,304827,354229,269639,316199,211099,308399,247499,275399,174461,249599,309999,142999,264397,277499,270899,338699,156499,305199,322599,255299,322699,214599,320299,343999,260899,324099,200699,229499,267599,313199,173699,246499,227299,335899,189899,172940,289299,219299,286799,219599,316299,159299,256999,382399,330999,292199,263625,395399,182499,178299,221699,312699,169831,240199,154899,346099,306799,240299,180199,334599,128899,346399,241599,278199,234199,177899,223899,343399,272199,229890,237999,338199,188899,320099,317699,349199,209099,369799,335399,336299,208499,239642,212599,336265,343899,189969,345399,175599,258899,147299,166099,174299,304299,518099,544699,552899,554899,522366,637199,728166,554899,506699,585599,586699,520399,211799,222252,214499,172599,151899,116199,182299,201799,177499,254853,248099,78599,183399,134099,151015,130999,220199,169999,120399,177409,121199,332627,396899,435299,544999,352399,442799,307830,477214,335599,333099,353768,326199,352499,316838,418499,449999,441299,516399,335700,297299,357799,604299,447072,520399,406899,461599,287999,394685,358199,392199,322299,529199,311199,299699,392199,321199,314599,379020,456399,333399,414599,470199,289999,300899,433983,364599,317999,412499,446599,453199,578899,500899,334499,330899,449699,471999,469199,332299,311500,669899,524399,556999,522080,648299,503299,519099,772699,588999,666999,447799,566399,390399,373299,429499,419699,409199,442399,503599,571713,544999,451799,564399,442799,408599,440099,481799,474899,354299,425299,424199,499199,318699,417499,840899,733899,744799,667699,588399,514299,473199,625199,210799,187199,170399,323699,186699,207199,228500,258799,195599,573999,315099,241699,504737,213413,748585,464510,592875,323699,565599,319399,227399,657599,478699,369099,423299,639999,262499,300999,327799,409599,898699,237399,279592,720399,483999,369700,705899,683899,507199,254199,609299,525799,336699,325099,476099,241099,424399,441699,889799,707999,655899,417599,489835,700699,462542,795699,761699,443799,552999,722699,991699,363099,406788,358999,346099,447399,270999,486599,559299,708799,227299,239599,305199,199500,434399,240199,336326,305899,345799,320570,345999,354899,297399,216699,244399,200299,394099,318599,352699,219168,307559,311999,311099,840799,467199,606099,606399,726106,730299,827599,728599,668999,524199,1045899,977099,740399,977199,282699,306999,291099,275499,255099,671199,614299,429999,241899,407999,283399,320699,317799,466699,290799,327099,374599,490199,417099,356499,328013,416299,502599,520999,376214,331599,372699,240099,271499,224999,212299,216799,232999,279799,344399,271299,327999,143099,313599,203068,160399,308399,239099,270299,218099,204999,234399,195899,200299,225120,303399,362699,348699,210699,258799,350999,314799,330399,335999,220099,293999,288799,253299,422699,430799,270500,561399,418699,436499,374435,378999,454799,463299,444099,510799,379099,401499,438999,455699,403594,313900,410399,242299,257599,259899,398999,420300,297099,353999,241199,420399,297867,210834,305199,292999,261699,264340,258699,293776,183799,314999,252099,451699,212899,263899,337199,244699,433699,219699,316955,276399,402199,276399,340699,312399,249299,339899,267099,232799,486416,257879,286499,195800,288099,193780,177499,263299,254899,250699,286899,258199,286533,191299,256199,259199,723699,571899,385699,479999,380599,530899,605499,468380,408199,452699,549199,459199,699599,565999,481499,347799,475299,504699,362199,535599,390499,409099,333347,444144,327344,323699,340706,527799,407092,307699,401599,370199,448299,406099,400199,446399,424099,425699,355899,368481,388899,426899,441599,379299,160099,149199,180599,209499,181299,202499,201699,240099,126017,274199,693799,679015,263199,211499,300799,218399,194999,217999,244899,249899,276399,371470,420999,391499,418599,979661,420399,1004199,465599,345199,367599,236300,78799,156299,174699,173399,111799,171299,133599,206599,188147,160099,372799,111699,156325,124299,150299,189999,228499,204399,131999,186099,251699,91699,175999,170599,229799,170036,118499,167999,229399,222199,252599,134799,153399,95499,247957,231799,160199,165199,268799,157899,83399,155599,159299,681999,551799,453299,539599,630899,503399,604499,548199,524199,499799,603699,549299,565599,550399,557499,586299,548999,619379,624599,621199,509199,497699,527699,521499,415299,420499,392899,421699,501899,430399,453300,181699,275099,168099,218799,171699,287165,332428,179499,245199,212699,456299,327699,295362,236599,224199,235499,262499,308799,305999,265799,254299,331599,258899,343073,325099,290199,204799,332899,294840,264899,324499,269099,303899,348540,492599,463899,541500,547099,607099,574599,424099,779699,756299,935399,598699,584199,789304,743899,876399,670599,592899,761999,887599,883799,723699,677870,695799,758699,668499,828099,706099,976799,809099,820199,345499,397299,552899,631799,445471,291499,589410,464679,354799,322999,415499,498099,522899,539899,392099,403399,397099,476499,537599,531199,428999,399299,439599,381199,398299,359999,381199,353499,349499,582699,428199,443499,451799,787499,751199,845699,534899,116766,145999,210099,298899,209499,115999,234799,182811,181499,201599,194278,182599,241199,130999,158099,300099,174899,178699,184383,245999,306499,338799,277599,301299,306599,286599,272999,264999,235458,304899,253199,285199,320912,289699,299999,279899,411398,401463,320099,373799,300499,223399,257199,232999,331599,279399,323499,296399,238499,279299,347699,275599,311299,910099,503799,325199,258999,951099,932099,757899,924799,909899,822899,790899,839199,738399,921299,336099,441599,421608,393699,439299,576757,534199,531499,534799,696599,451399,393660,478399,456099,196999,294599,420299,252399,456999,182037,339499,261409,333499,375955,264899,292699,397033,305225,208199,237193,345799,303399,372099,390699,445599,450099,447283,389899,343299,278999,413999,458699,356852,410399,378499,364299,438399,388799,305899,215599,224499,133199,199599,491399,470599,281499,193499,384599,408499,330099,524499,531399,492799,342299,168099,368595,222799,486699,419399,329199,422751,331999,552899,212699,563199,199899,178399,199499,213299,1117599,1192799,806599,921499,1563499,894500,937699,867399,653399,330699,283090,322499,731019,861999,518499,690099,489199,389099,1007106,955799,272299,256399,604106,317999,443699,380699,365299,355530,302899,581899,193099,600399,571599,597099,524699,678499,733199,472499,309199,404786,748899,736599,413099,492724,931499,455899,495266,447899,402399,768899,746299,370399,1017499,897799,824499,984999,914699,340899,305199,303599,318999,344698,202699,193582,338999,204799,186399,315999,248499,251899,219399,343740,214599,242899,228099,187499,300699,181299,303399,255899,936799,356499,377799,413326,336299,382199,571991,408899,283599,364499,376499,291899,332699,424499,752999,495299,1380699,681399,316653,399799,293399,335193,322722,407082,317099,361853,378099,349999,322599,295599,312899,396599,462199,210899,343199,296899,248599,330799,226599,346999,242599,228199,193399,281599,279399,254699,387599,211699,253136,248899,285199,251399,264370,180699,204999,185887,314699,238499,339599,213799,231299,202999,283199,294599,142117,122999,215499,266299,231199,194540,200628,177099,126781,261499,148899,224999,284999,473490,950499,822193,541799,874899,706899,283400,500599,335899,219399,343399,456099,301599,247399,233099,211199,502199,532599,1608699,1697199,377499,544299,556199,615399,427399,738399,548899,681799,189299,316399,175030,371299,954099,1082099,306799,279599,330699,221199,264950,274799,248399,285699,223099,269299,276499,931399,894499,1043299,758699,860499,733290,125199,115999,176091,510299,253199,291899,309599,341799,333499,279899,322799,229599,252499,481199,312099,305999,278199,218899,452199,351099,341199,384799,372299,376899,434599,308599,292921,373199,783199,672342,931166,433399,351799,470799,366699,109199,351099,210151,149899,433592,134599,420499,104289,75299,391199,487799,1319868,801499,925999,768899,484699,322068,305864,458899,507799,551899,320799,544699,402399,469199,481199,435499,358999,172399,168699,354599,336399,216038,237899,189799,136799,330799,177499,176499,120299,292699,246999,473899,550799,561299,494699,632999,499499,589399,588099,511699,521699,548999,427500,144097,266099,423299,317199,361699,394899,926599,818599,737299,819210,464899,423399,362899,764599,331799,553264,306099,965599,288299,486299,412999,131199,427799,353299,228099,113799,125470,1045599,1057482,814299,873802,1189399,1012699,1144199,1214099,1091499,256099,206083,189769,228799,327099,413899,383399,335499,480699,429299,344616,398399,410399,409599,377899,309299,383599,390699,461199,375699,551681,440099,369299,422399,227099,271599,294099,299999,270999,603340,630780,687299,694699,589499,648780,141599,266186,273999,665315,578999,551399,523699,256399,436299,374500,296199,276799,437099,321799,330690,343899,401699,227999,301599,347899,250028,378899,425699,264899,296999,378799,339100,321799,343899,365099,406999,402499,308899,420199,330999,383599,389703,1167456,945699,843199,592599,496799,367499,550699,370899,408099,286499,819699,1011799,723499,839899,792499,336599,282599,144099,657699,1188855,1035199,891199,1246699,1145699,291099,98799,409299,380240,254599,246500,315299,225999,289299,274500,387099,360599,404099,564599,451244,315699,414599,445599,474299,427899,392499,526099,378099,402647,512399,505999,516399,472599,354899,301399,282199,243299,834599,684899,396199,342999,204801,186699,248699,169955,198930,113799,505399,384199,443999,327499,458299,354599,898099,560999,701799,549399,494115,469299,632999,700399,154799,668099,694799,595399,511099,127599,534399,891599,1553699,1042699,1505899,383199,512610,370199,409299,399899,206899,158199,185699,315364,425799,294461,306399,1654999,617799,554799,586199,579299,559592,569899,195299,317799,361499,324699,322699,297699,278599,388180,415799,482299,483499,1224699,201208,258699,212199,131299,271999,157199,187899,242899,874599,1070040,819099,897299,657499,655099,634699,561899,443699,590199,351399,393899,333399,318899,299500,565799,579399,435399,572899,626499,515199,673199,544599,619199,275399,206641,291268,301505,244899,405499,540762,560972,540399,300899,233299,195399,526099,544199,484199,533799,649499,708899,253499,517199,539099,409599,378899,583999,801299,282199,323599,191599,312099,316699,432199,423799,616999,577499,613299,867599,639499,1054799,1409199,518471,227899,197299,327499,277399,339199,160099,168299,257499,231699,187407,413600,397299,588899,474899,386799,404299,802599,550399,708599,417299,487199,414399,460199,445899,468299,603799,494999,401599,472499,520199,389299,439399,575799,830014,638199,602799,777899,760699,590999,110599,971199,1155999,1016899,909299,601799,789899,522399,277499,254899,200199,208120,168899,161199,352699,242899,420399,175899,231499,343699,465999,430599,560885,451199,574925,633299,639999,620999,1545999,627399,453999,575599,517199,605899,562700,1152941,412999,278699,228918,253099,269668,376799,633180,147099,306399,294799,271799,414299,266599,579399,723499,420199,603899,643599,526899,653299,557699,459599,598875,292199,261599,301999,1603499,570399,407080,177099,229899,266399,772799,710899,462299,1044499,619899,172999,181500,335299,153999,399899,294699,511399,342599,261299,308799,263799,762799,653099,691899,819497,678908,442899,470799,453932,417420,1032599,674599,594299,844499,723499,534199,595199,493965,486580,328799,710799,577399,447399,315799,264499,652519,1708199,696899,118999,482199,308899,1074299,399499,819999,994599,859499,913599,475199,481899,530299,282899,308899,456099,386799,608699,246599,267199,1399530,1092599,578340,845899,1031199,317299,197099,793199,387899,347599,486579,266299,347699,307499,962499,785099,284499,331500,513299,565099,181899,254799,698399,441399,475399,741499,541599,586799,663799,281702,389999,1952397,284199,333399,1028708,1023399,941199,1429399,1457099,1485599,321814,695799,616899,1817180,496999,837499,689099,183099,223499,722328,944299,685899,719099,646399,348699,323599,1156099,511599,519799,472199,124399,755931,119599,1036742,564399,450699,705999,306190,472099,372101,525699,782799,523499,560399,248199,1081500,685830,552399,350599,194499,150099,103199,1378399,1420537,323399,348599,412599,133599,1215699,444499,683999,674399,238899,239399,390500,257099,519799,369099,446799,538399,1395599,411499,151406,684399,753299,857299,451399,396099,260199,189199,1393799,138199,509899,1001799,643499,212299],\"yaxis\":\"y\",\"type\":\"scattergl\"}],                        {\"template\":{\"data\":{\"bar\":[{\"error_x\":{\"color\":\"#2a3f5f\"},\"error_y\":{\"color\":\"#2a3f5f\"},\"marker\":{\"line\":{\"color\":\"#E5ECF6\",\"width\":0.5},\"pattern\":{\"fillmode\":\"overlay\",\"size\":10,\"solidity\":0.2}},\"type\":\"bar\"}],\"barpolar\":[{\"marker\":{\"line\":{\"color\":\"#E5ECF6\",\"width\":0.5},\"pattern\":{\"fillmode\":\"overlay\",\"size\":10,\"solidity\":0.2}},\"type\":\"barpolar\"}],\"carpet\":[{\"aaxis\":{\"endlinecolor\":\"#2a3f5f\",\"gridcolor\":\"white\",\"linecolor\":\"white\",\"minorgridcolor\":\"white\",\"startlinecolor\":\"#2a3f5f\"},\"baxis\":{\"endlinecolor\":\"#2a3f5f\",\"gridcolor\":\"white\",\"linecolor\":\"white\",\"minorgridcolor\":\"white\",\"startlinecolor\":\"#2a3f5f\"},\"type\":\"carpet\"}],\"choropleth\":[{\"colorbar\":{\"outlinewidth\":0,\"ticks\":\"\"},\"type\":\"choropleth\"}],\"contour\":[{\"colorbar\":{\"outlinewidth\":0,\"ticks\":\"\"},\"colorscale\":[[0.0,\"#0d0887\"],[0.1111111111111111,\"#46039f\"],[0.2222222222222222,\"#7201a8\"],[0.3333333333333333,\"#9c179e\"],[0.4444444444444444,\"#bd3786\"],[0.5555555555555556,\"#d8576b\"],[0.6666666666666666,\"#ed7953\"],[0.7777777777777778,\"#fb9f3a\"],[0.8888888888888888,\"#fdca26\"],[1.0,\"#f0f921\"]],\"type\":\"contour\"}],\"contourcarpet\":[{\"colorbar\":{\"outlinewidth\":0,\"ticks\":\"\"},\"type\":\"contourcarpet\"}],\"heatmap\":[{\"colorbar\":{\"outlinewidth\":0,\"ticks\":\"\"},\"colorscale\":[[0.0,\"#0d0887\"],[0.1111111111111111,\"#46039f\"],[0.2222222222222222,\"#7201a8\"],[0.3333333333333333,\"#9c179e\"],[0.4444444444444444,\"#bd3786\"],[0.5555555555555556,\"#d8576b\"],[0.6666666666666666,\"#ed7953\"],[0.7777777777777778,\"#fb9f3a\"],[0.8888888888888888,\"#fdca26\"],[1.0,\"#f0f921\"]],\"type\":\"heatmap\"}],\"heatmapgl\":[{\"colorbar\":{\"outlinewidth\":0,\"ticks\":\"\"},\"colorscale\":[[0.0,\"#0d0887\"],[0.1111111111111111,\"#46039f\"],[0.2222222222222222,\"#7201a8\"],[0.3333333333333333,\"#9c179e\"],[0.4444444444444444,\"#bd3786\"],[0.5555555555555556,\"#d8576b\"],[0.6666666666666666,\"#ed7953\"],[0.7777777777777778,\"#fb9f3a\"],[0.8888888888888888,\"#fdca26\"],[1.0,\"#f0f921\"]],\"type\":\"heatmapgl\"}],\"histogram\":[{\"marker\":{\"pattern\":{\"fillmode\":\"overlay\",\"size\":10,\"solidity\":0.2}},\"type\":\"histogram\"}],\"histogram2d\":[{\"colorbar\":{\"outlinewidth\":0,\"ticks\":\"\"},\"colorscale\":[[0.0,\"#0d0887\"],[0.1111111111111111,\"#46039f\"],[0.2222222222222222,\"#7201a8\"],[0.3333333333333333,\"#9c179e\"],[0.4444444444444444,\"#bd3786\"],[0.5555555555555556,\"#d8576b\"],[0.6666666666666666,\"#ed7953\"],[0.7777777777777778,\"#fb9f3a\"],[0.8888888888888888,\"#fdca26\"],[1.0,\"#f0f921\"]],\"type\":\"histogram2d\"}],\"histogram2dcontour\":[{\"colorbar\":{\"outlinewidth\":0,\"ticks\":\"\"},\"colorscale\":[[0.0,\"#0d0887\"],[0.1111111111111111,\"#46039f\"],[0.2222222222222222,\"#7201a8\"],[0.3333333333333333,\"#9c179e\"],[0.4444444444444444,\"#bd3786\"],[0.5555555555555556,\"#d8576b\"],[0.6666666666666666,\"#ed7953\"],[0.7777777777777778,\"#fb9f3a\"],[0.8888888888888888,\"#fdca26\"],[1.0,\"#f0f921\"]],\"type\":\"histogram2dcontour\"}],\"mesh3d\":[{\"colorbar\":{\"outlinewidth\":0,\"ticks\":\"\"},\"type\":\"mesh3d\"}],\"parcoords\":[{\"line\":{\"colorbar\":{\"outlinewidth\":0,\"ticks\":\"\"}},\"type\":\"parcoords\"}],\"pie\":[{\"automargin\":true,\"type\":\"pie\"}],\"scatter\":[{\"marker\":{\"colorbar\":{\"outlinewidth\":0,\"ticks\":\"\"}},\"type\":\"scatter\"}],\"scatter3d\":[{\"line\":{\"colorbar\":{\"outlinewidth\":0,\"ticks\":\"\"}},\"marker\":{\"colorbar\":{\"outlinewidth\":0,\"ticks\":\"\"}},\"type\":\"scatter3d\"}],\"scattercarpet\":[{\"marker\":{\"colorbar\":{\"outlinewidth\":0,\"ticks\":\"\"}},\"type\":\"scattercarpet\"}],\"scattergeo\":[{\"marker\":{\"colorbar\":{\"outlinewidth\":0,\"ticks\":\"\"}},\"type\":\"scattergeo\"}],\"scattergl\":[{\"marker\":{\"colorbar\":{\"outlinewidth\":0,\"ticks\":\"\"}},\"type\":\"scattergl\"}],\"scattermapbox\":[{\"marker\":{\"colorbar\":{\"outlinewidth\":0,\"ticks\":\"\"}},\"type\":\"scattermapbox\"}],\"scatterpolar\":[{\"marker\":{\"colorbar\":{\"outlinewidth\":0,\"ticks\":\"\"}},\"type\":\"scatterpolar\"}],\"scatterpolargl\":[{\"marker\":{\"colorbar\":{\"outlinewidth\":0,\"ticks\":\"\"}},\"type\":\"scatterpolargl\"}],\"scatterternary\":[{\"marker\":{\"colorbar\":{\"outlinewidth\":0,\"ticks\":\"\"}},\"type\":\"scatterternary\"}],\"surface\":[{\"colorbar\":{\"outlinewidth\":0,\"ticks\":\"\"},\"colorscale\":[[0.0,\"#0d0887\"],[0.1111111111111111,\"#46039f\"],[0.2222222222222222,\"#7201a8\"],[0.3333333333333333,\"#9c179e\"],[0.4444444444444444,\"#bd3786\"],[0.5555555555555556,\"#d8576b\"],[0.6666666666666666,\"#ed7953\"],[0.7777777777777778,\"#fb9f3a\"],[0.8888888888888888,\"#fdca26\"],[1.0,\"#f0f921\"]],\"type\":\"surface\"}],\"table\":[{\"cells\":{\"fill\":{\"color\":\"#EBF0F8\"},\"line\":{\"color\":\"white\"}},\"header\":{\"fill\":{\"color\":\"#C8D4E3\"},\"line\":{\"color\":\"white\"}},\"type\":\"table\"}]},\"layout\":{\"annotationdefaults\":{\"arrowcolor\":\"#2a3f5f\",\"arrowhead\":0,\"arrowwidth\":1},\"autotypenumbers\":\"strict\",\"coloraxis\":{\"colorbar\":{\"outlinewidth\":0,\"ticks\":\"\"}},\"colorscale\":{\"diverging\":[[0,\"#8e0152\"],[0.1,\"#c51b7d\"],[0.2,\"#de77ae\"],[0.3,\"#f1b6da\"],[0.4,\"#fde0ef\"],[0.5,\"#f7f7f7\"],[0.6,\"#e6f5d0\"],[0.7,\"#b8e186\"],[0.8,\"#7fbc41\"],[0.9,\"#4d9221\"],[1,\"#276419\"]],\"sequential\":[[0.0,\"#0d0887\"],[0.1111111111111111,\"#46039f\"],[0.2222222222222222,\"#7201a8\"],[0.3333333333333333,\"#9c179e\"],[0.4444444444444444,\"#bd3786\"],[0.5555555555555556,\"#d8576b\"],[0.6666666666666666,\"#ed7953\"],[0.7777777777777778,\"#fb9f3a\"],[0.8888888888888888,\"#fdca26\"],[1.0,\"#f0f921\"]],\"sequentialminus\":[[0.0,\"#0d0887\"],[0.1111111111111111,\"#46039f\"],[0.2222222222222222,\"#7201a8\"],[0.3333333333333333,\"#9c179e\"],[0.4444444444444444,\"#bd3786\"],[0.5555555555555556,\"#d8576b\"],[0.6666666666666666,\"#ed7953\"],[0.7777777777777778,\"#fb9f3a\"],[0.8888888888888888,\"#fdca26\"],[1.0,\"#f0f921\"]]},\"colorway\":[\"#636efa\",\"#EF553B\",\"#00cc96\",\"#ab63fa\",\"#FFA15A\",\"#19d3f3\",\"#FF6692\",\"#B6E880\",\"#FF97FF\",\"#FECB52\"],\"font\":{\"color\":\"#2a3f5f\"},\"geo\":{\"bgcolor\":\"white\",\"lakecolor\":\"white\",\"landcolor\":\"#E5ECF6\",\"showlakes\":true,\"showland\":true,\"subunitcolor\":\"white\"},\"hoverlabel\":{\"align\":\"left\"},\"hovermode\":\"closest\",\"mapbox\":{\"style\":\"light\"},\"paper_bgcolor\":\"white\",\"plot_bgcolor\":\"#E5ECF6\",\"polar\":{\"angularaxis\":{\"gridcolor\":\"white\",\"linecolor\":\"white\",\"ticks\":\"\"},\"bgcolor\":\"#E5ECF6\",\"radialaxis\":{\"gridcolor\":\"white\",\"linecolor\":\"white\",\"ticks\":\"\"}},\"scene\":{\"xaxis\":{\"backgroundcolor\":\"#E5ECF6\",\"gridcolor\":\"white\",\"gridwidth\":2,\"linecolor\":\"white\",\"showbackground\":true,\"ticks\":\"\",\"zerolinecolor\":\"white\"},\"yaxis\":{\"backgroundcolor\":\"#E5ECF6\",\"gridcolor\":\"white\",\"gridwidth\":2,\"linecolor\":\"white\",\"showbackground\":true,\"ticks\":\"\",\"zerolinecolor\":\"white\"},\"zaxis\":{\"backgroundcolor\":\"#E5ECF6\",\"gridcolor\":\"white\",\"gridwidth\":2,\"linecolor\":\"white\",\"showbackground\":true,\"ticks\":\"\",\"zerolinecolor\":\"white\"}},\"shapedefaults\":{\"line\":{\"color\":\"#2a3f5f\"}},\"ternary\":{\"aaxis\":{\"gridcolor\":\"white\",\"linecolor\":\"white\",\"ticks\":\"\"},\"baxis\":{\"gridcolor\":\"white\",\"linecolor\":\"white\",\"ticks\":\"\"},\"bgcolor\":\"#E5ECF6\",\"caxis\":{\"gridcolor\":\"white\",\"linecolor\":\"white\",\"ticks\":\"\"}},\"title\":{\"x\":0.05},\"xaxis\":{\"automargin\":true,\"gridcolor\":\"white\",\"linecolor\":\"white\",\"ticks\":\"\",\"title\":{\"standoff\":15},\"zerolinecolor\":\"white\",\"zerolinewidth\":2},\"yaxis\":{\"automargin\":true,\"gridcolor\":\"white\",\"linecolor\":\"white\",\"ticks\":\"\",\"title\":{\"standoff\":15},\"zerolinecolor\":\"white\",\"zerolinewidth\":2}}},\"xaxis\":{\"anchor\":\"y\",\"domain\":[0.0,1.0],\"title\":{\"text\":\"x\"}},\"yaxis\":{\"anchor\":\"x\",\"domain\":[0.0,1.0],\"title\":{\"text\":\"y\"}},\"legend\":{\"tracegroupgap\":0},\"margin\":{\"t\":60}},                        {\"responsive\": true}                    ).then(function(){\n",
              "                            \n",
              "var gd = document.getElementById('867bd71f-00bb-48d9-b703-d52d6a425120');\n",
              "var x = new MutationObserver(function (mutations, observer) {{\n",
              "        var display = window.getComputedStyle(gd).display;\n",
              "        if (!display || display === 'none') {{\n",
              "            console.log([gd, 'removed!']);\n",
              "            Plotly.purge(gd);\n",
              "            observer.disconnect();\n",
              "        }}\n",
              "}});\n",
              "\n",
              "// Listen for the removal of the full notebook cells\n",
              "var notebookContainer = gd.closest('#notebook-container');\n",
              "if (notebookContainer) {{\n",
              "    x.observe(notebookContainer, {childList: true});\n",
              "}}\n",
              "\n",
              "// Listen for the clearing of the current output cell\n",
              "var outputEl = gd.closest('.output');\n",
              "if (outputEl) {{\n",
              "    x.observe(outputEl, {childList: true});\n",
              "}}\n",
              "\n",
              "                        })                };                            </script>        </div>\n",
              "</body>\n",
              "</html>"
            ]
          },
          "metadata": {}
        }
      ]
    },
    {
      "cell_type": "code",
      "source": [
        "fig = px.scatter(x=df['Age'], y=df['Selling Price'])\n",
        "fig.show()"
      ],
      "metadata": {
        "colab": {
          "base_uri": "https://localhost:8080/",
          "height": 542
        },
        "id": "uUAepo4z7Seh",
        "outputId": "1d2a5edc-21fc-4f89-98c8-c0b2734c5c55"
      },
      "execution_count": 16,
      "outputs": [
        {
          "output_type": "display_data",
          "data": {
            "text/html": [
              "<html>\n",
              "<head><meta charset=\"utf-8\" /></head>\n",
              "<body>\n",
              "    <div>            <script src=\"https://cdnjs.cloudflare.com/ajax/libs/mathjax/2.7.5/MathJax.js?config=TeX-AMS-MML_SVG\"></script><script type=\"text/javascript\">if (window.MathJax) {MathJax.Hub.Config({SVG: {font: \"STIX-Web\"}});}</script>                <script type=\"text/javascript\">window.PlotlyConfig = {MathJaxConfig: 'local'};</script>\n",
              "        <script src=\"https://cdn.plot.ly/plotly-2.8.3.min.js\"></script>                <div id=\"e76c4d3d-e8b0-485c-a0b2-f375c3e9c7e5\" class=\"plotly-graph-div\" style=\"height:525px; width:100%;\"></div>            <script type=\"text/javascript\">                                    window.PLOTLYENV=window.PLOTLYENV || {};                                    if (document.getElementById(\"e76c4d3d-e8b0-485c-a0b2-f375c3e9c7e5\")) {                    Plotly.newPlot(                        \"e76c4d3d-e8b0-485c-a0b2-f375c3e9c7e5\",                        [{\"hovertemplate\":\"x=%{x}<br>y=%{y}<extra></extra>\",\"legendgroup\":\"\",\"marker\":{\"color\":\"#636efa\",\"symbol\":\"circle\"},\"mode\":\"markers\",\"name\":\"\",\"showlegend\":false,\"x\":[8,7,5,9,10,7,4,9,7,8,8,8,7,10,5,10,10,6,6,9,10,10,5,4,10,9,5,11,7,10,12,9,8,11,10,4,7,10,6,9,5,11,9,9,11,10,10,8,10,9,10,10,9,4,9,3,4,6,3,7,5,10,5,7,7,6,6,6,9,4,5,7,4,9,5,7,8,9,3,9,10,7,4,9,9,9,9,6,4,5,9,5,4,5,5,9,3,4,8,8,6,6,4,7,9,10,8,4,8,8,3,4,3,6,4,3,9,10,10,10,10,9,9,10,3,10,8,9,10,4,8,8,9,13,3,10,11,11,13,8,10,10,10,9,8,13,10,8,5,10,11,9,7,8,6,7,8,9,7,10,8,3,7,5,8,12,8,9,10,6,7,10,7,8,12,9,9,10,9,9,8,8,10,11,8,10,5,7,9,10,8,11,10,10,12,7,12,7,8,9,3,8,11,8,12,12,10,10,7,6,5,8,9,7,5,10,8,11,9,11,9,4,6,9,11,9,13,8,7,9,4,8,8,10,9,10,10,4,12,12,9,12,9,10,11,7,10,9,7,12,9,7,9,11,9,12,8,12,7,11,12,8,5,10,8,7,11,10,4,9,9,9,8,12,10,8,9,11,8,12,11,12,8,9,9,4,11,8,7,5,9,9,10,8,9,12,4,8,7,5,10,10,12,9,6,10,4,12,6,10,7,11,12,7,4,5,5,4,9,8,6,6,6,8,6,9,9,6,6,3,6,7,5,4,4,5,7,5,6,4,3,7,6,3,8,8,5,7,4,7,8,7,4,9,11,11,9,11,7,7,9,7,9,10,10,8,8,10,9,10,10,10,10,10,7,11,9,10,7,10,11,7,10,8,10,8,10,9,8,8,8,10,8,7,8,10,7,4,5,5,3,5,4,5,4,3,5,15,8,7,6,7,7,6,7,5,7,7,6,6,8,6,5,5,9,11,11,9,7,6,8,10,11,9,12,12,11,12,9,9,9,9,11,9,9,10,9,11,10,11,12,11,10,12,11,10,11,11,9,9,11,10,10,11,9,12,10,9,9,12,4,4,6,7,5,5,5,4,8,8,8,6,4,3,6,6,4,6,6,6,7,6,5,6,7,5,12,7,10,11,4,10,8,5,10,4,7,8,5,6,4,10,9,6,7,11,7,10,8,10,12,7,8,6,10,4,10,10,4,8,6,10,5,11,11,11,5,10,11,12,4,7,8,10,8,12,7,5,11,10,11,9,8,7,11,8,5,10,8,7,5,11,5,5,5,11,10,10,7,5,9,4,12,8,11,9,10,7,7,6,6,6,6,5,5,5,7,5,5,5,12,12,11,12,15,14,12,13,12,12,11,14,14,13,14,13,12,11,13,10,13,7,5,7,3,8,5,8,9,9,10,10,10,10,10,10,9,10,8,8,12,11,7,8,8,8,10,10,10,10,8,10,8,9,12,7,10,10,10,9,11,8,9,10,10,9,10,10,10,9,9,7,9,10,10,10,8,10,10,10,4,7,6,6,5,7,6,3,6,5,6,7,7,7,7,7,7,7,7,7,7,7,5,7,8,7,7,7,8,7,7,5,6,4,4,5,4,5,7,8,8,7,11,14,11,11,11,10,13,10,12,5,12,14,4,13,3,6,5,14,6,11,13,7,9,10,9,8,13,12,11,10,4,13,11,7,10,10,5,8,9,12,8,8,12,11,8,13,10,10,7,8,9,10,10,7,9,7,7,10,7,8,3,10,9,8,9,9,11,8,7,5,10,9,10,12,9,10,11,10,12,10,10,10,11,12,11,10,11,11,9,10,10,9,10,3,8,8,7,7,7,5,6,6,8,6,6,7,3,12,14,13,14,14,8,7,10,13,8,8,12,11,6,9,10,8,7,10,9,9,6,6,7,9,9,9,9,10,10,10,9,10,12,7,9,13,13,11,13,12,13,10,12,11,10,10,11,11,11,9,10,8,11,12,10,13,12,12,12,9,9,8,11,9,11,9,9,6,6,7,6,7,5,4,7,7,6,6,5,11,10,13,13,13,12,11,13,10,13,10,12,14,11,11,13,13,11,11,14,11,14,12,14,12,11,13,8,12,12,11,11,11,13,11,12,11,14,13,10,14,13,9,11,11,10,11,8,10,8,8,8,10,8,11,4,4,10,8,10,7,7,9,10,10,7,9,5,10,9,7,4,3,6,3,6,7,6,4,6,7,7,3,8,8,7,7,6,8,5,6,5,6,8,4,4,4,4,4,14,13,13,13,13,12,12,12,13,13,3,2,9,8,8,9,9,8,6,9,7,5,10,10,10,4,10,3,9,12,2,13,15,11,12,14,14,11,13,14,14,12,3,13,14,12,13,15,11,13,15,13,12,15,11,10,12,14,13,12,10,11,13,12,13,15,11,10,12,12,10,12,14,12,13,4,5,7,5,4,6,3,6,6,6,3,6,5,6,4,4,4,3,5,3,5,5,7,9,11,9,10,10,9,10,9,13,13,13,13,12,13,10,13,12,12,9,11,10,11,11,11,11,10,10,10,11,10,10,11,11,11,10,9,10,11,11,11,10,10,5,5,5,5,5,4,5,3,3,3,6,6,3,4,3,6,6,6,4,3,4,5,6,4,6,4,5,3,5,4,9,8,4,4,6,9,4,6,9,10,9,8,8,9,9,9,9,9,9,8,9,10,10,9,10,11,10,10,9,8,10,6,7,9,8,8,10,14,12,13,9,14,14,12,14,12,13,14,13,13,13,14,12,11,14,6,6,10,7,10,9,9,10,10,10,9,8,8,10,8,8,10,10,7,7,7,9,10,10,10,10,8,8,10,9,9,10,9,9,8,3,7,11,11,4,3,6,4,5,5,4,5,6,4,8,7,7,7,8,7,8,8,8,7,8,9,3,3,12,8,9,9,8,11,11,12,9,8,9,11,8,10,13,12,8,9,7,7,7,5,6,5,7,8,5,3,5,4,5,5,2,4,8,15,15,15,15,8,7,12,14,10,9,9,9,10,10,9,14,9,12,9,8,12,9,10,10,12,9,12,11,13,14,5,5,7,8,2,8,6,5,4,4,4,10,6,3,8,5,7,8,3,5,12,9,5,9,6,6,9,6,10,5,10,4,6,6,6,4,3,7,10,6,4,5,10,9,4,8,9,8,9,5,7,10,6,7,7,6,6,8,9,8,10,9,10,10,4,8,9,4,7,7,8,6,8,10,7,10,5,9,7,7,4,10,9,10,10,10,9,9,10,10,9,11,9,7,5,6,4,5,7,5,5,4,4,4,4,4,4,4,4,4,5,3,11,14,11,11,9,13,11,9,12,11,11,12,10,11,9,11,10,11,9,10,12,12,12,9,9,10,10,10,11,14,12,12,13,13,12,13,12,11,8,12,12,11,12,9,8,3,3,5,8,3,6,10,8,12,12,10,8,11,12,13,13,5,5,7,7,9,8,7,8,8,5,8,6,8,7,8,7,10,10,8,10,7,9,9,7,10,8,14,9,9,5,6,6,6,7,4,15,15,15,8,12,9,11,10,11,10,10,12,11,10,11,10,10,11,8,10,9,9,9,10,10,10,11,9,6,6,4,10,10,6,7,13,7,14,15,5,14,6,15,16,8,6,9,5,3,5,7,9,9,8,7,7,9,6,9,9,9,9,9,8,7,5,5,8,9,8,9,8,9,8,11,10,7,7,7,7,7,7,8,7,7,7,7,7,8,10,9,6,7,8,8,8,8,4,4,11,9,10,7,11,9,11,8,11,5,5,14,10,9,15,14,14,10,10,11,13,9,11,10,10,10,10,10,12,12,11,6,7,8,5,6,8,5,5,5,7,8,5,6,5,8,14,8,9,9,13,13,13,12,12,3,6,5,5,6,6,12,12,12,5,5,6,7,9,9,8,9,9,7,9,9,8,9,12,6,6,7,3,3,7,4,6,4,9,9,6,5,5,6,5,6,5,6,4,7,7,7,7,7,7,8,8,8,4,9,11,11,11,5,8,15,4,6,5,5,5,4,8,12,7,8,9,10,10,12,4,9,4,6,7,5,7,5,4,4,5,4,5,4,6,6,5,5,4,5,10,10,11,10,3,3,10,13,12,13,13,10,10,12,7,5,4,5,3,4,4,5,6,4,10,6,4,4,14,4,4,7,7,15,11,10,7,10,7,5,4,7,6,7,7,7,7,9,7,8,8,6,8,7,7,7,7,6,13,4,8,7,8,8,8,9,9,7,8,4,15,12,13,15,10,11,11,11,3,3,5,6,4,6,5,7,7,7,5,9,9,9,9,4,6,6,6,6,6,5,6,6,11,13,12,10,11,11,6,6,7,5,6,6,5,5,5,5,8,7,10,3,4,8,9,6,4,10,8,11,8,10,4,8,6,7,7,5,7,10,8,7,9,10,10,12,10,12,11,10,9,12,8,9,9,5,7,8,4,7,5,9,7,7,6,7,7,7,5,5,5,5,5,5,6,5,5,6,5,4,6,10,8,8,7,7,10,8,3,13,12,13,14,14,13,13,13,8,14,13,13,8,5,7,5,4,2,2,4,3,8,9,8,8,9,9,5,10,10,9,10,9,7,7,12,9,10,10,9,12,4,4,8,6,5,7,6,7,8,5,5,6,5,4,9,8,10,10,11,5,6,6,4,7,11,10,10,11,10,9,5,8,11,11,12,3,5,5,4,5,4,4,8,10,4,3,4,4,5,6,6,4,4,9,5,6,8,5,5,9,3,5,14,3,9,3,9,3,3,5,5,5,3,3,11,11,8,9,12,6,6,4,10,5,7,7,8,14,4,8,11,7,11,8,11,4,6,8,7,3,4,10,10,3,5,9,3,8,6,4,13,8,4,10,8,6,6,6,6,5,6,5,6,6,4,8,4,7,13,14,3,8,5,3,10,6,8,5,8,8,3,6,2,15,2,10,7,6,11,5,6,5,3,4,4,11,3,5,7,5,14,14,16,6,8,5,9,6,14,4,9,6,5,9,9,6,8,7,6,6,6,5,10,15,8,7,7,5,7,10,11,5,12,11,3,4,11],\"xaxis\":\"x\",\"y\":[312165,242499,381699,181999,239499,324899,479914,301599,322321,346799,329299,312289,358999,180899,399499,316000,248199,345799,361899,286999,218299,265599,416499,395899,272099,349575,380399,244899,303399,255899,218399,262499,308199,223499,228399,399495,329599,197576,392599,245599,395511,201199,313799,311899,274499,344599,326356,326899,263599,326099,318099,311199,326399,295999,180996,332699,309399,225899,324399,223399,332799,274599,281399,260240,299799,343899,254199,345199,244180,269099,309199,272974,269199,257899,336899,283699,278599,259699,339904,224899,221399,279499,297999,242899,213426,220999,242399,272999,331599,261499,277099,295699,290999,335661,280999,261499,314799,309199,261199,231699,250799,274099,289599,268887,258937,225199,222899,349499,266799,221299,382227,285899,335499,277499,301499,339799,435199,260699,341399,292399,315999,406799,428599,562599,661399,461122,376199,377899,301899,556363,433099,388499,371399,281699,710064,391099,311399,281999,228599,546799,313699,450358,318199,353099,437699,229399,306720,366899,528799,311399,294046,286199,434299,427499,490499,524199,412499,365244,535565,314099,572865,606799,396599,542699,459199,208243,363799,356899,338436,432499,391599,318299,477399,383399,200899,383299,420099,294399,319199,355799,399099,427799,297299,262099,372999,392599,483499,474399,333240,356999,489399,336899,385199,339499,344499,504255,288699,418399,425599,391874,745853,370099,263899,373499,353899,349299,368799,307299,538299,678699,667699,495199,313799,431499,452799,421699,404699,306352,293619,434599,338699,617699,460899,426799,241699,446999,256599,506399,434899,364799,597799,403099,365699,324099,289099,265899,345999,343899,149181,235499,346677,248899,318079,267599,199599,320699,250499,310199,408399,166999,356099,350799,333999,233499,289499,244506,289399,228099,349899,197438,209699,369599,414399,342099,333199,318899,243999,266999,373399,228199,317299,338599,290699,198399,219599,408299,269299,346299,330398,171599,228899,290899,388699,376699,235699,428999,231299,390399,402899,420399,250200,376999,338699,353199,329199,218999,432099,327899,380599,336899,276299,216441,305198,308899,376699,260899,453099,229599,409699,281099,353699,342299,180499,385999,708199,585299,644000,615399,410788,410740,451699,480299,436399,322699,421699,405899,327699,469799,454499,584699,395599,606599,595299,672599,745699,642899,588299,730599,578399,459199,479500,232199,388899,451499,269399,307599,356199,339099,411999,292199,336099,283799,556099,426999,313774,335199,354699,282096,484799,538199,495899,459599,384799,296500,357799,416099,365999,312799,312699,336999,364499,330220,297199,364499,481299,315899,403999,379699,531299,333624,247999,456699,377750,410599,312899,410799,430499,384799,417899,425999,567899,366099,535199,478399,440099,340499,456099,671499,583799,691699,729299,612699,546599,655442,754799,741599,602799,146870,290099,375799,323699,310199,297799,316199,302663,361399,307199,282099,338799,285399,235599,309934,358399,286399,529699,305599,351399,423899,424399,615799,413999,301074,255099,341799,244349,252299,264999,274899,367099,424399,384899,415670,251899,339299,447499,391199,412899,301799,328199,221899,211699,235699,325999,197799,343699,303999,293699,286599,318736,295885,317599,314399,344599,339844,326999,218601,307999,376799,295999,265599,948899,952999,656399,635099,528099,513299,762399,698899,100599,91699,124999,250399,321799,335999,379999,304827,354229,269639,316199,211099,308399,247499,275399,174461,249599,309999,142999,264397,277499,270899,338699,156499,305199,322599,255299,322699,214599,320299,343999,260899,324099,200699,229499,267599,313199,173699,246499,227299,335899,189899,172940,289299,219299,286799,219599,316299,159299,256999,382399,330999,292199,263625,395399,182499,178299,221699,312699,169831,240199,154899,346099,306799,240299,180199,334599,128899,346399,241599,278199,234199,177899,223899,343399,272199,229890,237999,338199,188899,320099,317699,349199,209099,369799,335399,336299,208499,239642,212599,336265,343899,189969,345399,175599,258899,147299,166099,174299,304299,518099,544699,552899,554899,522366,637199,728166,554899,506699,585599,586699,520399,211799,222252,214499,172599,151899,116199,182299,201799,177499,254853,248099,78599,183399,134099,151015,130999,220199,169999,120399,177409,121199,332627,396899,435299,544999,352399,442799,307830,477214,335599,333099,353768,326199,352499,316838,418499,449999,441299,516399,335700,297299,357799,604299,447072,520399,406899,461599,287999,394685,358199,392199,322299,529199,311199,299699,392199,321199,314599,379020,456399,333399,414599,470199,289999,300899,433983,364599,317999,412499,446599,453199,578899,500899,334499,330899,449699,471999,469199,332299,311500,669899,524399,556999,522080,648299,503299,519099,772699,588999,666999,447799,566399,390399,373299,429499,419699,409199,442399,503599,571713,544999,451799,564399,442799,408599,440099,481799,474899,354299,425299,424199,499199,318699,417499,840899,733899,744799,667699,588399,514299,473199,625199,210799,187199,170399,323699,186699,207199,228500,258799,195599,573999,315099,241699,504737,213413,748585,464510,592875,323699,565599,319399,227399,657599,478699,369099,423299,639999,262499,300999,327799,409599,898699,237399,279592,720399,483999,369700,705899,683899,507199,254199,609299,525799,336699,325099,476099,241099,424399,441699,889799,707999,655899,417599,489835,700699,462542,795699,761699,443799,552999,722699,991699,363099,406788,358999,346099,447399,270999,486599,559299,708799,227299,239599,305199,199500,434399,240199,336326,305899,345799,320570,345999,354899,297399,216699,244399,200299,394099,318599,352699,219168,307559,311999,311099,840799,467199,606099,606399,726106,730299,827599,728599,668999,524199,1045899,977099,740399,977199,282699,306999,291099,275499,255099,671199,614299,429999,241899,407999,283399,320699,317799,466699,290799,327099,374599,490199,417099,356499,328013,416299,502599,520999,376214,331599,372699,240099,271499,224999,212299,216799,232999,279799,344399,271299,327999,143099,313599,203068,160399,308399,239099,270299,218099,204999,234399,195899,200299,225120,303399,362699,348699,210699,258799,350999,314799,330399,335999,220099,293999,288799,253299,422699,430799,270500,561399,418699,436499,374435,378999,454799,463299,444099,510799,379099,401499,438999,455699,403594,313900,410399,242299,257599,259899,398999,420300,297099,353999,241199,420399,297867,210834,305199,292999,261699,264340,258699,293776,183799,314999,252099,451699,212899,263899,337199,244699,433699,219699,316955,276399,402199,276399,340699,312399,249299,339899,267099,232799,486416,257879,286499,195800,288099,193780,177499,263299,254899,250699,286899,258199,286533,191299,256199,259199,723699,571899,385699,479999,380599,530899,605499,468380,408199,452699,549199,459199,699599,565999,481499,347799,475299,504699,362199,535599,390499,409099,333347,444144,327344,323699,340706,527799,407092,307699,401599,370199,448299,406099,400199,446399,424099,425699,355899,368481,388899,426899,441599,379299,160099,149199,180599,209499,181299,202499,201699,240099,126017,274199,693799,679015,263199,211499,300799,218399,194999,217999,244899,249899,276399,371470,420999,391499,418599,979661,420399,1004199,465599,345199,367599,236300,78799,156299,174699,173399,111799,171299,133599,206599,188147,160099,372799,111699,156325,124299,150299,189999,228499,204399,131999,186099,251699,91699,175999,170599,229799,170036,118499,167999,229399,222199,252599,134799,153399,95499,247957,231799,160199,165199,268799,157899,83399,155599,159299,681999,551799,453299,539599,630899,503399,604499,548199,524199,499799,603699,549299,565599,550399,557499,586299,548999,619379,624599,621199,509199,497699,527699,521499,415299,420499,392899,421699,501899,430399,453300,181699,275099,168099,218799,171699,287165,332428,179499,245199,212699,456299,327699,295362,236599,224199,235499,262499,308799,305999,265799,254299,331599,258899,343073,325099,290199,204799,332899,294840,264899,324499,269099,303899,348540,492599,463899,541500,547099,607099,574599,424099,779699,756299,935399,598699,584199,789304,743899,876399,670599,592899,761999,887599,883799,723699,677870,695799,758699,668499,828099,706099,976799,809099,820199,345499,397299,552899,631799,445471,291499,589410,464679,354799,322999,415499,498099,522899,539899,392099,403399,397099,476499,537599,531199,428999,399299,439599,381199,398299,359999,381199,353499,349499,582699,428199,443499,451799,787499,751199,845699,534899,116766,145999,210099,298899,209499,115999,234799,182811,181499,201599,194278,182599,241199,130999,158099,300099,174899,178699,184383,245999,306499,338799,277599,301299,306599,286599,272999,264999,235458,304899,253199,285199,320912,289699,299999,279899,411398,401463,320099,373799,300499,223399,257199,232999,331599,279399,323499,296399,238499,279299,347699,275599,311299,910099,503799,325199,258999,951099,932099,757899,924799,909899,822899,790899,839199,738399,921299,336099,441599,421608,393699,439299,576757,534199,531499,534799,696599,451399,393660,478399,456099,196999,294599,420299,252399,456999,182037,339499,261409,333499,375955,264899,292699,397033,305225,208199,237193,345799,303399,372099,390699,445599,450099,447283,389899,343299,278999,413999,458699,356852,410399,378499,364299,438399,388799,305899,215599,224499,133199,199599,491399,470599,281499,193499,384599,408499,330099,524499,531399,492799,342299,168099,368595,222799,486699,419399,329199,422751,331999,552899,212699,563199,199899,178399,199499,213299,1117599,1192799,806599,921499,1563499,894500,937699,867399,653399,330699,283090,322499,731019,861999,518499,690099,489199,389099,1007106,955799,272299,256399,604106,317999,443699,380699,365299,355530,302899,581899,193099,600399,571599,597099,524699,678499,733199,472499,309199,404786,748899,736599,413099,492724,931499,455899,495266,447899,402399,768899,746299,370399,1017499,897799,824499,984999,914699,340899,305199,303599,318999,344698,202699,193582,338999,204799,186399,315999,248499,251899,219399,343740,214599,242899,228099,187499,300699,181299,303399,255899,936799,356499,377799,413326,336299,382199,571991,408899,283599,364499,376499,291899,332699,424499,752999,495299,1380699,681399,316653,399799,293399,335193,322722,407082,317099,361853,378099,349999,322599,295599,312899,396599,462199,210899,343199,296899,248599,330799,226599,346999,242599,228199,193399,281599,279399,254699,387599,211699,253136,248899,285199,251399,264370,180699,204999,185887,314699,238499,339599,213799,231299,202999,283199,294599,142117,122999,215499,266299,231199,194540,200628,177099,126781,261499,148899,224999,284999,473490,950499,822193,541799,874899,706899,283400,500599,335899,219399,343399,456099,301599,247399,233099,211199,502199,532599,1608699,1697199,377499,544299,556199,615399,427399,738399,548899,681799,189299,316399,175030,371299,954099,1082099,306799,279599,330699,221199,264950,274799,248399,285699,223099,269299,276499,931399,894499,1043299,758699,860499,733290,125199,115999,176091,510299,253199,291899,309599,341799,333499,279899,322799,229599,252499,481199,312099,305999,278199,218899,452199,351099,341199,384799,372299,376899,434599,308599,292921,373199,783199,672342,931166,433399,351799,470799,366699,109199,351099,210151,149899,433592,134599,420499,104289,75299,391199,487799,1319868,801499,925999,768899,484699,322068,305864,458899,507799,551899,320799,544699,402399,469199,481199,435499,358999,172399,168699,354599,336399,216038,237899,189799,136799,330799,177499,176499,120299,292699,246999,473899,550799,561299,494699,632999,499499,589399,588099,511699,521699,548999,427500,144097,266099,423299,317199,361699,394899,926599,818599,737299,819210,464899,423399,362899,764599,331799,553264,306099,965599,288299,486299,412999,131199,427799,353299,228099,113799,125470,1045599,1057482,814299,873802,1189399,1012699,1144199,1214099,1091499,256099,206083,189769,228799,327099,413899,383399,335499,480699,429299,344616,398399,410399,409599,377899,309299,383599,390699,461199,375699,551681,440099,369299,422399,227099,271599,294099,299999,270999,603340,630780,687299,694699,589499,648780,141599,266186,273999,665315,578999,551399,523699,256399,436299,374500,296199,276799,437099,321799,330690,343899,401699,227999,301599,347899,250028,378899,425699,264899,296999,378799,339100,321799,343899,365099,406999,402499,308899,420199,330999,383599,389703,1167456,945699,843199,592599,496799,367499,550699,370899,408099,286499,819699,1011799,723499,839899,792499,336599,282599,144099,657699,1188855,1035199,891199,1246699,1145699,291099,98799,409299,380240,254599,246500,315299,225999,289299,274500,387099,360599,404099,564599,451244,315699,414599,445599,474299,427899,392499,526099,378099,402647,512399,505999,516399,472599,354899,301399,282199,243299,834599,684899,396199,342999,204801,186699,248699,169955,198930,113799,505399,384199,443999,327499,458299,354599,898099,560999,701799,549399,494115,469299,632999,700399,154799,668099,694799,595399,511099,127599,534399,891599,1553699,1042699,1505899,383199,512610,370199,409299,399899,206899,158199,185699,315364,425799,294461,306399,1654999,617799,554799,586199,579299,559592,569899,195299,317799,361499,324699,322699,297699,278599,388180,415799,482299,483499,1224699,201208,258699,212199,131299,271999,157199,187899,242899,874599,1070040,819099,897299,657499,655099,634699,561899,443699,590199,351399,393899,333399,318899,299500,565799,579399,435399,572899,626499,515199,673199,544599,619199,275399,206641,291268,301505,244899,405499,540762,560972,540399,300899,233299,195399,526099,544199,484199,533799,649499,708899,253499,517199,539099,409599,378899,583999,801299,282199,323599,191599,312099,316699,432199,423799,616999,577499,613299,867599,639499,1054799,1409199,518471,227899,197299,327499,277399,339199,160099,168299,257499,231699,187407,413600,397299,588899,474899,386799,404299,802599,550399,708599,417299,487199,414399,460199,445899,468299,603799,494999,401599,472499,520199,389299,439399,575799,830014,638199,602799,777899,760699,590999,110599,971199,1155999,1016899,909299,601799,789899,522399,277499,254899,200199,208120,168899,161199,352699,242899,420399,175899,231499,343699,465999,430599,560885,451199,574925,633299,639999,620999,1545999,627399,453999,575599,517199,605899,562700,1152941,412999,278699,228918,253099,269668,376799,633180,147099,306399,294799,271799,414299,266599,579399,723499,420199,603899,643599,526899,653299,557699,459599,598875,292199,261599,301999,1603499,570399,407080,177099,229899,266399,772799,710899,462299,1044499,619899,172999,181500,335299,153999,399899,294699,511399,342599,261299,308799,263799,762799,653099,691899,819497,678908,442899,470799,453932,417420,1032599,674599,594299,844499,723499,534199,595199,493965,486580,328799,710799,577399,447399,315799,264499,652519,1708199,696899,118999,482199,308899,1074299,399499,819999,994599,859499,913599,475199,481899,530299,282899,308899,456099,386799,608699,246599,267199,1399530,1092599,578340,845899,1031199,317299,197099,793199,387899,347599,486579,266299,347699,307499,962499,785099,284499,331500,513299,565099,181899,254799,698399,441399,475399,741499,541599,586799,663799,281702,389999,1952397,284199,333399,1028708,1023399,941199,1429399,1457099,1485599,321814,695799,616899,1817180,496999,837499,689099,183099,223499,722328,944299,685899,719099,646399,348699,323599,1156099,511599,519799,472199,124399,755931,119599,1036742,564399,450699,705999,306190,472099,372101,525699,782799,523499,560399,248199,1081500,685830,552399,350599,194499,150099,103199,1378399,1420537,323399,348599,412599,133599,1215699,444499,683999,674399,238899,239399,390500,257099,519799,369099,446799,538399,1395599,411499,151406,684399,753299,857299,451399,396099,260199,189199,1393799,138199,509899,1001799,643499,212299],\"yaxis\":\"y\",\"type\":\"scattergl\"}],                        {\"template\":{\"data\":{\"bar\":[{\"error_x\":{\"color\":\"#2a3f5f\"},\"error_y\":{\"color\":\"#2a3f5f\"},\"marker\":{\"line\":{\"color\":\"#E5ECF6\",\"width\":0.5},\"pattern\":{\"fillmode\":\"overlay\",\"size\":10,\"solidity\":0.2}},\"type\":\"bar\"}],\"barpolar\":[{\"marker\":{\"line\":{\"color\":\"#E5ECF6\",\"width\":0.5},\"pattern\":{\"fillmode\":\"overlay\",\"size\":10,\"solidity\":0.2}},\"type\":\"barpolar\"}],\"carpet\":[{\"aaxis\":{\"endlinecolor\":\"#2a3f5f\",\"gridcolor\":\"white\",\"linecolor\":\"white\",\"minorgridcolor\":\"white\",\"startlinecolor\":\"#2a3f5f\"},\"baxis\":{\"endlinecolor\":\"#2a3f5f\",\"gridcolor\":\"white\",\"linecolor\":\"white\",\"minorgridcolor\":\"white\",\"startlinecolor\":\"#2a3f5f\"},\"type\":\"carpet\"}],\"choropleth\":[{\"colorbar\":{\"outlinewidth\":0,\"ticks\":\"\"},\"type\":\"choropleth\"}],\"contour\":[{\"colorbar\":{\"outlinewidth\":0,\"ticks\":\"\"},\"colorscale\":[[0.0,\"#0d0887\"],[0.1111111111111111,\"#46039f\"],[0.2222222222222222,\"#7201a8\"],[0.3333333333333333,\"#9c179e\"],[0.4444444444444444,\"#bd3786\"],[0.5555555555555556,\"#d8576b\"],[0.6666666666666666,\"#ed7953\"],[0.7777777777777778,\"#fb9f3a\"],[0.8888888888888888,\"#fdca26\"],[1.0,\"#f0f921\"]],\"type\":\"contour\"}],\"contourcarpet\":[{\"colorbar\":{\"outlinewidth\":0,\"ticks\":\"\"},\"type\":\"contourcarpet\"}],\"heatmap\":[{\"colorbar\":{\"outlinewidth\":0,\"ticks\":\"\"},\"colorscale\":[[0.0,\"#0d0887\"],[0.1111111111111111,\"#46039f\"],[0.2222222222222222,\"#7201a8\"],[0.3333333333333333,\"#9c179e\"],[0.4444444444444444,\"#bd3786\"],[0.5555555555555556,\"#d8576b\"],[0.6666666666666666,\"#ed7953\"],[0.7777777777777778,\"#fb9f3a\"],[0.8888888888888888,\"#fdca26\"],[1.0,\"#f0f921\"]],\"type\":\"heatmap\"}],\"heatmapgl\":[{\"colorbar\":{\"outlinewidth\":0,\"ticks\":\"\"},\"colorscale\":[[0.0,\"#0d0887\"],[0.1111111111111111,\"#46039f\"],[0.2222222222222222,\"#7201a8\"],[0.3333333333333333,\"#9c179e\"],[0.4444444444444444,\"#bd3786\"],[0.5555555555555556,\"#d8576b\"],[0.6666666666666666,\"#ed7953\"],[0.7777777777777778,\"#fb9f3a\"],[0.8888888888888888,\"#fdca26\"],[1.0,\"#f0f921\"]],\"type\":\"heatmapgl\"}],\"histogram\":[{\"marker\":{\"pattern\":{\"fillmode\":\"overlay\",\"size\":10,\"solidity\":0.2}},\"type\":\"histogram\"}],\"histogram2d\":[{\"colorbar\":{\"outlinewidth\":0,\"ticks\":\"\"},\"colorscale\":[[0.0,\"#0d0887\"],[0.1111111111111111,\"#46039f\"],[0.2222222222222222,\"#7201a8\"],[0.3333333333333333,\"#9c179e\"],[0.4444444444444444,\"#bd3786\"],[0.5555555555555556,\"#d8576b\"],[0.6666666666666666,\"#ed7953\"],[0.7777777777777778,\"#fb9f3a\"],[0.8888888888888888,\"#fdca26\"],[1.0,\"#f0f921\"]],\"type\":\"histogram2d\"}],\"histogram2dcontour\":[{\"colorbar\":{\"outlinewidth\":0,\"ticks\":\"\"},\"colorscale\":[[0.0,\"#0d0887\"],[0.1111111111111111,\"#46039f\"],[0.2222222222222222,\"#7201a8\"],[0.3333333333333333,\"#9c179e\"],[0.4444444444444444,\"#bd3786\"],[0.5555555555555556,\"#d8576b\"],[0.6666666666666666,\"#ed7953\"],[0.7777777777777778,\"#fb9f3a\"],[0.8888888888888888,\"#fdca26\"],[1.0,\"#f0f921\"]],\"type\":\"histogram2dcontour\"}],\"mesh3d\":[{\"colorbar\":{\"outlinewidth\":0,\"ticks\":\"\"},\"type\":\"mesh3d\"}],\"parcoords\":[{\"line\":{\"colorbar\":{\"outlinewidth\":0,\"ticks\":\"\"}},\"type\":\"parcoords\"}],\"pie\":[{\"automargin\":true,\"type\":\"pie\"}],\"scatter\":[{\"marker\":{\"colorbar\":{\"outlinewidth\":0,\"ticks\":\"\"}},\"type\":\"scatter\"}],\"scatter3d\":[{\"line\":{\"colorbar\":{\"outlinewidth\":0,\"ticks\":\"\"}},\"marker\":{\"colorbar\":{\"outlinewidth\":0,\"ticks\":\"\"}},\"type\":\"scatter3d\"}],\"scattercarpet\":[{\"marker\":{\"colorbar\":{\"outlinewidth\":0,\"ticks\":\"\"}},\"type\":\"scattercarpet\"}],\"scattergeo\":[{\"marker\":{\"colorbar\":{\"outlinewidth\":0,\"ticks\":\"\"}},\"type\":\"scattergeo\"}],\"scattergl\":[{\"marker\":{\"colorbar\":{\"outlinewidth\":0,\"ticks\":\"\"}},\"type\":\"scattergl\"}],\"scattermapbox\":[{\"marker\":{\"colorbar\":{\"outlinewidth\":0,\"ticks\":\"\"}},\"type\":\"scattermapbox\"}],\"scatterpolar\":[{\"marker\":{\"colorbar\":{\"outlinewidth\":0,\"ticks\":\"\"}},\"type\":\"scatterpolar\"}],\"scatterpolargl\":[{\"marker\":{\"colorbar\":{\"outlinewidth\":0,\"ticks\":\"\"}},\"type\":\"scatterpolargl\"}],\"scatterternary\":[{\"marker\":{\"colorbar\":{\"outlinewidth\":0,\"ticks\":\"\"}},\"type\":\"scatterternary\"}],\"surface\":[{\"colorbar\":{\"outlinewidth\":0,\"ticks\":\"\"},\"colorscale\":[[0.0,\"#0d0887\"],[0.1111111111111111,\"#46039f\"],[0.2222222222222222,\"#7201a8\"],[0.3333333333333333,\"#9c179e\"],[0.4444444444444444,\"#bd3786\"],[0.5555555555555556,\"#d8576b\"],[0.6666666666666666,\"#ed7953\"],[0.7777777777777778,\"#fb9f3a\"],[0.8888888888888888,\"#fdca26\"],[1.0,\"#f0f921\"]],\"type\":\"surface\"}],\"table\":[{\"cells\":{\"fill\":{\"color\":\"#EBF0F8\"},\"line\":{\"color\":\"white\"}},\"header\":{\"fill\":{\"color\":\"#C8D4E3\"},\"line\":{\"color\":\"white\"}},\"type\":\"table\"}]},\"layout\":{\"annotationdefaults\":{\"arrowcolor\":\"#2a3f5f\",\"arrowhead\":0,\"arrowwidth\":1},\"autotypenumbers\":\"strict\",\"coloraxis\":{\"colorbar\":{\"outlinewidth\":0,\"ticks\":\"\"}},\"colorscale\":{\"diverging\":[[0,\"#8e0152\"],[0.1,\"#c51b7d\"],[0.2,\"#de77ae\"],[0.3,\"#f1b6da\"],[0.4,\"#fde0ef\"],[0.5,\"#f7f7f7\"],[0.6,\"#e6f5d0\"],[0.7,\"#b8e186\"],[0.8,\"#7fbc41\"],[0.9,\"#4d9221\"],[1,\"#276419\"]],\"sequential\":[[0.0,\"#0d0887\"],[0.1111111111111111,\"#46039f\"],[0.2222222222222222,\"#7201a8\"],[0.3333333333333333,\"#9c179e\"],[0.4444444444444444,\"#bd3786\"],[0.5555555555555556,\"#d8576b\"],[0.6666666666666666,\"#ed7953\"],[0.7777777777777778,\"#fb9f3a\"],[0.8888888888888888,\"#fdca26\"],[1.0,\"#f0f921\"]],\"sequentialminus\":[[0.0,\"#0d0887\"],[0.1111111111111111,\"#46039f\"],[0.2222222222222222,\"#7201a8\"],[0.3333333333333333,\"#9c179e\"],[0.4444444444444444,\"#bd3786\"],[0.5555555555555556,\"#d8576b\"],[0.6666666666666666,\"#ed7953\"],[0.7777777777777778,\"#fb9f3a\"],[0.8888888888888888,\"#fdca26\"],[1.0,\"#f0f921\"]]},\"colorway\":[\"#636efa\",\"#EF553B\",\"#00cc96\",\"#ab63fa\",\"#FFA15A\",\"#19d3f3\",\"#FF6692\",\"#B6E880\",\"#FF97FF\",\"#FECB52\"],\"font\":{\"color\":\"#2a3f5f\"},\"geo\":{\"bgcolor\":\"white\",\"lakecolor\":\"white\",\"landcolor\":\"#E5ECF6\",\"showlakes\":true,\"showland\":true,\"subunitcolor\":\"white\"},\"hoverlabel\":{\"align\":\"left\"},\"hovermode\":\"closest\",\"mapbox\":{\"style\":\"light\"},\"paper_bgcolor\":\"white\",\"plot_bgcolor\":\"#E5ECF6\",\"polar\":{\"angularaxis\":{\"gridcolor\":\"white\",\"linecolor\":\"white\",\"ticks\":\"\"},\"bgcolor\":\"#E5ECF6\",\"radialaxis\":{\"gridcolor\":\"white\",\"linecolor\":\"white\",\"ticks\":\"\"}},\"scene\":{\"xaxis\":{\"backgroundcolor\":\"#E5ECF6\",\"gridcolor\":\"white\",\"gridwidth\":2,\"linecolor\":\"white\",\"showbackground\":true,\"ticks\":\"\",\"zerolinecolor\":\"white\"},\"yaxis\":{\"backgroundcolor\":\"#E5ECF6\",\"gridcolor\":\"white\",\"gridwidth\":2,\"linecolor\":\"white\",\"showbackground\":true,\"ticks\":\"\",\"zerolinecolor\":\"white\"},\"zaxis\":{\"backgroundcolor\":\"#E5ECF6\",\"gridcolor\":\"white\",\"gridwidth\":2,\"linecolor\":\"white\",\"showbackground\":true,\"ticks\":\"\",\"zerolinecolor\":\"white\"}},\"shapedefaults\":{\"line\":{\"color\":\"#2a3f5f\"}},\"ternary\":{\"aaxis\":{\"gridcolor\":\"white\",\"linecolor\":\"white\",\"ticks\":\"\"},\"baxis\":{\"gridcolor\":\"white\",\"linecolor\":\"white\",\"ticks\":\"\"},\"bgcolor\":\"#E5ECF6\",\"caxis\":{\"gridcolor\":\"white\",\"linecolor\":\"white\",\"ticks\":\"\"}},\"title\":{\"x\":0.05},\"xaxis\":{\"automargin\":true,\"gridcolor\":\"white\",\"linecolor\":\"white\",\"ticks\":\"\",\"title\":{\"standoff\":15},\"zerolinecolor\":\"white\",\"zerolinewidth\":2},\"yaxis\":{\"automargin\":true,\"gridcolor\":\"white\",\"linecolor\":\"white\",\"ticks\":\"\",\"title\":{\"standoff\":15},\"zerolinecolor\":\"white\",\"zerolinewidth\":2}}},\"xaxis\":{\"anchor\":\"y\",\"domain\":[0.0,1.0],\"title\":{\"text\":\"x\"}},\"yaxis\":{\"anchor\":\"x\",\"domain\":[0.0,1.0],\"title\":{\"text\":\"y\"}},\"legend\":{\"tracegroupgap\":0},\"margin\":{\"t\":60}},                        {\"responsive\": true}                    ).then(function(){\n",
              "                            \n",
              "var gd = document.getElementById('e76c4d3d-e8b0-485c-a0b2-f375c3e9c7e5');\n",
              "var x = new MutationObserver(function (mutations, observer) {{\n",
              "        var display = window.getComputedStyle(gd).display;\n",
              "        if (!display || display === 'none') {{\n",
              "            console.log([gd, 'removed!']);\n",
              "            Plotly.purge(gd);\n",
              "            observer.disconnect();\n",
              "        }}\n",
              "}});\n",
              "\n",
              "// Listen for the removal of the full notebook cells\n",
              "var notebookContainer = gd.closest('#notebook-container');\n",
              "if (notebookContainer) {{\n",
              "    x.observe(notebookContainer, {childList: true});\n",
              "}}\n",
              "\n",
              "// Listen for the clearing of the current output cell\n",
              "var outputEl = gd.closest('.output');\n",
              "if (outputEl) {{\n",
              "    x.observe(outputEl, {childList: true});\n",
              "}}\n",
              "\n",
              "                        })                };                            </script>        </div>\n",
              "</body>\n",
              "</html>"
            ]
          },
          "metadata": {}
        }
      ]
    },
    {
      "cell_type": "code",
      "source": [
        "fig = px.scatter(df['Selling Price'], color=df['Owner'])\n",
        "fig.show()"
      ],
      "metadata": {
        "colab": {
          "base_uri": "https://localhost:8080/",
          "height": 542
        },
        "id": "lOHsmg997WJg",
        "outputId": "15b01ee0-fbe6-459e-a84e-c8ca12c101df"
      },
      "execution_count": 17,
      "outputs": [
        {
          "output_type": "display_data",
          "data": {
            "text/html": [
              "<html>\n",
              "<head><meta charset=\"utf-8\" /></head>\n",
              "<body>\n",
              "    <div>            <script src=\"https://cdnjs.cloudflare.com/ajax/libs/mathjax/2.7.5/MathJax.js?config=TeX-AMS-MML_SVG\"></script><script type=\"text/javascript\">if (window.MathJax) {MathJax.Hub.Config({SVG: {font: \"STIX-Web\"}});}</script>                <script type=\"text/javascript\">window.PlotlyConfig = {MathJaxConfig: 'local'};</script>\n",
              "        <script src=\"https://cdn.plot.ly/plotly-2.8.3.min.js\"></script>                <div id=\"c47a4fb4-dee9-4359-aab2-d094cd707787\" class=\"plotly-graph-div\" style=\"height:525px; width:100%;\"></div>            <script type=\"text/javascript\">                                    window.PLOTLYENV=window.PLOTLYENV || {};                                    if (document.getElementById(\"c47a4fb4-dee9-4359-aab2-d094cd707787\")) {                    Plotly.newPlot(                        \"c47a4fb4-dee9-4359-aab2-d094cd707787\",                        [{\"hovertemplate\":\"color=First Owner<br>index=%{x}<br>value=%{y}<extra></extra>\",\"legendgroup\":\"First Owner\",\"marker\":{\"color\":\"#636efa\",\"symbol\":\"circle\"},\"mode\":\"markers\",\"name\":\"First Owner\",\"showlegend\":true,\"x\":[0,3,5,6,7,8,9,10,12,14,16,17,19,22,24,26,28,29,30,31,33,35,36,37,38,39,40,42,44,45,46,47,48,49,50,51,52,53,54,55,56,57,58,59,60,62,64,65,67,69,70,71,72,73,74,76,78,79,80,81,83,85,88,89,90,91,92,93,94,95,96,97,98,99,101,102,103,105,107,108,109,110,111,112,113,114,115,116,117,120,121,122,123,124,125,126,127,128,129,130,131,133,134,135,136,137,139,140,141,142,143,144,146,147,148,149,151,152,153,154,159,160,161,162,164,166,167,168,170,171,172,173,174,175,177,178,179,180,181,182,183,184,185,187,188,189,190,191,192,193,195,196,197,198,199,200,201,202,203,204,206,207,209,210,211,212,213,215,216,217,220,221,222,223,224,225,227,228,229,230,232,234,235,236,237,239,240,242,243,245,246,247,248,249,250,251,253,254,255,256,257,258,260,261,262,263,264,265,266,267,268,271,273,274,275,276,277,278,279,280,281,283,287,288,289,291,294,295,296,297,298,303,304,306,307,308,309,310,311,312,314,316,317,318,320,321,322,324,325,326,327,328,329,330,331,332,333,334,335,336,337,338,339,340,341,342,343,344,346,348,349,352,353,354,355,357,358,359,361,362,364,365,366,367,368,370,371,373,374,375,376,377,378,379,380,381,382,383,384,385,386,388,389,390,391,392,393,394,397,398,399,400,401,402,404,405,406,409,410,413,414,415,416,417,418,419,420,422,423,424,425,427,428,429,430,431,432,433,434,435,436,437,438,439,442,443,444,446,447,448,449,450,452,453,454,455,456,457,458,459,460,461,462,463,465,467,468,469,470,471,472,473,474,475,476,477,478,479,480,482,483,484,485,486,487,488,490,492,494,495,496,497,498,499,500,502,504,505,507,508,509,511,512,513,516,517,518,519,520,521,523,524,525,527,528,529,531,532,534,535,537,540,541,546,548,550,551,552,553,555,556,557,559,560,562,563,564,565,567,568,570,571,572,573,574,577,578,579,581,582,583,584,586,587,588,589,593,594,596,597,598,599,604,605,607,609,610,611,612,614,615,616,618,619,620,621,622,623,624,626,628,629,631,632,633,634,635,636,638,639,640,641,643,645,646,648,651,652,653,654,655,656,657,658,660,661,662,663,664,665,666,667,668,669,670,671,675,676,677,678,679,681,682,684,685,686,687,688,689,690,692,693,694,695,696,697,698,699,700,701,702,703,704,705,706,707,708,709,710,712,713,714,715,716,717,721,724,725,726,728,730,731,736,737,738,739,740,741,742,745,747,749,750,751,752,753,754,755,756,758,759,761,762,763,765,767,769,770,771,772,773,774,775,776,777,779,780,781,782,783,784,786,787,789,790,792,793,794,795,797,798,802,803,804,805,806,807,808,810,811,812,813,814,815,816,817,818,819,820,823,825,826,828,829,830,832,833,836,839,841,842,843,845,847,849,850,851,853,854,855,857,858,860,861,862,863,864,865,866,869,870,871,872,873,874,875,876,878,879,880,881,882,883,885,886,887,889,890,891,892,893,894,895,896,897,898,899,901,905,906,907,910,912,914,915,916,918,920,921,922,923,924,926,927,928,929,930,931,932,933,936,937,938,940,941,942,943,944,946,947,948,949,950,951,952,954,955,956,957,959,960,961,962,963,965,966,968,969,970,971,973,974,975,976,977,982,985,987,989,990,991,994,995,996,997,998,1002,1005,1007,1008,1009,1010,1011,1012,1013,1014,1015,1016,1019,1021,1022,1023,1025,1026,1028,1029,1031,1032,1033,1035,1037,1038,1040,1041,1042,1043,1044,1047,1048,1049,1052,1053,1054,1055,1057,1059,1060,1061,1062,1063,1064,1065,1066,1068,1069,1071,1072,1073,1075,1076,1077,1078,1079,1081,1082,1083,1084,1085,1086,1087,1088,1089,1090,1091,1092,1093,1094,1095,1096,1097,1098,1099,1100,1101,1102,1103,1108,1109,1110,1111,1112,1113,1114,1115,1116,1117,1118,1119,1120,1121,1122,1123,1124,1125,1127,1128,1129,1130,1131,1133,1134,1135,1136,1137,1138,1140,1141,1142,1143,1145,1146,1147,1148,1149,1150,1151,1152,1153,1155,1156,1157,1158,1159,1160,1161,1162,1163,1164,1165,1166,1167,1169,1170,1171,1172,1174,1176,1177,1178,1179,1181,1182,1184,1185,1187,1188,1189,1190,1192,1194,1195,1196,1197,1198,1199,1201,1202,1203,1204,1205,1206,1210,1211,1213,1217,1218,1219,1220,1221,1222,1224,1225,1226,1227,1229,1231,1232,1233,1234,1236,1237,1239,1242,1243,1245,1246,1248,1249,1250,1253,1254,1255,1256,1257,1258,1259,1260,1261,1262,1263,1264,1265,1266,1267,1268,1269,1270,1271,1272,1274,1275,1276,1279,1280,1281,1283,1284,1285,1286,1288,1290,1291,1292,1293,1294,1295,1296,1299,1301,1303,1304,1305,1306,1307,1308,1309,1310,1311,1312,1313,1315,1317,1318,1319,1320,1321,1324,1325,1326,1327,1329,1330,1331,1333,1335,1336,1337,1338,1339,1340,1341,1342,1343,1344,1345,1346,1348,1350,1351,1352,1353,1354,1355,1356,1357,1358,1359,1360,1361,1363,1364,1367,1368,1369,1370,1371,1372,1373,1374,1376,1379,1380,1381,1382,1383,1384,1385,1386,1387,1388,1390,1391,1392,1394,1395,1396,1397,1398,1399,1400,1401,1402,1403,1404,1405,1406,1407,1409,1410,1412,1413,1415,1417,1418,1419,1422,1424,1425,1426,1428,1429,1430,1431,1432,1433,1435,1437,1438,1440,1444,1445,1446,1447,1448,1449,1450,1451,1452,1453,1454,1455,1456,1457,1458,1459,1460,1461,1462,1465,1466,1467,1468,1469,1472,1473,1474,1475,1477,1478,1479,1480,1482,1483,1485,1487,1488,1489,1490,1491,1492,1494,1497,1500,1503,1504,1505,1506,1507,1508,1509,1511,1512,1513,1515,1517,1518,1519,1520,1524,1525,1526,1527,1530,1532,1533,1535,1536,1537,1539,1542,1543,1544,1546,1548,1549,1550,1551,1552,1553,1556,1557,1559,1561,1562,1563,1565,1566,1568,1569,1570,1571,1572,1574,1577,1580,1581,1582,1583,1585,1587,1588,1589,1593,1594,1595,1598,1599,1603,1605,1606,1607,1608,1609,1610,1612,1613,1614,1615,1616,1618,1619,1620,1622,1623,1624,1625,1626,1627,1628,1629,1630,1631,1632,1635,1636,1637,1638,1639,1640,1641,1642,1643,1644,1645,1646,1647,1650,1652,1653,1655,1656,1657,1658,1659,1660,1662,1663,1665,1666,1667,1668,1671,1673,1674,1679,1680,1681,1682,1683,1684,1685,1687,1688,1689,1690,1692,1693,1694,1695,1696,1697,1698,1699,1700,1701,1702,1703,1704,1705,1706,1712,1713,1714,1715,1716,1717,1718,1720,1721,1722,1723,1724,1725,1726,1728,1729,1730,1731,1732,1734,1736,1737,1738,1740,1741,1742,1743,1744,1745,1747,1748,1749,1750,1751,1752,1753,1754,1755,1756,1757,1758,1759,1760,1761,1763,1764,1766,1768,1770,1771,1772,1773,1774,1775,1778,1783,1784,1785,1786,1788,1789,1790,1791,1792,1793,1794,1795,1796,1797,1798,1799,1800,1801,1802,1803,1804,1805,1806,1807,1808,1810,1812,1813,1814,1815,1816,1818,1820,1822,1823,1824,1825,1826,1827,1828,1829,1830,1831,1833,1834,1835,1836,1837,1838,1839,1843,1844,1845,1847,1848,1850,1851,1853,1855,1856,1857,1858,1859,1860,1863,1864,1865,1866,1867,1868,1869,1870,1871,1872,1873,1874,1875,1877,1879,1880,1882,1884,1885,1886,1887,1888,1889,1890,1891,1892,1893,1894,1895,1897,1898,1900,1901,1903,1904,1905,1906,1907,1908,1909,1910,1911,1912,1913,1915,1916,1917,1918,1919,1920,1921,1923,1924,1925,1926,1927,1929,1930,1931,1932,1934,1935,1937,1938,1939,1940,1942,1943,1944,1946,1949,1951,1952,1954,1956,1957,1959,1960,1961,1962,1963,1964,1965,1966,1967,1968,1970,1971,1972,1973,1974,1976,1977,1978,1979,1980,1981,1982,1983,1984,1985,1986,1987,1988,1990,1991,1992,1993,1994,1995,1996,1998,1999,2000,2002,2003,2005,2006,2007,2008,2009,2010,2012,2013,2014,2015,2016,2017,2018,2019,2021,2022,2023,2024,2026,2028,2033,2035,2038,2039,2040,2042,2044,2045,2047,2048,2050,2051,2052,2053,2054,2055,2056,2057,2058,2059,2060,2061,2062,2064,2065,2066,2067,2068,2069,2070,2071,2072,2073,2074,2075,2076,2078,2079,2080,2081,2082,2083,2084,2085,2086,2087,2088,2089,2090,2091,2092,2093,2095,2097,2098,2099,2101,2103,2105,2107,2108,2109,2110,2111,2112,2113,2117,2118,2119,2121,2122,2123,2124,2125,2126,2127,2128,2129,2131,2133,2135,2136,2137,2138,2139,2140,2141,2142,2143,2144,2145,2146,2147,2149,2150,2152,2153,2154,2155,2156,2157,2158,2160,2161,2162,2163,2164,2166,2167,2168,2170,2171,2172,2173,2174,2175,2176,2177,2178,2179,2180,2181,2182,2184,2185,2187,2188,2189,2191,2192,2193,2194,2197,2198,2201,2203,2205,2207,2209,2211,2212,2213,2216,2217,2218,2219,2220,2222,2223,2224,2225,2226,2227,2228,2229,2231,2233,2234,2235,2236],\"xaxis\":\"x\",\"y\":[312165,181999,324899,479914,301599,322321,346799,329299,358999,399499,248199,345799,286999,416499,272099,380399,303399,255899,218399,262499,223499,399495,329599,197576,392599,245599,395511,313799,274499,344599,326356,326899,263599,326099,318099,311199,326399,295999,180996,332699,309399,225899,324399,223399,332799,281399,299799,343899,345199,269099,309199,272974,269199,257899,336899,278599,339904,224899,221399,279499,242899,220999,331599,261499,277099,295699,290999,335661,280999,261499,314799,309199,261199,231699,274099,289599,268887,225199,349499,266799,221299,382227,285899,335499,277499,301499,339799,435199,260699,315999,406799,428599,562599,661399,461122,376199,377899,301899,556363,433099,388499,281699,710064,391099,311399,281999,546799,313699,450358,318199,353099,437699,306720,366899,528799,311399,286199,434299,427499,490499,314099,572865,606799,396599,459199,363799,356899,338436,391599,318299,477399,383399,200899,383299,294399,319199,355799,399099,427799,297299,262099,372999,392599,474399,333240,356999,489399,336899,385199,339499,504255,288699,418399,425599,391874,745853,370099,263899,373499,353899,368799,307299,678699,667699,495199,313799,431499,421699,404699,306352,338699,617699,460899,426799,241699,446999,506399,434899,364799,597799,365699,289099,265899,345999,343899,235499,346677,318079,267599,320699,250499,310199,408399,166999,356099,350799,233499,289499,244506,289399,228099,349899,209699,369599,414399,342099,333199,318899,243999,266999,373399,338599,198399,219599,408299,269299,346299,330398,171599,228899,290899,376699,390399,402899,420399,376999,329199,218999,432099,327899,380599,308899,376699,453099,229599,409699,281099,353699,342299,180499,708199,644000,615399,410788,451699,480299,436399,421699,405899,327699,469799,454499,584699,395599,606599,595299,672599,745699,642899,588299,730599,578399,459199,479500,232199,388899,451499,269399,356199,411999,292199,556099,426999,313774,335199,282096,484799,538199,459599,384799,357799,416099,365999,312799,312699,364499,330220,364499,481299,315899,403999,379699,531299,333624,247999,456699,377750,410599,312899,410799,430499,417899,425999,567899,366099,535199,478399,440099,671499,583799,691699,729299,612699,546599,754799,741599,602799,375799,323699,316199,302663,361399,307199,282099,338799,285399,235599,358399,286399,529699,305599,423899,424399,615799,413999,301074,255099,341799,244349,252299,264999,274899,367099,424399,251899,339299,447499,412899,301799,328199,221899,211699,325999,197799,343699,303999,293699,286599,318736,295885,317599,314399,344599,339844,218601,376799,295999,265599,948899,952999,656399,635099,528099,513299,762399,698899,100599,91699,124999,321799,335999,379999,304827,354229,269639,316199,308399,275399,249599,309999,142999,264397,277499,270899,338699,305199,255299,322699,320299,343999,260899,200699,229499,267599,246499,227299,335899,189899,172940,289299,286799,219599,316299,256999,382399,330999,263625,395399,178299,221699,169831,346099,306799,346399,278199,177899,223899,343399,272199,237999,338199,188899,317699,349199,369799,335399,336299,208499,212599,336265,189969,345399,175599,258899,147299,304299,518099,544699,554899,522366,637199,728166,506699,585599,586699,520399,172599,151899,182299,201799,177499,254853,151015,130999,169999,177409,121199,332627,396899,544999,352399,442799,477214,335599,333099,353768,326199,352499,316838,449999,516399,335700,357799,604299,447072,520399,406899,461599,394685,358199,392199,322299,311199,392199,321199,379020,414599,470199,289999,300899,433983,364599,317999,412499,453199,578899,500899,334499,330899,449699,471999,469199,332299,311500,669899,524399,503299,519099,772699,588999,666999,566399,390399,429499,419699,409199,442399,503599,571713,544999,564399,442799,408599,440099,481799,474899,354299,425299,424199,499199,318699,417499,840899,733899,744799,667699,588399,514299,473199,210799,187199,170399,323699,186699,207199,573999,504737,213413,748585,592875,565599,319399,423299,639999,262499,300999,327799,409599,898699,720399,369700,683899,507199,254199,609299,525799,336699,325099,476099,424399,441699,707999,655899,417599,700699,795699,443799,552999,722699,991699,363099,406788,358999,346099,447399,486599,559299,708799,227299,239599,305199,434399,240199,305899,345799,345999,354899,297399,216699,200299,394099,307559,311999,311099,840799,467199,606099,606399,730299,827599,728599,668999,524199,1045899,977099,740399,977199,282699,306999,255099,614299,429999,407999,283399,320699,466699,290799,490199,328013,502599,520999,376214,372699,271499,212299,216799,232999,344399,271299,327999,313599,203068,308399,239099,270299,218099,204999,234399,195899,303399,362699,348699,210699,258799,350999,314799,330399,220099,293999,288799,253299,422699,430799,561399,418699,436499,378999,454799,463299,444099,510799,379099,401499,438999,455699,403594,313900,242299,420300,297099,353999,297867,305199,261699,264340,258699,183799,252099,451699,212899,263899,337199,433699,219699,316955,276399,402199,276399,340699,312399,267099,232799,486416,286499,195800,288099,193780,177499,254899,250699,286899,258199,286533,191299,256199,723699,571899,385699,479999,530899,605499,468380,408199,452699,459199,699599,481499,347799,475299,504699,535599,390499,409099,333347,444144,407092,370199,406099,446399,424099,425699,388899,426899,441599,379299,160099,181299,240099,274199,693799,679015,263199,211499,300799,218399,194999,217999,244899,371470,391499,418599,979661,1004199,465599,367599,236300,156299,174699,173399,171299,206599,188147,372799,111699,156325,124299,150299,204399,131999,186099,175999,170599,229799,170036,167999,222199,252599,134799,153399,95499,247957,231799,160199,268799,157899,155599,159299,681999,453299,539599,630899,503399,604499,524199,499799,603699,549299,565599,550399,557499,586299,548999,619379,624599,621199,509199,497699,527699,521499,415299,420499,392899,421699,501899,430399,453300,171699,287165,332428,179499,245199,212699,456299,327699,295362,236599,224199,235499,262499,308799,305999,265799,254299,331599,343073,325099,290199,204799,332899,264899,324499,269099,303899,348540,492599,541500,547099,607099,574599,779699,756299,935399,598699,584199,789304,743899,876399,670599,761999,887599,883799,723699,677870,695799,758699,668499,828099,706099,976799,809099,820199,397299,552899,631799,445471,589410,354799,322999,415499,498099,539899,392099,397099,476499,531199,428999,399299,439599,398299,381199,353499,349499,582699,428199,443499,787499,751199,845699,534899,116766,145999,115999,234799,181499,241199,130999,158099,300099,174899,178699,245999,306499,338799,277599,306599,272999,264999,235458,304899,285199,320912,299999,401463,320099,300499,223399,232999,331599,279399,238499,279299,347699,275599,311299,910099,503799,325199,258999,951099,932099,757899,924799,909899,822899,790899,839199,738399,921299,336099,421608,393699,439299,531499,534799,696599,393660,478399,456099,196999,420299,456999,182037,339499,261409,333499,375955,264899,305225,237193,303399,372099,390699,445599,450099,447283,389899,343299,278999,413999,458699,410399,364299,438399,388799,305899,215599,199599,491399,470599,281499,384599,408499,330099,531399,342299,168099,368595,222799,486699,419399,329199,422751,331999,552899,212699,563199,178399,213299,1117599,1192799,806599,921499,1563499,894500,937699,867399,653399,330699,283090,731019,861999,489199,389099,1007106,955799,272299,256399,604106,317999,380699,302899,581899,193099,600399,571599,597099,524699,678499,733199,472499,404786,748899,736599,492724,931499,455899,495266,447899,402399,768899,746299,370399,1017499,897799,824499,984999,914699,305199,303599,344698,202699,338999,186399,315999,248499,343740,242899,228099,187499,181299,303399,255899,936799,356499,377799,336299,571991,408899,364499,424499,752999,495299,1380699,681399,316653,399799,293399,335193,322722,407082,317099,361853,378099,349999,322599,295599,312899,396599,343199,296899,248599,330799,226599,228199,193399,281599,279399,387599,211699,253136,248899,251399,264370,204999,314699,238499,339599,213799,231299,202999,294599,215499,194540,126781,261499,148899,224999,284999,473490,950499,541799,874899,706899,500599,219399,343399,456099,301599,502199,532599,1608699,1697199,556199,427399,738399,681799,189299,316399,371299,306799,279599,330699,264950,248399,285699,223099,269299,276499,931399,758699,860499,125199,176091,510299,253199,309599,341799,279899,322799,229599,252499,481199,305999,452199,384799,372299,376899,434599,292921,783199,672342,931166,366699,109199,351099,433592,134599,391199,1319868,801499,925999,768899,484699,322068,458899,507799,551899,320799,544699,469199,481199,435499,172399,168699,354599,336399,216038,237899,189799,136799,330799,177499,176499,246999,473899,550799,561299,494699,632999,499499,589399,588099,511699,521699,548999,427500,423299,361699,394899,818599,737299,819210,464899,423399,362899,331799,553264,965599,288299,486299,412999,353299,113799,125470,1189399,1012699,1144199,1214099,1091499,256099,206083,228799,327099,413899,383399,480699,429299,344616,398399,410399,409599,377899,309299,383599,390699,461199,375699,551681,440099,369299,270999,603340,630780,687299,694699,589499,648780,266186,273999,665315,578999,551399,523699,256399,374500,296199,276799,437099,321799,343899,227999,301599,347899,378899,425699,264899,296999,378799,339100,343899,365099,406999,402499,308899,420199,330999,383599,389703,1167456,945699,843199,592599,496799,367499,370899,408099,819699,723499,792499,336599,282599,144099,657699,1188855,1246699,380240,254599,246500,315299,289299,274500,387099,360599,404099,564599,451244,315699,414599,445599,474299,427899,392499,526099,378099,402647,512399,505999,516399,472599,354899,282199,834599,684899,396199,342999,204801,248699,198930,505399,384199,443999,327499,458299,354599,898099,560999,701799,549399,469299,632999,700399,154799,668099,694799,595399,891599,1553699,1042699,383199,512610,409299,399899,158199,315364,425799,294461,306399,1654999,617799,579299,559592,569899,195299,317799,361499,324699,322699,297699,278599,388180,415799,482299,1224699,258699,212199,271999,187899,242899,874599,1070040,819099,897299,657499,655099,634699,561899,443699,590199,393899,333399,299500,565799,435399,572899,626499,515199,673199,544599,619199,275399,206641,291268,301505,405499,540762,560972,540399,300899,233299,195399,544199,484199,533799,649499,708899,517199,539099,409599,378899,801299,282199,191599,312099,316699,432199,616999,577499,613299,639499,518471,197299,327499,339199,168299,257499,187407,413600,397299,588899,474899,386799,404299,802599,550399,708599,487199,414399,460199,445899,468299,494999,401599,472499,520199,389299,439399,575799,830014,638199,602799,777899,760699,590999,971199,1155999,1016899,909299,601799,789899,522399,254899,200199,208120,161199,352699,420399,175899,231499,343699,465999,430599,451199,574925,633299,639999,620999,1545999,627399,453999,517199,605899,562700,1152941,278699,253099,306399,271799,579399,723499,420199,643599,653299,557699,598875,292199,301999,1603499,570399,407080,177099,229899,266399,772799,710899,462299,1044499,619899,172999,335299,153999,399899,294699,511399,342599,261299,308799,263799,762799,653099,691899,819497,442899,470799,453932,417420,1032599,674599,594299,844499,723499,534199,595199,493965,486580,328799,710799,577399,315799,652519,1708199,696899,482199,1074299,819999,859499,913599,475199,481899,530299,282899,308899,246599,267199,1399530,578340,845899,1031199,317299,197099,793199,387899,347599,486579,347699,962499,284499,331500,513299,565099,181899,254799,698399,441399,475399,741499,541599,586799,663799,389999,1952397,333399,1028708,1023399,941199,1429399,1457099,1485599,695799,616899,1817180,496999,837499,183099,223499,722328,685899,719099,646399,348699,323599,1156099,511599,519799,472199,124399,755931,119599,1036742,450699,705999,472099,372101,525699,523499,560399,248199,1081500,350599,194499,1378399,323399,412599,1215699,683999,238899,239399,390500,257099,519799,369099,446799,538399,411499,151406,684399,753299,857299,451399,396099,260199,1393799,509899,1001799,643499,212299],\"yaxis\":\"y\",\"type\":\"scattergl\"},{\"hovertemplate\":\"color=Second Owner<br>index=%{x}<br>value=%{y}<extra></extra>\",\"legendgroup\":\"Second Owner\",\"marker\":{\"color\":\"#EF553B\",\"symbol\":\"circle\"},\"mode\":\"markers\",\"name\":\"Second Owner\",\"showlegend\":true,\"x\":[1,2,4,11,15,18,20,21,23,25,27,32,34,41,43,63,66,68,75,77,82,84,86,87,100,104,106,118,119,132,138,145,150,155,156,157,158,163,165,169,176,186,194,208,214,218,219,226,231,233,241,244,252,269,270,272,282,284,285,286,290,292,293,299,300,301,302,305,313,315,319,323,345,350,351,356,360,363,369,372,387,395,403,408,411,412,421,426,440,441,445,451,464,466,481,489,491,493,501,503,506,510,514,515,522,526,530,533,536,538,539,542,543,544,545,549,554,558,561,566,569,575,576,580,585,591,592,595,600,601,602,603,606,608,613,617,625,627,630,637,642,644,647,649,650,659,672,674,680,683,691,711,719,720,722,727,729,732,733,734,744,746,748,757,760,764,768,785,791,796,799,800,801,809,821,822,824,827,831,834,835,838,844,846,848,852,859,867,868,877,888,902,903,904,908,911,913,917,925,934,939,945,953,958,964,967,972,978,979,980,981,983,984,986,988,992,993,999,1000,1001,1003,1004,1006,1017,1018,1020,1024,1030,1036,1046,1050,1051,1056,1058,1067,1074,1080,1105,1107,1126,1132,1139,1144,1154,1168,1173,1175,1180,1186,1191,1200,1207,1208,1209,1215,1216,1223,1230,1235,1238,1240,1244,1247,1251,1252,1273,1277,1278,1282,1287,1289,1297,1298,1300,1302,1314,1316,1322,1323,1328,1332,1334,1347,1349,1362,1365,1366,1375,1378,1389,1393,1408,1411,1416,1421,1423,1427,1434,1436,1441,1442,1443,1463,1464,1470,1471,1476,1481,1484,1493,1495,1496,1498,1499,1502,1510,1516,1521,1522,1523,1528,1529,1531,1534,1538,1541,1545,1554,1555,1558,1560,1564,1576,1578,1579,1584,1586,1591,1592,1596,1597,1600,1601,1602,1604,1611,1617,1621,1633,1634,1648,1649,1651,1654,1661,1664,1670,1675,1676,1677,1686,1691,1709,1710,1711,1727,1733,1746,1762,1765,1767,1769,1776,1777,1779,1780,1781,1782,1787,1819,1821,1832,1841,1842,1846,1849,1854,1861,1862,1878,1881,1883,1896,1902,1922,1933,1936,1941,1945,1948,1950,1953,1955,1958,1969,1975,1989,1997,2001,2011,2020,2027,2029,2030,2031,2034,2036,2037,2041,2043,2046,2049,2077,2094,2096,2102,2104,2106,2114,2116,2120,2130,2134,2148,2151,2159,2165,2183,2186,2190,2195,2196,2199,2200,2202,2204,2206,2208,2210,2221,2230,2232],\"xaxis\":\"x\",\"y\":[242499,381699,239499,312289,316000,361899,218299,265599,395899,349575,244899,308199,228399,201199,311899,260240,254199,244180,283699,259699,297999,213426,242399,272999,250799,258937,222899,341399,292399,371399,228599,229399,294046,524199,412499,365244,535565,542699,208243,432499,420099,483499,344499,538299,452799,293619,434599,256599,403099,324099,248899,199599,333999,228199,317299,290699,388699,235699,428999,231299,250200,338699,353199,336899,276299,216441,305198,260899,385999,585299,410740,322699,307599,336099,283799,354699,495899,296500,336999,297199,384799,340499,655442,290099,310199,297799,309934,351399,384899,415670,391199,235699,326999,307999,250399,211099,247499,174461,156499,322599,214599,324099,313199,173699,219299,159299,292199,182499,312699,240199,154899,240299,180199,334599,128899,234199,229890,320099,209099,239642,343899,166099,174299,552899,554899,222252,214499,116199,248099,78599,183399,134099,220199,120399,435299,307830,418499,441299,297299,287999,529199,299699,314599,456399,333399,446599,556999,648299,447799,373299,451799,625199,258799,195599,315099,464510,323699,227399,657599,478699,279592,483999,705899,241099,889799,489835,761699,199500,320570,244399,318599,352699,219168,726106,291099,275499,671199,241899,317799,327099,374599,356499,331599,240099,224999,279799,160399,200299,225120,335999,374435,257599,259899,398999,241199,210834,292999,293776,244699,249299,257879,263299,259199,380599,549199,565999,362199,327344,323699,340706,527799,307699,401599,448299,400199,355899,368481,149199,180599,209499,202499,201699,126017,249899,276399,420999,420399,78799,133599,228499,251699,91699,118499,229399,165199,551799,548199,275099,218799,258899,294840,463899,424099,592899,345499,291499,464679,522899,537599,381199,451799,210099,298899,209499,194278,182599,184383,286599,253199,289699,279899,373799,257199,323499,296399,441599,576757,534199,451399,294599,252399,292699,397033,208199,345799,356852,378499,224499,133199,193499,524499,492799,199899,199499,322499,518499,690099,443699,355530,309199,413099,340899,318999,204799,219399,214599,300699,413326,382199,376499,291899,332699,462199,210899,346999,242599,254699,285199,180699,283199,142117,122999,266299,231199,177099,822193,335899,247399,233099,211199,377499,544299,615399,548899,175030,1082099,221199,894499,1043299,733290,115999,291899,218899,351099,341199,308599,373199,351799,470799,210151,149899,420499,104289,75299,487799,305864,402399,358999,120299,292699,144097,266099,317199,926599,764599,306099,427799,1045599,1057482,814299,189769,335499,271599,294099,299999,436299,330690,321799,550699,286499,1011799,839899,1035199,891199,1145699,291099,98799,409299,225999,169955,113799,494115,127599,534399,1505899,370199,185699,554799,586199,201208,131299,157199,351399,579399,526099,583999,323599,423799,867599,1409199,227899,277399,160099,231699,417299,603799,110599,277499,168899,560885,575599,228918,269668,376799,633180,294799,414299,266599,603899,526899,459599,261599,678908,447399,264499,308899,399499,994599,456099,608699,1092599,266299,785099,281702,284199,321814,689099,564399,306190,782799,685830,552399,150099,103199,1420537,348599,133599,444499,674399,1395599,189199,138199],\"yaxis\":\"y\",\"type\":\"scattergl\"},{\"hovertemplate\":\"color=Third Owner<br>index=%{x}<br>value=%{y}<extra></extra>\",\"legendgroup\":\"Third Owner\",\"marker\":{\"color\":\"#00cc96\",\"symbol\":\"circle\"},\"mode\":\"markers\",\"name\":\"Third Owner\",\"showlegend\":true,\"x\":[13,61,205,238,259,347,396,407,547,590,673,718,723,735,743,766,778,788,837,840,856,884,900,909,919,935,1027,1034,1039,1045,1070,1104,1106,1183,1193,1212,1214,1228,1241,1377,1414,1420,1439,1486,1501,1514,1540,1547,1567,1573,1575,1590,1669,1672,1678,1707,1708,1719,1735,1739,1809,1811,1817,1840,1852,1876,1899,1914,1928,1947,2004,2025,2032,2063,2100,2115,2132,2169],\"xaxis\":\"x\",\"y\":[180899,274599,349299,149181,197438,339099,456099,146870,241599,211799,522080,228500,241699,369099,237399,462542,270999,336326,417099,416299,143099,270500,410399,420399,314999,339899,345199,111799,160099,189999,83399,181699,168099,403399,359999,182811,201599,301299,411398,365299,193582,251899,283599,185887,200628,283400,954099,274799,333499,312099,278199,433399,131199,228099,873802,422399,227099,141599,401699,250028,301399,243299,186699,511099,206899,483499,318899,244899,253499,1054799,242899,412999,147099,181500,118999,386799,307499,944299],\"yaxis\":\"y\",\"type\":\"scattergl\"}],                        {\"template\":{\"data\":{\"bar\":[{\"error_x\":{\"color\":\"#2a3f5f\"},\"error_y\":{\"color\":\"#2a3f5f\"},\"marker\":{\"line\":{\"color\":\"#E5ECF6\",\"width\":0.5},\"pattern\":{\"fillmode\":\"overlay\",\"size\":10,\"solidity\":0.2}},\"type\":\"bar\"}],\"barpolar\":[{\"marker\":{\"line\":{\"color\":\"#E5ECF6\",\"width\":0.5},\"pattern\":{\"fillmode\":\"overlay\",\"size\":10,\"solidity\":0.2}},\"type\":\"barpolar\"}],\"carpet\":[{\"aaxis\":{\"endlinecolor\":\"#2a3f5f\",\"gridcolor\":\"white\",\"linecolor\":\"white\",\"minorgridcolor\":\"white\",\"startlinecolor\":\"#2a3f5f\"},\"baxis\":{\"endlinecolor\":\"#2a3f5f\",\"gridcolor\":\"white\",\"linecolor\":\"white\",\"minorgridcolor\":\"white\",\"startlinecolor\":\"#2a3f5f\"},\"type\":\"carpet\"}],\"choropleth\":[{\"colorbar\":{\"outlinewidth\":0,\"ticks\":\"\"},\"type\":\"choropleth\"}],\"contour\":[{\"colorbar\":{\"outlinewidth\":0,\"ticks\":\"\"},\"colorscale\":[[0.0,\"#0d0887\"],[0.1111111111111111,\"#46039f\"],[0.2222222222222222,\"#7201a8\"],[0.3333333333333333,\"#9c179e\"],[0.4444444444444444,\"#bd3786\"],[0.5555555555555556,\"#d8576b\"],[0.6666666666666666,\"#ed7953\"],[0.7777777777777778,\"#fb9f3a\"],[0.8888888888888888,\"#fdca26\"],[1.0,\"#f0f921\"]],\"type\":\"contour\"}],\"contourcarpet\":[{\"colorbar\":{\"outlinewidth\":0,\"ticks\":\"\"},\"type\":\"contourcarpet\"}],\"heatmap\":[{\"colorbar\":{\"outlinewidth\":0,\"ticks\":\"\"},\"colorscale\":[[0.0,\"#0d0887\"],[0.1111111111111111,\"#46039f\"],[0.2222222222222222,\"#7201a8\"],[0.3333333333333333,\"#9c179e\"],[0.4444444444444444,\"#bd3786\"],[0.5555555555555556,\"#d8576b\"],[0.6666666666666666,\"#ed7953\"],[0.7777777777777778,\"#fb9f3a\"],[0.8888888888888888,\"#fdca26\"],[1.0,\"#f0f921\"]],\"type\":\"heatmap\"}],\"heatmapgl\":[{\"colorbar\":{\"outlinewidth\":0,\"ticks\":\"\"},\"colorscale\":[[0.0,\"#0d0887\"],[0.1111111111111111,\"#46039f\"],[0.2222222222222222,\"#7201a8\"],[0.3333333333333333,\"#9c179e\"],[0.4444444444444444,\"#bd3786\"],[0.5555555555555556,\"#d8576b\"],[0.6666666666666666,\"#ed7953\"],[0.7777777777777778,\"#fb9f3a\"],[0.8888888888888888,\"#fdca26\"],[1.0,\"#f0f921\"]],\"type\":\"heatmapgl\"}],\"histogram\":[{\"marker\":{\"pattern\":{\"fillmode\":\"overlay\",\"size\":10,\"solidity\":0.2}},\"type\":\"histogram\"}],\"histogram2d\":[{\"colorbar\":{\"outlinewidth\":0,\"ticks\":\"\"},\"colorscale\":[[0.0,\"#0d0887\"],[0.1111111111111111,\"#46039f\"],[0.2222222222222222,\"#7201a8\"],[0.3333333333333333,\"#9c179e\"],[0.4444444444444444,\"#bd3786\"],[0.5555555555555556,\"#d8576b\"],[0.6666666666666666,\"#ed7953\"],[0.7777777777777778,\"#fb9f3a\"],[0.8888888888888888,\"#fdca26\"],[1.0,\"#f0f921\"]],\"type\":\"histogram2d\"}],\"histogram2dcontour\":[{\"colorbar\":{\"outlinewidth\":0,\"ticks\":\"\"},\"colorscale\":[[0.0,\"#0d0887\"],[0.1111111111111111,\"#46039f\"],[0.2222222222222222,\"#7201a8\"],[0.3333333333333333,\"#9c179e\"],[0.4444444444444444,\"#bd3786\"],[0.5555555555555556,\"#d8576b\"],[0.6666666666666666,\"#ed7953\"],[0.7777777777777778,\"#fb9f3a\"],[0.8888888888888888,\"#fdca26\"],[1.0,\"#f0f921\"]],\"type\":\"histogram2dcontour\"}],\"mesh3d\":[{\"colorbar\":{\"outlinewidth\":0,\"ticks\":\"\"},\"type\":\"mesh3d\"}],\"parcoords\":[{\"line\":{\"colorbar\":{\"outlinewidth\":0,\"ticks\":\"\"}},\"type\":\"parcoords\"}],\"pie\":[{\"automargin\":true,\"type\":\"pie\"}],\"scatter\":[{\"marker\":{\"colorbar\":{\"outlinewidth\":0,\"ticks\":\"\"}},\"type\":\"scatter\"}],\"scatter3d\":[{\"line\":{\"colorbar\":{\"outlinewidth\":0,\"ticks\":\"\"}},\"marker\":{\"colorbar\":{\"outlinewidth\":0,\"ticks\":\"\"}},\"type\":\"scatter3d\"}],\"scattercarpet\":[{\"marker\":{\"colorbar\":{\"outlinewidth\":0,\"ticks\":\"\"}},\"type\":\"scattercarpet\"}],\"scattergeo\":[{\"marker\":{\"colorbar\":{\"outlinewidth\":0,\"ticks\":\"\"}},\"type\":\"scattergeo\"}],\"scattergl\":[{\"marker\":{\"colorbar\":{\"outlinewidth\":0,\"ticks\":\"\"}},\"type\":\"scattergl\"}],\"scattermapbox\":[{\"marker\":{\"colorbar\":{\"outlinewidth\":0,\"ticks\":\"\"}},\"type\":\"scattermapbox\"}],\"scatterpolar\":[{\"marker\":{\"colorbar\":{\"outlinewidth\":0,\"ticks\":\"\"}},\"type\":\"scatterpolar\"}],\"scatterpolargl\":[{\"marker\":{\"colorbar\":{\"outlinewidth\":0,\"ticks\":\"\"}},\"type\":\"scatterpolargl\"}],\"scatterternary\":[{\"marker\":{\"colorbar\":{\"outlinewidth\":0,\"ticks\":\"\"}},\"type\":\"scatterternary\"}],\"surface\":[{\"colorbar\":{\"outlinewidth\":0,\"ticks\":\"\"},\"colorscale\":[[0.0,\"#0d0887\"],[0.1111111111111111,\"#46039f\"],[0.2222222222222222,\"#7201a8\"],[0.3333333333333333,\"#9c179e\"],[0.4444444444444444,\"#bd3786\"],[0.5555555555555556,\"#d8576b\"],[0.6666666666666666,\"#ed7953\"],[0.7777777777777778,\"#fb9f3a\"],[0.8888888888888888,\"#fdca26\"],[1.0,\"#f0f921\"]],\"type\":\"surface\"}],\"table\":[{\"cells\":{\"fill\":{\"color\":\"#EBF0F8\"},\"line\":{\"color\":\"white\"}},\"header\":{\"fill\":{\"color\":\"#C8D4E3\"},\"line\":{\"color\":\"white\"}},\"type\":\"table\"}]},\"layout\":{\"annotationdefaults\":{\"arrowcolor\":\"#2a3f5f\",\"arrowhead\":0,\"arrowwidth\":1},\"autotypenumbers\":\"strict\",\"coloraxis\":{\"colorbar\":{\"outlinewidth\":0,\"ticks\":\"\"}},\"colorscale\":{\"diverging\":[[0,\"#8e0152\"],[0.1,\"#c51b7d\"],[0.2,\"#de77ae\"],[0.3,\"#f1b6da\"],[0.4,\"#fde0ef\"],[0.5,\"#f7f7f7\"],[0.6,\"#e6f5d0\"],[0.7,\"#b8e186\"],[0.8,\"#7fbc41\"],[0.9,\"#4d9221\"],[1,\"#276419\"]],\"sequential\":[[0.0,\"#0d0887\"],[0.1111111111111111,\"#46039f\"],[0.2222222222222222,\"#7201a8\"],[0.3333333333333333,\"#9c179e\"],[0.4444444444444444,\"#bd3786\"],[0.5555555555555556,\"#d8576b\"],[0.6666666666666666,\"#ed7953\"],[0.7777777777777778,\"#fb9f3a\"],[0.8888888888888888,\"#fdca26\"],[1.0,\"#f0f921\"]],\"sequentialminus\":[[0.0,\"#0d0887\"],[0.1111111111111111,\"#46039f\"],[0.2222222222222222,\"#7201a8\"],[0.3333333333333333,\"#9c179e\"],[0.4444444444444444,\"#bd3786\"],[0.5555555555555556,\"#d8576b\"],[0.6666666666666666,\"#ed7953\"],[0.7777777777777778,\"#fb9f3a\"],[0.8888888888888888,\"#fdca26\"],[1.0,\"#f0f921\"]]},\"colorway\":[\"#636efa\",\"#EF553B\",\"#00cc96\",\"#ab63fa\",\"#FFA15A\",\"#19d3f3\",\"#FF6692\",\"#B6E880\",\"#FF97FF\",\"#FECB52\"],\"font\":{\"color\":\"#2a3f5f\"},\"geo\":{\"bgcolor\":\"white\",\"lakecolor\":\"white\",\"landcolor\":\"#E5ECF6\",\"showlakes\":true,\"showland\":true,\"subunitcolor\":\"white\"},\"hoverlabel\":{\"align\":\"left\"},\"hovermode\":\"closest\",\"mapbox\":{\"style\":\"light\"},\"paper_bgcolor\":\"white\",\"plot_bgcolor\":\"#E5ECF6\",\"polar\":{\"angularaxis\":{\"gridcolor\":\"white\",\"linecolor\":\"white\",\"ticks\":\"\"},\"bgcolor\":\"#E5ECF6\",\"radialaxis\":{\"gridcolor\":\"white\",\"linecolor\":\"white\",\"ticks\":\"\"}},\"scene\":{\"xaxis\":{\"backgroundcolor\":\"#E5ECF6\",\"gridcolor\":\"white\",\"gridwidth\":2,\"linecolor\":\"white\",\"showbackground\":true,\"ticks\":\"\",\"zerolinecolor\":\"white\"},\"yaxis\":{\"backgroundcolor\":\"#E5ECF6\",\"gridcolor\":\"white\",\"gridwidth\":2,\"linecolor\":\"white\",\"showbackground\":true,\"ticks\":\"\",\"zerolinecolor\":\"white\"},\"zaxis\":{\"backgroundcolor\":\"#E5ECF6\",\"gridcolor\":\"white\",\"gridwidth\":2,\"linecolor\":\"white\",\"showbackground\":true,\"ticks\":\"\",\"zerolinecolor\":\"white\"}},\"shapedefaults\":{\"line\":{\"color\":\"#2a3f5f\"}},\"ternary\":{\"aaxis\":{\"gridcolor\":\"white\",\"linecolor\":\"white\",\"ticks\":\"\"},\"baxis\":{\"gridcolor\":\"white\",\"linecolor\":\"white\",\"ticks\":\"\"},\"bgcolor\":\"#E5ECF6\",\"caxis\":{\"gridcolor\":\"white\",\"linecolor\":\"white\",\"ticks\":\"\"}},\"title\":{\"x\":0.05},\"xaxis\":{\"automargin\":true,\"gridcolor\":\"white\",\"linecolor\":\"white\",\"ticks\":\"\",\"title\":{\"standoff\":15},\"zerolinecolor\":\"white\",\"zerolinewidth\":2},\"yaxis\":{\"automargin\":true,\"gridcolor\":\"white\",\"linecolor\":\"white\",\"ticks\":\"\",\"title\":{\"standoff\":15},\"zerolinecolor\":\"white\",\"zerolinewidth\":2}}},\"xaxis\":{\"anchor\":\"y\",\"domain\":[0.0,1.0],\"title\":{\"text\":\"index\"}},\"yaxis\":{\"anchor\":\"x\",\"domain\":[0.0,1.0],\"title\":{\"text\":\"value\"}},\"legend\":{\"title\":{\"text\":\"color\"},\"tracegroupgap\":0},\"margin\":{\"t\":60}},                        {\"responsive\": true}                    ).then(function(){\n",
              "                            \n",
              "var gd = document.getElementById('c47a4fb4-dee9-4359-aab2-d094cd707787');\n",
              "var x = new MutationObserver(function (mutations, observer) {{\n",
              "        var display = window.getComputedStyle(gd).display;\n",
              "        if (!display || display === 'none') {{\n",
              "            console.log([gd, 'removed!']);\n",
              "            Plotly.purge(gd);\n",
              "            observer.disconnect();\n",
              "        }}\n",
              "}});\n",
              "\n",
              "// Listen for the removal of the full notebook cells\n",
              "var notebookContainer = gd.closest('#notebook-container');\n",
              "if (notebookContainer) {{\n",
              "    x.observe(notebookContainer, {childList: true});\n",
              "}}\n",
              "\n",
              "// Listen for the clearing of the current output cell\n",
              "var outputEl = gd.closest('.output');\n",
              "if (outputEl) {{\n",
              "    x.observe(outputEl, {childList: true});\n",
              "}}\n",
              "\n",
              "                        })                };                            </script>        </div>\n",
              "</body>\n",
              "</html>"
            ]
          },
          "metadata": {}
        }
      ]
    },
    {
      "cell_type": "code",
      "source": [
        "df['Transmission'].unique()"
      ],
      "metadata": {
        "colab": {
          "base_uri": "https://localhost:8080/"
        },
        "id": "S8gkxgu97V4R",
        "outputId": "89f9f1cf-3045-4bce-e177-a33c886162fc"
      },
      "execution_count": 18,
      "outputs": [
        {
          "output_type": "execute_result",
          "data": {
            "text/plain": [
              "array(['MANUAL', 'MH12', 'TS07', 'KA01', 'MH05', 'DL5C', 'DL9C', 'MH04',\n",
              "       'TS08', 'AUTOMATIC', 'UP14', 'UP32', 'HR03', 'MH01', 'DL2C',\n",
              "       'KA05', 'KA50', 'KA53', 'DL12', 'DL11', 'GJ27', 'TN12', 'TN02',\n",
              "       'HR26', 'MH03', 'MH47', 'TS09', 'RJ14', 'TN06', 'MH43', 'DL4C',\n",
              "       'KA02', 'MH02', 'RJ45', 'DL3C', 'TN22', 'KA04', 'MH46', 'KA51',\n",
              "       'PB91', 'DL8C', 'GJ18', 'HR51', 'DL10', 'HR29', 'KA03', 'DL14',\n",
              "       'GJ05', 'GJ01', 'PB10', 'MH14', 'UP78', 'GJ06', 'Ch01', 'HR05',\n",
              "       'HR12', 'DL1C', 'PB11'], dtype=object)"
            ]
          },
          "metadata": {},
          "execution_count": 18
        }
      ]
    },
    {
      "cell_type": "markdown",
      "source": [
        "Transmission column has many values other than manual or automatic. You need to handle this and one way to do it can be to replace all of them with the mode (the most frequent value). That is MANUAL in this case."
      ],
      "metadata": {
        "id": "UPEOH4dZ7dcK"
      }
    },
    {
      "cell_type": "code",
      "source": [
        "def clean_transmission(trans):\n",
        "    \n",
        "    if 'MANUAL' != trans and 'AUTOMATIC' != trans:\n",
        "        trans = \"MANUAL\"\n",
        "    \n",
        "    return trans\n",
        "\n",
        "df['Transmission'] = df['Transmission'].apply(clean_transmission)"
      ],
      "metadata": {
        "id": "dxQTBFSu7ZcT"
      },
      "execution_count": 19,
      "outputs": []
    },
    {
      "cell_type": "markdown",
      "source": [
        "Insurance column had some null values. let's replace them with the most frequent value."
      ],
      "metadata": {
        "id": "DUNS35CL7itt"
      }
    },
    {
      "cell_type": "code",
      "source": [
        "from sklearn.impute import SimpleImputer\n",
        "\n",
        "mode_imputer = SimpleImputer(strategy=\"most_frequent\")\n",
        "df['Insurance'] = mode_imputer.fit_transform(df['Insurance'].values.reshape(-1, 1))"
      ],
      "metadata": {
        "id": "tMLIJeNz7kzq"
      },
      "execution_count": 20,
      "outputs": []
    },
    {
      "cell_type": "markdown",
      "source": [
        "Let's derive a feature from the insurance column, to indicate whether the insurance has expired or not."
      ],
      "metadata": {
        "id": "aagDYm_H7odJ"
      }
    },
    {
      "cell_type": "code",
      "source": [
        "df['Insurance_Expired'] = 0\n",
        "df.loc[df['Insurance'] == 'Expired', 'Insurance_Expired'] = 1"
      ],
      "metadata": {
        "id": "7VyS75uo7pO5"
      },
      "execution_count": 21,
      "outputs": []
    },
    {
      "cell_type": "code",
      "source": [
        "fig = px.scatter(df['Selling Price'], color=df['Insurance_Expired'])\n",
        "fig.show()"
      ],
      "metadata": {
        "colab": {
          "base_uri": "https://localhost:8080/",
          "height": 542
        },
        "id": "shA48Ay87pjJ",
        "outputId": "263eeb5d-da36-48eb-ccc0-14202b10403c"
      },
      "execution_count": 22,
      "outputs": [
        {
          "output_type": "display_data",
          "data": {
            "text/html": [
              "<html>\n",
              "<head><meta charset=\"utf-8\" /></head>\n",
              "<body>\n",
              "    <div>            <script src=\"https://cdnjs.cloudflare.com/ajax/libs/mathjax/2.7.5/MathJax.js?config=TeX-AMS-MML_SVG\"></script><script type=\"text/javascript\">if (window.MathJax) {MathJax.Hub.Config({SVG: {font: \"STIX-Web\"}});}</script>                <script type=\"text/javascript\">window.PlotlyConfig = {MathJaxConfig: 'local'};</script>\n",
              "        <script src=\"https://cdn.plot.ly/plotly-2.8.3.min.js\"></script>                <div id=\"d244a1b4-073d-48f3-9269-0ae51c0764bd\" class=\"plotly-graph-div\" style=\"height:525px; width:100%;\"></div>            <script type=\"text/javascript\">                                    window.PLOTLYENV=window.PLOTLYENV || {};                                    if (document.getElementById(\"d244a1b4-073d-48f3-9269-0ae51c0764bd\")) {                    Plotly.newPlot(                        \"d244a1b4-073d-48f3-9269-0ae51c0764bd\",                        [{\"hovertemplate\":\"index=%{x}<br>value=%{y}<br>color=%{marker.color}<extra></extra>\",\"legendgroup\":\"\",\"marker\":{\"color\":[1,0,0,0,0,0,0,0,0,0,0,0,0,1,0,0,0,1,0,0,0,0,0,0,0,0,0,1,0,0,0,0,0,0,0,0,0,0,0,0,0,0,0,0,0,0,0,0,0,0,0,0,0,0,1,0,0,1,0,0,0,0,0,0,0,0,0,0,0,0,0,0,0,0,0,0,0,0,0,0,0,0,0,0,0,0,0,0,0,0,0,0,0,0,0,0,0,0,0,0,0,0,0,1,0,0,0,0,0,0,1,0,0,1,0,0,0,0,0,0,0,0,0,1,0,0,0,0,1,1,0,0,0,0,0,0,1,1,1,0,0,0,0,0,1,0,0,0,0,0,0,0,0,0,1,0,1,1,1,0,0,0,0,1,0,0,0,0,0,0,1,0,0,0,0,0,0,0,0,0,0,0,1,0,0,0,0,0,1,0,0,0,0,0,0,0,0,0,0,0,0,0,1,0,0,0,0,0,0,0,0,0,0,0,0,0,0,0,0,0,0,0,0,0,0,0,0,0,0,0,0,0,0,0,0,0,0,1,0,0,0,0,0,0,1,1,0,0,0,0,0,0,0,0,0,0,0,0,0,1,0,0,0,0,0,0,0,0,0,0,0,0,0,0,0,1,0,1,0,0,0,1,0,0,0,0,0,0,0,0,0,0,0,0,0,0,0,0,0,0,0,0,0,0,0,0,0,0,0,0,0,0,0,0,0,1,0,0,1,0,0,0,0,0,0,0,1,0,0,0,0,0,0,0,0,0,0,0,0,0,0,0,0,0,0,0,1,0,0,0,0,0,0,0,0,0,1,0,0,0,0,0,0,0,0,0,0,0,0,0,1,0,0,0,0,0,0,0,1,0,0,0,0,0,0,0,0,0,0,0,0,0,0,0,0,0,0,0,0,0,0,0,0,0,0,0,0,1,1,0,0,0,1,0,0,0,0,1,1,0,0,0,0,0,0,0,1,0,0,0,0,0,1,0,1,0,0,0,1,0,0,0,0,0,0,0,1,0,0,0,0,0,0,0,0,0,0,0,0,0,0,0,0,0,1,0,0,0,0,0,0,0,0,0,0,0,0,0,0,0,0,0,0,0,0,0,0,0,0,0,0,0,1,0,0,0,0,0,0,0,0,0,0,0,0,0,0,0,0,0,0,0,0,0,1,0,0,0,0,1,0,0,0,0,0,0,0,0,0,0,0,0,0,0,0,0,0,0,1,1,0,0,0,0,0,0,0,0,0,0,0,0,0,0,0,0,0,0,0,0,0,0,0,0,0,0,0,0,0,0,0,0,0,0,1,0,0,0,1,0,0,0,0,0,0,0,1,1,0,1,0,0,0,1,0,1,0,0,0,0,0,0,0,0,0,0,1,0,0,0,0,0,1,0,0,0,0,0,1,0,0,0,0,0,0,0,0,0,0,0,0,0,0,1,0,0,0,0,0,0,0,0,0,0,0,0,0,0,1,0,0,0,0,0,0,0,0,1,0,1,0,1,0,0,0,0,0,0,0,0,0,0,0,0,0,0,0,0,1,0,0,0,0,0,0,0,0,0,0,0,0,0,1,0,0,0,0,0,0,1,0,0,1,0,0,0,0,0,0,0,0,0,0,0,0,0,0,0,0,0,1,0,1,0,0,0,0,0,0,0,0,0,0,0,1,0,0,0,0,0,0,0,0,1,0,0,0,0,0,0,0,0,0,0,0,0,0,0,0,0,0,0,0,0,0,0,0,0,0,0,0,0,0,0,0,0,0,0,0,0,1,0,0,0,1,0,1,0,0,1,0,0,1,1,1,0,1,0,0,0,0,0,0,0,0,0,0,0,0,0,0,0,0,1,1,0,0,0,0,0,0,1,0,0,0,0,0,1,0,0,0,0,0,0,0,0,0,0,0,0,0,1,0,0,0,0,0,0,0,0,0,1,0,0,0,0,0,0,0,0,0,0,0,0,1,0,0,1,0,0,0,0,0,0,0,0,0,1,0,0,0,0,0,0,1,0,1,0,0,0,0,0,0,0,0,0,0,0,0,0,0,0,1,0,0,0,0,0,0,0,0,0,0,0,0,0,0,0,0,0,0,0,1,0,0,0,0,0,0,0,0,0,0,1,1,0,0,0,0,0,0,1,0,0,0,0,0,0,0,0,0,0,0,0,0,0,1,0,1,0,0,0,0,0,0,0,0,0,0,0,1,0,1,0,0,0,0,0,0,0,0,0,0,0,0,0,0,0,0,0,0,1,0,0,0,0,0,0,0,0,0,0,0,0,0,0,0,0,0,0,0,0,0,1,1,0,0,1,0,1,0,0,0,0,0,0,0,1,0,0,0,0,0,0,0,0,0,0,1,0,0,0,0,0,0,0,0,0,0,0,0,0,0,0,0,0,0,0,1,0,1,0,0,0,1,0,1,0,0,0,0,0,0,0,0,0,1,0,0,0,0,0,0,0,0,0,0,0,1,0,0,0,0,0,0,0,0,1,1,0,0,0,0,0,1,0,0,0,0,1,0,0,0,0,1,0,0,0,0,0,0,0,0,0,0,1,0,0,0,0,0,0,0,0,1,0,1,0,0,1,0,0,1,0,1,0,0,0,1,1,0,0,0,0,0,0,0,0,0,0,0,0,0,0,0,0,0,0,0,0,1,0,0,1,0,1,0,0,0,1,0,0,0,0,0,0,0,0,0,0,0,0,0,0,0,0,1,1,0,0,0,0,0,0,1,0,0,1,0,0,0,0,0,0,0,0,1,1,0,0,0,0,0,0,0,0,0,0,0,0,1,0,0,0,0,0,0,0,0,0,0,0,0,0,0,0,0,0,0,0,0,0,0,0,0,0,0,0,0,0,1,0,0,0,0,0,0,0,0,0,0,0,0,0,0,0,0,0,0,0,0,0,0,0,1,0,0,0,0,0,0,0,1,0,1,1,0,0,0,0,0,0,0,0,0,0,0,1,0,0,0,0,1,0,0,0,0,1,0,0,0,0,0,0,0,0,0,0,1,0,0,0,0,0,0,0,0,0,0,0,0,0,0,0,0,1,1,0,0,0,1,0,0,1,0,0,0,1,0,0,0,0,1,0,0,0,0,0,0,0,0,0,0,0,0,0,0,1,1,1,0,1,0,0,0,0,0,0,0,0,0,1,0,0,0,0,0,0,0,0,0,0,0,0,0,1,0,0,0,0,0,0,1,0,0,1,0,0,0,0,0,0,0,0,0,0,0,1,0,0,0,0,0,0,1,0,0,0,0,1,0,0,0,0,0,0,0,0,1,0,1,1,0,0,0,1,0,0,1,1,0,1,0,0,1,0,0,0,0,0,0,0,1,0,0,0,0,0,0,0,0,0,0,0,0,0,0,0,0,0,0,0,0,0,0,0,1,0,0,0,0,0,0,0,0,0,0,0,0,0,0,0,0,0,0,0,0,0,0,0,0,0,1,0,0,0,0,0,0,1,0,0,0,0,0,1,1,0,0,0,0,0,0,0,0,0,0,1,0,0,0,0,0,0,1,0,1,0,0,0,0,0,0,0,0,0,0,0,0,0,0,0,0,0,1,1,1,0,0,0,0,0,0,0,0,0,0,0,1,0,0,1,0,0,0,0,0,0,0,0,0,0,1,0,0,0,0,0,1,0,0,0,1,0,1,0,0,0,0,0,0,0,0,0,0,0,0,0,0,0,0,0,1,0,0,1,0,0,0,0,0,0,0,0,0,0,0,0,0,0,0,0,0,0,0,1,0,1,0,1,0,0,0,0,0,1,0,0,0,0,0,0,0,0,0,0,0,0,0,0,0,0,0,0,0,0,0,0,0,0,0,1,0,0,0,0,0,0,0,0,0,0,0,0,0,0,0,1,0,0,0,0,0,0,0,0,0,0,1,1,0,0,0,0,0,0,0,1,0,1,0,0,0,0,0,0,0,0,0,1,0,0,0,0,0,0,0,0,0,0,0,0,0,0,0,0,0,0,0,0,0,1,1,0,1,0,0,0,0,0,0,0,1,0,0,0,0,0,0,0,0,1,0,0,0,0,0,0,0,0,1,1,0,0,0,0,1,0,0,0,0,1,0,1,0,0,0,0,1,0,0,0,0,0,0,1,1,0,1,0,0,0,0,1,0,0,0,1,0,0,0,0,0,0,0,0,0,0,0,0,0,0,1,0,0,0,0,0,0,0,0,0,1,0,0,0,0,0,0,0,0,0,0,0,0,0,0,0,0,0,1,0,0,0,0,0,0,0,0,1,0,0,0,0,0,0,0,1,0,0,0,0,0,0,0,1,0,0,0,0,0,1,0,0,0,0,0,0,0,0,0,0,0,0,0,0,1,0,0,0,0,0,0,0,0,0,0,1,0,0,0,0,0,0,0,0,0,0,0,0,0,1,1,0,0,0,0,0,0,0,0,0,1,0,0,0,0,0,0,0,0,0,0,0,0,0,0,0,0,0,0,0,0,0,0,0,0,0,0,0,0,0,0,0,0,0,0,0,0,0,0,0,0,0,0,0,0,0,0,0,1,1,0,0,0,0,0,0,0,0,0,0,1,0,0,0,0,0,0,0,1,0,0,0,0,0,0,0,0,0,1,1,0,0,0,0,0,0,0,0,0,0,0,0,0,0,0,0,0,0,0,0,0,0,0,0,0,0,0,0,0,0,0,0,0,0,0,1,0,0,0,0,0,1,0,0,0,0,0,0,0,0,0,0,0,0,0,0,0,0,0,0,0,0,1,0,1,0,0,0,0,0,0,0,0,0,0,1,0,0,0,0,0,0,0,0,0,0,0,0,0,0,0,1,0,0,0,1,0,0,0,0,0,0,1,0,1,0,0,0,0,0,0,1,0,0,0,0,0,0,0,0,0,0,0,0,0,0,0,0,1,0,0,1,0,0,1,0,0,0,0,0,0,0,0,1,0,1,0,0,0,1,0,0,0,0,0,0,0,0,1,0,0,0,0,0,0,0,0,0,0,0,0,0,0,0,0,0,0,0,0,0,0,0,0,0,0,1,0,0,0,0,0,0,0,0,1,0,0,0,0,0,0,0,1],\"coloraxis\":\"coloraxis\",\"symbol\":\"circle\"},\"mode\":\"markers\",\"name\":\"\",\"showlegend\":false,\"x\":[0,1,2,3,4,5,6,7,8,9,10,11,12,13,14,15,16,17,18,19,20,21,22,23,24,25,26,27,28,29,30,31,32,33,34,35,36,37,38,39,40,41,42,43,44,45,46,47,48,49,50,51,52,53,54,55,56,57,58,59,60,61,62,63,64,65,66,67,68,69,70,71,72,73,74,75,76,77,78,79,80,81,82,83,84,85,86,87,88,89,90,91,92,93,94,95,96,97,98,99,100,101,102,103,104,105,106,107,108,109,110,111,112,113,114,115,116,117,118,119,120,121,122,123,124,125,126,127,128,129,130,131,132,133,134,135,136,137,138,139,140,141,142,143,144,145,146,147,148,149,150,151,152,153,154,155,156,157,158,159,160,161,162,163,164,165,166,167,168,169,170,171,172,173,174,175,176,177,178,179,180,181,182,183,184,185,186,187,188,189,190,191,192,193,194,195,196,197,198,199,200,201,202,203,204,205,206,207,208,209,210,211,212,213,214,215,216,217,218,219,220,221,222,223,224,225,226,227,228,229,230,231,232,233,234,235,236,237,238,239,240,241,242,243,244,245,246,247,248,249,250,251,252,253,254,255,256,257,258,259,260,261,262,263,264,265,266,267,268,269,270,271,272,273,274,275,276,277,278,279,280,281,282,283,284,285,286,287,288,289,290,291,292,293,294,295,296,297,298,299,300,301,302,303,304,305,306,307,308,309,310,311,312,313,314,315,316,317,318,319,320,321,322,323,324,325,326,327,328,329,330,331,332,333,334,335,336,337,338,339,340,341,342,343,344,345,346,347,348,349,350,351,352,353,354,355,356,357,358,359,360,361,362,363,364,365,366,367,368,369,370,371,372,373,374,375,376,377,378,379,380,381,382,383,384,385,386,387,388,389,390,391,392,393,394,395,396,397,398,399,400,401,402,403,404,405,406,407,408,409,410,411,412,413,414,415,416,417,418,419,420,421,422,423,424,425,426,427,428,429,430,431,432,433,434,435,436,437,438,439,440,441,442,443,444,445,446,447,448,449,450,451,452,453,454,455,456,457,458,459,460,461,462,463,464,465,466,467,468,469,470,471,472,473,474,475,476,477,478,479,480,481,482,483,484,485,486,487,488,489,490,491,492,493,494,495,496,497,498,499,500,501,502,503,504,505,506,507,508,509,510,511,512,513,514,515,516,517,518,519,520,521,522,523,524,525,526,527,528,529,530,531,532,533,534,535,536,537,538,539,540,541,542,543,544,545,546,547,548,549,550,551,552,553,554,555,556,557,558,559,560,561,562,563,564,565,566,567,568,569,570,571,572,573,574,575,576,577,578,579,580,581,582,583,584,585,586,587,588,589,590,591,592,593,594,595,596,597,598,599,600,601,602,603,604,605,606,607,608,609,610,611,612,613,614,615,616,617,618,619,620,621,622,623,624,625,626,627,628,629,630,631,632,633,634,635,636,637,638,639,640,641,642,643,644,645,646,647,648,649,650,651,652,653,654,655,656,657,658,659,660,661,662,663,664,665,666,667,668,669,670,671,672,673,674,675,676,677,678,679,680,681,682,683,684,685,686,687,688,689,690,691,692,693,694,695,696,697,698,699,700,701,702,703,704,705,706,707,708,709,710,711,712,713,714,715,716,717,718,719,720,721,722,723,724,725,726,727,728,729,730,731,732,733,734,735,736,737,738,739,740,741,742,743,744,745,746,747,748,749,750,751,752,753,754,755,756,757,758,759,760,761,762,763,764,765,766,767,768,769,770,771,772,773,774,775,776,777,778,779,780,781,782,783,784,785,786,787,788,789,790,791,792,793,794,795,796,797,798,799,800,801,802,803,804,805,806,807,808,809,810,811,812,813,814,815,816,817,818,819,820,821,822,823,824,825,826,827,828,829,830,831,832,833,834,835,836,837,838,839,840,841,842,843,844,845,846,847,848,849,850,851,852,853,854,855,856,857,858,859,860,861,862,863,864,865,866,867,868,869,870,871,872,873,874,875,876,877,878,879,880,881,882,883,884,885,886,887,888,889,890,891,892,893,894,895,896,897,898,899,900,901,902,903,904,905,906,907,908,909,910,911,912,913,914,915,916,917,918,919,920,921,922,923,924,925,926,927,928,929,930,931,932,933,934,935,936,937,938,939,940,941,942,943,944,945,946,947,948,949,950,951,952,953,954,955,956,957,958,959,960,961,962,963,964,965,966,967,968,969,970,971,972,973,974,975,976,977,978,979,980,981,982,983,984,985,986,987,988,989,990,991,992,993,994,995,996,997,998,999,1000,1001,1002,1003,1004,1005,1006,1007,1008,1009,1010,1011,1012,1013,1014,1015,1016,1017,1018,1019,1020,1021,1022,1023,1024,1025,1026,1027,1028,1029,1030,1031,1032,1033,1034,1035,1036,1037,1038,1039,1040,1041,1042,1043,1044,1045,1046,1047,1048,1049,1050,1051,1052,1053,1054,1055,1056,1057,1058,1059,1060,1061,1062,1063,1064,1065,1066,1067,1068,1069,1070,1071,1072,1073,1074,1075,1076,1077,1078,1079,1080,1081,1082,1083,1084,1085,1086,1087,1088,1089,1090,1091,1092,1093,1094,1095,1096,1097,1098,1099,1100,1101,1102,1103,1104,1105,1106,1107,1108,1109,1110,1111,1112,1113,1114,1115,1116,1117,1118,1119,1120,1121,1122,1123,1124,1125,1126,1127,1128,1129,1130,1131,1132,1133,1134,1135,1136,1137,1138,1139,1140,1141,1142,1143,1144,1145,1146,1147,1148,1149,1150,1151,1152,1153,1154,1155,1156,1157,1158,1159,1160,1161,1162,1163,1164,1165,1166,1167,1168,1169,1170,1171,1172,1173,1174,1175,1176,1177,1178,1179,1180,1181,1182,1183,1184,1185,1186,1187,1188,1189,1190,1191,1192,1193,1194,1195,1196,1197,1198,1199,1200,1201,1202,1203,1204,1205,1206,1207,1208,1209,1210,1211,1212,1213,1214,1215,1216,1217,1218,1219,1220,1221,1222,1223,1224,1225,1226,1227,1228,1229,1230,1231,1232,1233,1234,1235,1236,1237,1238,1239,1240,1241,1242,1243,1244,1245,1246,1247,1248,1249,1250,1251,1252,1253,1254,1255,1256,1257,1258,1259,1260,1261,1262,1263,1264,1265,1266,1267,1268,1269,1270,1271,1272,1273,1274,1275,1276,1277,1278,1279,1280,1281,1282,1283,1284,1285,1286,1287,1288,1289,1290,1291,1292,1293,1294,1295,1296,1297,1298,1299,1300,1301,1302,1303,1304,1305,1306,1307,1308,1309,1310,1311,1312,1313,1314,1315,1316,1317,1318,1319,1320,1321,1322,1323,1324,1325,1326,1327,1328,1329,1330,1331,1332,1333,1334,1335,1336,1337,1338,1339,1340,1341,1342,1343,1344,1345,1346,1347,1348,1349,1350,1351,1352,1353,1354,1355,1356,1357,1358,1359,1360,1361,1362,1363,1364,1365,1366,1367,1368,1369,1370,1371,1372,1373,1374,1375,1376,1377,1378,1379,1380,1381,1382,1383,1384,1385,1386,1387,1388,1389,1390,1391,1392,1393,1394,1395,1396,1397,1398,1399,1400,1401,1402,1403,1404,1405,1406,1407,1408,1409,1410,1411,1412,1413,1414,1415,1416,1417,1418,1419,1420,1421,1422,1423,1424,1425,1426,1427,1428,1429,1430,1431,1432,1433,1434,1435,1436,1437,1438,1439,1440,1441,1442,1443,1444,1445,1446,1447,1448,1449,1450,1451,1452,1453,1454,1455,1456,1457,1458,1459,1460,1461,1462,1463,1464,1465,1466,1467,1468,1469,1470,1471,1472,1473,1474,1475,1476,1477,1478,1479,1480,1481,1482,1483,1484,1485,1486,1487,1488,1489,1490,1491,1492,1493,1494,1495,1496,1497,1498,1499,1500,1501,1502,1503,1504,1505,1506,1507,1508,1509,1510,1511,1512,1513,1514,1515,1516,1517,1518,1519,1520,1521,1522,1523,1524,1525,1526,1527,1528,1529,1530,1531,1532,1533,1534,1535,1536,1537,1538,1539,1540,1541,1542,1543,1544,1545,1546,1547,1548,1549,1550,1551,1552,1553,1554,1555,1556,1557,1558,1559,1560,1561,1562,1563,1564,1565,1566,1567,1568,1569,1570,1571,1572,1573,1574,1575,1576,1577,1578,1579,1580,1581,1582,1583,1584,1585,1586,1587,1588,1589,1590,1591,1592,1593,1594,1595,1596,1597,1598,1599,1600,1601,1602,1603,1604,1605,1606,1607,1608,1609,1610,1611,1612,1613,1614,1615,1616,1617,1618,1619,1620,1621,1622,1623,1624,1625,1626,1627,1628,1629,1630,1631,1632,1633,1634,1635,1636,1637,1638,1639,1640,1641,1642,1643,1644,1645,1646,1647,1648,1649,1650,1651,1652,1653,1654,1655,1656,1657,1658,1659,1660,1661,1662,1663,1664,1665,1666,1667,1668,1669,1670,1671,1672,1673,1674,1675,1676,1677,1678,1679,1680,1681,1682,1683,1684,1685,1686,1687,1688,1689,1690,1691,1692,1693,1694,1695,1696,1697,1698,1699,1700,1701,1702,1703,1704,1705,1706,1707,1708,1709,1710,1711,1712,1713,1714,1715,1716,1717,1718,1719,1720,1721,1722,1723,1724,1725,1726,1727,1728,1729,1730,1731,1732,1733,1734,1735,1736,1737,1738,1739,1740,1741,1742,1743,1744,1745,1746,1747,1748,1749,1750,1751,1752,1753,1754,1755,1756,1757,1758,1759,1760,1761,1762,1763,1764,1765,1766,1767,1768,1769,1770,1771,1772,1773,1774,1775,1776,1777,1778,1779,1780,1781,1782,1783,1784,1785,1786,1787,1788,1789,1790,1791,1792,1793,1794,1795,1796,1797,1798,1799,1800,1801,1802,1803,1804,1805,1806,1807,1808,1809,1810,1811,1812,1813,1814,1815,1816,1817,1818,1819,1820,1821,1822,1823,1824,1825,1826,1827,1828,1829,1830,1831,1832,1833,1834,1835,1836,1837,1838,1839,1840,1841,1842,1843,1844,1845,1846,1847,1848,1849,1850,1851,1852,1853,1854,1855,1856,1857,1858,1859,1860,1861,1862,1863,1864,1865,1866,1867,1868,1869,1870,1871,1872,1873,1874,1875,1876,1877,1878,1879,1880,1881,1882,1883,1884,1885,1886,1887,1888,1889,1890,1891,1892,1893,1894,1895,1896,1897,1898,1899,1900,1901,1902,1903,1904,1905,1906,1907,1908,1909,1910,1911,1912,1913,1914,1915,1916,1917,1918,1919,1920,1921,1922,1923,1924,1925,1926,1927,1928,1929,1930,1931,1932,1933,1934,1935,1936,1937,1938,1939,1940,1941,1942,1943,1944,1945,1946,1947,1948,1949,1950,1951,1952,1953,1954,1955,1956,1957,1958,1959,1960,1961,1962,1963,1964,1965,1966,1967,1968,1969,1970,1971,1972,1973,1974,1975,1976,1977,1978,1979,1980,1981,1982,1983,1984,1985,1986,1987,1988,1989,1990,1991,1992,1993,1994,1995,1996,1997,1998,1999,2000,2001,2002,2003,2004,2005,2006,2007,2008,2009,2010,2011,2012,2013,2014,2015,2016,2017,2018,2019,2020,2021,2022,2023,2024,2025,2026,2027,2028,2029,2030,2031,2032,2033,2034,2035,2036,2037,2038,2039,2040,2041,2042,2043,2044,2045,2046,2047,2048,2049,2050,2051,2052,2053,2054,2055,2056,2057,2058,2059,2060,2061,2062,2063,2064,2065,2066,2067,2068,2069,2070,2071,2072,2073,2074,2075,2076,2077,2078,2079,2080,2081,2082,2083,2084,2085,2086,2087,2088,2089,2090,2091,2092,2093,2094,2095,2096,2097,2098,2099,2100,2101,2102,2103,2104,2105,2106,2107,2108,2109,2110,2111,2112,2113,2114,2115,2116,2117,2118,2119,2120,2121,2122,2123,2124,2125,2126,2127,2128,2129,2130,2131,2132,2133,2134,2135,2136,2137,2138,2139,2140,2141,2142,2143,2144,2145,2146,2147,2148,2149,2150,2151,2152,2153,2154,2155,2156,2157,2158,2159,2160,2161,2162,2163,2164,2165,2166,2167,2168,2169,2170,2171,2172,2173,2174,2175,2176,2177,2178,2179,2180,2181,2182,2183,2184,2185,2186,2187,2188,2189,2190,2191,2192,2193,2194,2195,2196,2197,2198,2199,2200,2201,2202,2203,2204,2205,2206,2207,2208,2209,2210,2211,2212,2213,2216,2217,2218,2219,2220,2221,2222,2223,2224,2225,2226,2227,2228,2229,2230,2231,2232,2233,2234,2235,2236],\"xaxis\":\"x\",\"y\":[312165,242499,381699,181999,239499,324899,479914,301599,322321,346799,329299,312289,358999,180899,399499,316000,248199,345799,361899,286999,218299,265599,416499,395899,272099,349575,380399,244899,303399,255899,218399,262499,308199,223499,228399,399495,329599,197576,392599,245599,395511,201199,313799,311899,274499,344599,326356,326899,263599,326099,318099,311199,326399,295999,180996,332699,309399,225899,324399,223399,332799,274599,281399,260240,299799,343899,254199,345199,244180,269099,309199,272974,269199,257899,336899,283699,278599,259699,339904,224899,221399,279499,297999,242899,213426,220999,242399,272999,331599,261499,277099,295699,290999,335661,280999,261499,314799,309199,261199,231699,250799,274099,289599,268887,258937,225199,222899,349499,266799,221299,382227,285899,335499,277499,301499,339799,435199,260699,341399,292399,315999,406799,428599,562599,661399,461122,376199,377899,301899,556363,433099,388499,371399,281699,710064,391099,311399,281999,228599,546799,313699,450358,318199,353099,437699,229399,306720,366899,528799,311399,294046,286199,434299,427499,490499,524199,412499,365244,535565,314099,572865,606799,396599,542699,459199,208243,363799,356899,338436,432499,391599,318299,477399,383399,200899,383299,420099,294399,319199,355799,399099,427799,297299,262099,372999,392599,483499,474399,333240,356999,489399,336899,385199,339499,344499,504255,288699,418399,425599,391874,745853,370099,263899,373499,353899,349299,368799,307299,538299,678699,667699,495199,313799,431499,452799,421699,404699,306352,293619,434599,338699,617699,460899,426799,241699,446999,256599,506399,434899,364799,597799,403099,365699,324099,289099,265899,345999,343899,149181,235499,346677,248899,318079,267599,199599,320699,250499,310199,408399,166999,356099,350799,333999,233499,289499,244506,289399,228099,349899,197438,209699,369599,414399,342099,333199,318899,243999,266999,373399,228199,317299,338599,290699,198399,219599,408299,269299,346299,330398,171599,228899,290899,388699,376699,235699,428999,231299,390399,402899,420399,250200,376999,338699,353199,329199,218999,432099,327899,380599,336899,276299,216441,305198,308899,376699,260899,453099,229599,409699,281099,353699,342299,180499,385999,708199,585299,644000,615399,410788,410740,451699,480299,436399,322699,421699,405899,327699,469799,454499,584699,395599,606599,595299,672599,745699,642899,588299,730599,578399,459199,479500,232199,388899,451499,269399,307599,356199,339099,411999,292199,336099,283799,556099,426999,313774,335199,354699,282096,484799,538199,495899,459599,384799,296500,357799,416099,365999,312799,312699,336999,364499,330220,297199,364499,481299,315899,403999,379699,531299,333624,247999,456699,377750,410599,312899,410799,430499,384799,417899,425999,567899,366099,535199,478399,440099,340499,456099,671499,583799,691699,729299,612699,546599,655442,754799,741599,602799,146870,290099,375799,323699,310199,297799,316199,302663,361399,307199,282099,338799,285399,235599,309934,358399,286399,529699,305599,351399,423899,424399,615799,413999,301074,255099,341799,244349,252299,264999,274899,367099,424399,384899,415670,251899,339299,447499,391199,412899,301799,328199,221899,211699,235699,325999,197799,343699,303999,293699,286599,318736,295885,317599,314399,344599,339844,326999,218601,307999,376799,295999,265599,948899,952999,656399,635099,528099,513299,762399,698899,100599,91699,124999,250399,321799,335999,379999,304827,354229,269639,316199,211099,308399,247499,275399,174461,249599,309999,142999,264397,277499,270899,338699,156499,305199,322599,255299,322699,214599,320299,343999,260899,324099,200699,229499,267599,313199,173699,246499,227299,335899,189899,172940,289299,219299,286799,219599,316299,159299,256999,382399,330999,292199,263625,395399,182499,178299,221699,312699,169831,240199,154899,346099,306799,240299,180199,334599,128899,346399,241599,278199,234199,177899,223899,343399,272199,229890,237999,338199,188899,320099,317699,349199,209099,369799,335399,336299,208499,239642,212599,336265,343899,189969,345399,175599,258899,147299,166099,174299,304299,518099,544699,552899,554899,522366,637199,728166,554899,506699,585599,586699,520399,211799,222252,214499,172599,151899,116199,182299,201799,177499,254853,248099,78599,183399,134099,151015,130999,220199,169999,120399,177409,121199,332627,396899,435299,544999,352399,442799,307830,477214,335599,333099,353768,326199,352499,316838,418499,449999,441299,516399,335700,297299,357799,604299,447072,520399,406899,461599,287999,394685,358199,392199,322299,529199,311199,299699,392199,321199,314599,379020,456399,333399,414599,470199,289999,300899,433983,364599,317999,412499,446599,453199,578899,500899,334499,330899,449699,471999,469199,332299,311500,669899,524399,556999,522080,648299,503299,519099,772699,588999,666999,447799,566399,390399,373299,429499,419699,409199,442399,503599,571713,544999,451799,564399,442799,408599,440099,481799,474899,354299,425299,424199,499199,318699,417499,840899,733899,744799,667699,588399,514299,473199,625199,210799,187199,170399,323699,186699,207199,228500,258799,195599,573999,315099,241699,504737,213413,748585,464510,592875,323699,565599,319399,227399,657599,478699,369099,423299,639999,262499,300999,327799,409599,898699,237399,279592,720399,483999,369700,705899,683899,507199,254199,609299,525799,336699,325099,476099,241099,424399,441699,889799,707999,655899,417599,489835,700699,462542,795699,761699,443799,552999,722699,991699,363099,406788,358999,346099,447399,270999,486599,559299,708799,227299,239599,305199,199500,434399,240199,336326,305899,345799,320570,345999,354899,297399,216699,244399,200299,394099,318599,352699,219168,307559,311999,311099,840799,467199,606099,606399,726106,730299,827599,728599,668999,524199,1045899,977099,740399,977199,282699,306999,291099,275499,255099,671199,614299,429999,241899,407999,283399,320699,317799,466699,290799,327099,374599,490199,417099,356499,328013,416299,502599,520999,376214,331599,372699,240099,271499,224999,212299,216799,232999,279799,344399,271299,327999,143099,313599,203068,160399,308399,239099,270299,218099,204999,234399,195899,200299,225120,303399,362699,348699,210699,258799,350999,314799,330399,335999,220099,293999,288799,253299,422699,430799,270500,561399,418699,436499,374435,378999,454799,463299,444099,510799,379099,401499,438999,455699,403594,313900,410399,242299,257599,259899,398999,420300,297099,353999,241199,420399,297867,210834,305199,292999,261699,264340,258699,293776,183799,314999,252099,451699,212899,263899,337199,244699,433699,219699,316955,276399,402199,276399,340699,312399,249299,339899,267099,232799,486416,257879,286499,195800,288099,193780,177499,263299,254899,250699,286899,258199,286533,191299,256199,259199,723699,571899,385699,479999,380599,530899,605499,468380,408199,452699,549199,459199,699599,565999,481499,347799,475299,504699,362199,535599,390499,409099,333347,444144,327344,323699,340706,527799,407092,307699,401599,370199,448299,406099,400199,446399,424099,425699,355899,368481,388899,426899,441599,379299,160099,149199,180599,209499,181299,202499,201699,240099,126017,274199,693799,679015,263199,211499,300799,218399,194999,217999,244899,249899,276399,371470,420999,391499,418599,979661,420399,1004199,465599,345199,367599,236300,78799,156299,174699,173399,111799,171299,133599,206599,188147,160099,372799,111699,156325,124299,150299,189999,228499,204399,131999,186099,251699,91699,175999,170599,229799,170036,118499,167999,229399,222199,252599,134799,153399,95499,247957,231799,160199,165199,268799,157899,83399,155599,159299,681999,551799,453299,539599,630899,503399,604499,548199,524199,499799,603699,549299,565599,550399,557499,586299,548999,619379,624599,621199,509199,497699,527699,521499,415299,420499,392899,421699,501899,430399,453300,181699,275099,168099,218799,171699,287165,332428,179499,245199,212699,456299,327699,295362,236599,224199,235499,262499,308799,305999,265799,254299,331599,258899,343073,325099,290199,204799,332899,294840,264899,324499,269099,303899,348540,492599,463899,541500,547099,607099,574599,424099,779699,756299,935399,598699,584199,789304,743899,876399,670599,592899,761999,887599,883799,723699,677870,695799,758699,668499,828099,706099,976799,809099,820199,345499,397299,552899,631799,445471,291499,589410,464679,354799,322999,415499,498099,522899,539899,392099,403399,397099,476499,537599,531199,428999,399299,439599,381199,398299,359999,381199,353499,349499,582699,428199,443499,451799,787499,751199,845699,534899,116766,145999,210099,298899,209499,115999,234799,182811,181499,201599,194278,182599,241199,130999,158099,300099,174899,178699,184383,245999,306499,338799,277599,301299,306599,286599,272999,264999,235458,304899,253199,285199,320912,289699,299999,279899,411398,401463,320099,373799,300499,223399,257199,232999,331599,279399,323499,296399,238499,279299,347699,275599,311299,910099,503799,325199,258999,951099,932099,757899,924799,909899,822899,790899,839199,738399,921299,336099,441599,421608,393699,439299,576757,534199,531499,534799,696599,451399,393660,478399,456099,196999,294599,420299,252399,456999,182037,339499,261409,333499,375955,264899,292699,397033,305225,208199,237193,345799,303399,372099,390699,445599,450099,447283,389899,343299,278999,413999,458699,356852,410399,378499,364299,438399,388799,305899,215599,224499,133199,199599,491399,470599,281499,193499,384599,408499,330099,524499,531399,492799,342299,168099,368595,222799,486699,419399,329199,422751,331999,552899,212699,563199,199899,178399,199499,213299,1117599,1192799,806599,921499,1563499,894500,937699,867399,653399,330699,283090,322499,731019,861999,518499,690099,489199,389099,1007106,955799,272299,256399,604106,317999,443699,380699,365299,355530,302899,581899,193099,600399,571599,597099,524699,678499,733199,472499,309199,404786,748899,736599,413099,492724,931499,455899,495266,447899,402399,768899,746299,370399,1017499,897799,824499,984999,914699,340899,305199,303599,318999,344698,202699,193582,338999,204799,186399,315999,248499,251899,219399,343740,214599,242899,228099,187499,300699,181299,303399,255899,936799,356499,377799,413326,336299,382199,571991,408899,283599,364499,376499,291899,332699,424499,752999,495299,1380699,681399,316653,399799,293399,335193,322722,407082,317099,361853,378099,349999,322599,295599,312899,396599,462199,210899,343199,296899,248599,330799,226599,346999,242599,228199,193399,281599,279399,254699,387599,211699,253136,248899,285199,251399,264370,180699,204999,185887,314699,238499,339599,213799,231299,202999,283199,294599,142117,122999,215499,266299,231199,194540,200628,177099,126781,261499,148899,224999,284999,473490,950499,822193,541799,874899,706899,283400,500599,335899,219399,343399,456099,301599,247399,233099,211199,502199,532599,1608699,1697199,377499,544299,556199,615399,427399,738399,548899,681799,189299,316399,175030,371299,954099,1082099,306799,279599,330699,221199,264950,274799,248399,285699,223099,269299,276499,931399,894499,1043299,758699,860499,733290,125199,115999,176091,510299,253199,291899,309599,341799,333499,279899,322799,229599,252499,481199,312099,305999,278199,218899,452199,351099,341199,384799,372299,376899,434599,308599,292921,373199,783199,672342,931166,433399,351799,470799,366699,109199,351099,210151,149899,433592,134599,420499,104289,75299,391199,487799,1319868,801499,925999,768899,484699,322068,305864,458899,507799,551899,320799,544699,402399,469199,481199,435499,358999,172399,168699,354599,336399,216038,237899,189799,136799,330799,177499,176499,120299,292699,246999,473899,550799,561299,494699,632999,499499,589399,588099,511699,521699,548999,427500,144097,266099,423299,317199,361699,394899,926599,818599,737299,819210,464899,423399,362899,764599,331799,553264,306099,965599,288299,486299,412999,131199,427799,353299,228099,113799,125470,1045599,1057482,814299,873802,1189399,1012699,1144199,1214099,1091499,256099,206083,189769,228799,327099,413899,383399,335499,480699,429299,344616,398399,410399,409599,377899,309299,383599,390699,461199,375699,551681,440099,369299,422399,227099,271599,294099,299999,270999,603340,630780,687299,694699,589499,648780,141599,266186,273999,665315,578999,551399,523699,256399,436299,374500,296199,276799,437099,321799,330690,343899,401699,227999,301599,347899,250028,378899,425699,264899,296999,378799,339100,321799,343899,365099,406999,402499,308899,420199,330999,383599,389703,1167456,945699,843199,592599,496799,367499,550699,370899,408099,286499,819699,1011799,723499,839899,792499,336599,282599,144099,657699,1188855,1035199,891199,1246699,1145699,291099,98799,409299,380240,254599,246500,315299,225999,289299,274500,387099,360599,404099,564599,451244,315699,414599,445599,474299,427899,392499,526099,378099,402647,512399,505999,516399,472599,354899,301399,282199,243299,834599,684899,396199,342999,204801,186699,248699,169955,198930,113799,505399,384199,443999,327499,458299,354599,898099,560999,701799,549399,494115,469299,632999,700399,154799,668099,694799,595399,511099,127599,534399,891599,1553699,1042699,1505899,383199,512610,370199,409299,399899,206899,158199,185699,315364,425799,294461,306399,1654999,617799,554799,586199,579299,559592,569899,195299,317799,361499,324699,322699,297699,278599,388180,415799,482299,483499,1224699,201208,258699,212199,131299,271999,157199,187899,242899,874599,1070040,819099,897299,657499,655099,634699,561899,443699,590199,351399,393899,333399,318899,299500,565799,579399,435399,572899,626499,515199,673199,544599,619199,275399,206641,291268,301505,244899,405499,540762,560972,540399,300899,233299,195399,526099,544199,484199,533799,649499,708899,253499,517199,539099,409599,378899,583999,801299,282199,323599,191599,312099,316699,432199,423799,616999,577499,613299,867599,639499,1054799,1409199,518471,227899,197299,327499,277399,339199,160099,168299,257499,231699,187407,413600,397299,588899,474899,386799,404299,802599,550399,708599,417299,487199,414399,460199,445899,468299,603799,494999,401599,472499,520199,389299,439399,575799,830014,638199,602799,777899,760699,590999,110599,971199,1155999,1016899,909299,601799,789899,522399,277499,254899,200199,208120,168899,161199,352699,242899,420399,175899,231499,343699,465999,430599,560885,451199,574925,633299,639999,620999,1545999,627399,453999,575599,517199,605899,562700,1152941,412999,278699,228918,253099,269668,376799,633180,147099,306399,294799,271799,414299,266599,579399,723499,420199,603899,643599,526899,653299,557699,459599,598875,292199,261599,301999,1603499,570399,407080,177099,229899,266399,772799,710899,462299,1044499,619899,172999,181500,335299,153999,399899,294699,511399,342599,261299,308799,263799,762799,653099,691899,819497,678908,442899,470799,453932,417420,1032599,674599,594299,844499,723499,534199,595199,493965,486580,328799,710799,577399,447399,315799,264499,652519,1708199,696899,118999,482199,308899,1074299,399499,819999,994599,859499,913599,475199,481899,530299,282899,308899,456099,386799,608699,246599,267199,1399530,1092599,578340,845899,1031199,317299,197099,793199,387899,347599,486579,266299,347699,307499,962499,785099,284499,331500,513299,565099,181899,254799,698399,441399,475399,741499,541599,586799,663799,281702,389999,1952397,284199,333399,1028708,1023399,941199,1429399,1457099,1485599,321814,695799,616899,1817180,496999,837499,689099,183099,223499,722328,944299,685899,719099,646399,348699,323599,1156099,511599,519799,472199,124399,755931,119599,1036742,564399,450699,705999,306190,472099,372101,525699,782799,523499,560399,248199,1081500,685830,552399,350599,194499,150099,103199,1378399,1420537,323399,348599,412599,133599,1215699,444499,683999,674399,238899,239399,390500,257099,519799,369099,446799,538399,1395599,411499,151406,684399,753299,857299,451399,396099,260199,189199,1393799,138199,509899,1001799,643499,212299],\"yaxis\":\"y\",\"type\":\"scattergl\"}],                        {\"template\":{\"data\":{\"bar\":[{\"error_x\":{\"color\":\"#2a3f5f\"},\"error_y\":{\"color\":\"#2a3f5f\"},\"marker\":{\"line\":{\"color\":\"#E5ECF6\",\"width\":0.5},\"pattern\":{\"fillmode\":\"overlay\",\"size\":10,\"solidity\":0.2}},\"type\":\"bar\"}],\"barpolar\":[{\"marker\":{\"line\":{\"color\":\"#E5ECF6\",\"width\":0.5},\"pattern\":{\"fillmode\":\"overlay\",\"size\":10,\"solidity\":0.2}},\"type\":\"barpolar\"}],\"carpet\":[{\"aaxis\":{\"endlinecolor\":\"#2a3f5f\",\"gridcolor\":\"white\",\"linecolor\":\"white\",\"minorgridcolor\":\"white\",\"startlinecolor\":\"#2a3f5f\"},\"baxis\":{\"endlinecolor\":\"#2a3f5f\",\"gridcolor\":\"white\",\"linecolor\":\"white\",\"minorgridcolor\":\"white\",\"startlinecolor\":\"#2a3f5f\"},\"type\":\"carpet\"}],\"choropleth\":[{\"colorbar\":{\"outlinewidth\":0,\"ticks\":\"\"},\"type\":\"choropleth\"}],\"contour\":[{\"colorbar\":{\"outlinewidth\":0,\"ticks\":\"\"},\"colorscale\":[[0.0,\"#0d0887\"],[0.1111111111111111,\"#46039f\"],[0.2222222222222222,\"#7201a8\"],[0.3333333333333333,\"#9c179e\"],[0.4444444444444444,\"#bd3786\"],[0.5555555555555556,\"#d8576b\"],[0.6666666666666666,\"#ed7953\"],[0.7777777777777778,\"#fb9f3a\"],[0.8888888888888888,\"#fdca26\"],[1.0,\"#f0f921\"]],\"type\":\"contour\"}],\"contourcarpet\":[{\"colorbar\":{\"outlinewidth\":0,\"ticks\":\"\"},\"type\":\"contourcarpet\"}],\"heatmap\":[{\"colorbar\":{\"outlinewidth\":0,\"ticks\":\"\"},\"colorscale\":[[0.0,\"#0d0887\"],[0.1111111111111111,\"#46039f\"],[0.2222222222222222,\"#7201a8\"],[0.3333333333333333,\"#9c179e\"],[0.4444444444444444,\"#bd3786\"],[0.5555555555555556,\"#d8576b\"],[0.6666666666666666,\"#ed7953\"],[0.7777777777777778,\"#fb9f3a\"],[0.8888888888888888,\"#fdca26\"],[1.0,\"#f0f921\"]],\"type\":\"heatmap\"}],\"heatmapgl\":[{\"colorbar\":{\"outlinewidth\":0,\"ticks\":\"\"},\"colorscale\":[[0.0,\"#0d0887\"],[0.1111111111111111,\"#46039f\"],[0.2222222222222222,\"#7201a8\"],[0.3333333333333333,\"#9c179e\"],[0.4444444444444444,\"#bd3786\"],[0.5555555555555556,\"#d8576b\"],[0.6666666666666666,\"#ed7953\"],[0.7777777777777778,\"#fb9f3a\"],[0.8888888888888888,\"#fdca26\"],[1.0,\"#f0f921\"]],\"type\":\"heatmapgl\"}],\"histogram\":[{\"marker\":{\"pattern\":{\"fillmode\":\"overlay\",\"size\":10,\"solidity\":0.2}},\"type\":\"histogram\"}],\"histogram2d\":[{\"colorbar\":{\"outlinewidth\":0,\"ticks\":\"\"},\"colorscale\":[[0.0,\"#0d0887\"],[0.1111111111111111,\"#46039f\"],[0.2222222222222222,\"#7201a8\"],[0.3333333333333333,\"#9c179e\"],[0.4444444444444444,\"#bd3786\"],[0.5555555555555556,\"#d8576b\"],[0.6666666666666666,\"#ed7953\"],[0.7777777777777778,\"#fb9f3a\"],[0.8888888888888888,\"#fdca26\"],[1.0,\"#f0f921\"]],\"type\":\"histogram2d\"}],\"histogram2dcontour\":[{\"colorbar\":{\"outlinewidth\":0,\"ticks\":\"\"},\"colorscale\":[[0.0,\"#0d0887\"],[0.1111111111111111,\"#46039f\"],[0.2222222222222222,\"#7201a8\"],[0.3333333333333333,\"#9c179e\"],[0.4444444444444444,\"#bd3786\"],[0.5555555555555556,\"#d8576b\"],[0.6666666666666666,\"#ed7953\"],[0.7777777777777778,\"#fb9f3a\"],[0.8888888888888888,\"#fdca26\"],[1.0,\"#f0f921\"]],\"type\":\"histogram2dcontour\"}],\"mesh3d\":[{\"colorbar\":{\"outlinewidth\":0,\"ticks\":\"\"},\"type\":\"mesh3d\"}],\"parcoords\":[{\"line\":{\"colorbar\":{\"outlinewidth\":0,\"ticks\":\"\"}},\"type\":\"parcoords\"}],\"pie\":[{\"automargin\":true,\"type\":\"pie\"}],\"scatter\":[{\"marker\":{\"colorbar\":{\"outlinewidth\":0,\"ticks\":\"\"}},\"type\":\"scatter\"}],\"scatter3d\":[{\"line\":{\"colorbar\":{\"outlinewidth\":0,\"ticks\":\"\"}},\"marker\":{\"colorbar\":{\"outlinewidth\":0,\"ticks\":\"\"}},\"type\":\"scatter3d\"}],\"scattercarpet\":[{\"marker\":{\"colorbar\":{\"outlinewidth\":0,\"ticks\":\"\"}},\"type\":\"scattercarpet\"}],\"scattergeo\":[{\"marker\":{\"colorbar\":{\"outlinewidth\":0,\"ticks\":\"\"}},\"type\":\"scattergeo\"}],\"scattergl\":[{\"marker\":{\"colorbar\":{\"outlinewidth\":0,\"ticks\":\"\"}},\"type\":\"scattergl\"}],\"scattermapbox\":[{\"marker\":{\"colorbar\":{\"outlinewidth\":0,\"ticks\":\"\"}},\"type\":\"scattermapbox\"}],\"scatterpolar\":[{\"marker\":{\"colorbar\":{\"outlinewidth\":0,\"ticks\":\"\"}},\"type\":\"scatterpolar\"}],\"scatterpolargl\":[{\"marker\":{\"colorbar\":{\"outlinewidth\":0,\"ticks\":\"\"}},\"type\":\"scatterpolargl\"}],\"scatterternary\":[{\"marker\":{\"colorbar\":{\"outlinewidth\":0,\"ticks\":\"\"}},\"type\":\"scatterternary\"}],\"surface\":[{\"colorbar\":{\"outlinewidth\":0,\"ticks\":\"\"},\"colorscale\":[[0.0,\"#0d0887\"],[0.1111111111111111,\"#46039f\"],[0.2222222222222222,\"#7201a8\"],[0.3333333333333333,\"#9c179e\"],[0.4444444444444444,\"#bd3786\"],[0.5555555555555556,\"#d8576b\"],[0.6666666666666666,\"#ed7953\"],[0.7777777777777778,\"#fb9f3a\"],[0.8888888888888888,\"#fdca26\"],[1.0,\"#f0f921\"]],\"type\":\"surface\"}],\"table\":[{\"cells\":{\"fill\":{\"color\":\"#EBF0F8\"},\"line\":{\"color\":\"white\"}},\"header\":{\"fill\":{\"color\":\"#C8D4E3\"},\"line\":{\"color\":\"white\"}},\"type\":\"table\"}]},\"layout\":{\"annotationdefaults\":{\"arrowcolor\":\"#2a3f5f\",\"arrowhead\":0,\"arrowwidth\":1},\"autotypenumbers\":\"strict\",\"coloraxis\":{\"colorbar\":{\"outlinewidth\":0,\"ticks\":\"\"}},\"colorscale\":{\"diverging\":[[0,\"#8e0152\"],[0.1,\"#c51b7d\"],[0.2,\"#de77ae\"],[0.3,\"#f1b6da\"],[0.4,\"#fde0ef\"],[0.5,\"#f7f7f7\"],[0.6,\"#e6f5d0\"],[0.7,\"#b8e186\"],[0.8,\"#7fbc41\"],[0.9,\"#4d9221\"],[1,\"#276419\"]],\"sequential\":[[0.0,\"#0d0887\"],[0.1111111111111111,\"#46039f\"],[0.2222222222222222,\"#7201a8\"],[0.3333333333333333,\"#9c179e\"],[0.4444444444444444,\"#bd3786\"],[0.5555555555555556,\"#d8576b\"],[0.6666666666666666,\"#ed7953\"],[0.7777777777777778,\"#fb9f3a\"],[0.8888888888888888,\"#fdca26\"],[1.0,\"#f0f921\"]],\"sequentialminus\":[[0.0,\"#0d0887\"],[0.1111111111111111,\"#46039f\"],[0.2222222222222222,\"#7201a8\"],[0.3333333333333333,\"#9c179e\"],[0.4444444444444444,\"#bd3786\"],[0.5555555555555556,\"#d8576b\"],[0.6666666666666666,\"#ed7953\"],[0.7777777777777778,\"#fb9f3a\"],[0.8888888888888888,\"#fdca26\"],[1.0,\"#f0f921\"]]},\"colorway\":[\"#636efa\",\"#EF553B\",\"#00cc96\",\"#ab63fa\",\"#FFA15A\",\"#19d3f3\",\"#FF6692\",\"#B6E880\",\"#FF97FF\",\"#FECB52\"],\"font\":{\"color\":\"#2a3f5f\"},\"geo\":{\"bgcolor\":\"white\",\"lakecolor\":\"white\",\"landcolor\":\"#E5ECF6\",\"showlakes\":true,\"showland\":true,\"subunitcolor\":\"white\"},\"hoverlabel\":{\"align\":\"left\"},\"hovermode\":\"closest\",\"mapbox\":{\"style\":\"light\"},\"paper_bgcolor\":\"white\",\"plot_bgcolor\":\"#E5ECF6\",\"polar\":{\"angularaxis\":{\"gridcolor\":\"white\",\"linecolor\":\"white\",\"ticks\":\"\"},\"bgcolor\":\"#E5ECF6\",\"radialaxis\":{\"gridcolor\":\"white\",\"linecolor\":\"white\",\"ticks\":\"\"}},\"scene\":{\"xaxis\":{\"backgroundcolor\":\"#E5ECF6\",\"gridcolor\":\"white\",\"gridwidth\":2,\"linecolor\":\"white\",\"showbackground\":true,\"ticks\":\"\",\"zerolinecolor\":\"white\"},\"yaxis\":{\"backgroundcolor\":\"#E5ECF6\",\"gridcolor\":\"white\",\"gridwidth\":2,\"linecolor\":\"white\",\"showbackground\":true,\"ticks\":\"\",\"zerolinecolor\":\"white\"},\"zaxis\":{\"backgroundcolor\":\"#E5ECF6\",\"gridcolor\":\"white\",\"gridwidth\":2,\"linecolor\":\"white\",\"showbackground\":true,\"ticks\":\"\",\"zerolinecolor\":\"white\"}},\"shapedefaults\":{\"line\":{\"color\":\"#2a3f5f\"}},\"ternary\":{\"aaxis\":{\"gridcolor\":\"white\",\"linecolor\":\"white\",\"ticks\":\"\"},\"baxis\":{\"gridcolor\":\"white\",\"linecolor\":\"white\",\"ticks\":\"\"},\"bgcolor\":\"#E5ECF6\",\"caxis\":{\"gridcolor\":\"white\",\"linecolor\":\"white\",\"ticks\":\"\"}},\"title\":{\"x\":0.05},\"xaxis\":{\"automargin\":true,\"gridcolor\":\"white\",\"linecolor\":\"white\",\"ticks\":\"\",\"title\":{\"standoff\":15},\"zerolinecolor\":\"white\",\"zerolinewidth\":2},\"yaxis\":{\"automargin\":true,\"gridcolor\":\"white\",\"linecolor\":\"white\",\"ticks\":\"\",\"title\":{\"standoff\":15},\"zerolinecolor\":\"white\",\"zerolinewidth\":2}}},\"xaxis\":{\"anchor\":\"y\",\"domain\":[0.0,1.0],\"title\":{\"text\":\"index\"}},\"yaxis\":{\"anchor\":\"x\",\"domain\":[0.0,1.0],\"title\":{\"text\":\"value\"}},\"coloraxis\":{\"colorbar\":{\"title\":{\"text\":\"color\"}},\"colorscale\":[[0.0,\"#0d0887\"],[0.1111111111111111,\"#46039f\"],[0.2222222222222222,\"#7201a8\"],[0.3333333333333333,\"#9c179e\"],[0.4444444444444444,\"#bd3786\"],[0.5555555555555556,\"#d8576b\"],[0.6666666666666666,\"#ed7953\"],[0.7777777777777778,\"#fb9f3a\"],[0.8888888888888888,\"#fdca26\"],[1.0,\"#f0f921\"]]},\"legend\":{\"tracegroupgap\":0},\"margin\":{\"t\":60}},                        {\"responsive\": true}                    ).then(function(){\n",
              "                            \n",
              "var gd = document.getElementById('d244a1b4-073d-48f3-9269-0ae51c0764bd');\n",
              "var x = new MutationObserver(function (mutations, observer) {{\n",
              "        var display = window.getComputedStyle(gd).display;\n",
              "        if (!display || display === 'none') {{\n",
              "            console.log([gd, 'removed!']);\n",
              "            Plotly.purge(gd);\n",
              "            observer.disconnect();\n",
              "        }}\n",
              "}});\n",
              "\n",
              "// Listen for the removal of the full notebook cells\n",
              "var notebookContainer = gd.closest('#notebook-container');\n",
              "if (notebookContainer) {{\n",
              "    x.observe(notebookContainer, {childList: true});\n",
              "}}\n",
              "\n",
              "// Listen for the clearing of the current output cell\n",
              "var outputEl = gd.closest('.output');\n",
              "if (outputEl) {{\n",
              "    x.observe(outputEl, {childList: true});\n",
              "}}\n",
              "\n",
              "                        })                };                            </script>        </div>\n",
              "</body>\n",
              "</html>"
            ]
          },
          "metadata": {}
        }
      ]
    },
    {
      "cell_type": "code",
      "source": [
        "fig = px.scatter(x=df['Current Price'], y=df['Selling Price'], color=df['Car Condition'])\n",
        "fig.show()"
      ],
      "metadata": {
        "colab": {
          "base_uri": "https://localhost:8080/",
          "height": 542
        },
        "id": "A_8CCQv67wHD",
        "outputId": "016b85a5-4693-4a05-d3e9-5c4b2e0fe0aa"
      },
      "execution_count": 23,
      "outputs": [
        {
          "output_type": "display_data",
          "data": {
            "text/html": [
              "<html>\n",
              "<head><meta charset=\"utf-8\" /></head>\n",
              "<body>\n",
              "    <div>            <script src=\"https://cdnjs.cloudflare.com/ajax/libs/mathjax/2.7.5/MathJax.js?config=TeX-AMS-MML_SVG\"></script><script type=\"text/javascript\">if (window.MathJax) {MathJax.Hub.Config({SVG: {font: \"STIX-Web\"}});}</script>                <script type=\"text/javascript\">window.PlotlyConfig = {MathJaxConfig: 'local'};</script>\n",
              "        <script src=\"https://cdn.plot.ly/plotly-2.8.3.min.js\"></script>                <div id=\"bc069cb9-f7fa-49cc-943d-1f8bdb882c79\" class=\"plotly-graph-div\" style=\"height:525px; width:100%;\"></div>            <script type=\"text/javascript\">                                    window.PLOTLYENV=window.PLOTLYENV || {};                                    if (document.getElementById(\"bc069cb9-f7fa-49cc-943d-1f8bdb882c79\")) {                    Plotly.newPlot(                        \"bc069cb9-f7fa-49cc-943d-1f8bdb882c79\",                        [{\"hovertemplate\":\"x=%{x}<br>y=%{y}<br>color=%{marker.color}<extra></extra>\",\"legendgroup\":\"\",\"marker\":{\"color\":[4.2,4.4,4.3,4.1,4.4,4.2,4.5,3.9,4.5,4.3,4.6,4.5,4.3,3.7,4.3,4.2,3.9,4.3,4.4,4.0,4.0,4.4,4.4,4.6,4.3,4.3,4.6,3.9,4.2,4.2,4.6,4.2,4.2,4.3,4.3,4.6,4.3,4.4,4.6,4.2,4.5,4.3,4.4,4.4,4.7,4.3,4.3,4.4,4.5,4.4,4.5,4.5,4.4,4.8,4.2,4.8,4.9,4.3,4.9,4.7,4.9,4.3,4.7,4.2,4.3,4.9,4.8,4.7,4.1,4.6,4.8,4.6,4.7,4.3,5.0,4.5,4.7,4.1,4.9,4.6,4.1,4.6,4.4,4.3,4.5,4.3,4.3,4.5,4.9,4.8,4.2,4.7,4.8,4.7,4.6,4.3,4.9,4.0,4.5,4.3,4.7,4.3,4.8,4.3,4.4,4.3,4.0,4.3,4.3,4.1,4.5,5.0,4.8,4.6,4.9,4.6,4.3,4.2,4.8,4.2,4.5,4.3,4.7,4.7,4.9,4.3,4.6,4.4,4.5,4.9,4.6,4.2,4.1,4.1,4.9,4.0,4.4,4.2,3.9,4.5,4.3,4.3,4.3,4.4,4.2,3.7,4.2,4.0,4.7,4.4,4.3,4.4,4.4,4.2,4.3,4.4,4.1,4.5,4.3,4.5,4.5,4.8,4.3,4.3,4.6,3.9,4.4,4.3,3.9,4.5,4.3,4.2,4.7,4.8,4.1,4.5,4.3,4.2,4.3,4.1,4.2,4.5,4.0,4.3,4.1,4.3,4.6,4.2,4.3,4.0,4.7,4.0,4.0,4.3,4.2,4.6,3.9,4.2,4.4,4.3,4.9,4.5,4.2,4.3,4.2,4.2,4.0,4.1,4.5,4.9,4.8,4.5,4.3,4.5,4.6,4.3,4.1,4.3,4.1,4.1,4.0,4.9,4.5,4.1,4.4,4.2,4.0,4.5,4.3,4.2,4.5,4.4,4.1,4.3,4.3,4.3,4.2,4.7,4.2,4.5,4.5,4.3,4.5,4.0,4.0,4.0,4.3,4.2,4.3,3.5,4.3,4.2,4.2,4.1,4.3,4.2,4.3,4.0,4.3,4.3,3.5,4.2,4.7,4.0,4.0,4.4,4.0,4.6,4.8,4.5,4.2,4.4,4.5,4.5,4.3,4.1,4.1,4.3,4.6,4.3,4.3,4.2,4.6,4.5,4.1,4.5,4.0,4.4,4.4,4.6,4.3,4.3,4.6,4.3,4.5,4.3,4.7,4.5,4.6,4.6,4.4,4.3,4.0,4.3,4.6,4.3,4.8,4.3,4.1,4.3,4.5,4.4,4.2,4.4,4.7,4.5,4.5,4.9,4.4,4.4,4.4,4.9,4.6,4.2,4.4,4.7,4.3,4.4,4.6,4.9,4.4,4.6,4.6,4.8,4.9,4.4,4.6,4.6,4.5,4.4,4.8,4.3,4.9,4.9,4.0,4.4,4.6,4.5,4.8,3.9,4.1,4.4,4.9,4.4,4.6,4.2,3.8,4.3,4.6,4.3,4.4,4.9,4.1,4.3,4.0,4.3,4.2,4.3,4.3,4.1,4.1,4.2,4.5,4.2,4.3,3.4,4.5,4.2,4.3,4.6,4.2,4.3,4.9,4.3,4.1,4.3,4.2,4.3,4.5,4.3,4.8,4.5,4.6,4.5,4.3,4.4,4.4,4.8,4.8,4.9,4.8,4.9,4.6,4.9,4.7,4.6,4.8,4.0,3.9,4.8,4.5,4.3,4.4,4.6,4.4,4.6,4.5,4.4,4.3,4.2,4.3,4.5,4.7,4.8,4.2,4.5,4.3,4.4,4.3,4.4,4.3,4.3,4.1,4.9,4.1,4.1,4.1,4.3,4.3,4.2,4.4,4.3,4.2,4.2,4.2,4.1,4.2,4.2,4.3,4.1,4.3,4.1,4.1,4.1,4.4,4.3,4.3,4.3,4.4,4.5,4.5,4.3,4.1,4.1,4.2,4.0,4.0,4.2,4.2,4.4,4.9,4.9,4.5,4.6,4.6,4.0,4.5,4.5,4.3,4.5,4.5,4.2,4.9,4.4,4.6,4.8,4.9,4.6,4.5,4.7,4.6,4.5,4.9,4.2,4.3,4.7,4.3,4.5,4.2,4.3,4.8,4.2,4.4,4.8,4.5,4.9,4.1,4.2,4.9,4.6,4.7,4.1,4.5,4.7,4.5,4.4,4.1,4.4,4.1,4.5,4.2,4.9,4.3,4.6,4.1,4.4,4.3,4.1,4.5,4.9,4.5,4.4,4.6,4.1,4.3,4.2,4.8,4.2,3.9,4.3,4.5,4.1,4.2,4.3,4.3,3.6,4.7,4.8,4.2,4.1,4.4,3.7,4.3,4.8,4.2,4.5,4.8,4.4,4.4,4.6,4.9,3.9,4.5,4.6,4.5,4.2,4.1,4.2,4.7,4.7,4.3,4.9,4.2,4.6,4.2,4.3,4.0,4.1,4.4,4.9,4.7,4.5,4.9,4.7,4.5,4.4,4.2,4.4,4.8,4.7,4.2,4.0,4.4,3.8,4.0,3.9,4.3,4.4,4.2,3.9,4.5,4.3,4.1,4.1,4.3,4.3,4.2,4.2,4.0,4.3,4.2,4.3,4.6,4.6,4.9,4.6,4.7,4.6,4.4,3.9,4.2,4.3,4.4,4.2,4.4,4.2,4.6,4.5,4.4,4.3,4.1,4.3,4.5,4.3,4.4,4.3,4.6,4.1,4.4,4.4,4.3,4.9,4.2,4.2,4.2,4.5,4.3,4.2,4.9,4.3,4.2,4.3,4.2,4.0,4.2,4.4,4.2,4.3,4.3,4.1,4.7,3.7,4.2,4.5,4.5,4.2,4.0,4.2,4.4,4.3,4.9,4.6,4.0,4.5,4.7,4.5,4.4,4.9,4.4,4.5,4.7,4.7,4.3,4.8,4.5,4.5,4.2,4.4,4.5,4.5,4.6,4.3,4.1,4.3,4.3,4.5,4.2,4.5,4.3,4.6,4.7,4.5,4.3,4.9,4.7,4.7,4.7,4.8,4.9,4.1,4.2,4.8,4.1,4.3,4.2,4.1,4.2,4.1,4.1,4.1,4.2,4.8,4.1,4.0,4.5,4.2,4.9,4.4,4.4,3.9,4.4,4.4,3.6,4.3,4.3,4.4,4.3,4.3,4.1,4.3,4.3,4.5,4.9,4.0,4.3,4.6,4.2,4.2,4.7,4.4,4.3,4.1,4.3,4.3,4.5,4.4,4.3,3.8,4.3,4.1,4.6,4.3,4.2,4.0,4.3,4.1,3.9,4.4,4.1,4.2,4.2,4.3,4.9,4.2,4.0,4.6,4.2,4.1,4.1,4.3,3.9,4.6,4.9,4.2,4.3,4.2,4.5,3.8,4.2,4.1,4.5,4.2,4.3,4.4,4.2,4.1,3.9,4.3,4.2,4.2,4.2,4.1,4.0,4.4,4.3,4.9,4.2,4.6,4.3,4.6,4.3,4.9,4.6,4.6,4.0,4.4,4.7,4.6,4.8,4.2,4.3,3.6,4.2,4.2,4.3,4.2,4.4,4.2,4.2,4.4,4.2,4.2,4.4,4.7,4.1,4.3,4.3,4.1,4.1,4.6,4.5,4.4,4.2,4.2,4.1,4.2,4.4,4.4,4.3,4.1,4.2,4.3,3.9,4.6,4.4,4.5,4.0,4.0,4.4,3.8,3.9,4.5,3.7,4.0,4.3,4.4,3.8,4.2,4.2,4.5,4.1,4.0,4.1,3.9,4.4,4.4,4.4,4.1,4.3,4.3,4.2,4.3,4.2,4.4,3.9,4.7,4.4,4.6,4.3,4.1,4.7,4.8,4.6,4.7,4.3,4.5,4.0,4.8,4.5,4.5,4.5,4.1,4.4,4.6,4.3,4.8,4.3,4.0,4.0,4.1,4.5,3.9,4.2,4.1,4.2,3.9,4.4,4.3,4.1,4.4,4.4,4.3,4.8,4.2,3.7,4.3,4.2,4.1,4.3,4.1,4.2,4.2,4.2,4.2,4.1,4.2,4.1,3.8,4.6,4.1,4.2,4.3,4.2,4.3,3.8,4.3,4.4,4.4,4.2,4.4,4.5,4.1,4.1,4.0,4.8,4.5,4.4,4.1,4.1,4.6,4.7,4.2,4.3,4.2,4.0,4.3,4.5,4.0,4.2,4.5,4.5,4.7,4.2,4.7,4.5,4.5,4.5,4.4,4.2,4.4,4.6,4.8,4.9,4.1,4.2,4.3,4.7,4.3,4.6,4.9,4.7,4.4,4.9,4.9,4.9,4.9,5.0,4.9,4.4,4.1,4.3,3.9,4.3,4.6,4.3,4.2,4.1,4.1,4.8,4.9,4.1,4.5,4.4,4.5,4.2,4.2,4.4,3.9,4.4,4.1,4.0,4.1,4.1,4.6,4.0,4.9,4.3,4.4,4.9,4.0,4.2,4.5,4.0,4.0,4.0,4.4,4.0,4.2,3.9,4.7,4.8,3.8,4.3,4.0,4.5,3.9,4.2,4.5,4.6,4.0,4.2,4.0,4.2,4.3,4.3,3.9,3.8,4.5,4.3,3.9,4.3,4.3,4.3,4.2,4.2,4.0,4.1,4.0,4.7,4.2,3.4,4.2,4.3,4.9,4.6,4.3,4.5,4.8,4.5,4.9,4.7,4.8,4.6,5.0,4.8,4.6,4.4,4.6,4.8,4.8,4.9,4.7,4.8,4.6,4.3,4.7,4.4,4.2,4.4,4.9,4.5,4.4,4.3,4.2,4.0,3.9,4.5,4.2,4.2,3.7,4.2,4.1,4.3,4.0,4.2,4.0,4.5,4.2,4.0,4.2,4.2,4.2,4.9,4.4,4.1,4.0,4.3,4.4,4.6,4.5,3.9,4.2,4.1,4.2,4.2,4.3,4.3,4.0,4.5,4.2,4.4,4.0,4.7,4.9,4.5,4.8,4.3,4.9,4.5,4.6,4.8,4.8,4.9,4.9,4.6,4.2,4.9,4.5,4.7,4.6,4.6,4.8,4.4,4.9,4.5,5.0,4.7,4.7,4.3,4.5,4.6,4.9,4.5,4.1,4.9,4.5,4.2,4.4,4.3,4.3,4.3,3.2,4.3,4.3,4.1,4.2,4.2,4.9,4.2,4.2,4.4,4.2,4.4,4.3,3.9,4.4,4.1,4.2,4.3,4.0,4.5,4.3,4.4,4.2,4.5,4.3,4.1,4.0,4.2,4.0,3.8,4.4,4.0,4.0,4.2,4.5,4.1,4.3,4.2,3.9,4.8,4.4,4.0,4.4,4.0,4.2,4.5,4.6,4.2,4.1,4.6,4.0,4.4,4.3,4.3,4.3,4.3,4.3,4.6,4.3,4.1,4.3,4.5,4.3,4.1,4.4,4.2,3.9,4.0,4.6,4.5,4.1,4.3,4.5,4.3,4.2,4.3,4.4,4.8,4.3,4.8,4.2,4.9,5.0,4.7,3.9,4.8,4.3,4.9,4.7,4.5,4.5,4.3,4.3,4.2,4.1,4.4,4.7,4.2,3.7,4.0,4.6,4.2,4.6,4.7,4.9,4.4,4.5,4.2,4.0,4.2,4.3,4.4,4.0,4.3,4.3,3.8,4.2,4.1,4.3,4.3,4.1,4.6,4.2,4.4,4.3,4.3,4.7,4.5,4.3,4.5,3.8,4.4,4.7,4.6,4.6,4.7,4.4,4.6,4.1,4.5,4.3,4.0,3.9,3.8,4.3,4.5,4.2,4.5,4.2,4.5,4.1,4.1,4.1,4.2,4.4,4.0,4.7,4.3,4.4,4.9,4.1,4.3,4.3,4.3,4.0,4.5,4.2,4.0,3.7,4.2,4.3,4.6,4.5,4.8,4.9,4.5,4.9,4.4,4.9,4.4,4.6,4.2,4.8,4.9,4.2,4.7,3.9,4.1,4.9,4.7,4.5,4.0,4.6,4.4,4.3,4.3,3.9,4.3,3.9,4.7,4.2,4.6,4.5,4.6,4.7,4.8,4.9,4.8,4.3,4.3,4.3,4.8,4.4,4.3,4.6,4.5,4.6,4.3,4.2,4.2,3.9,4.3,4.5,4.7,4.2,4.5,4.3,4.2,4.3,4.4,4.1,4.2,4.2,3.7,4.1,3.9,3.8,4.5,4.6,4.3,4.4,4.1,4.1,4.2,4.6,4.2,4.4,4.2,4.2,4.6,4.9,4.3,4.5,4.4,4.2,4.4,4.2,4.3,4.3,4.3,4.3,4.0,4.4,4.0,4.9,4.2,5.0,4.6,4.7,4.4,4.5,4.6,4.6,4.7,4.4,4.8,4.7,4.6,4.7,4.7,4.4,4.8,4.3,4.2,4.4,4.0,4.0,4.1,4.2,4.3,4.4,4.2,4.2,4.2,4.0,4.2,4.5,4.2,4.0,4.2,4.3,4.3,4.3,4.4,3.9,4.1,4.3,4.3,4.2,4.1,4.8,4.1,4.4,4.4,4.6,3.6,4.0,4.0,3.7,4.2,4.3,4.5,4.0,3.8,4.4,4.2,4.4,4.9,4.8,5.0,4.1,4.8,4.6,4.3,4.2,4.0,4.4,4.3,4.3,4.3,3.8,4.2,4.2,4.8,4.6,4.4,4.8,4.3,4.5,4.3,4.3,4.9,4.9,4.4,4.4,3.5,4.1,4.3,4.3,4.5,4.3,4.3,3.8,4.5,4.5,3.8,4.4,4.0,4.6,3.9,4.3,4.9,4.9,4.8,4.8,4.7,4.4,4.9,4.3,3.4,4.3,4.6,4.2,4.5,4.2,3.8,4.2,4.0,4.3,4.1,4.3,4.4,4.0,3.9,4.1,4.1,4.1,3.9,4.3,4.3,4.4,4.3,4.3,4.2,4.3,4.4,4.9,4.3,4.9,4.2,3.9,4.4,4.4,4.2,4.5,4.1,4.1,4.7,4.1,4.7,4.1,3.8,4.4,4.5,4.4,4.6,4.9,4.2,4.5,4.4,4.3,3.9,3.8,4.3,4.2,4.3,3.8,4.2,4.4,4.1,4.1,4.2,3.9,4.0,4.7,3.9,4.4,4.0,4.0,4.3,4.1,4.3,4.2,4.1,4.0,4.2,4.0,4.3,4.0,4.5,4.5,4.3,4.4,4.1,4.2,4.5,4.2,4.1,4.1,4.3,4.1,4.0,4.2,4.2,4.5,4.6,4.5,4.2,4.8,4.4,4.5,4.3,4.2,4.0,4.8,4.6,4.5,4.8,4.3,4.3,4.5,3.8,4.0,4.2,4.4,4.4,4.1,4.1,4.5,4.4,4.9,4.4,4.4,4.1,4.3,4.2,4.2,4.0,4.9,4.4,4.2,4.8,4.6,4.6,4.5,4.6,4.6,4.3,4.4,4.8,4.7,4.8,4.6,4.2,4.1,3.9,4.4,4.2,4.4,4.5,4.2,3.8,4.8,4.5,4.5,4.4,4.7,4.5,4.2,4.2,4.3,4.9,4.9,4.5,4.8,4.7,4.1,4.0,4.2,4.3,4.7,4.4,4.2,4.6,4.0,4.1,4.5,4.6,4.8,4.8,4.9,4.1,4.7,4.7,4.5,4.2,4.2,4.8,4.8,4.8,4.5,4.7,4.6,4.7,4.8,4.5,4.6,4.0,4.4,4.2,4.3,4.3,4.3,4.3,4.2,4.9,4.3,4.0,3.9,4.2,4.2,4.3,4.2,4.4,4.0,4.6,4.6,4.8,4.5,4.2,3.6,4.3,4.1,4.2,3.9,4.3,4.0,4.4,4.2,3.8,4.3,4.5,4.7,4.3,4.6,4.8,4.4,4.9,4.3,4.8,4.8,4.5,4.5,4.4,4.3,4.9,4.6,4.5,4.4,4.1,4.2,4.9,5.0,4.2,4.2,4.1,4.1,4.1,4.1,4.1,4.0,4.6,4.8,4.7,4.3,5.0,4.5,4.9,4.8,4.2,5.0,3.9,4.7,4.6,4.8,3.8,4.7,4.5,4.3,4.1,3.8,4.3,4.4,4.7,4.2,4.7,4.8,4.9,4.5,4.7,4.7,4.7,4.4,4.3,4.3,3.8,4.4,4.3,4.6,4.2,4.8,4.6,4.4,4.5,4.5,4.4,4.9,4.5,4.4,4.2,4.1,4.1,4.2,4.5,4.5,4.1,4.9,4.3,4.3,4.0,4.0,4.3,4.1,4.0,4.0,4.8,4.7,4.6,4.6,4.5,4.6,4.5,4.3,4.6,4.6,4.5,4.1,3.9,4.2,4.1,4.6,4.0,4.5,4.5,4.6,4.9,4.8,4.5,4.5,4.3,4.2,4.2,3.9,4.3,4.1,4.6,4.6,4.8,4.9,4.6,4.5,4.6,4.9,4.9,4.4,4.8,4.3,4.3,4.9,4.9,4.4,4.2,4.6,4.9,4.3,4.4,4.2,4.5,4.3,4.5,4.1,4.3,4.2,4.5,4.8,4.6,4.3,4.5,4.6,3.9,4.3,4.4,4.0,3.8,3.8,4.0,4.3,3.9,4.0,4.3,4.2,3.9,4.6,4.4,4.6,4.4,4.0,4.6,4.1,4.6,4.7,4.1,4.4,3.9,4.5,4.5,4.4,4.8,4.6,4.6,4.8,4.5,4.8,4.8,4.6,4.8,4.5,4.4,3.9,4.6,4.2,4.7,4.7,4.4,4.5,4.9,4.0,4.2,4.1,4.0,4.4,4.0,4.3,3.8,4.0,4.2,4.2,4.1,4.3,4.5,4.5,4.4,4.5,5.0,4.9,4.9,4.7,3.7,4.4,4.0,4.2,4.5,4.2,4.3,4.0,4.5,4.3,4.3,4.1,4.5,4.4,4.2,4.4,4.3,4.3,3.9,4.0,4.6,4.9,4.6,4.8,4.5,4.2,4.3,4.3,4.3,4.5,4.7,4.3,4.8,4.7,4.4,4.3,4.2,4.0,4.1,4.8,4.8,4.3,4.9,4.3,4.4,3.9,3.9,4.2,4.4,4.0,4.6,4.4,4.1,4.2,3.9,4.9,4.7,4.7,4.9,4.4,4.9,4.7,4.2,4.0,4.5,4.7,4.5,4.9,4.8,4.7,4.5,4.8,4.1,4.4,4.4,4.6,4.2,4.7,4.3,4.5,4.9,4.2,3.9,4.9,4.4,4.8,4.5,4.5,4.9,4.8,4.9,4.8,4.8,4.5,4.3,4.2,4.4,4.3,4.0,4.7,4.1,4.2,4.6,4.8,4.2,4.4,4.3,4.1,4.6,4.2,4.2,4.8,4.1,4.5,4.0,4.9,4.4,4.5,4.5,5.0,4.8,4.2,4.2,4.8,4.5,4.0,4.9,4.3,4.6,4.6,4.1,4.4,4.8,4.5,4.3,4.9,4.6,4.0,4.0,4.4,4.5,4.7,4.6,4.5,4.7,4.6,4.9,4.1,3.7,4.0,4.9,4.3,4.6,4.8,4.2,4.5,4.3,4.3,4.1,4.2,4.8,4.7,4.9,3.9,4.9,4.4,4.6,4.0,4.2,4.6,4.8,4.6,4.5,4.9,4.8,3.4,4.9,4.6,4.6,4.5,4.2,4.1,3.0,4.3,4.8,4.5,4.2,4.7,4.0,4.9,4.3,5.0,4.7,3.9,4.0,4.5,4.5,4.6,4.3,4.4,4.6,4.6,3.9,3.9,4.6,4.2,4.7,5.0,4.6,4.1,4.0,4.6,4.3,4.5,5.0,4.5,3.2],\"coloraxis\":\"coloraxis\",\"symbol\":\"circle\"},\"mode\":\"markers\",\"name\":\"\",\"showlegend\":false,\"x\":[465000,465000,465000,465000,465000,465000,465000,465000,465000,465000,465000,465000,465000,465000,465000,465000,465000,465000,465000,465000,465000,465000,465000,465000,465000,465000,465000,465000,465000,465000,465000,465000,465000,465000,465000,465000,465000,465000,465000,465000,465000,465000,568000,568000,568000,568000,568000,568000,568000,568000,568000,568000,568000,448000,448000,448000,448000,448000,448000,448000,448000,448000,448000,448000,448000,448000,448000,448000,448000,448000,448000,448000,448000,448000,448000,448000,448000,448000,448000,448000,448000,448000,448000,448000,448000,448000,448000,448000,448000,448000,448000,448000,448000,448000,448000,448000,448000,448000,448000,448000,448000,448000,448000,448000,448000,448000,448000,448000,448000,448000,448000,448000,448000,448000,448000,448000,549000,549000,549000,549000,549000,549000,549000,549000,549000,549000,549000,549000,549000,549000,549000,549000,549000,549000,549000,549000,549000,549000,549000,549000,549000,549000,549000,549000,549000,549000,549000,549000,549000,549000,549000,549000,549000,549000,549000,549000,549000,549000,549000,549000,549000,549000,549000,549000,549000,549000,549000,549000,549000,549000,549000,549000,549000,549000,549000,549000,549000,549000,549000,549000,549000,549000,549000,549000,549000,549000,549000,549000,549000,549000,549000,549000,549000,549000,549000,549000,549000,549000,549000,549000,549000,549000,549000,549000,549000,549000,549000,549000,549000,549000,549000,549000,549000,549000,549000,549000,549000,549000,549000,549000,549000,549000,549000,549000,549000,549000,549000,549000,549000,549000,549000,549000,549000,549000,498000,498000,498000,498000,498000,498000,498000,498000,498000,498000,498000,498000,498000,498000,498000,498000,498000,498000,498000,498000,498000,498000,498000,498000,498000,498000,498000,498000,498000,498000,498000,498000,498000,498000,498000,498000,498000,498000,498000,498000,498000,498000,498000,498000,498000,498000,498000,498000,498000,498000,498000,498000,498000,498000,498000,498000,498000,498000,498000,498000,498000,498000,498000,498000,498000,498000,498000,498000,498000,498000,498000,498000,498000,498000,498000,498000,498000,498000,498000,498000,900000,900000,900000,900000,591699,591699,591699,591699,591699,591699,591699,591699,591699,591699,591699,591699,591699,907235,907235,907235,907235,907235,907235,907235,907235,453000,453000,453000,453000,453000,453000,453000,453000,453000,453000,453000,453000,453000,453000,657000,657000,657000,657000,657000,657000,657000,657000,657000,657000,657000,657000,657000,657000,657000,657000,657000,657000,657000,657000,657000,657000,657000,657000,657000,657000,657000,657000,657000,657000,657000,657000,657000,657000,657000,657000,657000,657000,657000,657000,657000,657000,657000,657000,750000,750000,750000,750000,750000,750000,750000,750000,750000,750000,1550000,394000,394000,394000,394000,394000,394000,394000,394000,394000,394000,394000,363000,363000,363000,363000,363000,999000,999000,999000,999000,756000,1294000,1209000,1209000,1209000,1209000,1209000,1209000,1209000,1209000,1209000,1209000,1209000,1209000,1209000,1209000,1209000,1209000,1209000,1209000,679000,679000,679000,679000,679000,679000,679000,679000,679000,679000,679000,679000,679000,679000,679000,679000,679000,679000,679000,679000,679000,679000,992000,992000,1080000,1080000,1080000,1080000,1080000,1013000,292667,292667,292667,312000,312000,312000,312000,312000,312000,312000,312000,312000,312000,312000,312000,312000,312000,400000,400000,400000,400000,400000,400000,400000,400000,400000,400000,400000,400000,400000,400000,400000,400000,400000,400000,400000,400000,400000,400000,400000,400000,400000,400000,400000,400000,400000,400000,400000,400000,400000,400000,400000,400000,400000,400000,400000,400000,400000,400000,400000,400000,400000,400000,400000,400000,400000,400000,400000,400000,400000,400000,400000,400000,400000,400000,400000,400000,400000,400000,400000,400000,400000,400000,400000,400000,400000,400000,400000,400000,400000,400000,400000,400000,400000,400000,400000,400000,400000,400000,400000,722000,722000,722000,722000,722000,722000,722000,722000,722000,722000,722000,722000,395000,395000,395000,395000,395000,395000,395000,395000,395000,395000,395000,395000,395000,395000,395000,395000,395000,395000,395000,395000,395000,558000,558000,558000,558000,558000,558000,558000,561000,561000,561000,561000,561000,561000,561000,561000,561000,561000,561000,561000,561000,561000,561000,561000,561000,561000,561000,561000,561000,561000,561000,561000,561000,561000,561000,561000,561000,561000,561000,561000,561000,561000,561000,561000,561000,561000,561000,561000,561000,561000,561000,561000,561000,561000,561000,561000,561000,561000,561000,561000,9100,9100,9100,9100,9100,9100,9100,9100,9100,9100,698000,698000,698000,698000,698000,698000,698000,698000,698000,698000,698000,698000,698000,698000,698000,698000,698000,698000,698000,698000,698000,698000,606000,606000,833000,833000,833000,768000,768000,768000,768000,768000,825000,825000,825000,825000,825000,825000,825000,825000,825000,806000,619000,619000,619000,619000,619000,619000,619000,619000,619000,1110000,1110000,1110000,1110000,1110000,1110000,1110000,1110000,1110000,1110000,1110000,1110000,1110000,1110000,1110000,1110000,1110000,1110000,1110000,1110000,1110000,1110000,1110000,1110000,1110000,1110000,1110000,1110000,1550000,1550000,1550000,1550000,1550000,1550000,1550000,1550000,1550000,1550000,1550000,1550000,1550000,978000,666000,666000,666000,666000,666000,666000,1120000,1120000,1120000,599000,599000,599000,599000,599000,599000,599000,599000,599000,599000,599000,599000,599000,599000,599000,599000,599000,599000,575000,575000,575000,575000,575000,927000,1235000,1235000,1235000,1235000,1235000,1235000,1235000,1235000,1235000,1199000,1199000,1199000,1276000,4321000,4321000,4321000,4321000,4321000,1775000,1775000,1775000,1775000,709000,709000,709000,709000,709000,709000,709000,709000,709000,709000,709000,709000,709000,709000,709000,709000,709000,709000,545000,545000,545000,545000,545000,545000,545000,545000,545000,545000,545000,545000,545000,545000,545000,545000,545000,545000,545000,545000,545000,545000,545000,545000,545000,545000,545000,545000,545000,545000,545000,545000,545000,545000,545000,545000,1200000,1200000,1200000,1200000,638000,638000,638000,638000,638000,638000,638000,638000,638000,638000,638000,638000,638000,1099000,1099000,1099000,1099000,1099000,1099000,1099000,1099000,1099000,1099000,1099000,1099000,1099000,1099000,1099000,1099000,1099000,1099000,1099000,1099000,1099000,1099000,1099000,1099000,1099000,1099000,1099000,1099000,1099000,1099000,1099000,1099000,1099000,1099000,1099000,1099000,1099000,1099000,1099000,1099000,1099000,1099000,369000,369000,369000,369000,369000,369000,369000,369000,369000,369000,369000,369000,369000,549000,549000,769000,769000,769000,769000,769000,769000,769000,769000,769000,769000,769000,769000,769000,492000,492000,492000,492000,492000,492000,492000,492000,492000,492000,492000,492000,492000,492000,492000,492000,492000,492000,492000,492000,492000,492000,492000,492000,394036,394036,394036,394036,394036,462100,462100,462100,462100,462100,462100,462100,462100,462100,462100,900000,900000,416000,416000,416000,416000,416000,416000,416000,416000,416000,416000,1099000,1099000,1099000,1099000,1099000,1099000,1099000,1099000,375000,375000,375000,375000,375000,375000,375000,375000,375000,375000,375000,375000,375000,375000,375000,375000,375000,375000,375000,375000,375000,375000,375000,375000,375000,375000,375000,375000,375000,375000,375000,375000,375000,375000,375000,375000,375000,375000,375000,375000,375000,375000,375000,375000,375000,590000,590000,590000,590000,590000,590000,590000,590000,590000,590000,590000,590000,590000,590000,590000,590000,590000,590000,590000,590000,590000,590000,590000,1173000,1173000,1173000,1173000,1173000,1173000,1173000,1173000,900000,900000,900000,900000,900000,900000,900000,900000,900000,900000,569000,569000,569000,569000,569000,785000,785000,785000,785000,785000,785000,785000,785000,785000,785000,785000,785000,785000,785000,785000,785000,785000,785000,766024,591699,591699,591699,591699,591699,591699,546000,940000,940000,940000,940000,940000,940000,940000,940000,940000,940000,940000,940000,940000,940000,940000,940000,940000,940000,940000,940000,940000,940000,940000,793000,793000,793000,793000,793000,793000,793000,793000,1173000,1173000,1173000,1173000,1173000,1173000,1173000,1173000,1173000,1173000,1173000,1173000,1173000,1173000,1173000,1173000,1173000,1173000,1173000,1173000,1173000,1173000,1173000,552005,552005,1407000,1407000,1407000,1407000,400374,400374,400374,400374,400374,400374,400374,400374,400374,400374,400374,400374,400374,400374,400374,400374,400374,400374,286000,286000,523000,523000,523000,523000,523000,523000,523000,523000,523000,523000,523000,523000,523000,523000,523000,523000,523000,523000,523000,523000,523000,523000,523000,523000,523000,523000,523000,523000,523000,523000,523000,523000,523000,907000,1159000,1675000,1675000,892242,892242,892242,892242,892242,892242,892242,892242,892242,892242,581000,581000,581000,581000,999000,999000,999000,999000,999000,999000,999000,650000,466000,466000,513902,513902,513902,513902,513902,513902,513902,513902,513902,513902,513902,513902,513902,513902,489163,489163,595000,606000,606000,606000,606000,606000,606000,438000,438000,438000,438000,438000,438000,438000,438000,438000,438000,438000,438000,400000,400000,400000,400000,892031,892031,561000,561000,561000,561000,561000,561000,561000,561000,561000,561000,561000,561000,561000,561000,561000,561000,561000,561000,561000,561000,423000,423000,423000,423000,1198000,1198000,1198000,1198000,1198000,1198000,1198000,1124000,757622,500000,500000,1641000,929000,929000,929000,929000,929000,929000,929000,1303000,0,0,0,0,0,0,0,0,0,0,0,746000,746000,746000,746000,746000,746000,750000,750000,585000,987000,987000,987000,987000,987000,987000,987000,987000,987000,987000,987000,987000,1350000,1350000,1350000,1350000,1350000,0,0,0,0,0,332000,332000,332000,332000,332000,332000,332000,332000,332000,332000,332000,332000,332000,332000,332000,332000,332000,332000,1127000,900000,900000,900000,900000,1789000,1789000,637000,637000,637000,637000,637000,637000,1028000,779000,956000,1794860,995000,518000,518000,518000,518000,518000,518000,518000,518000,518000,518000,518000,518000,518000,518000,1750000,1750000,461681,461681,461681,461681,461681,461681,461681,461681,461681,461681,461681,461681,461681,461681,461681,461681,461681,461681,461681,461681,461681,461681,461681,461681,461681,461681,461681,545000,545000,545000,545000,545000,545000,545000,685000,685000,685000,685000,685000,685000,685000,685000,685000,533000,1315000,1315000,1315000,1315000,1285000,869000,869000,869000,869000,869000,869000,869000,869000,869000,869000,629000,629000,3992200,3992200,999000,764000,764000,764000,764000,764000,764000,764000,403000,403000,403000,624000,4829000,4829000,462100,462100,462100,462100,462100,462100,462100,462100,462100,462100,462100,1350245,1350245,1350245,1350245,1350245,800000,1475000,1475000,1475000,859000,859000,859000,859000,859000,859000,859000,859000,859000,859000,859000,859000,859000,859000,859000,859000,859000,859000,859000,859000,859000,859000,859000,859000,859000,1198000,1198000,1198000,0,0,549000,549000,549000,549000,549000,549000,549000,549000,549000,450000,450000,500000,500000,5875000,928547,928547,928547,1046000,1046000,1046000,1046000,1046000,1046000,1046000,1046000,1046000,1046000,1046000,1046000,1046000,307000,307000,307000,307000,307000,334900,334900,334900,624000,683000,683000,683000,683000,683000,877000,877000,924000,924000,924000,924000,924000,924000,924000,924000,924000,924000,432498,575000,575000,575000,575000,575000,1608893,1608893,1021000,1021000,3375000,3375000,3375000,3375000,3375000,3375000,3375000,3375000,3375000,625000,625000,835000,1000000,1000000,515000,515000,515000,3139000,3139000,3139000,3139000,3139000,3139000,3139000,3139000,3139000,552000,552000,552000,552000,552000,500000,500000,500000,500000,500000,500000,500000,500000,500000,500000,500000,500000,500000,500000,500000,5599000,999900,999900,999900,1704000,1704000,1704000,1704000,1704000,669000,590000,590000,590000,590000,590000,819000,819000,819000,717000,717000,717000,717000,826000,826000,826000,826000,826000,826000,826000,826000,826000,826000,617000,442000,442000,442000,442000,442000,442000,442000,442000,442000,815000,815000,536000,536000,536000,536000,536000,536000,536000,377588,1383000,1383000,1383000,0,0,0,0,826000,826000,826000,1176000,4150000,4150000,4150000,4150000,594000,513902,1172000,899000,1450000,1450000,1450000,1450000,1450000,650000,650000,758000,758000,758000,549000,549000,549000,426000,426000,426000,426000,709000,709000,581000,531000,531000,531000,531000,531000,531000,653000,653000,653000,653000,653000,653000,653000,759000,759000,759000,759000,896000,896000,1300000,1300000,1300000,1300000,1300000,517000,517000,517000,839000,420000,420000,420000,420000,420000,892242,691000,1017000,770000,3350000,492000,678000,678000,678000,678000,678000,748000,748000,441000,4510000,4510000,4510000,4510000,4510000,594000,594000,594000,594000,594000,285000,285000,285000,637000,637000,637000,637000,3233000,722000,722000,722000,722000,780000,780000,543000,675000,458355,487925,487925,487925,487925,921000,921000,678900,1050000,1174000,1513000,1513000,1513000,1513000,385000,385000,385000,385000,844000,999990,999990,999990,979000,757622,757622,757622,757622,757622,496000,758000,758000,758000,758000,758000,735000,735000,735000,735000,735000,735000,735000,735000,855000,855000,855000,855000,855000,855000,552005,552005,632000,386000,386000,386000,597000,597000,597000,597000,1285000,1285000,575000,588000,588000,975000,975000,762742,762742,650000,650000,650000,650000,650000,499000,963301,1272000,1272000,1272000,1272000,1272000,3370000,3370000,549738,445000,445000,445000,445000,445000,445000,445000,445000,445000,445000,1046000,1046000,1102000,580000,580000,580000,844000,844000,844000,844000,552000,552000,552000,552000,1225000,1225000,575000,575000,575000,601000,601000,601000,814742,814742,814742,814742,814742,814742,814742,391860,1250000,1250000,1250000,1250000,1250000,1250000,466000,487925,487925,487925,487925,487925,487925,487925,487925,679000,679000,679000,679000,679000,647000,647000,647000,647000,601000,601000,601000,0,1363000,1363000,1363000,1363000,1363000,1363000,1363000,1363000,625000,618000,618000,618000,552005,552005,485000,793000,793000,793000,793000,1000000,673000,673000,1164177,900000,900000,900000,900000,779000,999900,637000,472000,472000,472000,1833000,1783000,993997,993997,993997,552000,1000000,1159000,779000,1130000,1421000,598000,598000,598000,598000,699000,995000,619000,702000,963000,963000,963000,859000,850000,850000,850000,850000,595000,595000,993000,993000,1264000,790000,790000,981000,990000,990000,990000,605000,586000,775000,1285900,976000,1062500,442000,442000,1345894,1755800,1013000,1113000,553000,599000,1020000,900000,1017000,1120000,1120000,1120000,610000,595000,595000,400000,1399000,750000,1275000,8639399,438000,438000,1382000,4649000,885000,1456615,1456615,1000000,1475000,900000,999000,525000,950000,925000,599000,0,1130000,1224488,753000,753000,550000,591699,912534,912534,900000,498000,2290000,758000,1239000,999000,755000,911000,729000,1746000,514066,466000,1825000,1825000,1825000,3350000,0,0,442000,976298,976298,1753397,769000,916000,769000,415000,415000,717000,2837359,760000,760000,2899000,540000,534000,1699000,841000,841000,363000,1900,893000,619000,979000,1641000,834000,800000,410000,546000,546000,546000,1164000,560000,834000,438000,864000,1080000,1080000,549000,1475000,1475000,1475000,2256000,4337000,385000,1082000,418000,800500,1382000,624000,717000,717000,770000,770000,770000,573000,807000,592000,635000,584000,0,0,1017000,1750000,1235441,1235441,564000,750000,650000,480000,2677000,478000,1197000,864000,722198,332000],\"xaxis\":\"x\",\"y\":[312165,242499,381699,181999,239499,324899,479914,301599,322321,346799,329299,312289,358999,180899,399499,316000,248199,345799,361899,286999,218299,265599,416499,395899,272099,349575,380399,244899,303399,255899,218399,262499,308199,223499,228399,399495,329599,197576,392599,245599,395511,201199,313799,311899,274499,344599,326356,326899,263599,326099,318099,311199,326399,295999,180996,332699,309399,225899,324399,223399,332799,274599,281399,260240,299799,343899,254199,345199,244180,269099,309199,272974,269199,257899,336899,283699,278599,259699,339904,224899,221399,279499,297999,242899,213426,220999,242399,272999,331599,261499,277099,295699,290999,335661,280999,261499,314799,309199,261199,231699,250799,274099,289599,268887,258937,225199,222899,349499,266799,221299,382227,285899,335499,277499,301499,339799,435199,260699,341399,292399,315999,406799,428599,562599,661399,461122,376199,377899,301899,556363,433099,388499,371399,281699,710064,391099,311399,281999,228599,546799,313699,450358,318199,353099,437699,229399,306720,366899,528799,311399,294046,286199,434299,427499,490499,524199,412499,365244,535565,314099,572865,606799,396599,542699,459199,208243,363799,356899,338436,432499,391599,318299,477399,383399,200899,383299,420099,294399,319199,355799,399099,427799,297299,262099,372999,392599,483499,474399,333240,356999,489399,336899,385199,339499,344499,504255,288699,418399,425599,391874,745853,370099,263899,373499,353899,349299,368799,307299,538299,678699,667699,495199,313799,431499,452799,421699,404699,306352,293619,434599,338699,617699,460899,426799,241699,446999,256599,506399,434899,364799,597799,403099,365699,324099,289099,265899,345999,343899,149181,235499,346677,248899,318079,267599,199599,320699,250499,310199,408399,166999,356099,350799,333999,233499,289499,244506,289399,228099,349899,197438,209699,369599,414399,342099,333199,318899,243999,266999,373399,228199,317299,338599,290699,198399,219599,408299,269299,346299,330398,171599,228899,290899,388699,376699,235699,428999,231299,390399,402899,420399,250200,376999,338699,353199,329199,218999,432099,327899,380599,336899,276299,216441,305198,308899,376699,260899,453099,229599,409699,281099,353699,342299,180499,385999,708199,585299,644000,615399,410788,410740,451699,480299,436399,322699,421699,405899,327699,469799,454499,584699,395599,606599,595299,672599,745699,642899,588299,730599,578399,459199,479500,232199,388899,451499,269399,307599,356199,339099,411999,292199,336099,283799,556099,426999,313774,335199,354699,282096,484799,538199,495899,459599,384799,296500,357799,416099,365999,312799,312699,336999,364499,330220,297199,364499,481299,315899,403999,379699,531299,333624,247999,456699,377750,410599,312899,410799,430499,384799,417899,425999,567899,366099,535199,478399,440099,340499,456099,671499,583799,691699,729299,612699,546599,655442,754799,741599,602799,146870,290099,375799,323699,310199,297799,316199,302663,361399,307199,282099,338799,285399,235599,309934,358399,286399,529699,305599,351399,423899,424399,615799,413999,301074,255099,341799,244349,252299,264999,274899,367099,424399,384899,415670,251899,339299,447499,391199,412899,301799,328199,221899,211699,235699,325999,197799,343699,303999,293699,286599,318736,295885,317599,314399,344599,339844,326999,218601,307999,376799,295999,265599,948899,952999,656399,635099,528099,513299,762399,698899,100599,91699,124999,250399,321799,335999,379999,304827,354229,269639,316199,211099,308399,247499,275399,174461,249599,309999,142999,264397,277499,270899,338699,156499,305199,322599,255299,322699,214599,320299,343999,260899,324099,200699,229499,267599,313199,173699,246499,227299,335899,189899,172940,289299,219299,286799,219599,316299,159299,256999,382399,330999,292199,263625,395399,182499,178299,221699,312699,169831,240199,154899,346099,306799,240299,180199,334599,128899,346399,241599,278199,234199,177899,223899,343399,272199,229890,237999,338199,188899,320099,317699,349199,209099,369799,335399,336299,208499,239642,212599,336265,343899,189969,345399,175599,258899,147299,166099,174299,304299,518099,544699,552899,554899,522366,637199,728166,554899,506699,585599,586699,520399,211799,222252,214499,172599,151899,116199,182299,201799,177499,254853,248099,78599,183399,134099,151015,130999,220199,169999,120399,177409,121199,332627,396899,435299,544999,352399,442799,307830,477214,335599,333099,353768,326199,352499,316838,418499,449999,441299,516399,335700,297299,357799,604299,447072,520399,406899,461599,287999,394685,358199,392199,322299,529199,311199,299699,392199,321199,314599,379020,456399,333399,414599,470199,289999,300899,433983,364599,317999,412499,446599,453199,578899,500899,334499,330899,449699,471999,469199,332299,311500,669899,524399,556999,522080,648299,503299,519099,772699,588999,666999,447799,566399,390399,373299,429499,419699,409199,442399,503599,571713,544999,451799,564399,442799,408599,440099,481799,474899,354299,425299,424199,499199,318699,417499,840899,733899,744799,667699,588399,514299,473199,625199,210799,187199,170399,323699,186699,207199,228500,258799,195599,573999,315099,241699,504737,213413,748585,464510,592875,323699,565599,319399,227399,657599,478699,369099,423299,639999,262499,300999,327799,409599,898699,237399,279592,720399,483999,369700,705899,683899,507199,254199,609299,525799,336699,325099,476099,241099,424399,441699,889799,707999,655899,417599,489835,700699,462542,795699,761699,443799,552999,722699,991699,363099,406788,358999,346099,447399,270999,486599,559299,708799,227299,239599,305199,199500,434399,240199,336326,305899,345799,320570,345999,354899,297399,216699,244399,200299,394099,318599,352699,219168,307559,311999,311099,840799,467199,606099,606399,726106,730299,827599,728599,668999,524199,1045899,977099,740399,977199,282699,306999,291099,275499,255099,671199,614299,429999,241899,407999,283399,320699,317799,466699,290799,327099,374599,490199,417099,356499,328013,416299,502599,520999,376214,331599,372699,240099,271499,224999,212299,216799,232999,279799,344399,271299,327999,143099,313599,203068,160399,308399,239099,270299,218099,204999,234399,195899,200299,225120,303399,362699,348699,210699,258799,350999,314799,330399,335999,220099,293999,288799,253299,422699,430799,270500,561399,418699,436499,374435,378999,454799,463299,444099,510799,379099,401499,438999,455699,403594,313900,410399,242299,257599,259899,398999,420300,297099,353999,241199,420399,297867,210834,305199,292999,261699,264340,258699,293776,183799,314999,252099,451699,212899,263899,337199,244699,433699,219699,316955,276399,402199,276399,340699,312399,249299,339899,267099,232799,486416,257879,286499,195800,288099,193780,177499,263299,254899,250699,286899,258199,286533,191299,256199,259199,723699,571899,385699,479999,380599,530899,605499,468380,408199,452699,549199,459199,699599,565999,481499,347799,475299,504699,362199,535599,390499,409099,333347,444144,327344,323699,340706,527799,407092,307699,401599,370199,448299,406099,400199,446399,424099,425699,355899,368481,388899,426899,441599,379299,160099,149199,180599,209499,181299,202499,201699,240099,126017,274199,693799,679015,263199,211499,300799,218399,194999,217999,244899,249899,276399,371470,420999,391499,418599,979661,420399,1004199,465599,345199,367599,236300,78799,156299,174699,173399,111799,171299,133599,206599,188147,160099,372799,111699,156325,124299,150299,189999,228499,204399,131999,186099,251699,91699,175999,170599,229799,170036,118499,167999,229399,222199,252599,134799,153399,95499,247957,231799,160199,165199,268799,157899,83399,155599,159299,681999,551799,453299,539599,630899,503399,604499,548199,524199,499799,603699,549299,565599,550399,557499,586299,548999,619379,624599,621199,509199,497699,527699,521499,415299,420499,392899,421699,501899,430399,453300,181699,275099,168099,218799,171699,287165,332428,179499,245199,212699,456299,327699,295362,236599,224199,235499,262499,308799,305999,265799,254299,331599,258899,343073,325099,290199,204799,332899,294840,264899,324499,269099,303899,348540,492599,463899,541500,547099,607099,574599,424099,779699,756299,935399,598699,584199,789304,743899,876399,670599,592899,761999,887599,883799,723699,677870,695799,758699,668499,828099,706099,976799,809099,820199,345499,397299,552899,631799,445471,291499,589410,464679,354799,322999,415499,498099,522899,539899,392099,403399,397099,476499,537599,531199,428999,399299,439599,381199,398299,359999,381199,353499,349499,582699,428199,443499,451799,787499,751199,845699,534899,116766,145999,210099,298899,209499,115999,234799,182811,181499,201599,194278,182599,241199,130999,158099,300099,174899,178699,184383,245999,306499,338799,277599,301299,306599,286599,272999,264999,235458,304899,253199,285199,320912,289699,299999,279899,411398,401463,320099,373799,300499,223399,257199,232999,331599,279399,323499,296399,238499,279299,347699,275599,311299,910099,503799,325199,258999,951099,932099,757899,924799,909899,822899,790899,839199,738399,921299,336099,441599,421608,393699,439299,576757,534199,531499,534799,696599,451399,393660,478399,456099,196999,294599,420299,252399,456999,182037,339499,261409,333499,375955,264899,292699,397033,305225,208199,237193,345799,303399,372099,390699,445599,450099,447283,389899,343299,278999,413999,458699,356852,410399,378499,364299,438399,388799,305899,215599,224499,133199,199599,491399,470599,281499,193499,384599,408499,330099,524499,531399,492799,342299,168099,368595,222799,486699,419399,329199,422751,331999,552899,212699,563199,199899,178399,199499,213299,1117599,1192799,806599,921499,1563499,894500,937699,867399,653399,330699,283090,322499,731019,861999,518499,690099,489199,389099,1007106,955799,272299,256399,604106,317999,443699,380699,365299,355530,302899,581899,193099,600399,571599,597099,524699,678499,733199,472499,309199,404786,748899,736599,413099,492724,931499,455899,495266,447899,402399,768899,746299,370399,1017499,897799,824499,984999,914699,340899,305199,303599,318999,344698,202699,193582,338999,204799,186399,315999,248499,251899,219399,343740,214599,242899,228099,187499,300699,181299,303399,255899,936799,356499,377799,413326,336299,382199,571991,408899,283599,364499,376499,291899,332699,424499,752999,495299,1380699,681399,316653,399799,293399,335193,322722,407082,317099,361853,378099,349999,322599,295599,312899,396599,462199,210899,343199,296899,248599,330799,226599,346999,242599,228199,193399,281599,279399,254699,387599,211699,253136,248899,285199,251399,264370,180699,204999,185887,314699,238499,339599,213799,231299,202999,283199,294599,142117,122999,215499,266299,231199,194540,200628,177099,126781,261499,148899,224999,284999,473490,950499,822193,541799,874899,706899,283400,500599,335899,219399,343399,456099,301599,247399,233099,211199,502199,532599,1608699,1697199,377499,544299,556199,615399,427399,738399,548899,681799,189299,316399,175030,371299,954099,1082099,306799,279599,330699,221199,264950,274799,248399,285699,223099,269299,276499,931399,894499,1043299,758699,860499,733290,125199,115999,176091,510299,253199,291899,309599,341799,333499,279899,322799,229599,252499,481199,312099,305999,278199,218899,452199,351099,341199,384799,372299,376899,434599,308599,292921,373199,783199,672342,931166,433399,351799,470799,366699,109199,351099,210151,149899,433592,134599,420499,104289,75299,391199,487799,1319868,801499,925999,768899,484699,322068,305864,458899,507799,551899,320799,544699,402399,469199,481199,435499,358999,172399,168699,354599,336399,216038,237899,189799,136799,330799,177499,176499,120299,292699,246999,473899,550799,561299,494699,632999,499499,589399,588099,511699,521699,548999,427500,144097,266099,423299,317199,361699,394899,926599,818599,737299,819210,464899,423399,362899,764599,331799,553264,306099,965599,288299,486299,412999,131199,427799,353299,228099,113799,125470,1045599,1057482,814299,873802,1189399,1012699,1144199,1214099,1091499,256099,206083,189769,228799,327099,413899,383399,335499,480699,429299,344616,398399,410399,409599,377899,309299,383599,390699,461199,375699,551681,440099,369299,422399,227099,271599,294099,299999,270999,603340,630780,687299,694699,589499,648780,141599,266186,273999,665315,578999,551399,523699,256399,436299,374500,296199,276799,437099,321799,330690,343899,401699,227999,301599,347899,250028,378899,425699,264899,296999,378799,339100,321799,343899,365099,406999,402499,308899,420199,330999,383599,389703,1167456,945699,843199,592599,496799,367499,550699,370899,408099,286499,819699,1011799,723499,839899,792499,336599,282599,144099,657699,1188855,1035199,891199,1246699,1145699,291099,98799,409299,380240,254599,246500,315299,225999,289299,274500,387099,360599,404099,564599,451244,315699,414599,445599,474299,427899,392499,526099,378099,402647,512399,505999,516399,472599,354899,301399,282199,243299,834599,684899,396199,342999,204801,186699,248699,169955,198930,113799,505399,384199,443999,327499,458299,354599,898099,560999,701799,549399,494115,469299,632999,700399,154799,668099,694799,595399,511099,127599,534399,891599,1553699,1042699,1505899,383199,512610,370199,409299,399899,206899,158199,185699,315364,425799,294461,306399,1654999,617799,554799,586199,579299,559592,569899,195299,317799,361499,324699,322699,297699,278599,388180,415799,482299,483499,1224699,201208,258699,212199,131299,271999,157199,187899,242899,874599,1070040,819099,897299,657499,655099,634699,561899,443699,590199,351399,393899,333399,318899,299500,565799,579399,435399,572899,626499,515199,673199,544599,619199,275399,206641,291268,301505,244899,405499,540762,560972,540399,300899,233299,195399,526099,544199,484199,533799,649499,708899,253499,517199,539099,409599,378899,583999,801299,282199,323599,191599,312099,316699,432199,423799,616999,577499,613299,867599,639499,1054799,1409199,518471,227899,197299,327499,277399,339199,160099,168299,257499,231699,187407,413600,397299,588899,474899,386799,404299,802599,550399,708599,417299,487199,414399,460199,445899,468299,603799,494999,401599,472499,520199,389299,439399,575799,830014,638199,602799,777899,760699,590999,110599,971199,1155999,1016899,909299,601799,789899,522399,277499,254899,200199,208120,168899,161199,352699,242899,420399,175899,231499,343699,465999,430599,560885,451199,574925,633299,639999,620999,1545999,627399,453999,575599,517199,605899,562700,1152941,412999,278699,228918,253099,269668,376799,633180,147099,306399,294799,271799,414299,266599,579399,723499,420199,603899,643599,526899,653299,557699,459599,598875,292199,261599,301999,1603499,570399,407080,177099,229899,266399,772799,710899,462299,1044499,619899,172999,181500,335299,153999,399899,294699,511399,342599,261299,308799,263799,762799,653099,691899,819497,678908,442899,470799,453932,417420,1032599,674599,594299,844499,723499,534199,595199,493965,486580,328799,710799,577399,447399,315799,264499,652519,1708199,696899,118999,482199,308899,1074299,399499,819999,994599,859499,913599,475199,481899,530299,282899,308899,456099,386799,608699,246599,267199,1399530,1092599,578340,845899,1031199,317299,197099,793199,387899,347599,486579,266299,347699,307499,962499,785099,284499,331500,513299,565099,181899,254799,698399,441399,475399,741499,541599,586799,663799,281702,389999,1952397,284199,333399,1028708,1023399,941199,1429399,1457099,1485599,321814,695799,616899,1817180,496999,837499,689099,183099,223499,722328,944299,685899,719099,646399,348699,323599,1156099,511599,519799,472199,124399,755931,119599,1036742,564399,450699,705999,306190,472099,372101,525699,782799,523499,560399,248199,1081500,685830,552399,350599,194499,150099,103199,1378399,1420537,323399,348599,412599,133599,1215699,444499,683999,674399,238899,239399,390500,257099,519799,369099,446799,538399,1395599,411499,151406,684399,753299,857299,451399,396099,260199,189199,1393799,138199,509899,1001799,643499,212299],\"yaxis\":\"y\",\"type\":\"scattergl\"}],                        {\"template\":{\"data\":{\"bar\":[{\"error_x\":{\"color\":\"#2a3f5f\"},\"error_y\":{\"color\":\"#2a3f5f\"},\"marker\":{\"line\":{\"color\":\"#E5ECF6\",\"width\":0.5},\"pattern\":{\"fillmode\":\"overlay\",\"size\":10,\"solidity\":0.2}},\"type\":\"bar\"}],\"barpolar\":[{\"marker\":{\"line\":{\"color\":\"#E5ECF6\",\"width\":0.5},\"pattern\":{\"fillmode\":\"overlay\",\"size\":10,\"solidity\":0.2}},\"type\":\"barpolar\"}],\"carpet\":[{\"aaxis\":{\"endlinecolor\":\"#2a3f5f\",\"gridcolor\":\"white\",\"linecolor\":\"white\",\"minorgridcolor\":\"white\",\"startlinecolor\":\"#2a3f5f\"},\"baxis\":{\"endlinecolor\":\"#2a3f5f\",\"gridcolor\":\"white\",\"linecolor\":\"white\",\"minorgridcolor\":\"white\",\"startlinecolor\":\"#2a3f5f\"},\"type\":\"carpet\"}],\"choropleth\":[{\"colorbar\":{\"outlinewidth\":0,\"ticks\":\"\"},\"type\":\"choropleth\"}],\"contour\":[{\"colorbar\":{\"outlinewidth\":0,\"ticks\":\"\"},\"colorscale\":[[0.0,\"#0d0887\"],[0.1111111111111111,\"#46039f\"],[0.2222222222222222,\"#7201a8\"],[0.3333333333333333,\"#9c179e\"],[0.4444444444444444,\"#bd3786\"],[0.5555555555555556,\"#d8576b\"],[0.6666666666666666,\"#ed7953\"],[0.7777777777777778,\"#fb9f3a\"],[0.8888888888888888,\"#fdca26\"],[1.0,\"#f0f921\"]],\"type\":\"contour\"}],\"contourcarpet\":[{\"colorbar\":{\"outlinewidth\":0,\"ticks\":\"\"},\"type\":\"contourcarpet\"}],\"heatmap\":[{\"colorbar\":{\"outlinewidth\":0,\"ticks\":\"\"},\"colorscale\":[[0.0,\"#0d0887\"],[0.1111111111111111,\"#46039f\"],[0.2222222222222222,\"#7201a8\"],[0.3333333333333333,\"#9c179e\"],[0.4444444444444444,\"#bd3786\"],[0.5555555555555556,\"#d8576b\"],[0.6666666666666666,\"#ed7953\"],[0.7777777777777778,\"#fb9f3a\"],[0.8888888888888888,\"#fdca26\"],[1.0,\"#f0f921\"]],\"type\":\"heatmap\"}],\"heatmapgl\":[{\"colorbar\":{\"outlinewidth\":0,\"ticks\":\"\"},\"colorscale\":[[0.0,\"#0d0887\"],[0.1111111111111111,\"#46039f\"],[0.2222222222222222,\"#7201a8\"],[0.3333333333333333,\"#9c179e\"],[0.4444444444444444,\"#bd3786\"],[0.5555555555555556,\"#d8576b\"],[0.6666666666666666,\"#ed7953\"],[0.7777777777777778,\"#fb9f3a\"],[0.8888888888888888,\"#fdca26\"],[1.0,\"#f0f921\"]],\"type\":\"heatmapgl\"}],\"histogram\":[{\"marker\":{\"pattern\":{\"fillmode\":\"overlay\",\"size\":10,\"solidity\":0.2}},\"type\":\"histogram\"}],\"histogram2d\":[{\"colorbar\":{\"outlinewidth\":0,\"ticks\":\"\"},\"colorscale\":[[0.0,\"#0d0887\"],[0.1111111111111111,\"#46039f\"],[0.2222222222222222,\"#7201a8\"],[0.3333333333333333,\"#9c179e\"],[0.4444444444444444,\"#bd3786\"],[0.5555555555555556,\"#d8576b\"],[0.6666666666666666,\"#ed7953\"],[0.7777777777777778,\"#fb9f3a\"],[0.8888888888888888,\"#fdca26\"],[1.0,\"#f0f921\"]],\"type\":\"histogram2d\"}],\"histogram2dcontour\":[{\"colorbar\":{\"outlinewidth\":0,\"ticks\":\"\"},\"colorscale\":[[0.0,\"#0d0887\"],[0.1111111111111111,\"#46039f\"],[0.2222222222222222,\"#7201a8\"],[0.3333333333333333,\"#9c179e\"],[0.4444444444444444,\"#bd3786\"],[0.5555555555555556,\"#d8576b\"],[0.6666666666666666,\"#ed7953\"],[0.7777777777777778,\"#fb9f3a\"],[0.8888888888888888,\"#fdca26\"],[1.0,\"#f0f921\"]],\"type\":\"histogram2dcontour\"}],\"mesh3d\":[{\"colorbar\":{\"outlinewidth\":0,\"ticks\":\"\"},\"type\":\"mesh3d\"}],\"parcoords\":[{\"line\":{\"colorbar\":{\"outlinewidth\":0,\"ticks\":\"\"}},\"type\":\"parcoords\"}],\"pie\":[{\"automargin\":true,\"type\":\"pie\"}],\"scatter\":[{\"marker\":{\"colorbar\":{\"outlinewidth\":0,\"ticks\":\"\"}},\"type\":\"scatter\"}],\"scatter3d\":[{\"line\":{\"colorbar\":{\"outlinewidth\":0,\"ticks\":\"\"}},\"marker\":{\"colorbar\":{\"outlinewidth\":0,\"ticks\":\"\"}},\"type\":\"scatter3d\"}],\"scattercarpet\":[{\"marker\":{\"colorbar\":{\"outlinewidth\":0,\"ticks\":\"\"}},\"type\":\"scattercarpet\"}],\"scattergeo\":[{\"marker\":{\"colorbar\":{\"outlinewidth\":0,\"ticks\":\"\"}},\"type\":\"scattergeo\"}],\"scattergl\":[{\"marker\":{\"colorbar\":{\"outlinewidth\":0,\"ticks\":\"\"}},\"type\":\"scattergl\"}],\"scattermapbox\":[{\"marker\":{\"colorbar\":{\"outlinewidth\":0,\"ticks\":\"\"}},\"type\":\"scattermapbox\"}],\"scatterpolar\":[{\"marker\":{\"colorbar\":{\"outlinewidth\":0,\"ticks\":\"\"}},\"type\":\"scatterpolar\"}],\"scatterpolargl\":[{\"marker\":{\"colorbar\":{\"outlinewidth\":0,\"ticks\":\"\"}},\"type\":\"scatterpolargl\"}],\"scatterternary\":[{\"marker\":{\"colorbar\":{\"outlinewidth\":0,\"ticks\":\"\"}},\"type\":\"scatterternary\"}],\"surface\":[{\"colorbar\":{\"outlinewidth\":0,\"ticks\":\"\"},\"colorscale\":[[0.0,\"#0d0887\"],[0.1111111111111111,\"#46039f\"],[0.2222222222222222,\"#7201a8\"],[0.3333333333333333,\"#9c179e\"],[0.4444444444444444,\"#bd3786\"],[0.5555555555555556,\"#d8576b\"],[0.6666666666666666,\"#ed7953\"],[0.7777777777777778,\"#fb9f3a\"],[0.8888888888888888,\"#fdca26\"],[1.0,\"#f0f921\"]],\"type\":\"surface\"}],\"table\":[{\"cells\":{\"fill\":{\"color\":\"#EBF0F8\"},\"line\":{\"color\":\"white\"}},\"header\":{\"fill\":{\"color\":\"#C8D4E3\"},\"line\":{\"color\":\"white\"}},\"type\":\"table\"}]},\"layout\":{\"annotationdefaults\":{\"arrowcolor\":\"#2a3f5f\",\"arrowhead\":0,\"arrowwidth\":1},\"autotypenumbers\":\"strict\",\"coloraxis\":{\"colorbar\":{\"outlinewidth\":0,\"ticks\":\"\"}},\"colorscale\":{\"diverging\":[[0,\"#8e0152\"],[0.1,\"#c51b7d\"],[0.2,\"#de77ae\"],[0.3,\"#f1b6da\"],[0.4,\"#fde0ef\"],[0.5,\"#f7f7f7\"],[0.6,\"#e6f5d0\"],[0.7,\"#b8e186\"],[0.8,\"#7fbc41\"],[0.9,\"#4d9221\"],[1,\"#276419\"]],\"sequential\":[[0.0,\"#0d0887\"],[0.1111111111111111,\"#46039f\"],[0.2222222222222222,\"#7201a8\"],[0.3333333333333333,\"#9c179e\"],[0.4444444444444444,\"#bd3786\"],[0.5555555555555556,\"#d8576b\"],[0.6666666666666666,\"#ed7953\"],[0.7777777777777778,\"#fb9f3a\"],[0.8888888888888888,\"#fdca26\"],[1.0,\"#f0f921\"]],\"sequentialminus\":[[0.0,\"#0d0887\"],[0.1111111111111111,\"#46039f\"],[0.2222222222222222,\"#7201a8\"],[0.3333333333333333,\"#9c179e\"],[0.4444444444444444,\"#bd3786\"],[0.5555555555555556,\"#d8576b\"],[0.6666666666666666,\"#ed7953\"],[0.7777777777777778,\"#fb9f3a\"],[0.8888888888888888,\"#fdca26\"],[1.0,\"#f0f921\"]]},\"colorway\":[\"#636efa\",\"#EF553B\",\"#00cc96\",\"#ab63fa\",\"#FFA15A\",\"#19d3f3\",\"#FF6692\",\"#B6E880\",\"#FF97FF\",\"#FECB52\"],\"font\":{\"color\":\"#2a3f5f\"},\"geo\":{\"bgcolor\":\"white\",\"lakecolor\":\"white\",\"landcolor\":\"#E5ECF6\",\"showlakes\":true,\"showland\":true,\"subunitcolor\":\"white\"},\"hoverlabel\":{\"align\":\"left\"},\"hovermode\":\"closest\",\"mapbox\":{\"style\":\"light\"},\"paper_bgcolor\":\"white\",\"plot_bgcolor\":\"#E5ECF6\",\"polar\":{\"angularaxis\":{\"gridcolor\":\"white\",\"linecolor\":\"white\",\"ticks\":\"\"},\"bgcolor\":\"#E5ECF6\",\"radialaxis\":{\"gridcolor\":\"white\",\"linecolor\":\"white\",\"ticks\":\"\"}},\"scene\":{\"xaxis\":{\"backgroundcolor\":\"#E5ECF6\",\"gridcolor\":\"white\",\"gridwidth\":2,\"linecolor\":\"white\",\"showbackground\":true,\"ticks\":\"\",\"zerolinecolor\":\"white\"},\"yaxis\":{\"backgroundcolor\":\"#E5ECF6\",\"gridcolor\":\"white\",\"gridwidth\":2,\"linecolor\":\"white\",\"showbackground\":true,\"ticks\":\"\",\"zerolinecolor\":\"white\"},\"zaxis\":{\"backgroundcolor\":\"#E5ECF6\",\"gridcolor\":\"white\",\"gridwidth\":2,\"linecolor\":\"white\",\"showbackground\":true,\"ticks\":\"\",\"zerolinecolor\":\"white\"}},\"shapedefaults\":{\"line\":{\"color\":\"#2a3f5f\"}},\"ternary\":{\"aaxis\":{\"gridcolor\":\"white\",\"linecolor\":\"white\",\"ticks\":\"\"},\"baxis\":{\"gridcolor\":\"white\",\"linecolor\":\"white\",\"ticks\":\"\"},\"bgcolor\":\"#E5ECF6\",\"caxis\":{\"gridcolor\":\"white\",\"linecolor\":\"white\",\"ticks\":\"\"}},\"title\":{\"x\":0.05},\"xaxis\":{\"automargin\":true,\"gridcolor\":\"white\",\"linecolor\":\"white\",\"ticks\":\"\",\"title\":{\"standoff\":15},\"zerolinecolor\":\"white\",\"zerolinewidth\":2},\"yaxis\":{\"automargin\":true,\"gridcolor\":\"white\",\"linecolor\":\"white\",\"ticks\":\"\",\"title\":{\"standoff\":15},\"zerolinecolor\":\"white\",\"zerolinewidth\":2}}},\"xaxis\":{\"anchor\":\"y\",\"domain\":[0.0,1.0],\"title\":{\"text\":\"x\"}},\"yaxis\":{\"anchor\":\"x\",\"domain\":[0.0,1.0],\"title\":{\"text\":\"y\"}},\"coloraxis\":{\"colorbar\":{\"title\":{\"text\":\"color\"}},\"colorscale\":[[0.0,\"#0d0887\"],[0.1111111111111111,\"#46039f\"],[0.2222222222222222,\"#7201a8\"],[0.3333333333333333,\"#9c179e\"],[0.4444444444444444,\"#bd3786\"],[0.5555555555555556,\"#d8576b\"],[0.6666666666666666,\"#ed7953\"],[0.7777777777777778,\"#fb9f3a\"],[0.8888888888888888,\"#fdca26\"],[1.0,\"#f0f921\"]]},\"legend\":{\"tracegroupgap\":0},\"margin\":{\"t\":60}},                        {\"responsive\": true}                    ).then(function(){\n",
              "                            \n",
              "var gd = document.getElementById('bc069cb9-f7fa-49cc-943d-1f8bdb882c79');\n",
              "var x = new MutationObserver(function (mutations, observer) {{\n",
              "        var display = window.getComputedStyle(gd).display;\n",
              "        if (!display || display === 'none') {{\n",
              "            console.log([gd, 'removed!']);\n",
              "            Plotly.purge(gd);\n",
              "            observer.disconnect();\n",
              "        }}\n",
              "}});\n",
              "\n",
              "// Listen for the removal of the full notebook cells\n",
              "var notebookContainer = gd.closest('#notebook-container');\n",
              "if (notebookContainer) {{\n",
              "    x.observe(notebookContainer, {childList: true});\n",
              "}}\n",
              "\n",
              "// Listen for the clearing of the current output cell\n",
              "var outputEl = gd.closest('.output');\n",
              "if (outputEl) {{\n",
              "    x.observe(outputEl, {childList: true});\n",
              "}}\n",
              "\n",
              "                        })                };                            </script>        </div>\n",
              "</body>\n",
              "</html>"
            ]
          },
          "metadata": {}
        }
      ]
    },
    {
      "cell_type": "markdown",
      "source": [
        "## **Cleaning data**"
      ],
      "metadata": {
        "id": "r-b7-Epf70XV"
      }
    },
    {
      "cell_type": "markdown",
      "source": [
        "The Current Price column had some records with 0 value. We can add the average difference between the selling price and current price to the selling price of these columns to get an approximation of the current price of these columns.\n",
        "\n",
        "You can also add another column to tell the model that the current price was missing earlier and to take the current price for such records with a pinch of salt. As missing current price might denote that the car is too old and no longer sold in the market"
      ],
      "metadata": {
        "id": "Fjlb9TCX70Kq"
      }
    },
    {
      "cell_type": "code",
      "source": [
        "df['No_Current_Price'] = 0\n",
        "df.loc[df['Current Price'] == 0, 'No_Current_Price'] = 1"
      ],
      "metadata": {
        "id": "91dBh6l27w5z"
      },
      "execution_count": 24,
      "outputs": []
    },
    {
      "cell_type": "code",
      "source": [
        "df['diff'] = df['Current Price'] - df['Selling Price']"
      ],
      "metadata": {
        "id": "qX-ZxKr_7-Sl"
      },
      "execution_count": 25,
      "outputs": []
    },
    {
      "cell_type": "markdown",
      "source": [
        "Since the prices are bit skewed, median is better approximation of central tendency."
      ],
      "metadata": {
        "id": "6Ycza3nW8BdB"
      }
    },
    {
      "cell_type": "code",
      "source": [
        "med_diff = df[df['diff'] > 0]['diff'].median()"
      ],
      "metadata": {
        "id": "TwIT00aF8CXN"
      },
      "execution_count": 26,
      "outputs": []
    },
    {
      "cell_type": "code",
      "source": [
        "def set_current_price(row):\n",
        "    if row['Current Price'] == 0 or row['diff'] < 0:\n",
        "        row['Current Price'] = row['Selling Price'] + med_diff\n",
        "    \n",
        "    return row['Current Price']\n",
        "\n",
        "df.loc[:, 'Current Price'] = df.apply(set_current_price, axis=1)"
      ],
      "metadata": {
        "id": "nJAsVgYe8NA9"
      },
      "execution_count": 27,
      "outputs": []
    },
    {
      "cell_type": "code",
      "source": [
        "df.head()"
      ],
      "metadata": {
        "colab": {
          "base_uri": "https://localhost:8080/",
          "height": 461
        },
        "id": "sKKxxX188QVm",
        "outputId": "c1db5a08-a819-43dc-8944-582a4483bbeb"
      },
      "execution_count": 28,
      "outputs": [
        {
          "output_type": "execute_result",
          "data": {
            "text/plain": [
              "                Model  Selling Price  Kilometers Driven  Year         Owner  \\\n",
              "0  MarutiWagonR1.0LXI         312165              82238  2014   First Owner   \n",
              "1  MarutiWagonR1.0LXI         242499              88514  2015  Second Owner   \n",
              "2  MarutiWagonR1.0LXI         381699              29735  2017  Second Owner   \n",
              "3  MarutiWagonR1.0LXI         181999             153709  2013   First Owner   \n",
              "4  MarutiWagonR1.0LXI         239499              88691  2012  Second Owner   \n",
              "\n",
              "      Fuel Type Transmission   Insurance  Car Condition  Current Price  Age  \\\n",
              "0  Petrol + CNG       MANUAL     Expired            4.2       465000.0    8   \n",
              "1  Petrol + CNG       MANUAL  26-07-2021            4.4       465000.0    7   \n",
              "2  Petrol + CNG       MANUAL  18-09-2021            4.3       465000.0    5   \n",
              "3  Petrol + CNG       MANUAL  25-05-2021            4.1       465000.0    9   \n",
              "4  Petrol + CNG       MANUAL  15-10-2021            4.4       465000.0   10   \n",
              "\n",
              "   Insurance_Expired  No_Current_Price    diff  \n",
              "0                  1                 0  152835  \n",
              "1                  0                 0  222501  \n",
              "2                  0                 0   83301  \n",
              "3                  0                 0  283001  \n",
              "4                  0                 0  225501  "
            ],
            "text/html": [
              "\n",
              "  <div id=\"df-2e217b49-75e0-41f2-89a0-354512188d7b\">\n",
              "    <div class=\"colab-df-container\">\n",
              "      <div>\n",
              "<style scoped>\n",
              "    .dataframe tbody tr th:only-of-type {\n",
              "        vertical-align: middle;\n",
              "    }\n",
              "\n",
              "    .dataframe tbody tr th {\n",
              "        vertical-align: top;\n",
              "    }\n",
              "\n",
              "    .dataframe thead th {\n",
              "        text-align: right;\n",
              "    }\n",
              "</style>\n",
              "<table border=\"1\" class=\"dataframe\">\n",
              "  <thead>\n",
              "    <tr style=\"text-align: right;\">\n",
              "      <th></th>\n",
              "      <th>Model</th>\n",
              "      <th>Selling Price</th>\n",
              "      <th>Kilometers Driven</th>\n",
              "      <th>Year</th>\n",
              "      <th>Owner</th>\n",
              "      <th>Fuel Type</th>\n",
              "      <th>Transmission</th>\n",
              "      <th>Insurance</th>\n",
              "      <th>Car Condition</th>\n",
              "      <th>Current Price</th>\n",
              "      <th>Age</th>\n",
              "      <th>Insurance_Expired</th>\n",
              "      <th>No_Current_Price</th>\n",
              "      <th>diff</th>\n",
              "    </tr>\n",
              "  </thead>\n",
              "  <tbody>\n",
              "    <tr>\n",
              "      <th>0</th>\n",
              "      <td>MarutiWagonR1.0LXI</td>\n",
              "      <td>312165</td>\n",
              "      <td>82238</td>\n",
              "      <td>2014</td>\n",
              "      <td>First Owner</td>\n",
              "      <td>Petrol + CNG</td>\n",
              "      <td>MANUAL</td>\n",
              "      <td>Expired</td>\n",
              "      <td>4.2</td>\n",
              "      <td>465000.0</td>\n",
              "      <td>8</td>\n",
              "      <td>1</td>\n",
              "      <td>0</td>\n",
              "      <td>152835</td>\n",
              "    </tr>\n",
              "    <tr>\n",
              "      <th>1</th>\n",
              "      <td>MarutiWagonR1.0LXI</td>\n",
              "      <td>242499</td>\n",
              "      <td>88514</td>\n",
              "      <td>2015</td>\n",
              "      <td>Second Owner</td>\n",
              "      <td>Petrol + CNG</td>\n",
              "      <td>MANUAL</td>\n",
              "      <td>26-07-2021</td>\n",
              "      <td>4.4</td>\n",
              "      <td>465000.0</td>\n",
              "      <td>7</td>\n",
              "      <td>0</td>\n",
              "      <td>0</td>\n",
              "      <td>222501</td>\n",
              "    </tr>\n",
              "    <tr>\n",
              "      <th>2</th>\n",
              "      <td>MarutiWagonR1.0LXI</td>\n",
              "      <td>381699</td>\n",
              "      <td>29735</td>\n",
              "      <td>2017</td>\n",
              "      <td>Second Owner</td>\n",
              "      <td>Petrol + CNG</td>\n",
              "      <td>MANUAL</td>\n",
              "      <td>18-09-2021</td>\n",
              "      <td>4.3</td>\n",
              "      <td>465000.0</td>\n",
              "      <td>5</td>\n",
              "      <td>0</td>\n",
              "      <td>0</td>\n",
              "      <td>83301</td>\n",
              "    </tr>\n",
              "    <tr>\n",
              "      <th>3</th>\n",
              "      <td>MarutiWagonR1.0LXI</td>\n",
              "      <td>181999</td>\n",
              "      <td>153709</td>\n",
              "      <td>2013</td>\n",
              "      <td>First Owner</td>\n",
              "      <td>Petrol + CNG</td>\n",
              "      <td>MANUAL</td>\n",
              "      <td>25-05-2021</td>\n",
              "      <td>4.1</td>\n",
              "      <td>465000.0</td>\n",
              "      <td>9</td>\n",
              "      <td>0</td>\n",
              "      <td>0</td>\n",
              "      <td>283001</td>\n",
              "    </tr>\n",
              "    <tr>\n",
              "      <th>4</th>\n",
              "      <td>MarutiWagonR1.0LXI</td>\n",
              "      <td>239499</td>\n",
              "      <td>88691</td>\n",
              "      <td>2012</td>\n",
              "      <td>Second Owner</td>\n",
              "      <td>Petrol + CNG</td>\n",
              "      <td>MANUAL</td>\n",
              "      <td>15-10-2021</td>\n",
              "      <td>4.4</td>\n",
              "      <td>465000.0</td>\n",
              "      <td>10</td>\n",
              "      <td>0</td>\n",
              "      <td>0</td>\n",
              "      <td>225501</td>\n",
              "    </tr>\n",
              "  </tbody>\n",
              "</table>\n",
              "</div>\n",
              "      <button class=\"colab-df-convert\" onclick=\"convertToInteractive('df-2e217b49-75e0-41f2-89a0-354512188d7b')\"\n",
              "              title=\"Convert this dataframe to an interactive table.\"\n",
              "              style=\"display:none;\">\n",
              "        \n",
              "  <svg xmlns=\"http://www.w3.org/2000/svg\" height=\"24px\"viewBox=\"0 0 24 24\"\n",
              "       width=\"24px\">\n",
              "    <path d=\"M0 0h24v24H0V0z\" fill=\"none\"/>\n",
              "    <path d=\"M18.56 5.44l.94 2.06.94-2.06 2.06-.94-2.06-.94-.94-2.06-.94 2.06-2.06.94zm-11 1L8.5 8.5l.94-2.06 2.06-.94-2.06-.94L8.5 2.5l-.94 2.06-2.06.94zm10 10l.94 2.06.94-2.06 2.06-.94-2.06-.94-.94-2.06-.94 2.06-2.06.94z\"/><path d=\"M17.41 7.96l-1.37-1.37c-.4-.4-.92-.59-1.43-.59-.52 0-1.04.2-1.43.59L10.3 9.45l-7.72 7.72c-.78.78-.78 2.05 0 2.83L4 21.41c.39.39.9.59 1.41.59.51 0 1.02-.2 1.41-.59l7.78-7.78 2.81-2.81c.8-.78.8-2.07 0-2.86zM5.41 20L4 18.59l7.72-7.72 1.47 1.35L5.41 20z\"/>\n",
              "  </svg>\n",
              "      </button>\n",
              "      \n",
              "  <style>\n",
              "    .colab-df-container {\n",
              "      display:flex;\n",
              "      flex-wrap:wrap;\n",
              "      gap: 12px;\n",
              "    }\n",
              "\n",
              "    .colab-df-convert {\n",
              "      background-color: #E8F0FE;\n",
              "      border: none;\n",
              "      border-radius: 50%;\n",
              "      cursor: pointer;\n",
              "      display: none;\n",
              "      fill: #1967D2;\n",
              "      height: 32px;\n",
              "      padding: 0 0 0 0;\n",
              "      width: 32px;\n",
              "    }\n",
              "\n",
              "    .colab-df-convert:hover {\n",
              "      background-color: #E2EBFA;\n",
              "      box-shadow: 0px 1px 2px rgba(60, 64, 67, 0.3), 0px 1px 3px 1px rgba(60, 64, 67, 0.15);\n",
              "      fill: #174EA6;\n",
              "    }\n",
              "\n",
              "    [theme=dark] .colab-df-convert {\n",
              "      background-color: #3B4455;\n",
              "      fill: #D2E3FC;\n",
              "    }\n",
              "\n",
              "    [theme=dark] .colab-df-convert:hover {\n",
              "      background-color: #434B5C;\n",
              "      box-shadow: 0px 1px 3px 1px rgba(0, 0, 0, 0.15);\n",
              "      filter: drop-shadow(0px 1px 2px rgba(0, 0, 0, 0.3));\n",
              "      fill: #FFFFFF;\n",
              "    }\n",
              "  </style>\n",
              "\n",
              "      <script>\n",
              "        const buttonEl =\n",
              "          document.querySelector('#df-2e217b49-75e0-41f2-89a0-354512188d7b button.colab-df-convert');\n",
              "        buttonEl.style.display =\n",
              "          google.colab.kernel.accessAllowed ? 'block' : 'none';\n",
              "\n",
              "        async function convertToInteractive(key) {\n",
              "          const element = document.querySelector('#df-2e217b49-75e0-41f2-89a0-354512188d7b');\n",
              "          const dataTable =\n",
              "            await google.colab.kernel.invokeFunction('convertToInteractive',\n",
              "                                                     [key], {});\n",
              "          if (!dataTable) return;\n",
              "\n",
              "          const docLinkHtml = 'Like what you see? Visit the ' +\n",
              "            '<a target=\"_blank\" href=https://colab.research.google.com/notebooks/data_table.ipynb>data table notebook</a>'\n",
              "            + ' to learn more about interactive tables.';\n",
              "          element.innerHTML = '';\n",
              "          dataTable['output_type'] = 'display_data';\n",
              "          await google.colab.output.renderOutput(dataTable, element);\n",
              "          const docLink = document.createElement('div');\n",
              "          docLink.innerHTML = docLinkHtml;\n",
              "          element.appendChild(docLink);\n",
              "        }\n",
              "      </script>\n",
              "    </div>\n",
              "  </div>\n",
              "  "
            ]
          },
          "metadata": {},
          "execution_count": 28
        }
      ]
    },
    {
      "cell_type": "markdown",
      "source": [
        "You can now drop model, year, insurance and diff columns"
      ],
      "metadata": {
        "id": "Noz2-jaN8Uzx"
      }
    },
    {
      "cell_type": "code",
      "source": [
        "df.drop(['Model', 'Year', 'Insurance', 'diff'], axis=1, inplace=True)\n",
        "df.head()"
      ],
      "metadata": {
        "colab": {
          "base_uri": "https://localhost:8080/",
          "height": 250
        },
        "id": "aZfuxT1a8VZB",
        "outputId": "d1ec669c-e36d-49ad-c8be-7dca59fabdc3"
      },
      "execution_count": 29,
      "outputs": [
        {
          "output_type": "execute_result",
          "data": {
            "text/plain": [
              "   Selling Price  Kilometers Driven         Owner     Fuel Type Transmission  \\\n",
              "0         312165              82238   First Owner  Petrol + CNG       MANUAL   \n",
              "1         242499              88514  Second Owner  Petrol + CNG       MANUAL   \n",
              "2         381699              29735  Second Owner  Petrol + CNG       MANUAL   \n",
              "3         181999             153709   First Owner  Petrol + CNG       MANUAL   \n",
              "4         239499              88691  Second Owner  Petrol + CNG       MANUAL   \n",
              "\n",
              "   Car Condition  Current Price  Age  Insurance_Expired  No_Current_Price  \n",
              "0            4.2       465000.0    8                  1                 0  \n",
              "1            4.4       465000.0    7                  0                 0  \n",
              "2            4.3       465000.0    5                  0                 0  \n",
              "3            4.1       465000.0    9                  0                 0  \n",
              "4            4.4       465000.0   10                  0                 0  "
            ],
            "text/html": [
              "\n",
              "  <div id=\"df-b1772ddc-4b3f-45c8-b96d-e8d8fbd45660\">\n",
              "    <div class=\"colab-df-container\">\n",
              "      <div>\n",
              "<style scoped>\n",
              "    .dataframe tbody tr th:only-of-type {\n",
              "        vertical-align: middle;\n",
              "    }\n",
              "\n",
              "    .dataframe tbody tr th {\n",
              "        vertical-align: top;\n",
              "    }\n",
              "\n",
              "    .dataframe thead th {\n",
              "        text-align: right;\n",
              "    }\n",
              "</style>\n",
              "<table border=\"1\" class=\"dataframe\">\n",
              "  <thead>\n",
              "    <tr style=\"text-align: right;\">\n",
              "      <th></th>\n",
              "      <th>Selling Price</th>\n",
              "      <th>Kilometers Driven</th>\n",
              "      <th>Owner</th>\n",
              "      <th>Fuel Type</th>\n",
              "      <th>Transmission</th>\n",
              "      <th>Car Condition</th>\n",
              "      <th>Current Price</th>\n",
              "      <th>Age</th>\n",
              "      <th>Insurance_Expired</th>\n",
              "      <th>No_Current_Price</th>\n",
              "    </tr>\n",
              "  </thead>\n",
              "  <tbody>\n",
              "    <tr>\n",
              "      <th>0</th>\n",
              "      <td>312165</td>\n",
              "      <td>82238</td>\n",
              "      <td>First Owner</td>\n",
              "      <td>Petrol + CNG</td>\n",
              "      <td>MANUAL</td>\n",
              "      <td>4.2</td>\n",
              "      <td>465000.0</td>\n",
              "      <td>8</td>\n",
              "      <td>1</td>\n",
              "      <td>0</td>\n",
              "    </tr>\n",
              "    <tr>\n",
              "      <th>1</th>\n",
              "      <td>242499</td>\n",
              "      <td>88514</td>\n",
              "      <td>Second Owner</td>\n",
              "      <td>Petrol + CNG</td>\n",
              "      <td>MANUAL</td>\n",
              "      <td>4.4</td>\n",
              "      <td>465000.0</td>\n",
              "      <td>7</td>\n",
              "      <td>0</td>\n",
              "      <td>0</td>\n",
              "    </tr>\n",
              "    <tr>\n",
              "      <th>2</th>\n",
              "      <td>381699</td>\n",
              "      <td>29735</td>\n",
              "      <td>Second Owner</td>\n",
              "      <td>Petrol + CNG</td>\n",
              "      <td>MANUAL</td>\n",
              "      <td>4.3</td>\n",
              "      <td>465000.0</td>\n",
              "      <td>5</td>\n",
              "      <td>0</td>\n",
              "      <td>0</td>\n",
              "    </tr>\n",
              "    <tr>\n",
              "      <th>3</th>\n",
              "      <td>181999</td>\n",
              "      <td>153709</td>\n",
              "      <td>First Owner</td>\n",
              "      <td>Petrol + CNG</td>\n",
              "      <td>MANUAL</td>\n",
              "      <td>4.1</td>\n",
              "      <td>465000.0</td>\n",
              "      <td>9</td>\n",
              "      <td>0</td>\n",
              "      <td>0</td>\n",
              "    </tr>\n",
              "    <tr>\n",
              "      <th>4</th>\n",
              "      <td>239499</td>\n",
              "      <td>88691</td>\n",
              "      <td>Second Owner</td>\n",
              "      <td>Petrol + CNG</td>\n",
              "      <td>MANUAL</td>\n",
              "      <td>4.4</td>\n",
              "      <td>465000.0</td>\n",
              "      <td>10</td>\n",
              "      <td>0</td>\n",
              "      <td>0</td>\n",
              "    </tr>\n",
              "  </tbody>\n",
              "</table>\n",
              "</div>\n",
              "      <button class=\"colab-df-convert\" onclick=\"convertToInteractive('df-b1772ddc-4b3f-45c8-b96d-e8d8fbd45660')\"\n",
              "              title=\"Convert this dataframe to an interactive table.\"\n",
              "              style=\"display:none;\">\n",
              "        \n",
              "  <svg xmlns=\"http://www.w3.org/2000/svg\" height=\"24px\"viewBox=\"0 0 24 24\"\n",
              "       width=\"24px\">\n",
              "    <path d=\"M0 0h24v24H0V0z\" fill=\"none\"/>\n",
              "    <path d=\"M18.56 5.44l.94 2.06.94-2.06 2.06-.94-2.06-.94-.94-2.06-.94 2.06-2.06.94zm-11 1L8.5 8.5l.94-2.06 2.06-.94-2.06-.94L8.5 2.5l-.94 2.06-2.06.94zm10 10l.94 2.06.94-2.06 2.06-.94-2.06-.94-.94-2.06-.94 2.06-2.06.94z\"/><path d=\"M17.41 7.96l-1.37-1.37c-.4-.4-.92-.59-1.43-.59-.52 0-1.04.2-1.43.59L10.3 9.45l-7.72 7.72c-.78.78-.78 2.05 0 2.83L4 21.41c.39.39.9.59 1.41.59.51 0 1.02-.2 1.41-.59l7.78-7.78 2.81-2.81c.8-.78.8-2.07 0-2.86zM5.41 20L4 18.59l7.72-7.72 1.47 1.35L5.41 20z\"/>\n",
              "  </svg>\n",
              "      </button>\n",
              "      \n",
              "  <style>\n",
              "    .colab-df-container {\n",
              "      display:flex;\n",
              "      flex-wrap:wrap;\n",
              "      gap: 12px;\n",
              "    }\n",
              "\n",
              "    .colab-df-convert {\n",
              "      background-color: #E8F0FE;\n",
              "      border: none;\n",
              "      border-radius: 50%;\n",
              "      cursor: pointer;\n",
              "      display: none;\n",
              "      fill: #1967D2;\n",
              "      height: 32px;\n",
              "      padding: 0 0 0 0;\n",
              "      width: 32px;\n",
              "    }\n",
              "\n",
              "    .colab-df-convert:hover {\n",
              "      background-color: #E2EBFA;\n",
              "      box-shadow: 0px 1px 2px rgba(60, 64, 67, 0.3), 0px 1px 3px 1px rgba(60, 64, 67, 0.15);\n",
              "      fill: #174EA6;\n",
              "    }\n",
              "\n",
              "    [theme=dark] .colab-df-convert {\n",
              "      background-color: #3B4455;\n",
              "      fill: #D2E3FC;\n",
              "    }\n",
              "\n",
              "    [theme=dark] .colab-df-convert:hover {\n",
              "      background-color: #434B5C;\n",
              "      box-shadow: 0px 1px 3px 1px rgba(0, 0, 0, 0.15);\n",
              "      filter: drop-shadow(0px 1px 2px rgba(0, 0, 0, 0.3));\n",
              "      fill: #FFFFFF;\n",
              "    }\n",
              "  </style>\n",
              "\n",
              "      <script>\n",
              "        const buttonEl =\n",
              "          document.querySelector('#df-b1772ddc-4b3f-45c8-b96d-e8d8fbd45660 button.colab-df-convert');\n",
              "        buttonEl.style.display =\n",
              "          google.colab.kernel.accessAllowed ? 'block' : 'none';\n",
              "\n",
              "        async function convertToInteractive(key) {\n",
              "          const element = document.querySelector('#df-b1772ddc-4b3f-45c8-b96d-e8d8fbd45660');\n",
              "          const dataTable =\n",
              "            await google.colab.kernel.invokeFunction('convertToInteractive',\n",
              "                                                     [key], {});\n",
              "          if (!dataTable) return;\n",
              "\n",
              "          const docLinkHtml = 'Like what you see? Visit the ' +\n",
              "            '<a target=\"_blank\" href=https://colab.research.google.com/notebooks/data_table.ipynb>data table notebook</a>'\n",
              "            + ' to learn more about interactive tables.';\n",
              "          element.innerHTML = '';\n",
              "          dataTable['output_type'] = 'display_data';\n",
              "          await google.colab.output.renderOutput(dataTable, element);\n",
              "          const docLink = document.createElement('div');\n",
              "          docLink.innerHTML = docLinkHtml;\n",
              "          element.appendChild(docLink);\n",
              "        }\n",
              "      </script>\n",
              "    </div>\n",
              "  </div>\n",
              "  "
            ]
          },
          "metadata": {},
          "execution_count": 29
        }
      ]
    },
    {
      "cell_type": "markdown",
      "source": [
        "Separating the target features"
      ],
      "metadata": {
        "id": "-moOdiVY8aSr"
      }
    },
    {
      "cell_type": "code",
      "source": [
        "X = df.drop(['Selling Price'], axis=1)\n",
        "y = df.loc[:, 'Selling Price']"
      ],
      "metadata": {
        "id": "C_Rx_7Bv8YP8"
      },
      "execution_count": 30,
      "outputs": []
    },
    {
      "cell_type": "markdown",
      "source": [
        "Creating a Train Test split"
      ],
      "metadata": {
        "id": "Tcdfhvaw8crB"
      }
    },
    {
      "cell_type": "code",
      "source": [
        "from sklearn.model_selection import train_test_split\n",
        "\n",
        "X_train, X_test, y_train, y_test = train_test_split(X, y, test_size=0.2, shuffle=True)"
      ],
      "metadata": {
        "id": "-f3Iy4hN8dNJ"
      },
      "execution_count": 31,
      "outputs": []
    },
    {
      "cell_type": "markdown",
      "source": [
        "# **Preprocessing**"
      ],
      "metadata": {
        "id": "eEuyb1ru8j45"
      }
    },
    {
      "cell_type": "code",
      "source": [
        "num_attribs = ['Kilometers Driven', 'Car Condition', 'Current Price', 'Age']\n",
        "cat_attribs = ['Owner', 'Fuel Type', 'Transmission']"
      ],
      "metadata": {
        "id": "Hqwh9qxj8kTi"
      },
      "execution_count": 32,
      "outputs": []
    },
    {
      "cell_type": "code",
      "source": [
        "from sklearn.compose import ColumnTransformer\n",
        "from sklearn.preprocessing import OneHotEncoder\n",
        "from sklearn.preprocessing import StandardScaler\n",
        "\n",
        "preprocessing = ColumnTransformer([\n",
        "    (\"num\", StandardScaler(), num_attribs),\n",
        "    (\"cat\", OneHotEncoder(drop='first', sparse=False), cat_attribs)\n",
        "], remainder=\"passthrough\")\n",
        "\n",
        "X_train = preprocessing.fit_transform(X_train)"
      ],
      "metadata": {
        "id": "Q2caVJSG8omD"
      },
      "execution_count": 33,
      "outputs": []
    },
    {
      "cell_type": "markdown",
      "source": [
        "We can extract column names to later check which feature affect our target feature the most."
      ],
      "metadata": {
        "id": "H0_JA5S98wRI"
      }
    },
    {
      "cell_type": "code",
      "source": [
        "col_names = []\n",
        "for transformer_tuple in preprocessing.transformers_[:-1]:\n",
        "    cols = transformer_tuple[2]\n",
        "    transformer = transformer_tuple[1]\n",
        "    try:\n",
        "        cols = transformer.get_feature_names(cols)\n",
        "    except AttributeError:\n",
        "        cols = cols\n",
        "        \n",
        "    col_names += list(cols)\n",
        "    \n",
        "col_names += list(X.columns[preprocessing.transformers_[2][2]])"
      ],
      "metadata": {
        "id": "avV4SkhE8xBK"
      },
      "execution_count": 34,
      "outputs": []
    },
    {
      "cell_type": "code",
      "source": [
        "sc_y = StandardScaler()\n",
        "y_train = sc_y.fit_transform(y_train.values.reshape(-1, 1))"
      ],
      "metadata": {
        "id": "JoAGgAtF8086"
      },
      "execution_count": 35,
      "outputs": []
    },
    {
      "cell_type": "markdown",
      "source": [
        "## **Training Different Models**"
      ],
      "metadata": {
        "id": "2VR9N86H833c"
      }
    },
    {
      "cell_type": "code",
      "source": [
        "from sklearn.model_selection import cross_val_score\n",
        "\n",
        "def evaluate_model(model, X, y):\n",
        "    \n",
        "    model.fit(X, y)\n",
        "    \n",
        "    accuracies = cross_val_score(estimator = model, X = X, y = y, cv = 10)\n",
        "    print(model.__class__.__name__)\n",
        "    print(\"Accuracy: {:.2f} %\".format(accuracies.mean()*100))\n",
        "    print(\"Standard Deviation: {:.2f} %\".format(accuracies.std()*100))\n",
        "    \n",
        "    return model"
      ],
      "metadata": {
        "id": "gpp3-zZA85w0"
      },
      "execution_count": 36,
      "outputs": []
    },
    {
      "cell_type": "code",
      "source": [
        "from sklearn.linear_model import LinearRegression\n",
        "\n",
        "lin_reg = evaluate_model(LinearRegression(), X_train, y_train)"
      ],
      "metadata": {
        "colab": {
          "base_uri": "https://localhost:8080/"
        },
        "id": "2Xz_kOL_9CKp",
        "outputId": "ebdbe00b-f6e4-41db-8171-36679933cd11"
      },
      "execution_count": 37,
      "outputs": [
        {
          "output_type": "stream",
          "name": "stdout",
          "text": [
            "LinearRegression\n",
            "Accuracy: 64.22 %\n",
            "Standard Deviation: 6.65 %\n"
          ]
        }
      ]
    },
    {
      "cell_type": "code",
      "source": [
        "from sklearn.ensemble import RandomForestRegressor\n",
        "\n",
        "rf = evaluate_model(RandomForestRegressor(n_estimators = 100, random_state = 0), X_train, y_train)"
      ],
      "metadata": {
        "colab": {
          "base_uri": "https://localhost:8080/"
        },
        "id": "Yo-oVCHR9LZI",
        "outputId": "84e1f3bc-e2a8-4850-9654-2ecaa8eefe02"
      },
      "execution_count": 38,
      "outputs": [
        {
          "output_type": "stream",
          "name": "stdout",
          "text": [
            "RandomForestRegressor\n",
            "Accuracy: 86.30 %\n",
            "Standard Deviation: 2.23 %\n"
          ]
        }
      ]
    },
    {
      "cell_type": "code",
      "source": [
        "import xgboost\n",
        "\n",
        "xg_boost = evaluate_model(xgboost.XGBRegressor(), X_train, y_train)"
      ],
      "metadata": {
        "colab": {
          "base_uri": "https://localhost:8080/"
        },
        "id": "u0K7IF7b9Q5T",
        "outputId": "dbfb20ab-86e7-4998-c341-8850494ae998"
      },
      "execution_count": 39,
      "outputs": [
        {
          "output_type": "stream",
          "name": "stdout",
          "text": [
            "[19:17:08] WARNING: /workspace/src/objective/regression_obj.cu:152: reg:linear is now deprecated in favor of reg:squarederror.\n",
            "[19:17:09] WARNING: /workspace/src/objective/regression_obj.cu:152: reg:linear is now deprecated in favor of reg:squarederror.\n",
            "[19:17:09] WARNING: /workspace/src/objective/regression_obj.cu:152: reg:linear is now deprecated in favor of reg:squarederror.\n",
            "[19:17:09] WARNING: /workspace/src/objective/regression_obj.cu:152: reg:linear is now deprecated in favor of reg:squarederror.\n",
            "[19:17:09] WARNING: /workspace/src/objective/regression_obj.cu:152: reg:linear is now deprecated in favor of reg:squarederror.\n",
            "[19:17:09] WARNING: /workspace/src/objective/regression_obj.cu:152: reg:linear is now deprecated in favor of reg:squarederror.\n",
            "[19:17:10] WARNING: /workspace/src/objective/regression_obj.cu:152: reg:linear is now deprecated in favor of reg:squarederror.\n",
            "[19:17:10] WARNING: /workspace/src/objective/regression_obj.cu:152: reg:linear is now deprecated in favor of reg:squarederror.\n",
            "[19:17:10] WARNING: /workspace/src/objective/regression_obj.cu:152: reg:linear is now deprecated in favor of reg:squarederror.\n",
            "[19:17:10] WARNING: /workspace/src/objective/regression_obj.cu:152: reg:linear is now deprecated in favor of reg:squarederror.\n",
            "[19:17:10] WARNING: /workspace/src/objective/regression_obj.cu:152: reg:linear is now deprecated in favor of reg:squarederror.\n",
            "XGBRegressor\n",
            "Accuracy: 88.06 %\n",
            "Standard Deviation: 2.08 %\n"
          ]
        }
      ]
    },
    {
      "cell_type": "code",
      "source": [
        "xg_boost = evaluate_model(xgboost.XGBRegressor(learning_rate =0.09,\n",
        "                                                              n_estimators=100,\n",
        "                                                              max_depth=6,\n",
        "                                                              min_child_weight=6,\n",
        "                                                              gamma=0.2,\n",
        "                                                              subsample=0.85,\n",
        "                                                              colsample_bytree=0.85),\n",
        "                          X_train, y_train)"
      ],
      "metadata": {
        "colab": {
          "base_uri": "https://localhost:8080/"
        },
        "id": "eBUWX8ba9fsW",
        "outputId": "341a85b1-0542-4555-ff5f-2c01613b398d"
      },
      "execution_count": 54,
      "outputs": [
        {
          "output_type": "stream",
          "name": "stdout",
          "text": [
            "[19:22:31] WARNING: /workspace/src/objective/regression_obj.cu:152: reg:linear is now deprecated in favor of reg:squarederror.\n",
            "[19:22:31] WARNING: /workspace/src/objective/regression_obj.cu:152: reg:linear is now deprecated in favor of reg:squarederror.\n",
            "[19:22:32] WARNING: /workspace/src/objective/regression_obj.cu:152: reg:linear is now deprecated in favor of reg:squarederror.\n",
            "[19:22:32] WARNING: /workspace/src/objective/regression_obj.cu:152: reg:linear is now deprecated in favor of reg:squarederror.\n",
            "[19:22:32] WARNING: /workspace/src/objective/regression_obj.cu:152: reg:linear is now deprecated in favor of reg:squarederror.\n",
            "[19:22:33] WARNING: /workspace/src/objective/regression_obj.cu:152: reg:linear is now deprecated in favor of reg:squarederror.\n",
            "[19:22:33] WARNING: /workspace/src/objective/regression_obj.cu:152: reg:linear is now deprecated in favor of reg:squarederror.\n",
            "[19:22:34] WARNING: /workspace/src/objective/regression_obj.cu:152: reg:linear is now deprecated in favor of reg:squarederror.\n",
            "[19:22:34] WARNING: /workspace/src/objective/regression_obj.cu:152: reg:linear is now deprecated in favor of reg:squarederror.\n",
            "[19:22:34] WARNING: /workspace/src/objective/regression_obj.cu:152: reg:linear is now deprecated in favor of reg:squarederror.\n",
            "[19:22:34] WARNING: /workspace/src/objective/regression_obj.cu:152: reg:linear is now deprecated in favor of reg:squarederror.\n",
            "XGBRegressor\n",
            "Accuracy: 88.15 %\n",
            "Standard Deviation: 2.01 %\n"
          ]
        }
      ]
    },
    {
      "cell_type": "code",
      "source": [
        "importance_df = pd.DataFrame(xg_boost.feature_importances_)\n",
        "importance_df['Features'] = col_names\n",
        "importance_df = importance_df.rename(columns={0 : 'Average Importance'})\n",
        "\n",
        "fig = px.bar(importance_df, x='Features', y='Average Importance')\n",
        "fig.show()"
      ],
      "metadata": {
        "colab": {
          "base_uri": "https://localhost:8080/",
          "height": 542
        },
        "id": "qIUXANMj9p5S",
        "outputId": "26208011-c718-45d1-c33f-42d11ef734fa"
      },
      "execution_count": 41,
      "outputs": [
        {
          "output_type": "display_data",
          "data": {
            "text/html": [
              "<html>\n",
              "<head><meta charset=\"utf-8\" /></head>\n",
              "<body>\n",
              "    <div>            <script src=\"https://cdnjs.cloudflare.com/ajax/libs/mathjax/2.7.5/MathJax.js?config=TeX-AMS-MML_SVG\"></script><script type=\"text/javascript\">if (window.MathJax) {MathJax.Hub.Config({SVG: {font: \"STIX-Web\"}});}</script>                <script type=\"text/javascript\">window.PlotlyConfig = {MathJaxConfig: 'local'};</script>\n",
              "        <script src=\"https://cdn.plot.ly/plotly-2.8.3.min.js\"></script>                <div id=\"d407dfa5-9696-4a7c-91b0-ca82c12512f0\" class=\"plotly-graph-div\" style=\"height:525px; width:100%;\"></div>            <script type=\"text/javascript\">                                    window.PLOTLYENV=window.PLOTLYENV || {};                                    if (document.getElementById(\"d407dfa5-9696-4a7c-91b0-ca82c12512f0\")) {                    Plotly.newPlot(                        \"d407dfa5-9696-4a7c-91b0-ca82c12512f0\",                        [{\"alignmentgroup\":\"True\",\"hovertemplate\":\"Features=%{x}<br>Average Importance=%{y}<extra></extra>\",\"legendgroup\":\"\",\"marker\":{\"color\":\"#636efa\",\"pattern\":{\"shape\":\"\"}},\"name\":\"\",\"offsetgroup\":\"\",\"orientation\":\"v\",\"showlegend\":false,\"textposition\":\"auto\",\"x\":[\"Kilometers Driven\",\"Car Condition\",\"Current Price\",\"Age\",\"Owner_Second Owner\",\"Owner_Third Owner\",\"Fuel Type_Petrol\",\"Fuel Type_Petrol + CNG\",\"Fuel Type_Petrol + LPG\",\"Transmission_MANUAL\",\"Insurance_Expired\",\"No_Current_Price\"],\"xaxis\":\"x\",\"y\":[0.021249638870358467,0.09573151916265488,0.15981712937355042,0.2170788198709488,0.01236000470817089,0.007443628739565611,0.1556062400341034,0.23574016988277435,0.0,0.049963705241680145,0.029337333515286446,0.015671763569116592],\"yaxis\":\"y\",\"type\":\"bar\"}],                        {\"template\":{\"data\":{\"bar\":[{\"error_x\":{\"color\":\"#2a3f5f\"},\"error_y\":{\"color\":\"#2a3f5f\"},\"marker\":{\"line\":{\"color\":\"#E5ECF6\",\"width\":0.5},\"pattern\":{\"fillmode\":\"overlay\",\"size\":10,\"solidity\":0.2}},\"type\":\"bar\"}],\"barpolar\":[{\"marker\":{\"line\":{\"color\":\"#E5ECF6\",\"width\":0.5},\"pattern\":{\"fillmode\":\"overlay\",\"size\":10,\"solidity\":0.2}},\"type\":\"barpolar\"}],\"carpet\":[{\"aaxis\":{\"endlinecolor\":\"#2a3f5f\",\"gridcolor\":\"white\",\"linecolor\":\"white\",\"minorgridcolor\":\"white\",\"startlinecolor\":\"#2a3f5f\"},\"baxis\":{\"endlinecolor\":\"#2a3f5f\",\"gridcolor\":\"white\",\"linecolor\":\"white\",\"minorgridcolor\":\"white\",\"startlinecolor\":\"#2a3f5f\"},\"type\":\"carpet\"}],\"choropleth\":[{\"colorbar\":{\"outlinewidth\":0,\"ticks\":\"\"},\"type\":\"choropleth\"}],\"contour\":[{\"colorbar\":{\"outlinewidth\":0,\"ticks\":\"\"},\"colorscale\":[[0.0,\"#0d0887\"],[0.1111111111111111,\"#46039f\"],[0.2222222222222222,\"#7201a8\"],[0.3333333333333333,\"#9c179e\"],[0.4444444444444444,\"#bd3786\"],[0.5555555555555556,\"#d8576b\"],[0.6666666666666666,\"#ed7953\"],[0.7777777777777778,\"#fb9f3a\"],[0.8888888888888888,\"#fdca26\"],[1.0,\"#f0f921\"]],\"type\":\"contour\"}],\"contourcarpet\":[{\"colorbar\":{\"outlinewidth\":0,\"ticks\":\"\"},\"type\":\"contourcarpet\"}],\"heatmap\":[{\"colorbar\":{\"outlinewidth\":0,\"ticks\":\"\"},\"colorscale\":[[0.0,\"#0d0887\"],[0.1111111111111111,\"#46039f\"],[0.2222222222222222,\"#7201a8\"],[0.3333333333333333,\"#9c179e\"],[0.4444444444444444,\"#bd3786\"],[0.5555555555555556,\"#d8576b\"],[0.6666666666666666,\"#ed7953\"],[0.7777777777777778,\"#fb9f3a\"],[0.8888888888888888,\"#fdca26\"],[1.0,\"#f0f921\"]],\"type\":\"heatmap\"}],\"heatmapgl\":[{\"colorbar\":{\"outlinewidth\":0,\"ticks\":\"\"},\"colorscale\":[[0.0,\"#0d0887\"],[0.1111111111111111,\"#46039f\"],[0.2222222222222222,\"#7201a8\"],[0.3333333333333333,\"#9c179e\"],[0.4444444444444444,\"#bd3786\"],[0.5555555555555556,\"#d8576b\"],[0.6666666666666666,\"#ed7953\"],[0.7777777777777778,\"#fb9f3a\"],[0.8888888888888888,\"#fdca26\"],[1.0,\"#f0f921\"]],\"type\":\"heatmapgl\"}],\"histogram\":[{\"marker\":{\"pattern\":{\"fillmode\":\"overlay\",\"size\":10,\"solidity\":0.2}},\"type\":\"histogram\"}],\"histogram2d\":[{\"colorbar\":{\"outlinewidth\":0,\"ticks\":\"\"},\"colorscale\":[[0.0,\"#0d0887\"],[0.1111111111111111,\"#46039f\"],[0.2222222222222222,\"#7201a8\"],[0.3333333333333333,\"#9c179e\"],[0.4444444444444444,\"#bd3786\"],[0.5555555555555556,\"#d8576b\"],[0.6666666666666666,\"#ed7953\"],[0.7777777777777778,\"#fb9f3a\"],[0.8888888888888888,\"#fdca26\"],[1.0,\"#f0f921\"]],\"type\":\"histogram2d\"}],\"histogram2dcontour\":[{\"colorbar\":{\"outlinewidth\":0,\"ticks\":\"\"},\"colorscale\":[[0.0,\"#0d0887\"],[0.1111111111111111,\"#46039f\"],[0.2222222222222222,\"#7201a8\"],[0.3333333333333333,\"#9c179e\"],[0.4444444444444444,\"#bd3786\"],[0.5555555555555556,\"#d8576b\"],[0.6666666666666666,\"#ed7953\"],[0.7777777777777778,\"#fb9f3a\"],[0.8888888888888888,\"#fdca26\"],[1.0,\"#f0f921\"]],\"type\":\"histogram2dcontour\"}],\"mesh3d\":[{\"colorbar\":{\"outlinewidth\":0,\"ticks\":\"\"},\"type\":\"mesh3d\"}],\"parcoords\":[{\"line\":{\"colorbar\":{\"outlinewidth\":0,\"ticks\":\"\"}},\"type\":\"parcoords\"}],\"pie\":[{\"automargin\":true,\"type\":\"pie\"}],\"scatter\":[{\"marker\":{\"colorbar\":{\"outlinewidth\":0,\"ticks\":\"\"}},\"type\":\"scatter\"}],\"scatter3d\":[{\"line\":{\"colorbar\":{\"outlinewidth\":0,\"ticks\":\"\"}},\"marker\":{\"colorbar\":{\"outlinewidth\":0,\"ticks\":\"\"}},\"type\":\"scatter3d\"}],\"scattercarpet\":[{\"marker\":{\"colorbar\":{\"outlinewidth\":0,\"ticks\":\"\"}},\"type\":\"scattercarpet\"}],\"scattergeo\":[{\"marker\":{\"colorbar\":{\"outlinewidth\":0,\"ticks\":\"\"}},\"type\":\"scattergeo\"}],\"scattergl\":[{\"marker\":{\"colorbar\":{\"outlinewidth\":0,\"ticks\":\"\"}},\"type\":\"scattergl\"}],\"scattermapbox\":[{\"marker\":{\"colorbar\":{\"outlinewidth\":0,\"ticks\":\"\"}},\"type\":\"scattermapbox\"}],\"scatterpolar\":[{\"marker\":{\"colorbar\":{\"outlinewidth\":0,\"ticks\":\"\"}},\"type\":\"scatterpolar\"}],\"scatterpolargl\":[{\"marker\":{\"colorbar\":{\"outlinewidth\":0,\"ticks\":\"\"}},\"type\":\"scatterpolargl\"}],\"scatterternary\":[{\"marker\":{\"colorbar\":{\"outlinewidth\":0,\"ticks\":\"\"}},\"type\":\"scatterternary\"}],\"surface\":[{\"colorbar\":{\"outlinewidth\":0,\"ticks\":\"\"},\"colorscale\":[[0.0,\"#0d0887\"],[0.1111111111111111,\"#46039f\"],[0.2222222222222222,\"#7201a8\"],[0.3333333333333333,\"#9c179e\"],[0.4444444444444444,\"#bd3786\"],[0.5555555555555556,\"#d8576b\"],[0.6666666666666666,\"#ed7953\"],[0.7777777777777778,\"#fb9f3a\"],[0.8888888888888888,\"#fdca26\"],[1.0,\"#f0f921\"]],\"type\":\"surface\"}],\"table\":[{\"cells\":{\"fill\":{\"color\":\"#EBF0F8\"},\"line\":{\"color\":\"white\"}},\"header\":{\"fill\":{\"color\":\"#C8D4E3\"},\"line\":{\"color\":\"white\"}},\"type\":\"table\"}]},\"layout\":{\"annotationdefaults\":{\"arrowcolor\":\"#2a3f5f\",\"arrowhead\":0,\"arrowwidth\":1},\"autotypenumbers\":\"strict\",\"coloraxis\":{\"colorbar\":{\"outlinewidth\":0,\"ticks\":\"\"}},\"colorscale\":{\"diverging\":[[0,\"#8e0152\"],[0.1,\"#c51b7d\"],[0.2,\"#de77ae\"],[0.3,\"#f1b6da\"],[0.4,\"#fde0ef\"],[0.5,\"#f7f7f7\"],[0.6,\"#e6f5d0\"],[0.7,\"#b8e186\"],[0.8,\"#7fbc41\"],[0.9,\"#4d9221\"],[1,\"#276419\"]],\"sequential\":[[0.0,\"#0d0887\"],[0.1111111111111111,\"#46039f\"],[0.2222222222222222,\"#7201a8\"],[0.3333333333333333,\"#9c179e\"],[0.4444444444444444,\"#bd3786\"],[0.5555555555555556,\"#d8576b\"],[0.6666666666666666,\"#ed7953\"],[0.7777777777777778,\"#fb9f3a\"],[0.8888888888888888,\"#fdca26\"],[1.0,\"#f0f921\"]],\"sequentialminus\":[[0.0,\"#0d0887\"],[0.1111111111111111,\"#46039f\"],[0.2222222222222222,\"#7201a8\"],[0.3333333333333333,\"#9c179e\"],[0.4444444444444444,\"#bd3786\"],[0.5555555555555556,\"#d8576b\"],[0.6666666666666666,\"#ed7953\"],[0.7777777777777778,\"#fb9f3a\"],[0.8888888888888888,\"#fdca26\"],[1.0,\"#f0f921\"]]},\"colorway\":[\"#636efa\",\"#EF553B\",\"#00cc96\",\"#ab63fa\",\"#FFA15A\",\"#19d3f3\",\"#FF6692\",\"#B6E880\",\"#FF97FF\",\"#FECB52\"],\"font\":{\"color\":\"#2a3f5f\"},\"geo\":{\"bgcolor\":\"white\",\"lakecolor\":\"white\",\"landcolor\":\"#E5ECF6\",\"showlakes\":true,\"showland\":true,\"subunitcolor\":\"white\"},\"hoverlabel\":{\"align\":\"left\"},\"hovermode\":\"closest\",\"mapbox\":{\"style\":\"light\"},\"paper_bgcolor\":\"white\",\"plot_bgcolor\":\"#E5ECF6\",\"polar\":{\"angularaxis\":{\"gridcolor\":\"white\",\"linecolor\":\"white\",\"ticks\":\"\"},\"bgcolor\":\"#E5ECF6\",\"radialaxis\":{\"gridcolor\":\"white\",\"linecolor\":\"white\",\"ticks\":\"\"}},\"scene\":{\"xaxis\":{\"backgroundcolor\":\"#E5ECF6\",\"gridcolor\":\"white\",\"gridwidth\":2,\"linecolor\":\"white\",\"showbackground\":true,\"ticks\":\"\",\"zerolinecolor\":\"white\"},\"yaxis\":{\"backgroundcolor\":\"#E5ECF6\",\"gridcolor\":\"white\",\"gridwidth\":2,\"linecolor\":\"white\",\"showbackground\":true,\"ticks\":\"\",\"zerolinecolor\":\"white\"},\"zaxis\":{\"backgroundcolor\":\"#E5ECF6\",\"gridcolor\":\"white\",\"gridwidth\":2,\"linecolor\":\"white\",\"showbackground\":true,\"ticks\":\"\",\"zerolinecolor\":\"white\"}},\"shapedefaults\":{\"line\":{\"color\":\"#2a3f5f\"}},\"ternary\":{\"aaxis\":{\"gridcolor\":\"white\",\"linecolor\":\"white\",\"ticks\":\"\"},\"baxis\":{\"gridcolor\":\"white\",\"linecolor\":\"white\",\"ticks\":\"\"},\"bgcolor\":\"#E5ECF6\",\"caxis\":{\"gridcolor\":\"white\",\"linecolor\":\"white\",\"ticks\":\"\"}},\"title\":{\"x\":0.05},\"xaxis\":{\"automargin\":true,\"gridcolor\":\"white\",\"linecolor\":\"white\",\"ticks\":\"\",\"title\":{\"standoff\":15},\"zerolinecolor\":\"white\",\"zerolinewidth\":2},\"yaxis\":{\"automargin\":true,\"gridcolor\":\"white\",\"linecolor\":\"white\",\"ticks\":\"\",\"title\":{\"standoff\":15},\"zerolinecolor\":\"white\",\"zerolinewidth\":2}}},\"xaxis\":{\"anchor\":\"y\",\"domain\":[0.0,1.0],\"title\":{\"text\":\"Features\"}},\"yaxis\":{\"anchor\":\"x\",\"domain\":[0.0,1.0],\"title\":{\"text\":\"Average Importance\"}},\"legend\":{\"tracegroupgap\":0},\"margin\":{\"t\":60},\"barmode\":\"relative\"},                        {\"responsive\": true}                    ).then(function(){\n",
              "                            \n",
              "var gd = document.getElementById('d407dfa5-9696-4a7c-91b0-ca82c12512f0');\n",
              "var x = new MutationObserver(function (mutations, observer) {{\n",
              "        var display = window.getComputedStyle(gd).display;\n",
              "        if (!display || display === 'none') {{\n",
              "            console.log([gd, 'removed!']);\n",
              "            Plotly.purge(gd);\n",
              "            observer.disconnect();\n",
              "        }}\n",
              "}});\n",
              "\n",
              "// Listen for the removal of the full notebook cells\n",
              "var notebookContainer = gd.closest('#notebook-container');\n",
              "if (notebookContainer) {{\n",
              "    x.observe(notebookContainer, {childList: true});\n",
              "}}\n",
              "\n",
              "// Listen for the clearing of the current output cell\n",
              "var outputEl = gd.closest('.output');\n",
              "if (outputEl) {{\n",
              "    x.observe(outputEl, {childList: true});\n",
              "}}\n",
              "\n",
              "                        })                };                            </script>        </div>\n",
              "</body>\n",
              "</html>"
            ]
          },
          "metadata": {}
        }
      ]
    },
    {
      "cell_type": "code",
      "source": [
        "X_test = preprocessing.transform(X_test)\n",
        "y_test = sc_y.transform(y_test.values.reshape(-1, 1))\n",
        "\n",
        "y_pred = xg_boost.predict(X_test)"
      ],
      "metadata": {
        "id": "Y5U2je9y9uKi"
      },
      "execution_count": 42,
      "outputs": []
    },
    {
      "cell_type": "code",
      "source": [
        "from sklearn.metrics import mean_squared_error\n",
        "\n",
        "mean_squared_error(y_test, y_pred)"
      ],
      "metadata": {
        "colab": {
          "base_uri": "https://localhost:8080/"
        },
        "id": "2GtddFMr9xPM",
        "outputId": "cb3e5631-e0bf-4a9b-ee73-685251bb3c2a"
      },
      "execution_count": 43,
      "outputs": [
        {
          "output_type": "execute_result",
          "data": {
            "text/plain": [
              "0.12174924616416995"
            ]
          },
          "metadata": {},
          "execution_count": 43
        }
      ]
    },
    {
      "cell_type": "markdown",
      "source": [
        "Here, fuel type, age, current price and car condition are the features that contribute the most in determining the target features as we would have assumed."
      ],
      "metadata": {
        "id": "OzCja88b90Y5"
      }
    }
  ]
}